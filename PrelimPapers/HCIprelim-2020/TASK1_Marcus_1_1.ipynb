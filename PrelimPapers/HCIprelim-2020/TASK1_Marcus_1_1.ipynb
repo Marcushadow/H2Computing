{
 "cells": [
  {
   "cell_type": "code",
   "execution_count": 33,
   "metadata": {},
   "outputs": [
    {
     "name": "stdout",
     "output_type": "stream",
     "text": [
      "Lowest # cases (447) is on 15 April 2020 , 02 May 2020.\n",
      "Highest # cases (1426) is on 20 April 2020.\n"
     ]
    }
   ],
   "source": [
    "#Task 1.1\n",
    "\n",
    "with open(\"COVID19.txt\") as fs:\n",
    "    data = fs.read().strip(\"\\n\").split(\"\\n\")\n",
    "\n",
    "newCases = []\n",
    "\n",
    "for i in range(len(data)):\n",
    "    data[i] = data[i].split(\",\")\n",
    "\n",
    "\n",
    "for i in range(1, len(data)):\n",
    "    newCases.append(int(data[i][1]) - int(data[i-1][1]))\n",
    "\n",
    "lowest = newCases[0]\n",
    "highest = newCases[0]\n",
    "lowIdx = [0]\n",
    "hiIdx = [0]\n",
    "\n",
    "for i in range(1, len(newCases)):\n",
    "    \n",
    "    if(newCases[i] == highest):\n",
    "        hiIdx.append(i)\n",
    "\n",
    "    \n",
    "    if(newCases[i] > highest):\n",
    "        highest = newCases[i]\n",
    "        hiIdx = [i]\n",
    "\n",
    "    if(newCases[i] == lowest):\n",
    "        lowIdx.append(i)\n",
    "    \n",
    "    if(newCases[i] < lowest):\n",
    "        lowest = newCases[i]\n",
    "        lowIdx = [i]\n",
    "    \n",
    "\n",
    "\n",
    "\n",
    "months = [\"January\", \"February\", \"March\", \"April\", \"May\", \"June\", \"July\", \"August\", \"September\", \"October\", \"November\", \"December\"]\n",
    "lowDate = []\n",
    "highDate = []\n",
    "\n",
    "\n",
    "for index in lowIdx:\n",
    "    idx = index + 1\n",
    "    month = months[int(data[idx][0][2:])-1]\n",
    "    lowDate.append(f\"{data[idx][0][:2]} {month} 2020\")\n",
    "\n",
    "print(f\"Lowest # cases ({lowest}) is on {' , '.join(lowDate)}.\")\n",
    "\n",
    "for index in hiIdx:\n",
    "    idx = index + 1\n",
    "    month = months[int(data[idx][0][2:])-1]\n",
    "    highDate.append(f\"{data[idx][0][:2]} {month} 2020\")\n",
    "\n",
    "print(f\"Highest # cases ({highest}) is on {' , '.join(highDate)}.\")\n",
    "\n",
    "\n",
    "\n",
    "\n",
    "\n",
    "\n"
   ]
  },
  {
   "cell_type": "code",
   "execution_count": 35,
   "metadata": {},
   "outputs": [
    {
     "name": "stdout",
     "output_type": "stream",
     "text": [
      "[['1404', '3252'], ['1504', '3699'], ['1604', '4427'], ['1704', '5050'], ['1804', '5992'], ['1904', '6588'], ['2004', '8014'], ['2104', '9125'], ['2204', '10141'], ['2304', '11178'], ['2404', '12075'], ['2504', '12693'], ['2604', '13624'], ['2704', '14423'], ['2804', '14951'], ['2904', '15641'], ['3004', '16169'], ['0105', '17101'], ['0205', '17548'], ['0305', '18205'], ['0405', '18778'], ['0505', '19410'], ['0605', '20198'], ['0705', '20939'], ['0805', '21707'], ['0905', '22460'], ['1005', '23336'], ['1105', '23787'], ['1205', '24671'], ['1305', '25346'], ['1405', '26098'], ['1505', '26891']]\n",
      "[447, 728, 623, 942, 596, 1426, 1111, 1016, 1037, 897, 618, 931, 799, 528, 690, 528, 932, 447, 657, 573, 632, 788, 741, 768, 753, 876, 451, 884, 675, 752, 793]\n"
     ]
    }
   ],
   "source": [
    "print(data)\n",
    "print(newCases)"
   ]
  },
  {
   "cell_type": "code",
   "execution_count": 39,
   "metadata": {},
   "outputs": [
    {
     "name": "stdout",
     "output_type": "stream",
     "text": [
      "Longest Streak is 3\n"
     ]
    }
   ],
   "source": [
    "#Task 1.2\n",
    "\n",
    "streak = 0\n",
    "currStreak = 0\n",
    "prev = 0\n",
    "\n",
    "officialDateStart = \"\"\n",
    "officialDateEnd = \"\"\n",
    "\n",
    "tempDateStart = data[0][0]\n",
    "tempDateEnd = data[0][0]\n",
    "    \n",
    "\n",
    "\n",
    "for i in range(len(newCases)):\n",
    "    value = newCases[i]\n",
    "    if(value > prev):\n",
    "        currStreak += 1\n",
    "        tempDateEnd = data[i+1][0]\n",
    "    \n",
    "    else:\n",
    "        if(currStreak > streak):\n",
    "            officialDateStart = tempDateStart\n",
    "            officialDateEnd = tempDateEnd\n",
    "            streak = currStreak\n",
    "\n",
    "        currStreak = 1\n",
    "        tempDateStart = data[i+1][0]\n",
    "        tempDateEnd = data[i+1][0]\n",
    "        \n",
    "    prev = value\n",
    "\n",
    "print(f\"Longest Streak is {streak}\")\n"
   ]
  },
  {
   "cell_type": "code",
   "execution_count": 38,
   "metadata": {},
   "outputs": [
    {
     "data": {
      "text/plain": [
       "'0605'"
      ]
     },
     "execution_count": 38,
     "metadata": {},
     "output_type": "execute_result"
    }
   ],
   "source": []
  },
  {
   "cell_type": "code",
   "execution_count": null,
   "metadata": {},
   "outputs": [],
   "source": []
  }
 ],
 "metadata": {
  "kernelspec": {
   "display_name": "Python 3.8.7 64-bit",
   "language": "python",
   "name": "python3"
  },
  "language_info": {
   "codemirror_mode": {
    "name": "ipython",
    "version": 3
   },
   "file_extension": ".py",
   "mimetype": "text/x-python",
   "name": "python",
   "nbconvert_exporter": "python",
   "pygments_lexer": "ipython3",
   "version": "3.8.7"
  },
  "orig_nbformat": 4,
  "vscode": {
   "interpreter": {
    "hash": "79b5e9c4981b2ed0fae48cae49f290910e4ab927bd3333490b62cb47eeb76658"
   }
  }
 },
 "nbformat": 4,
 "nbformat_minor": 2
}

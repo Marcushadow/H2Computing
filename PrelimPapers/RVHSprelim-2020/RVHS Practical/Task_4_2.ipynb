{
 "cells": [
  {
   "cell_type": "code",
   "execution_count": 2,
   "metadata": {},
   "outputs": [],
   "source": [
    "import sqlite3, csv\n",
    "\n",
    "\n",
    "client = sqlite3.connect(\"voting_mgm.db\")\n",
    "\n",
    "with open(\"students.csv\") as fs:\n",
    "    reader = csv.reader(fs, delimiter=\",\")\n",
    "    header = next(reader)\n",
    "    for row in reader:\n",
    "        curr = client.execute(\"INSERT INTO Student(MatricNo, Class, IndexNo, Gender) VALUES (?,?,?,?)\", tuple(row))\n",
    "\n",
    "with open(\"candidates.csv\") as fs:\n",
    "    reader = csv.reader(fs, delimiter=\",\")\n",
    "    header = next(reader)\n",
    "    for row in reader:\n",
    "        curr = client.execute(\"INSERT INTO Candidate(CandidateNo, Name, Slogan, PortraitLink) VALUES (?,?,?,?)\", tuple(row))\n",
    "\n",
    "with open(\"votes.csv\") as fs:\n",
    "    reader = csv.reader(fs, delimiter=\",\")\n",
    "    header = next(reader)\n",
    "    for row in reader:\n",
    "        curr = client.execute(\"INSERT INTO Vote(MatricNo, CandidateNo) VALUES (?,?)\", tuple(row))\n",
    "        \n",
    "client.commit()\n",
    "client.close()"
   ]
  },
  {
   "cell_type": "code",
   "execution_count": null,
   "metadata": {},
   "outputs": [],
   "source": []
  }
 ],
 "metadata": {
  "kernelspec": {
   "display_name": "Python 3",
   "language": "python",
   "name": "python3"
  },
  "language_info": {
   "codemirror_mode": {
    "name": "ipython",
    "version": 3
   },
   "file_extension": ".py",
   "mimetype": "text/x-python",
   "name": "python",
   "nbconvert_exporter": "python",
   "pygments_lexer": "ipython3",
   "version": "3.6.4"
  }
 },
 "nbformat": 4,
 "nbformat_minor": 2
}

{
 "cells": [
  {
   "cell_type": "code",
   "execution_count": null,
   "metadata": {},
   "outputs": [
    {
     "name": "stderr",
     "output_type": "stream",
     "text": [
      " * Running on http://127.0.0.1:5000/ (Press CTRL+C to quit)\n",
      "127.0.0.1 - - [16/Aug/2022 16:57:30] \"\u001b[37mPOST /output HTTP/1.1\u001b[0m\" 200 -\n",
      "127.0.0.1 - - [16/Aug/2022 16:57:30] \"\u001b[37mGET /pictures/portrait_15.png HTTP/1.1\u001b[0m\" 200 -\n"
     ]
    }
   ],
   "source": [
    "import flask, sqlite3, os\n",
    "from flask import render_template, request, send_from_directory\n",
    "\n",
    "app = flask.Flask(__name__, template_folder=\"./Task_4_5/templates\", static_folder=\"./Task_4_5/static\")\n",
    "\n",
    "\n",
    "@app.route(\"/\")\n",
    "def form():\n",
    "    return render_template(\"index.html\")\n",
    "\n",
    "@app.route(\"/output\", methods = [\"POST\"])\n",
    "def synthesis():\n",
    "    if(request.method == \"POST\"):\n",
    "        \n",
    "        if(request.files and request.files[\"pfp\"]):\n",
    "            file = request.files[\"pfp\"]\n",
    "            CandidateNo = request.form.get(\"CandidateNo\")\n",
    "            filename= \"portrait_\" + CandidateNo + \".png\"\n",
    "            \n",
    "            directory = os.path.join('Task_4_5','static', 'portraits', filename)\n",
    "            file.save(directory)\n",
    "        \n",
    "        \n",
    "            client = sqlite3.connect(\"voting_mgm.db\")\n",
    "            curr = client.execute(\"UPDATE Candidate SET PortraitLink = ? WHERE CandidateNo = ?\", (filename, CandidateNo))\n",
    "\n",
    "            curr = client.execute(\"SELECT CandidateNo, Name, Slogan, PortraitLink FROM Candidate WHERE CandidateNo = ?\", (CandidateNo,))\n",
    "            attr = list(curr)\n",
    "\n",
    "            client.close()\n",
    "            \n",
    "\n",
    "\n",
    "            return render_template(\"display.html\", attr = attr)\n",
    "        \n",
    "        return render_template(\"display.html\")\n",
    "\n",
    "        \n",
    "@app.route(\"/pictures/<filename>\")\n",
    "def returnFile(filename):\n",
    "    return send_from_directory('Task_4_5/static/portraits', filename)\n",
    "        \n",
    "if __name__ == \"__main__\":\n",
    "    app.run()"
   ]
  },
  {
   "cell_type": "code",
   "execution_count": null,
   "metadata": {},
   "outputs": [],
   "source": []
  }
 ],
 "metadata": {
  "kernelspec": {
   "display_name": "Python 3",
   "language": "python",
   "name": "python3"
  },
  "language_info": {
   "codemirror_mode": {
    "name": "ipython",
    "version": 3
   },
   "file_extension": ".py",
   "mimetype": "text/x-python",
   "name": "python",
   "nbconvert_exporter": "python",
   "pygments_lexer": "ipython3",
   "version": "3.6.4"
  }
 },
 "nbformat": 4,
 "nbformat_minor": 2
}

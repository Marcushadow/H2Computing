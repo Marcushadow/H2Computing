{
 "cells": [
  {
   "cell_type": "code",
   "execution_count": 2,
   "metadata": {},
   "outputs": [
    {
     "name": "stderr",
     "output_type": "stream",
     "text": [
      " * Running on http://127.0.0.1:5000/ (Press CTRL+C to quit)\n",
      "127.0.0.1 - - [16/Aug/2022 15:55:41] \"\u001b[37mGET / HTTP/1.1\u001b[0m\" 200 -\n",
      "127.0.0.1 - - [16/Aug/2022 15:55:44] \"\u001b[37mPOST /output HTTP/1.1\u001b[0m\" 200 -\n"
     ]
    }
   ],
   "source": [
    "import flask, sqlite3\n",
    "from flask import render_template, request\n",
    "\n",
    "app = flask.Flask(__name__, template_folder=\"./Task_4_4/templates\")\n",
    "\n",
    "\n",
    "\n",
    "\n",
    "@app.route(\"/\")\n",
    "def form():\n",
    "    return render_template(\"index.html\")\n",
    "\n",
    "@app.route(\"/output\", methods = [\"POST\"])\n",
    "def synthesis():\n",
    "    if(request.method == \"POST\"):\n",
    "        \n",
    "        client = sqlite3.connect(\"voting_mgm.db\")\n",
    "        MatricNo = request.form.get(\"MatricNo\")\n",
    "        curr = client.execute(\"SELECT CandidateNo, Name FROM Candidate ORDER BY CandidateNo ASC\")\n",
    "        attrib = list(curr)\n",
    "        client.close()\n",
    "        return render_template(\"display.html\", MatricNo = MatricNo, attr = attrib)\n",
    "\n",
    "if __name__ == \"__main__\":\n",
    "    app.run()"
   ]
  },
  {
   "cell_type": "code",
   "execution_count": null,
   "metadata": {},
   "outputs": [],
   "source": []
  }
 ],
 "metadata": {
  "kernelspec": {
   "display_name": "Python 3",
   "language": "python",
   "name": "python3"
  },
  "language_info": {
   "codemirror_mode": {
    "name": "ipython",
    "version": 3
   },
   "file_extension": ".py",
   "mimetype": "text/x-python",
   "name": "python",
   "nbconvert_exporter": "python",
   "pygments_lexer": "ipython3",
   "version": "3.6.4"
  }
 },
 "nbformat": 4,
 "nbformat_minor": 2
}

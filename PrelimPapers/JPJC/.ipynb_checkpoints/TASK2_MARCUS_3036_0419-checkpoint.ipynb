{
 "cells": [
  {
   "cell_type": "code",
   "execution_count": 8,
   "metadata": {},
   "outputs": [],
   "source": [
    "class Item:\n",
    "    def __init__(self,CatalogueNumber = 0,Brand = \"\", Style = \"\", Colour = \"\", Rental= 0):\n",
    "        self.CatalogueNumber = CatalogueNumber\n",
    "        self.Brand = Brand\n",
    "        self.Style = Style\n",
    "        self.Colour = Colour\n",
    "        self.Rental = Rental\n",
    "        \n",
    "    def getCatalogueNumber(self):\n",
    "        return self.CatalogueNumber\n",
    "    \n",
    "    def setCatalogueNumber(self, catnum):\n",
    "        self.CatalogueNumber = catnum\n",
    "        \n",
    "    def getBrand(self):\n",
    "        return self.Brand\n",
    "    \n",
    "    def setBrand(self, brand):\n",
    "        self.Brand = brand\n",
    "        \n",
    "    def getStyle(self):\n",
    "        return self.Style\n",
    "    \n",
    "    def setStyle(self, style):\n",
    "        self.Brand = style\n",
    "        \n",
    "    def getColour(self):\n",
    "        return self.Colour\n",
    "    \n",
    "    def setColour(self, colour):\n",
    "        self.Colour = colour\n",
    "    \n",
    "    def getRental(self):\n",
    "        return self.Rental\n",
    "    \n",
    "    def setRental(self, rental):\n",
    "        self.Rental = rental\n",
    "        \n",
    "class Apparel(Item):\n",
    "    def __init__(self, CatalogueNumber = 0,Brand = \"\", Style = \"\", Colour = \"\", Rental= 0, Size = 0, Fabrication = \"\" ):\n",
    "        super().__init__(CatalogueNumber,Brand, Style, Colour, Rental)\n",
    "        self.Size = Size\n",
    "        self.Fabrication = Fabrication\n",
    "        \n",
    "    def getSize(self):\n",
    "        return self.Size\n",
    "    \n",
    "    def setSize(self, size):\n",
    "        self.Size = size\n",
    "        \n",
    "    def getFabrication(self):\n",
    "        return self.Fabrication\n",
    "    \n",
    "    def setFabrication(self, fabric):\n",
    "        self.Fabrication = fabric\n",
    "        \n",
    "class Bag(Item):\n",
    "    def __init__(self, CatalogueNumber = 0,Brand = \"\", Style = \"\", Colour = \"\", Rental= 0, Length = 0, Breadth=0, Leather = False):\n",
    "        super().__init__(CatalogueNumber,Brand, Style, Colour, Rental)\n",
    "        self.Length = Length\n",
    "        self.Breadth = Breadth\n",
    "        self.Leather = Leather\n",
    "        \n",
    "    def getLength(self):\n",
    "        return self.Length\n",
    "    \n",
    "    def setLength(self, length):\n",
    "        self.Length = length\n",
    "        \n",
    "    def getBreadth(self):\n",
    "        return self.Breadth\n",
    "    \n",
    "    def setBreadth(self, breadth):\n",
    "        self.Breadth = breadth\n",
    "        \n",
    "    def getLeather(self):\n",
    "        return self.Leather\n",
    "    \n",
    "    def setLeather(self, leather):\n",
    "        self.Leather = leather\n",
    "        "
   ]
  },
  {
   "cell_type": "code",
   "execution_count": 13,
   "metadata": {},
   "outputs": [
    {
     "name": "stdout",
     "output_type": "stream",
     "text": [
      "[(<__main__.Apparel object at 0x0000018A6553DC18>, 'wendy@hotmail.com'), (<__main__.Apparel object at 0x0000018A65548710>, 'praveen@gmail.com'), (<__main__.Apparel object at 0x0000018A6553D860>, 'joycelee@singnet.com'), (<__main__.Apparel object at 0x0000018A655399B0>, 'mark123@gmail.com'), (<__main__.Apparel object at 0x0000018A6553DC50>, 'shawn@gmail.com'), (<__main__.Apparel object at 0x0000018A6553DF28>, 'awanghazzy@hotmail.com'), (<__main__.Bag object at 0x0000018A6553DE48>, 'magicalcode@singnet.com'), None, None, None, None, None, None, None, None, (<__main__.Apparel object at 0x0000018A6553DBE0>, 'jeanny@hotmail.com'), None, None, (<__main__.Apparel object at 0x0000018A6554A470>, 'sijietan@yahoo.com'), (<__main__.Apparel object at 0x0000018A6554A048>, 'ashleysandhu@gmail.com'), None, None, None, None, None, None, None, None, None, None, None, None, None, None, None, None, None, None, None, None, (<__main__.Bag object at 0x0000018A6553D978>, 'joycelee@singnet.com'), None, None, None, None, None, None, None, None, None, None, None, None, None, None, (<__main__.Bag object at 0x0000018A6553DD68>, 'ruthpaul99@yahoo.com'), None, None, None, None, None, None, None, None, None, None, None, (<__main__.Bag object at 0x0000018A6554A438>, 'wendy@hotmail.com'), None, None, None, None, None, None, None, None, None, None, None, None, None, None, None, None, None, None, None, None, None, None, None, None, None, None, None, None, None, (<__main__.Apparel object at 0x0000018A65539A20>, 'sijietan@yahoo.com'), None, (<__main__.Apparel object at 0x0000018A6553D7B8>, 'ruthpaul99@yahoo.com')]\n"
     ]
    }
   ],
   "source": [
    "import csv\n",
    "hashtable = []\n",
    "\n",
    "def hashFunc(value):\n",
    "    return value%100\n",
    "\n",
    "for i in range(100):\n",
    "    hashtable.append(None)\n",
    "    \n",
    "with open(\"RECORDS.csv\") as fs:\n",
    "    reader = csv.reader(fs, delimiter=\",\")\n",
    "    headers = next(reader)\n",
    "#     print(headers)\n",
    "\n",
    "    for row in reader:\n",
    "        tempObj = None\n",
    "        if(row[1] == \"Apparel\"):\n",
    "            tempObj = Apparel(int(row[0]), row[2], row[3], row[4], int(row[5]), int(row[6]), row[7] )\n",
    "            \n",
    "        else:\n",
    "            tempObj = Bag(int(row[0]), row[2], row[3], row[4], int(row[5]), int(row[8]), int(row[9]), row[10] == \"TRUE\" )\n",
    "            \n",
    "        insertPos = hashFunc(int(row[0]))\n",
    "        \n",
    "        tempObj = (tempObj, row[11])\n",
    "        \n",
    "        if(hashtable[insertPos] == None):\n",
    "            hashtable[insertPos] = tempObj\n",
    "        else:\n",
    "            probe = (insertPos+1)%100\n",
    "            while(probe != insertPos and hashtable[probe] != None):\n",
    "                    probe = (probe+1)%100\n",
    "                \n",
    "            if(probe != insertPos):\n",
    "                hashtable[probe] = tempObj\n",
    "                \n",
    "            else:\n",
    "                print(\"Hashtable full\")\n",
    "        \n",
    "print(hashtable)"
   ]
  },
  {
   "cell_type": "code",
   "execution_count": 16,
   "metadata": {},
   "outputs": [
    {
     "name": "stdout",
     "output_type": "stream",
     "text": [
      "index: 0, Catalogue No: 1000, Email: wendy@hotmail.com\n",
      "index: 1, Catalogue No: 1001, Email: praveen@gmail.com\n",
      "index: 2, Catalogue No: 1100, Email: joycelee@singnet.com\n",
      "index: 3, Catalogue No: 1200, Email: mark123@gmail.com\n",
      "index: 4, Catalogue No: 1004, Email: shawn@gmail.com\n",
      "index: 5, Catalogue No: 1103, Email: awanghazzy@hotmail.com\n",
      "index: 6, Catalogue No: 1399, Email: magicalcode@singnet.com\n",
      "index: 7, Catalogue No: None , Email: None\n",
      "index: 8, Catalogue No: None , Email: None\n",
      "index: 9, Catalogue No: None , Email: None\n",
      "index: 10, Catalogue No: None , Email: None\n",
      "index: 11, Catalogue No: None , Email: None\n",
      "index: 12, Catalogue No: None , Email: None\n",
      "index: 13, Catalogue No: None , Email: None\n",
      "index: 14, Catalogue No: None , Email: None\n",
      "index: 15, Catalogue No: 1015, Email: jeanny@hotmail.com\n",
      "index: 16, Catalogue No: None , Email: None\n",
      "index: 17, Catalogue No: None , Email: None\n",
      "index: 18, Catalogue No: 1118, Email: sijietan@yahoo.com\n",
      "index: 19, Catalogue No: 1119, Email: ashleysandhu@gmail.com\n",
      "index: 20, Catalogue No: None , Email: None\n",
      "index: 21, Catalogue No: None , Email: None\n",
      "index: 22, Catalogue No: None , Email: None\n",
      "index: 23, Catalogue No: None , Email: None\n",
      "index: 24, Catalogue No: None , Email: None\n",
      "index: 25, Catalogue No: None , Email: None\n",
      "index: 26, Catalogue No: None , Email: None\n",
      "index: 27, Catalogue No: None , Email: None\n",
      "index: 28, Catalogue No: None , Email: None\n",
      "index: 29, Catalogue No: None , Email: None\n",
      "index: 30, Catalogue No: None , Email: None\n",
      "index: 31, Catalogue No: None , Email: None\n",
      "index: 32, Catalogue No: None , Email: None\n",
      "index: 33, Catalogue No: None , Email: None\n",
      "index: 34, Catalogue No: None , Email: None\n",
      "index: 35, Catalogue No: None , Email: None\n",
      "index: 36, Catalogue No: None , Email: None\n",
      "index: 37, Catalogue No: None , Email: None\n",
      "index: 38, Catalogue No: None , Email: None\n",
      "index: 39, Catalogue No: None , Email: None\n",
      "index: 40, Catalogue No: 1340, Email: joycelee@singnet.com\n",
      "index: 41, Catalogue No: None , Email: None\n",
      "index: 42, Catalogue No: None , Email: None\n",
      "index: 43, Catalogue No: None , Email: None\n",
      "index: 44, Catalogue No: None , Email: None\n",
      "index: 45, Catalogue No: None , Email: None\n",
      "index: 46, Catalogue No: None , Email: None\n",
      "index: 47, Catalogue No: None , Email: None\n",
      "index: 48, Catalogue No: None , Email: None\n",
      "index: 49, Catalogue No: None , Email: None\n",
      "index: 50, Catalogue No: None , Email: None\n",
      "index: 51, Catalogue No: None , Email: None\n",
      "index: 52, Catalogue No: None , Email: None\n",
      "index: 53, Catalogue No: None , Email: None\n",
      "index: 54, Catalogue No: None , Email: None\n",
      "index: 55, Catalogue No: 1355, Email: ruthpaul99@yahoo.com\n",
      "index: 56, Catalogue No: None , Email: None\n",
      "index: 57, Catalogue No: None , Email: None\n",
      "index: 58, Catalogue No: None , Email: None\n",
      "index: 59, Catalogue No: None , Email: None\n",
      "index: 60, Catalogue No: None , Email: None\n",
      "index: 61, Catalogue No: None , Email: None\n",
      "index: 62, Catalogue No: None , Email: None\n",
      "index: 63, Catalogue No: None , Email: None\n",
      "index: 64, Catalogue No: None , Email: None\n",
      "index: 65, Catalogue No: None , Email: None\n",
      "index: 66, Catalogue No: None , Email: None\n",
      "index: 67, Catalogue No: 1367, Email: wendy@hotmail.com\n",
      "index: 68, Catalogue No: None , Email: None\n",
      "index: 69, Catalogue No: None , Email: None\n",
      "index: 70, Catalogue No: None , Email: None\n",
      "index: 71, Catalogue No: None , Email: None\n",
      "index: 72, Catalogue No: None , Email: None\n",
      "index: 73, Catalogue No: None , Email: None\n",
      "index: 74, Catalogue No: None , Email: None\n",
      "index: 75, Catalogue No: None , Email: None\n",
      "index: 76, Catalogue No: None , Email: None\n",
      "index: 77, Catalogue No: None , Email: None\n",
      "index: 78, Catalogue No: None , Email: None\n",
      "index: 79, Catalogue No: None , Email: None\n",
      "index: 80, Catalogue No: None , Email: None\n",
      "index: 81, Catalogue No: None , Email: None\n",
      "index: 82, Catalogue No: None , Email: None\n",
      "index: 83, Catalogue No: None , Email: None\n",
      "index: 84, Catalogue No: None , Email: None\n",
      "index: 85, Catalogue No: None , Email: None\n",
      "index: 86, Catalogue No: None , Email: None\n",
      "index: 87, Catalogue No: None , Email: None\n",
      "index: 88, Catalogue No: None , Email: None\n",
      "index: 89, Catalogue No: None , Email: None\n",
      "index: 90, Catalogue No: None , Email: None\n",
      "index: 91, Catalogue No: None , Email: None\n",
      "index: 92, Catalogue No: None , Email: None\n",
      "index: 93, Catalogue No: None , Email: None\n",
      "index: 94, Catalogue No: None , Email: None\n",
      "index: 95, Catalogue No: None , Email: None\n",
      "index: 96, Catalogue No: None , Email: None\n",
      "index: 97, Catalogue No: 1097, Email: sijietan@yahoo.com\n",
      "index: 98, Catalogue No: None , Email: None\n",
      "index: 99, Catalogue No: 1299, Email: ruthpaul99@yahoo.com\n"
     ]
    }
   ],
   "source": [
    "# Task 2.3\n",
    "\n",
    "for i in range(len(hashtable)):\n",
    "    if hashtable[i] != None:\n",
    "        print(f\"index: {i}, Catalogue No: {hashtable[i][0].getCatalogueNumber()}, Email: {hashtable[i][1]}\")\n",
    "    \n",
    "    else:\n",
    "        print(f\"index: {i}, Catalogue No: None , Email: None\")"
   ]
  },
  {
   "cell_type": "code",
   "execution_count": 21,
   "metadata": {},
   "outputs": [],
   "source": [
    "def HashTableSearch(hashtable, CatalogueNumber):\n",
    "    searchPos = hashFunc(CatalogueNumber)\n",
    "    if(hashtable[searchPos] != None and hashtable[searchPos][0].getCatalogueNumber() == CatalogueNumber):\n",
    "        return hashtable[searchPos][1]\n",
    "    \n",
    "    else:\n",
    "        probe = (searchPos + 1)%100\n",
    "        while(hashtable[probe] != None and hashtable[probe][0].getCatalogueNumber() != CatalogueNumber):\n",
    "             probe = (probe+1)%100\n",
    "        if(hashtable[probe] == None):\n",
    "            return \"Not Found\"\n",
    "        \n",
    "        else:\n",
    "            return hashtable[probe][1]\n",
    "        "
   ]
  },
  {
   "cell_type": "code",
   "execution_count": 22,
   "metadata": {},
   "outputs": [
    {
     "data": {
      "text/plain": [
       "'magicalcode@singnet.com'"
      ]
     },
     "execution_count": 22,
     "metadata": {},
     "output_type": "execute_result"
    }
   ],
   "source": [
    "HashTableSearch(hashtable, 1399)"
   ]
  },
  {
   "cell_type": "code",
   "execution_count": 23,
   "metadata": {},
   "outputs": [
    {
     "data": {
      "text/plain": [
       "'Not Found'"
      ]
     },
     "execution_count": 23,
     "metadata": {},
     "output_type": "execute_result"
    }
   ],
   "source": [
    "HashTableSearch(hashtable, 1220)"
   ]
  },
  {
   "cell_type": "code",
   "execution_count": 20,
   "metadata": {},
   "outputs": [
    {
     "data": {
      "text/plain": [
       "99"
      ]
     },
     "execution_count": 20,
     "metadata": {},
     "output_type": "execute_result"
    }
   ],
   "source": [
    "hashFunc(1399)"
   ]
  },
  {
   "cell_type": "code",
   "execution_count": null,
   "metadata": {},
   "outputs": [],
   "source": []
  }
 ],
 "metadata": {
  "kernelspec": {
   "display_name": "Python 3",
   "language": "python",
   "name": "python3"
  },
  "language_info": {
   "codemirror_mode": {
    "name": "ipython",
    "version": 3
   },
   "file_extension": ".py",
   "mimetype": "text/x-python",
   "name": "python",
   "nbconvert_exporter": "python",
   "pygments_lexer": "ipython3",
   "version": "3.6.4"
  }
 },
 "nbformat": 4,
 "nbformat_minor": 2
}

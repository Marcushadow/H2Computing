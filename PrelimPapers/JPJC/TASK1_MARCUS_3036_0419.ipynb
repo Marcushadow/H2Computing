{
 "cells": [
  {
   "cell_type": "code",
   "execution_count": 6,
   "metadata": {},
   "outputs": [],
   "source": [
    "def JumpSearch(arr, x, m):\n",
    "    idx = 0\n",
    "    found = -1\n",
    "    \n",
    "    while(idx < len(arr) and arr[idx] < x):\n",
    "        idx += m\n",
    "    if(idx != len(arr)) :\n",
    "        if(arr[idx] > x):\n",
    "            for i in range(idx-m, idx):\n",
    "                if(arr[i] == x):\n",
    "                    found = i\n",
    "        elif(arr[idx] == x):\n",
    "            found = idx\n",
    "\n",
    "        else:\n",
    "            for i in range(idx, len(arr)):\n",
    "                if(arr[i] == x):\n",
    "                    found = i\n",
    "    \n",
    "    return found\n",
    "        "
   ]
  },
  {
   "cell_type": "code",
   "execution_count": 7,
   "metadata": {},
   "outputs": [
    {
     "name": "stdout",
     "output_type": "stream",
     "text": [
      "9\n",
      "-1\n"
     ]
    }
   ],
   "source": [
    "arr = [ 0, 1, 2, 3, 5, 8, 13, 21, 34, 55, 89, 144, 233, 377, 610, 999 ] \n",
    "\n",
    "print(JumpSearch(arr, 55, 4))\n",
    "print(JumpSearch(arr,1000,4))"
   ]
  },
  {
   "cell_type": "code",
   "execution_count": 8,
   "metadata": {},
   "outputs": [],
   "source": [
    "# task 1.2\n",
    "\n",
    "def JumpSearchRecursive(arr, x, m, currentLastIndex=0):\n",
    "    if(len(arr) == 0):\n",
    "        return -1\n",
    "    \n",
    "    elif(len(arr) <= m ):\n",
    "        for i in range(len(arr)):\n",
    "            if(arr[i] == x):\n",
    "                return currentLastIndex + i\n",
    "        return -1\n",
    "\n",
    "    else:\n",
    "        if(arr[0]==x):\n",
    "            return currentLastIndex\n",
    "        elif(arr[m] < x):\n",
    "            return JumpSearchRecursive(arr[m:], x, m, currentLastIndex+m)\n",
    "        else:\n",
    "            return JumpSearchRecursive(arr[:m], x, m, currentLastIndex)\n",
    "        "
   ]
  },
  {
   "cell_type": "code",
   "execution_count": 10,
   "metadata": {},
   "outputs": [
    {
     "name": "stdout",
     "output_type": "stream",
     "text": [
      "9\n",
      "-1\n"
     ]
    }
   ],
   "source": [
    "arr = [ 0, 1, 2, 3, 5, 8, 13, 21, 34, 55, 89, 144, 233, 377, 610, 999 ] \n",
    "\n",
    "print(JumpSearchRecursive(arr, 55, 4))\n",
    "print(JumpSearchRecursive(arr,1000,4))"
   ]
  },
  {
   "cell_type": "code",
   "execution_count": null,
   "metadata": {},
   "outputs": [],
   "source": []
  }
 ],
 "metadata": {
  "kernelspec": {
   "display_name": "Python 3",
   "language": "python",
   "name": "python3"
  },
  "language_info": {
   "codemirror_mode": {
    "name": "ipython",
    "version": 3
   },
   "file_extension": ".py",
   "mimetype": "text/x-python",
   "name": "python",
   "nbconvert_exporter": "python",
   "pygments_lexer": "ipython3",
   "version": "3.6.4"
  }
 },
 "nbformat": 4,
 "nbformat_minor": 2
}

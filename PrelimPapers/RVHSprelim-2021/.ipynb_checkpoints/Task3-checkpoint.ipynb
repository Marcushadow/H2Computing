{
 "cells": [
  {
   "cell_type": "code",
   "execution_count": 7,
   "metadata": {},
   "outputs": [],
   "source": [
    "# Task 3.1\n",
    "# Write program code to read the csv file \"health_facilities.csv\" and insert all information in the file as documents\n",
    "# into a NoSQL MongoDB database called \"Health\" with one collection called \"facilities\".\n",
    "# The \"_id\" of the documents in the database should start from 1, 2, 3 and 4 etc. \n",
    "# The correct data type of each field is expected to be inserted into the database.\n",
    "\n",
    "from pymongo import MongoClient\n",
    "import csv\n",
    "\n",
    "#Your code below\n",
    "\n",
    "toInsert = []\n",
    "ids = 1 \n",
    "with open(\"health_facilities.csv\") as fs:\n",
    "    reader = csv.reader(fs, delimiter=\",\")\n",
    "    \n",
    "    allHeadings = [\"_id\"] + next(reader)\n",
    "    \n",
    "    for row in reader:\n",
    "        entryDict = {\n",
    "            \"_id\": ids,\n",
    "            \"year\": int(row[0]),\n",
    "            \"institution_type\": row[1],\n",
    "            \"facility_type_a\": row[2],\n",
    "            \"public_private\": row[3],\n",
    "            \"no_of_facilities\": int(row[4]),\n",
    "            \"no_beds\": int(row[5])\n",
    "        }\n",
    "        toInsert.append(entryDict)\n",
    "        ids += 1\n",
    "        \n",
    "\n",
    "client = MongoClient(\"127.0.0.1\", 27017)\n",
    "db = client.get_database(\"Health\")\n",
    "coll = db.get_collection(\"facilities\")\n",
    "\n",
    "coll.insert_many(toInsert)\n",
    "\n",
    "client.close()\n"
   ]
  },
  {
   "cell_type": "code",
   "execution_count": null,
   "metadata": {
    "scrolled": false
   },
   "outputs": [],
   "source": []
  },
  {
   "cell_type": "code",
   "execution_count": 19,
   "metadata": {},
   "outputs": [
    {
     "name": "stdout",
     "output_type": "stream",
     "text": [
      "The three years that have the highest average number of beds per facility are: 2020, 2017 and 2014\n"
     ]
    }
   ],
   "source": [
    "# Task 3.2 \n",
    "# a) Write a MongoDB Pymongo query to retrieve public acute hospital documents with\n",
    "# their corresponding number of beds more than 7200. #[4]\n",
    "client = MongoClient(\"127.0.0.1\", 27017)\n",
    "db = client.get_database(\"Health\")\n",
    "coll = db.get_collection(\"facilities\")\n",
    "\n",
    "\n",
    "query = {\"no_beds\": {\"$gt\": 7200}}\n",
    "\n",
    "curr = coll.find(query)\n",
    "\n",
    "\n",
    "\n",
    "# b) Write program code to bubble sort the results retrieved in Task 3.2 a) according to\n",
    "# the average number of beds per facility. Then, display the top 3 years which has the \n",
    "# highest average number of beds per facility using the format below.\n",
    "# \"The three years that have the lowest average number of beds per facility are: _____, _____ and _____.\"\n",
    "\n",
    "#Your code below\n",
    "\n",
    "arr = list(curr)\n",
    "\n",
    "\n",
    "\n",
    "for i in range(len(arr)-1):\n",
    "    for j in range(len(arr) - 2 - i):\n",
    "        jAve = arr[j]['no_beds']/ arr[j]['no_of_facilities']\n",
    "        nAve = arr[j+1]['no_beds']/ arr[j+1]['no_of_facilities']\n",
    "        \n",
    "        if(jAve > nAve):\n",
    "            arr[j], arr[j+1] = arr[j+1], arr[j]\n",
    "            \n",
    "print(f\"The three years that have the highest average number of beds per facility are: {arr[-1]['year']}, {arr[-2]['year']} and {arr[-3]['year']}\")        \n",
    "\n",
    "\n",
    "\n",
    "client.close()"
   ]
  },
  {
   "cell_type": "code",
   "execution_count": 25,
   "metadata": {},
   "outputs": [
    {
     "name": "stdout",
     "output_type": "stream",
     "text": [
      "Ids of those with no facility and NFP: \n",
      "5 20 35 50 65 80 95 110 125 140 155 170 "
     ]
    }
   ],
   "source": [
    "# Task 3.3\n",
    "# a) Write a MongoDB Pymongo query and program code to display all \"_id\"s that involve all Not-for-Profit\n",
    "# health facilities documents that have no facility. #[2(query + display filter) + 1(display ids)]\n",
    "import random\n",
    "client = MongoClient(\"127.0.0.1\", 27017)\n",
    "db = client.get_database(\"Health\")\n",
    "coll = db.get_collection(\"facilities\")\n",
    "\n",
    "\n",
    "query = {\n",
    "    \"public_private\": \"Not-for-Profit\",\n",
    "    \"no_of_facilities\": 0\n",
    "}\n",
    "curr = coll.find(query)\n",
    "\n",
    "print(\"Ids of those with no facility and NFP: \")\n",
    "for item in curr:\n",
    "    print(item['_id'], end = \" \")\n",
    "\n",
    "client.close()\n",
    "# b) Write a MongoDB Pymongo code to update the fields \"no_of_facilities\" and \"no_beds\" of only 3 records\n",
    "# retrieved in Task 3.3 a) to 1 and a random number from 10 to 20 respectively.\n",
    "\n",
    "for i in range(3):\n",
    "    update = {\n",
    "        \"$set\": {\n",
    "            \"no_of_facilities\": 1,\n",
    "            \"no_beds\": random.randint(10,20)\n",
    "        }\n",
    "    }\n",
    "    curr = coll.update_one(query, update)\n",
    "\n"
   ]
  },
  {
   "cell_type": "code",
   "execution_count": null,
   "metadata": {},
   "outputs": [],
   "source": []
  }
 ],
 "metadata": {
  "kernelspec": {
   "display_name": "Python 3",
   "language": "python",
   "name": "python3"
  },
  "language_info": {
   "codemirror_mode": {
    "name": "ipython",
    "version": 3
   },
   "file_extension": ".py",
   "mimetype": "text/x-python",
   "name": "python",
   "nbconvert_exporter": "python",
   "pygments_lexer": "ipython3",
   "version": "3.6.4"
  }
 },
 "nbformat": 4,
 "nbformat_minor": 2
}

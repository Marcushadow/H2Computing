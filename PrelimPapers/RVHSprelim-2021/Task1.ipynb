{
 "cells": [
  {
   "cell_type": "code",
   "execution_count": 8,
   "metadata": {},
   "outputs": [
    {
     "name": "stdout",
     "output_type": "stream",
     "text": [
      "True\n",
      "True\n",
      "False\n",
      "False\n"
     ]
    }
   ],
   "source": [
    "# Task 1.1\n",
    "# Write a function task1_1(name_A, name_B) where name_A and name_B are strings \n",
    "# which consists of alphabet letters and spaces. The function will return True if \n",
    "# A) The alphabet letters used in string name_A and name_B are the same and\n",
    "# B) the spaces in string name_A and name_B are at the same locations.\n",
    "# For example,\n",
    "# >>> match_names(\"Abcde\", \"Deabc\")\n",
    "# True\n",
    "# >>> match_names(\"Abcde Fgh I\", \"Ihgfe Dcb A\")\n",
    "# True\n",
    "# >>> match_names(\"Abcd Efgh I\", \"Ihgfe Dcb A\")\n",
    "# False\n",
    "# >>> match_names(\"Abcde Fzh I\", \"Ihgfe Dcb A\")\n",
    "# False\n",
    "def task1_1(name_A, name_B):\n",
    "    nameA = {\" \":[]}\n",
    "    nameB = {\" \":[]}\n",
    "    same = True\n",
    "    aIndex = 0\n",
    "    bIndex = 0\n",
    "    for character in name_A:\n",
    "        ch = character.lower()\n",
    "        if(ch == \" \"):\n",
    "            nameA[ch].append(aIndex)\n",
    "        else:\n",
    "            if ch not in nameA.keys():\n",
    "                nameA[ch] = 1\n",
    "            else:\n",
    "                nameA[ch] += 1\n",
    "        aIndex += 1\n",
    "            \n",
    "    for character in name_B:\n",
    "        ch = character.lower()\n",
    "        if(ch == \" \"):\n",
    "            nameB[ch].append(bIndex)\n",
    "        else:\n",
    "            if ch not in nameB.keys():\n",
    "                nameB[ch] = 1\n",
    "            else:\n",
    "                nameB[ch] += 1\n",
    "        bIndex += 1\n",
    "    \n",
    "    for key in nameA.keys():\n",
    "        if(key not in nameB.keys() or nameA[key] != nameB[key] ):\n",
    "            same = False\n",
    "        \n",
    "    for key in nameB.keys():\n",
    "        if(key not in nameA.keys() or nameA[key] != nameB[key] ):\n",
    "            same = False\n",
    "    return same\n",
    "        \n",
    "        \n",
    "        \n",
    "            \n",
    "    \n",
    "            \n",
    "\n",
    "def quick_test():\n",
    "    print(task1_1(\"Abcde\", \"Deabc\")) #True\n",
    "    print(task1_1(\"Abcde Fgh I\", \"Ihgfe Dcb A\")) #True\n",
    "    print(task1_1(\"Abcd Efgh I\", \"Ihgfe Dcb A\")) #False\n",
    "    print(task1_1(\"Abcde Fzh I\", \"Ihgfe Dcb A\")) #False\n",
    "quick_test()"
   ]
  },
  {
   "cell_type": "code",
   "execution_count": 17,
   "metadata": {},
   "outputs": [
    {
     "name": "stdout",
     "output_type": "stream",
     "text": [
      "['Gnqi Anik Rbcnyig', None, 'Chnyinlo Iag Apne Aact', 'Miueyt Ilm Ag Lnaa', 'Hasabe Abba Anz Instun', 'Klwieen Lia Gkw Meeh', 'Dx An Owu Iqnh', None, None, None, 'Vltejk Nno Hik Aii', 'Ect Wky Iv Qiiia', 'Dgi Lmra Ely Eonlt', None, None, 'Nseo Nzg Iwgt', 'Oceboac Vngn Nhip Eetn', 'Attt Nne Kooj Cngh', 'Lnibazl Jojm Aoo Enibi', None, None, 'Nkk Olnn Eilh Goivaj', None, 'Iueihe Sge Enz Uhngh', None, None, 'Djauwea Iinbj Ynols', 'Eh Negns Ezono Ygh ', 'Arrae Vaidtnrasnatem', None, None, None, 'Nnog Nlg Olav Ioiz', 'Ipaceslxi Lhin Ipr Cua', None, 'Smahzl Nij Miymni', None, None, 'Euiaq Ore Tty Os', None, 'Aanzo Tah Yjeynun', None, None, None, 'Ebnnto Geron Koo Hregl', 'Ilnohn Ouis Hwwc Ane', 'Nhoachno Oiww Cobh Osl', None, 'Heeh Cwew', None, None, None, None, None, 'Wbao Hne Coh', None, 'Nhia Khn Omc', 'Eih Gegnu Kcan', 'Ahm Gi Lpiin', None, None, 'Nneu Hnag Chgg', 'Nli Eln Egaw', None, 'Hksga Ha@l Gnhaiaks Lanik', 'Mins Cau Hhi', 'Lgi Uaok Ign', 'Bno Atige Ngng', 'Imm Hko Ocli', None, None, 'Kwmi Aia Yhk', 'Egrc Hwjnoi', 'Eme Eil Lie Lmu', None, 'Ni Hynta Leg', 'Gnweq Eil Oi', 'Nap Nynt Ega', 'Cnhh Ones Ewic', None, 'Lyi Nhizi', 'Aeah Oih Cpl Onsk', 'Qxn Iuu', 'Hkni Niog Gbot ', 'Ghgnna Icknc Iao Rlai', 'Ooh Asnt Iph', 'Nuaii Ko Hhdn Ira', 'Agt Knn Ayso', 'Hiatv Udi Dah Hno', 'Hzard Elfzeenan', None, 'Eim Rin Ju Leieel', 'Aycd Ssaorhza ', 'Jisaalil Eeb Iaytq', None, 'Mub Rna Ahd Nameito', None, None, 'Aaidg Znhel Lladunne', 'Essdsrica Itlracu Zl Hr Bn Leu', None, 'Bniimg Eos Mdne Jnl', None, 'Ewndhy Eule Ocr Gaa', 'Anhaay Htn Ala Knwn', None, None, 'Keartwgmue Kair', None, None, 'Olo Wkk Onso', 'El Gjsu Ogei Hsnnee', 'Jnri Rkdc Enrahoom', None, None, 'Luis Anhhpg Uiln', None, 'Imans Lly Nvu Iaa', 'Kcainhyrsbl Tiiau', None, 'Goeiy Tnlt Mi Bte', None, None, None, 'Tyhwl Kwla Iec Aieu', 'Lfnb Iestr Natma Saiieh', 'Ydnei Rni Dbza Zraila', None, 'Neoeunoh Mbln Jwa Iij', None, None, 'Mia Gae Nel', None, None, 'Alijg In', None, None, None, None, 'Tohnroo Nlya Ogl Adna', None, 'Co Eehw Ehe', None, None, 'Kie Eee Ewl', None, 'Rcale Hosa', None, 'Ojho Elk', None, 'Gaoi Nnr', 'Ilm Ni Qe', 'Jkoe Een Chsa', 'Aih Icw Nganh', None, None, None, None, 'Nnoiiu Ens Hwilgtw', 'Ioa Ijecah Uenj', None, None, None, None, None, 'Ken Ngoi Atal', None, 'Iln Mfi Eun', 'Nheo Hgec Kekwe', 'Hoo Cifi Ahox', 'Hlnia Iuggnl', 'Egn Easu Ihln', 'Kneo Wgth Eec', None, 'Iiker Ectpnh', None, None, 'Oga Hgyo Nngh', None, 'Wia Nwein Hnc', 'Ehaj Nocnixu', 'Nneran Aihradcjtah', None, 'Gbn Jnoa Oont', None, 'Ena Jgit Yi Njal', 'Twh Aeo Tey', None, 'Gg Oge Rcie Knyn', 'Uynw Ie Ikh', 'Geiehni Env Clatr Ea', None, 'Beo Lywe Oone', 'Ldi Neg Iigne Alwnoa', None, 'Huk Usaelinegn', None, None, None, None]\n"
     ]
    }
   ],
   "source": [
    "def calculateHash(name):\n",
    "    value = 0\n",
    "    for character in name:\n",
    "        ch = character.lower()\n",
    "        if(ch != \" \"):\n",
    "            value += ord(ch)\n",
    "        \n",
    "    return value%200\n",
    "\n",
    "\n",
    "def task1_2():\n",
    "    AhashTable = [None]*200\n",
    "    \n",
    "    \n",
    "    with open(\"namelist_A.txt\") as fs:\n",
    "        data = fs.read().strip(\"\\n\").split(\"\\n\")\n",
    "        \n",
    "        for name in data:\n",
    "            position = calculateHash(name)\n",
    "            \n",
    "            if(AhashTable[position] == None):\n",
    "                AhashTable[position] = name\n",
    "                \n",
    "            else:\n",
    "                nextPos = (position+1)%200\n",
    "                while(nextPos != position and AhashTable[nextPos] != None):\n",
    "                    nextPos = (nextPos+1)%200\n",
    "                \n",
    "                if(AhashTable[nextPos] != None):\n",
    "                    AhashTable[nextPos] = name\n",
    "                    \n",
    "    with open(\"namelist_B.txt\") as fs:\n",
    "        data = fs.read().strip(\"\\n\").split(\"\\n\")\n",
    "        \n",
    "        for name in data:\n",
    "            position = calculateHash(name)\n",
    "            if(task1_1(AhashTable[position], name)):\n",
    "                print(name)\n",
    "                \n",
    "            else:\n",
    "                found = False\n",
    "                nextPos = (position+1)%200\n",
    "                while(nextPos != position and AhashTable[nextPos] != None and not found):\n",
    "                    if(task1_1(AhashTable[nextPos], name)):\n",
    "                        found = True\n",
    "                    else:\n",
    "                        nextPos = (nextPos+1)%200\n",
    "                \n",
    "                if(fo):\n",
    "                    AhashTable[nextPos] = name\n",
    "            \n",
    "    \n",
    "#     with open(\"namelist_B.txt\") as fs:\n",
    "#         data = fs.read().strip(\"\\n\").split(\"\\n\")\n",
    "        \n",
    "#         for name in data:\n",
    "#             position = calculateHash(name)\n",
    "            \n",
    "#             if(BhashTable[position] == None):\n",
    "#                 BhashTable[position] = name\n",
    "                \n",
    "#             else:\n",
    "#                 nextPos = (position+1)%200\n",
    "#                 while(nextPos != position and BhashTable[nextPos] != None):\n",
    "#                     nextPos = (nextPos+1)%200\n",
    "                \n",
    "#                 if(BhashTable[nextPos] != None):\n",
    "#                     BhashTable[nextPos] = name\n",
    "    \n",
    "    \n",
    "\n",
    "    \n",
    "\n",
    "task1_2()"
   ]
  },
  {
   "cell_type": "code",
   "execution_count": 16,
   "metadata": {},
   "outputs": [
    {
     "ename": "NameError",
     "evalue": "name 'AhashTable' is not defined",
     "output_type": "error",
     "traceback": [
      "\u001b[1;31m---------------------------------------------------------------------------\u001b[0m",
      "\u001b[1;31mNameError\u001b[0m                                 Traceback (most recent call last)",
      "\u001b[1;32m<ipython-input-16-860a6cf9a89b>\u001b[0m in \u001b[0;36m<module>\u001b[1;34m()\u001b[0m\n\u001b[1;32m----> 1\u001b[1;33m \u001b[0mAhashTable\u001b[0m\u001b[1;33m\u001b[0m\u001b[0m\n\u001b[0m",
      "\u001b[1;31mNameError\u001b[0m: name 'AhashTable' is not defined"
     ]
    }
   ],
   "source": [
    "AhashTable"
   ]
  },
  {
   "cell_type": "code",
   "execution_count": null,
   "metadata": {},
   "outputs": [],
   "source": []
  }
 ],
 "metadata": {
  "kernelspec": {
   "display_name": "Python 3",
   "language": "python",
   "name": "python3"
  },
  "language_info": {
   "codemirror_mode": {
    "name": "ipython",
    "version": 3
   },
   "file_extension": ".py",
   "mimetype": "text/x-python",
   "name": "python",
   "nbconvert_exporter": "python",
   "pygments_lexer": "ipython3",
   "version": "3.6.4"
  }
 },
 "nbformat": 4,
 "nbformat_minor": 2
}

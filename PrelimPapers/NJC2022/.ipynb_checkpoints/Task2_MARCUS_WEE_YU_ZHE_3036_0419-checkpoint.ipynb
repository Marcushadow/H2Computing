{
 "cells": [
  {
   "cell_type": "code",
   "execution_count": 2,
   "metadata": {},
   "outputs": [
    {
     "data": {
      "text/plain": [
       "[1636, 3555, 3006, 653, 1665, 3865, 1447, 2568, 619, 2029]"
      ]
     },
     "execution_count": 2,
     "metadata": {},
     "output_type": "execute_result"
    }
   ],
   "source": [
    "# Task 2.1\n",
    "\n",
    "def task2_1(filename):\n",
    "    with open(filename) as fs:\n",
    "        data = fs.read().split(\"\\n\")\n",
    "        for i in range(len(data)):\n",
    "            data[i] = int(data[i])\n",
    "        \n",
    "    return data\n",
    "        \n",
    "# task2_1(\"TEN.txt\")\n"
   ]
  },
  {
   "cell_type": "code",
   "execution_count": 8,
   "metadata": {},
   "outputs": [
    {
     "data": {
      "text/plain": [
       "[619, 653, 1447, 1636, 1665, 2029, 2568, 3006, 3555, 3865]"
      ]
     },
     "execution_count": 8,
     "metadata": {},
     "output_type": "execute_result"
    }
   ],
   "source": [
    "# Task 2.2\n",
    "\n",
    "def task2_2(list_of_integers):\n",
    "    arr=[]\n",
    "    for item in list_of_integers:\n",
    "        arr.append(item)\n",
    "    for i in range(len(arr)):\n",
    "        for j in range(len(arr)-1):\n",
    "            if(arr[j] > arr[j+1]):\n",
    "                arr[j], arr[j+1] = arr[j+1], arr[j]\n",
    "    return arr\n",
    "                \n"
   ]
  },
  {
   "cell_type": "code",
   "execution_count": 12,
   "metadata": {},
   "outputs": [
    {
     "data": {
      "text/plain": [
       "[619, 653, 1447, 1636, 1665, 2029, 2568, 3006, 3555, 3865]"
      ]
     },
     "execution_count": 12,
     "metadata": {},
     "output_type": "execute_result"
    }
   ],
   "source": [
    "def task2_3(list_of_integers):\n",
    "    arr=[]\n",
    "    for item in list_of_integers:\n",
    "        arr.append(item)\n",
    "        \n",
    "    for i in range(1,len(arr)):\n",
    "        insertVal = arr[i]\n",
    "        insertPos = i\n",
    "        while(insertPos > 0 and arr[insertPos-1] > insertVal):\n",
    "            arr[insertPos] = arr[insertPos-1]\n",
    "            insertPos -= 1\n",
    "        arr[insertPos] = insertVal\n",
    "            \n",
    "        \n",
    "    return arr\n",
    "\n",
    "task2_3(task2_1(\"TEN.txt\"))"
   ]
  },
  {
   "cell_type": "code",
   "execution_count": 15,
   "metadata": {},
   "outputs": [
    {
     "data": {
      "text/plain": [
       "[619, 653, 1447, 1636, 1665, 2029, 2568, 3006, 3555, 3865]"
      ]
     },
     "execution_count": 15,
     "metadata": {},
     "output_type": "execute_result"
    }
   ],
   "source": [
    "# Task 2.4\n",
    "def task2_4(list_of_integers):\n",
    "    arr=[]\n",
    "    for item in list_of_integers:\n",
    "        arr.append(item)\n",
    "        \n",
    "    quicksort(arr)    \n",
    "    return arr\n",
    "\n",
    "def quicksort(arr, left=-1, right=-1):\n",
    "    if(left == right == -1):\n",
    "        left = 0\n",
    "        right = len(arr)-1\n",
    "    \n",
    "    if(left < right):\n",
    "        piv = partition(arr, left, right)\n",
    "        quicksort(arr, left, piv-1)\n",
    "        quicksort(arr, piv+1, right)\n",
    "        \n",
    "def partition(arr, left, right):\n",
    "    mid = (left + right)//2\n",
    "    arr[mid], arr[left] = arr[left], arr[mid]\n",
    "    pivVal = arr[left]\n",
    "    \n",
    "    l = left+1\n",
    "    r = right\n",
    "    \n",
    "    while(l <= r):\n",
    "        while((l<=r) and arr[l] <= pivVal):\n",
    "            l+=1\n",
    "            \n",
    "        while((l<=r) and arr[r] > pivVal):\n",
    "            r-=1\n",
    "            \n",
    "        if(l< r):\n",
    "            arr[l], arr[r] = arr[r], arr[l]\n",
    "            \n",
    "    arr[r], arr[left] = arr[left], arr[r]\n",
    "    \n",
    "    return r\n",
    "    \n",
    "\n",
    "task2_4(task2_1(\"TEN.txt\"))"
   ]
  },
  {
   "cell_type": "code",
   "execution_count": 16,
   "metadata": {},
   "outputs": [
    {
     "name": "stdout",
     "output_type": "stream",
     "text": [
      "[619, 653, 1447, 1636, 1665, 2029, 2568, 3006, 3555, 3865]\n"
     ]
    }
   ],
   "source": [
    "# Task 2.6\n",
    "\n",
    "print(task2_2(task2_1(\"TEN.txt\")))"
   ]
  },
  {
   "cell_type": "code",
   "execution_count": 19,
   "metadata": {},
   "outputs": [
    {
     "name": "stdout",
     "output_type": "stream",
     "text": [
      "\n",
      "Size of ten\n",
      "BubbleSort: 2.5600000000736145e-05\n",
      "InsertSort: 1.5000000004761205e-05\n",
      "QuickSort: 2.1300000000223918e-05\n",
      "\n",
      "Size of hundred\n",
      "BubbleSort: 0.0012152000000043017\n",
      "InsertSort: 0.0007168000000064012\n",
      "QuickSort: 0.00023610000000928721\n",
      "\n",
      "Size of thousand\n",
      "BubbleSort: 0.1272866999999991\n",
      "InsertSort: 0.027969200000001138\n",
      "QuickSort: 0.0014321000000023787\n"
     ]
    }
   ],
   "source": [
    "import timeit \n",
    "\n",
    "print(f\"\\nSize of ten\")\n",
    "t10 = task2_1('TEN.txt')\n",
    "print(f\"BubbleSort: {timeit.timeit(lambda: task2_2(t10), number=1)}\")\n",
    "print(f\"InsertSort: {timeit.timeit(lambda: task2_3(t10), number=1)}\")\n",
    "print(f\"QuickSort: {timeit.timeit(lambda: task2_4(t10), number=1)}\")\n",
    "\n",
    "print(f\"\\nSize of hundred\")\n",
    "t100 = task2_1('HUNDRED.txt')\n",
    "print(f\"BubbleSort: {timeit.timeit(lambda: task2_2(t100), number=1)}\")\n",
    "print(f\"InsertSort: {timeit.timeit(lambda: task2_3(t100), number=1)}\")\n",
    "print(f\"QuickSort: {timeit.timeit(lambda: task2_4(t100), number=1)}\")\n",
    "\n",
    "print(f\"\\nSize of thousand\")\n",
    "t1000 = task2_1('THOUSAND.txt')\n",
    "print(f\"BubbleSort: {timeit.timeit(lambda: task2_2(t1000), number=1)}\")\n",
    "print(f\"InsertSort: {timeit.timeit(lambda: task2_3(t1000), number=1)}\")\n",
    "print(f\"QuickSort: {timeit.timeit(lambda: task2_4(t1000), number=1)}\")\n"
   ]
  },
  {
   "cell_type": "code",
   "execution_count": null,
   "metadata": {},
   "outputs": [],
   "source": []
  }
 ],
 "metadata": {
  "kernelspec": {
   "display_name": "Python 3",
   "language": "python",
   "name": "python3"
  },
  "language_info": {
   "codemirror_mode": {
    "name": "ipython",
    "version": 3
   },
   "file_extension": ".py",
   "mimetype": "text/x-python",
   "name": "python",
   "nbconvert_exporter": "python",
   "pygments_lexer": "ipython3",
   "version": "3.6.4"
  }
 },
 "nbformat": 4,
 "nbformat_minor": 2
}

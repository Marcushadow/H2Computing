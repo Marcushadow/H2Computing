{
 "cells": [
  {
   "cell_type": "code",
   "execution_count": 3,
   "metadata": {},
   "outputs": [],
   "source": [
    "import sqlite3\n",
    "\n",
    "client = sqlite3.connect(\"tide.db\")\n",
    "\n",
    "with open(\"TIDES.txt\") as fs:\n",
    "    data = fs.read().split(\"\\n\")[:-1]\n",
    "    for i in data:\n",
    "        i = i.split(\"\\t\")\n",
    "#         print(i)\n",
    "        curr = client.execute(\"INSERT INTO Tide (Date, Time, isHigh, Height) VALUES (?,?,?,?)\", (i[0], i[1], int(i[2]==\"HIGH\"), i[3]))\n",
    "        \n",
    "client.commit()\n",
    "client.close()"
   ]
  },
  {
   "cell_type": "code",
   "execution_count": null,
   "metadata": {},
   "outputs": [],
   "source": [
    "int(True)"
   ]
  },
  {
   "cell_type": "code",
   "execution_count": null,
   "metadata": {},
   "outputs": [],
   "source": []
  }
 ],
 "metadata": {
  "kernelspec": {
   "display_name": "Python 3",
   "language": "python",
   "name": "python3"
  },
  "language_info": {
   "codemirror_mode": {
    "name": "ipython",
    "version": 3
   },
   "file_extension": ".py",
   "mimetype": "text/x-python",
   "name": "python",
   "nbconvert_exporter": "python",
   "pygments_lexer": "ipython3",
   "version": "3.6.4"
  }
 },
 "nbformat": 4,
 "nbformat_minor": 2
}

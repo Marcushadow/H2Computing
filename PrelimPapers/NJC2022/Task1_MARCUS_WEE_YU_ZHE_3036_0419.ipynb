{
 "cells": [
  {
   "cell_type": "code",
   "execution_count": 6,
   "metadata": {},
   "outputs": [
    {
     "data": {
      "text/plain": [
       "629"
      ]
     },
     "execution_count": 6,
     "metadata": {},
     "output_type": "execute_result"
    }
   ],
   "source": [
    "# Task 1.1\n",
    "def fun(expression, num):\n",
    "    evalEqn = expression.replace('x', str(num))\n",
    "    return eval(evalEqn)\n",
    "    \n",
    "fun(\"x**2+3+1\", 25)"
   ]
  },
  {
   "cell_type": "code",
   "execution_count": 8,
   "metadata": {},
   "outputs": [
    {
     "data": {
      "text/plain": [
       "457.6296000000002"
      ]
     },
     "execution_count": 8,
     "metadata": {},
     "output_type": "execute_result"
    }
   ],
   "source": [
    "# Task 1.2\n",
    "\n",
    "def left_sum(expr, a, b, num):\n",
    "    area = 0\n",
    "    step = (b-a)/num\n",
    "    for i in range(num):\n",
    "        area += step*fun(expr, a+i*step)\n",
    "\n",
    "    return area\n",
    "left_sum('8*x**3-5*x+6',2,4,100)"
   ]
  },
  {
   "cell_type": "code",
   "execution_count": 15,
   "metadata": {},
   "outputs": [
    {
     "data": {
      "text/plain": [
       "448.4757419191659"
      ]
     },
     "execution_count": 15,
     "metadata": {},
     "output_type": "execute_result"
    }
   ],
   "source": [
    "# task 1.3\n",
    "import random\n",
    "def random_sum(expr, a, b, num):\n",
    "    area = 0\n",
    "    for i in range(num):\n",
    "        step = random.uniform(0,b-a)\n",
    "        area += step * fun(expr, a+step*0.5)\n",
    "        a += step\n",
    "    return area\n",
    "random_sum('8*x**3-5*x+6',2,4,100)"
   ]
  },
  {
   "cell_type": "code",
   "execution_count": null,
   "metadata": {},
   "outputs": [],
   "source": []
  }
 ],
 "metadata": {
  "kernelspec": {
   "display_name": "Python 3",
   "language": "python",
   "name": "python3"
  },
  "language_info": {
   "codemirror_mode": {
    "name": "ipython",
    "version": 3
   },
   "file_extension": ".py",
   "mimetype": "text/x-python",
   "name": "python",
   "nbconvert_exporter": "python",
   "pygments_lexer": "ipython3",
   "version": "3.6.4"
  }
 },
 "nbformat": 4,
 "nbformat_minor": 2
}

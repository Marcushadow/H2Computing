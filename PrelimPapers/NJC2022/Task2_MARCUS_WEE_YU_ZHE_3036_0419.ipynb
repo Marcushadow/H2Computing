{
 "cells": [
  {
   "cell_type": "code",
   "execution_count": 1,
   "metadata": {},
   "outputs": [],
   "source": [
    "# Task 2.1\n",
    "\n",
    "def task2_1(filename):\n",
    "    with open(filename) as fs:\n",
    "        data = fs.read().split(\"\\n\")\n",
    "        for i in range(len(data)):\n",
    "            data[i] = int(data[i])\n",
    "        \n",
    "    return data\n",
    "        \n",
    "# task2_1(\"TEN.txt\")\n"
   ]
  },
  {
   "cell_type": "code",
   "execution_count": 2,
   "metadata": {},
   "outputs": [],
   "source": [
    "# Task 2.2\n",
    "\n",
    "def task2_2(list_of_integers):\n",
    "    arr=[]\n",
    "    for item in list_of_integers:\n",
    "        arr.append(item)\n",
    "    for i in range(len(arr)):\n",
    "        for j in range(len(arr)-1):\n",
    "            if(arr[j] > arr[j+1]):\n",
    "                arr[j], arr[j+1] = arr[j+1], arr[j]\n",
    "    return arr\n",
    "                \n"
   ]
  },
  {
   "cell_type": "code",
   "execution_count": 3,
   "metadata": {},
   "outputs": [
    {
     "data": {
      "text/plain": [
       "[619, 653, 1447, 1636, 1665, 2029, 2568, 3006, 3555, 3865]"
      ]
     },
     "execution_count": 3,
     "metadata": {},
     "output_type": "execute_result"
    }
   ],
   "source": [
    "def task2_3(list_of_integers):\n",
    "    arr=[]\n",
    "    for item in list_of_integers:\n",
    "        arr.append(item)\n",
    "        \n",
    "    for i in range(1,len(arr)):\n",
    "        insertVal = arr[i]\n",
    "        insertPos = i\n",
    "        while(insertPos > 0 and arr[insertPos-1] > insertVal):\n",
    "            arr[insertPos] = arr[insertPos-1]\n",
    "            insertPos -= 1\n",
    "        arr[insertPos] = insertVal\n",
    "            \n",
    "        \n",
    "    return arr\n",
    "\n",
    "task2_3(task2_1(\"TEN.txt\"))"
   ]
  },
  {
   "cell_type": "code",
   "execution_count": 4,
   "metadata": {},
   "outputs": [
    {
     "data": {
      "text/plain": [
       "[619, 653, 1447, 1636, 1665, 2029, 2568, 3006, 3555, 3865]"
      ]
     },
     "execution_count": 4,
     "metadata": {},
     "output_type": "execute_result"
    }
   ],
   "source": [
    "# Task 2.4\n",
    "def task2_4(list_of_integers):\n",
    "    arr=[]\n",
    "    for item in list_of_integers:\n",
    "        arr.append(item)\n",
    "        \n",
    "    quicksort(arr)    \n",
    "    return arr\n",
    "\n",
    "def quicksort(arr, left=-1, right=-1):\n",
    "    if(left == right == -1):\n",
    "        left = 0\n",
    "        right = len(arr)-1\n",
    "    \n",
    "    if(left < right):\n",
    "        piv = partition(arr, left, right)\n",
    "        quicksort(arr, left, piv-1)\n",
    "        quicksort(arr, piv+1, right)\n",
    "        \n",
    "def partition(arr, left, right):\n",
    "    mid = (left + right)//2\n",
    "    arr[mid], arr[left] = arr[left], arr[mid]\n",
    "    pivVal = arr[left]\n",
    "    \n",
    "    l = left+1\n",
    "    r = right\n",
    "    \n",
    "    while(l <= r):\n",
    "        while((l<=r) and arr[l] <= pivVal):\n",
    "            l+=1\n",
    "            \n",
    "        while((l<=r) and arr[r] > pivVal):\n",
    "            r-=1\n",
    "            \n",
    "        if(l< r):\n",
    "            arr[l], arr[r] = arr[r], arr[l]\n",
    "            \n",
    "    arr[r], arr[left] = arr[left], arr[r]\n",
    "    \n",
    "    return r\n",
    "    \n",
    "\n",
    "task2_4(task2_1(\"TEN.txt\"))"
   ]
  },
  {
   "cell_type": "code",
   "execution_count": 7,
   "metadata": {},
   "outputs": [],
   "source": [
    "def task2_5(list_of_integers):\n",
    "    arr=[]\n",
    "    for item in list_of_integers:\n",
    "        arr.append(item)\n",
    "\n",
    "    if(len(arr) < 2):\n",
    "        return arr\n",
    "    else:\n",
    "        mid = len(arr)//2\n",
    "        left = task2_5(arr[:mid])\n",
    "        right = task2_5(arr[mid:])\n",
    "        merged = []\n",
    "\n",
    "        while(len(left) and len(right)):\n",
    "            if(left[0] <= right[0]):\n",
    "                merged.append(left.pop(0))\n",
    "            \n",
    "            else:\n",
    "                merged.append(right.pop(0))\n",
    "\n",
    "        merged = merged + left + right\n",
    "\n",
    "        return merged"
   ]
  },
  {
   "cell_type": "code",
   "execution_count": 8,
   "metadata": {},
   "outputs": [
    {
     "name": "stdout",
     "output_type": "stream",
     "text": [
      "[619, 653, 1447, 1636, 1665, 2029, 2568, 3006, 3555, 3865]\n"
     ]
    }
   ],
   "source": [
    "# Task 2.6\n",
    "\n",
    "print(task2_5(task2_1(\"TEN.txt\")))"
   ]
  },
  {
   "cell_type": "code",
   "execution_count": 9,
   "metadata": {},
   "outputs": [
    {
     "name": "stdout",
     "output_type": "stream",
     "text": [
      "\n",
      "Size of ten\n",
      "BubbleSort: 1.8800000000000003e-05\n",
      "InsertSort: 9.399999999999985e-06\n",
      "QuickSort: 1.9999999999999998e-05\n",
      "MergeSort: 3.650000000000002e-05\n",
      "\n",
      "Size of hundred\n",
      "BubbleSort: 0.001389699999999999\n",
      "InsertSort: 0.0005050000000000002\n",
      "QuickSort: 0.0001699000000000006\n",
      "MergeSort: 0.0004486000000000004\n",
      "\n",
      "Size of thousand\n",
      "BubbleSort: 0.0834763\n",
      "InsertSort: 0.027244500000000005\n",
      "QuickSort: 0.0016857000000000122\n",
      "MergeSort: 0.0040535999999999905\n"
     ]
    }
   ],
   "source": [
    "import timeit \n",
    "\n",
    "print(f\"\\nSize of ten\")\n",
    "t10 = task2_1('TEN.txt')\n",
    "print(f\"BubbleSort: {timeit.timeit(lambda: task2_2(t10), number=1)}\")\n",
    "print(f\"InsertSort: {timeit.timeit(lambda: task2_3(t10), number=1)}\")\n",
    "print(f\"QuickSort: {timeit.timeit(lambda: task2_4(t10), number=1)}\")\n",
    "print(f\"MergeSort: {timeit.timeit(lambda: task2_5(t10), number=1)}\")\n",
    "\n",
    "print(f\"\\nSize of hundred\")\n",
    "t100 = task2_1('HUNDRED.txt')\n",
    "print(f\"BubbleSort: {timeit.timeit(lambda: task2_2(t100), number=1)}\")\n",
    "print(f\"InsertSort: {timeit.timeit(lambda: task2_3(t100), number=1)}\")\n",
    "print(f\"QuickSort: {timeit.timeit(lambda: task2_4(t100), number=1)}\")\n",
    "print(f\"MergeSort: {timeit.timeit(lambda: task2_5(t100), number=1)}\")\n",
    "\n",
    "print(f\"\\nSize of thousand\")\n",
    "t1000 = task2_1('THOUSAND.txt')\n",
    "print(f\"BubbleSort: {timeit.timeit(lambda: task2_2(t1000), number=1)}\")\n",
    "print(f\"InsertSort: {timeit.timeit(lambda: task2_3(t1000), number=1)}\")\n",
    "print(f\"QuickSort: {timeit.timeit(lambda: task2_4(t1000), number=1)}\")\n",
    "print(f\"MergeSort: {timeit.timeit(lambda: task2_5(t1000), number=1)}\")\n"
   ]
  },
  {
   "cell_type": "code",
   "execution_count": null,
   "metadata": {},
   "outputs": [],
   "source": []
  }
 ],
 "metadata": {
  "kernelspec": {
   "display_name": "Python 3.6.4 64-bit",
   "language": "python",
   "name": "python3"
  },
  "language_info": {
   "codemirror_mode": {
    "name": "ipython",
    "version": 3
   },
   "file_extension": ".py",
   "mimetype": "text/x-python",
   "name": "python",
   "nbconvert_exporter": "python",
   "pygments_lexer": "ipython3",
   "version": "3.6.4"
  },
  "vscode": {
   "interpreter": {
    "hash": "f4e9cda46bb2d9d7fe6ecdff0f8336a934348bf06cb492f2f42f60739b3403b4"
   }
  }
 },
 "nbformat": 4,
 "nbformat_minor": 2
}

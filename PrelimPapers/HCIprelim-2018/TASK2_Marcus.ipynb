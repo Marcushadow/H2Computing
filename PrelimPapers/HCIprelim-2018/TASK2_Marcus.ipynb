{
 "cells": [
  {
   "cell_type": "code",
   "execution_count": 20,
   "metadata": {},
   "outputs": [
    {
     "name": "stdout",
     "output_type": "stream",
     "text": [
      "82\n",
      "29\n",
      "05\n"
     ]
    }
   ],
   "source": [
    "# Task 2.1\n",
    "\n",
    "def CheckDigit(IBAN):\n",
    "    arr = list(IBAN)\n",
    "    arr[2] = \"0\"\n",
    "    arr[3] = \"0\"\n",
    "    arr = arr[4:] + arr[:4]\n",
    "\n",
    "    for i in range(len(arr)):\n",
    "        if(arr[i].isalpha()):\n",
    "            arr[i] = str(ord(arr[i].upper())-55)\n",
    "        \n",
    "    arr = \"\".join(arr)\n",
    "    remainder = int(arr)%97\n",
    "\n",
    "    cD = str(98-remainder).rjust(2, \"0\")\n",
    "\n",
    "    return cD\n",
    "\n",
    "with open(\"IBANS.txt\") as fs:\n",
    "    data = fs.read().strip(\"\\n\").split(\"\\n\")\n",
    "    for iban in data:\n",
    "        print(CheckDigit(iban))"
   ]
  },
  {
   "cell_type": "code",
   "execution_count": 10,
   "metadata": {},
   "outputs": [],
   "source": [
    "#Task 2.2\n",
    "\n",
    "def ValidateIBAN(IBAN):\n",
    "    arr = list(IBAN)\n",
    "    arr = arr[4:] + arr[:4]\n",
    "    for i in range(len(arr)):\n",
    "        if(arr[i].isalpha()):\n",
    "            arr[i] = str(ord(arr[i].upper())-55)\n",
    "    arr = \"\".join(arr)\n",
    "    intVal = int(arr)\n",
    "    return intVal%97 == 1"
   ]
  },
  {
   "cell_type": "code",
   "execution_count": 26,
   "metadata": {},
   "outputs": [
    {
     "name": "stdout",
     "output_type": "stream",
     "text": [
      "GB82WEST12345698765432 OK\n",
      "GB26AIBK23929012345678 OK\n",
      "GB28RBOS22333444455555 OK\n",
      "GB88260005601001611379 OK\n",
      "GB22LOYD30952013145983 Invalid. Expected check digits: 05\n",
      "GB65NWBK60161331926819 Invalid. Expected check digits: 29\n",
      "GB29RBOS60161331926819 Invalid. Expected check digits: 86\n",
      "GB21BARC20570640736805 OK\n",
      "GB28RBOS22333444455555 OK\n",
      "GB26AIBK23929012345678 OK\n"
     ]
    }
   ],
   "source": [
    "# Task 2.3\n",
    "\n",
    "def CheckIBAN():\n",
    "    with open(\"TRANSACTIONS.txt\", \"r+\") as fs:\n",
    "        data = fs.read().strip(\"\\n\").split(\"\\n\")\n",
    "        arr = []\n",
    "    \n",
    "\n",
    "\n",
    "        for i in range(len(data)):\n",
    "            arr.append([data[i][:-5] , data[i][-5:]])\n",
    "\n",
    "        for i in range(len(arr)):\n",
    "            if(not ValidateIBAN(arr[i][0])):\n",
    "                print(f\"{arr[i][0]} Invalid. Expected check digits: {CheckDigit(arr[i][0])}\")\n",
    "                arr[i][0] = arr[i][0][:2]  + CheckDigit(arr[i][0]) + arr[i][0][4:]\n",
    "            else:\n",
    "                print(f\"{arr[i][0]} OK\")\n",
    "        \n",
    "\n",
    "        for i in range(len(arr)):\n",
    "            arr[i] = \"\".join(arr[i])\n",
    "        \n",
    "        outputToFile = \"\\n\".join(arr)\n",
    "        \n",
    "    with open(\"TRANSACTIONS.txt\", \"r+\") as fs:\n",
    "        fs.write(outputToFile)\n",
    "\n",
    "\n",
    "\n",
    "CheckIBAN()"
   ]
  },
  {
   "cell_type": "code",
   "execution_count": 43,
   "metadata": {},
   "outputs": [
    {
     "name": "stdout",
     "output_type": "stream",
     "text": [
      "['GB05LOYD30952013145983Peter Tan       1629.75', 'GB06CPBK08929912345678Robert Yeo     32123.28', 'GB12CPBK08929965044991Alice Cheong    8901.33', 'GB16CPBK08929911000011Bernard Lim    12657.45', 'GB19LOYD30961700709943Jonathan Hong   7342.88', 'GB21BARC20570640736805Alfred Teo     16890.76', 'GB26AIBK23929012345678Winnie Lee     24316.55', 'GB28RBOS22333444455555Amy Chia       10115.6', 'GB29NWBK60161331926819Terence Poon    5639.12', 'GB35MIDL40253432144670Lim Peh        12345.67', 'GB44BNPA23463512345678Jimmy Toh      23532.98', 'GB50FTBK93809212345678William Hooi    8435.34', 'GB60RBOS12345612345678Mary Lim        1345.85', 'GB72LOYD30000000119587Rohana Olam    13425.15', 'GB82WEST12345698765432Aditya Nair    12320.01', 'GB86RBOS60161331926819Christopher Li  4154.49', 'GB88260005601001611379Samantha Chee  14259.2']\n"
     ]
    }
   ],
   "source": [
    "# Task 2.4\n",
    "\n",
    "with open(\"ACCOUNTS.txt\") as fs:\n",
    "    accData = fs.read().strip(\"\\n\").split(\"\\n\")\n",
    "    accDict = {}\n",
    "    for i in range(len(accData)):\n",
    "        accDict[accData[i][:22]] = [\" \".join(accData[i][22:].split(\" \")[:-1])+\" \", accData[i][22:].split(\" \")[-1]]\n",
    "\n",
    "    # print(accDict)    \n",
    "\n",
    "with open(\"TRANSACTIONS.txt\") as fs:\n",
    "    transData = fs.read().strip(\"\\n\").split(\"\\n\")\n",
    "    for i in range(len(transData)):\n",
    "        transData[i] = [transData[i][:22], transData[i][22:][0], transData[i][22:][1:].split(\" \")[-1]]\n",
    "\n",
    "    for entry in transData:\n",
    "        if(entry[1] == \"W\"):\n",
    "            accDict[entry[0]][1] = float(accDict[entry[0]][1]) - float(entry[2])\n",
    "        \n",
    "        elif(entry[1] == \"D\"):\n",
    "            accDict[entry[0]][1] = float(accDict[entry[0]][1]) + float(entry[2])\n",
    "    \n",
    "with open(\"ACCOUNTS.txt\", \"w\") as fs:\n",
    "    inputArr = []\n",
    "    for key in accDict.keys():\n",
    "        inputArr.append(key+str(accDict[key][0])+str(accDict[key][1]))\n",
    "\n",
    "\n",
    "    print(inputArr)\n",
    "    fs.write(\"\\n\".join(inputArr))\n",
    "\n",
    "            \n",
    "\n",
    "    "
   ]
  },
  {
   "cell_type": "code",
   "execution_count": null,
   "metadata": {},
   "outputs": [],
   "source": []
  }
 ],
 "metadata": {
  "kernelspec": {
   "display_name": "Python 3.8.7 64-bit",
   "language": "python",
   "name": "python3"
  },
  "language_info": {
   "codemirror_mode": {
    "name": "ipython",
    "version": 3
   },
   "file_extension": ".py",
   "mimetype": "text/x-python",
   "name": "python",
   "nbconvert_exporter": "python",
   "pygments_lexer": "ipython3",
   "version": "3.8.7"
  },
  "orig_nbformat": 4,
  "vscode": {
   "interpreter": {
    "hash": "79b5e9c4981b2ed0fae48cae49f290910e4ab927bd3333490b62cb47eeb76658"
   }
  }
 },
 "nbformat": 4,
 "nbformat_minor": 2
}

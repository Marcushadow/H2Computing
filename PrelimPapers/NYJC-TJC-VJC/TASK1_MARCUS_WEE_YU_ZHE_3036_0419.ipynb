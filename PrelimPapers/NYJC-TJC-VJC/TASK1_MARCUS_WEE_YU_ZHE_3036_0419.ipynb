{
 "cells": [
  {
   "cell_type": "code",
   "execution_count": 4,
   "metadata": {},
   "outputs": [
    {
     "data": {
      "text/plain": [
       "['1', '10', '11', '100', '101', '111', '1100']"
      ]
     },
     "execution_count": 4,
     "metadata": {},
     "output_type": "execute_result"
    }
   ],
   "source": [
    "def task1_1(list_of_strings):\n",
    "    arr = []\n",
    "    for string in list_of_strings:\n",
    "        arr.append(string)\n",
    "        \n",
    "    if(len(arr) < 2):\n",
    "        return arr\n",
    "\n",
    "    else:\n",
    "        mid = len(arr)//2\n",
    "        left = task1_1(arr[:mid])\n",
    "        right = task1_1(arr[mid:])\n",
    "        for i in range(len(left)):\n",
    "            left[i] = int(left[i])\n",
    "        for i in range(len(right)):\n",
    "            right[i] = int(right[i])\n",
    "        merged = []\n",
    "        \n",
    "        while(len(left) and len(right)):\n",
    "            if(left[0] <= right[0]):\n",
    "                merged.append(left.pop(0))\n",
    "            else:\n",
    "                merged.append(right.pop(0))\n",
    "                \n",
    "        merged = merged + left + right\n",
    "        \n",
    "        for i in range(len(merged)):\n",
    "            merged[i] = str(merged[i])\n",
    "            \n",
    "        return merged\n",
    "        \n",
    "task1_1(['11', '101', '10', '1', '111', '1100', '100'])"
   ]
  },
  {
   "cell_type": "code",
   "execution_count": 12,
   "metadata": {},
   "outputs": [],
   "source": [
    "# Task 1.2\n",
    "\n",
    "def task1_2(filename):\n",
    "    with open(filename) as fs:\n",
    "        data = fs.read().split(\"\\n\")[:-1]\n",
    "        return task1_1(data)"
   ]
  },
  {
   "cell_type": "code",
   "execution_count": 20,
   "metadata": {},
   "outputs": [
    {
     "name": "stdout",
     "output_type": "stream",
     "text": [
      "16\n",
      "-1\n"
     ]
    }
   ],
   "source": [
    "# Task 1.3\n",
    "\n",
    "def task1_3(list_of_sorted_strings, num):\n",
    "    left = 0\n",
    "    right = len(list_of_sorted_strings)\n",
    "    index = -1\n",
    "    \n",
    "    while(left <= right and index == -1):\n",
    "        mid = (left + right) //2\n",
    "        if(list_of_sorted_strings[mid] == num):\n",
    "            while(mid-1>= 0 and list_of_sorted_strings[mid-1] == num):\n",
    "                mid = mid-1\n",
    "            index = mid\n",
    "        \n",
    "        elif(list_of_sorted_strings[mid] < num):\n",
    "            left = mid+1\n",
    "        \n",
    "        else:\n",
    "            right = mid-1\n",
    "    return index\n",
    "            \n",
    "            \n",
    "            \n",
    "print(task1_3(task1_2('NUMBERS.txt'), '667'))\n",
    "print(task1_3(task1_2('NUMBERS.txt'), '130')) \n",
    "            "
   ]
  },
  {
   "cell_type": "code",
   "execution_count": 18,
   "metadata": {},
   "outputs": [
    {
     "data": {
      "text/plain": [
       "False"
      ]
     },
     "execution_count": 18,
     "metadata": {},
     "output_type": "execute_result"
    }
   ],
   "source": []
  },
  {
   "cell_type": "code",
   "execution_count": null,
   "metadata": {},
   "outputs": [],
   "source": []
  }
 ],
 "metadata": {
  "kernelspec": {
   "display_name": "Python 3",
   "language": "python",
   "name": "python3"
  },
  "language_info": {
   "codemirror_mode": {
    "name": "ipython",
    "version": 3
   },
   "file_extension": ".py",
   "mimetype": "text/x-python",
   "name": "python",
   "nbconvert_exporter": "python",
   "pygments_lexer": "ipython3",
   "version": "3.6.4"
  }
 },
 "nbformat": 4,
 "nbformat_minor": 2
}

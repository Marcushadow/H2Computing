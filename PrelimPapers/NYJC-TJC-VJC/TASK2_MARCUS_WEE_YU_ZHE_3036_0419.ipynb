{
 "cells": [
  {
   "cell_type": "code",
   "execution_count": 21,
   "metadata": {},
   "outputs": [],
   "source": [
    "# Task 2.1\n",
    "import datetime\n",
    "\n",
    "class LibraryItem:\n",
    "    def __init__(self, item_id, title, loaned_by = \"\"):\n",
    "        self.item_id = item_id\n",
    "        self.title = title\n",
    "        self.loaned_by = loaned_by\n",
    "        self.due_date = datetime.date.today()\n",
    "        \n",
    "    def is_on_loan(self):\n",
    "        return self.loaned_by != \"\"\n",
    "    \n",
    "    def return_item(self):\n",
    "        self.loaned_by = \"\"\n",
    "        \n",
    "    def loan_to(self, user_id):\n",
    "        if(not self.is_on_loan()):\n",
    "            self.loaned_by = user_id\n",
    "            return True\n",
    "        else:\n",
    "            return False\n",
    "        \n",
    "    def print_details(self):\n",
    "        print(\"Title:\", self.title)\n",
    "        if(self.is_on_loan()):\n",
    "            print(\"Loaned by:\", self.loaned_by)\n",
    "        print(\"Due date:\", self.due_date.strftime('%Y-%m-%d'))\n",
    "        \n",
    "        \n",
    "        \n",
    "        \n",
    "    \n",
    "    "
   ]
  },
  {
   "cell_type": "code",
   "execution_count": 29,
   "metadata": {},
   "outputs": [],
   "source": [
    "class Book(LibraryItem):\n",
    "    def __init__(self,item_id, title, author, category, loaned_by=\"\"):\n",
    "        super().__init__(item_id, title, loaned_by)\n",
    "        self.author = author\n",
    "        self.category = category\n",
    "        self.reserved_by = \"\"\n",
    "        \n",
    "    def is_reserved(self):\n",
    "        return self.reserved_by != \"\"\n",
    "    \n",
    "    def release(self):\n",
    "        self.reserved_by = \"\"\n",
    "    \n",
    "    def reserve_for(self, user_id):\n",
    "        if(not self.is_reserved()):\n",
    "            self.reserved_by = user_id\n",
    "            return True\n",
    "        else:\n",
    "            return False\n",
    "        \n",
    "    def print_details(self):\n",
    "        super().print_details()\n",
    "        print(\"Reserved by:\", self.reserved_by)\n",
    "        print(\"Author:\", self.author)\n",
    "        print(\"Category:\", self.category)\n",
    "        \n",
    "class CompactDisc(LibraryItem):\n",
    "    def __init__(self,item_id, title,artist, genre ,loaned_by=\"\"):\n",
    "        super().__init__(item_id, title, loaned_by)\n",
    "        self.artist = artist\n",
    "        self.genre = genre\n",
    "        \n",
    "    def print_details(self):\n",
    "        super().print_details()\n",
    "        print(\"Artist:\", self.artist)\n",
    "        print(\"Genre:\", self.genre)\n",
    "        \n",
    "    "
   ]
  },
  {
   "cell_type": "code",
   "execution_count": 30,
   "metadata": {},
   "outputs": [
    {
     "name": "stdout",
     "output_type": "stream",
     "text": [
      "Title: Da Vinci Code\n",
      "Due date: 2022-10-02\n",
      "Reserved by: \n",
      "Author: Dan Brown\n",
      "Category: Fiction\n",
      "Title: Python For All\n",
      "Due date: 2022-10-02\n",
      "Reserved by: \n",
      "Author: John Shovic\n",
      "Category: Education\n",
      "Title: Logical Morocco\n",
      "Due date: 2022-10-02\n",
      "Artist: Abel Ryan\n",
      "Genre: Metal\n",
      "Title: Les Miserables\n",
      "Due date: 2022-10-02\n",
      "Reserved by: \n",
      "Author: Victor Hugo\n",
      "Category: Historical fiction\n",
      "Title: Price\n",
      "Due date: 2022-10-02\n",
      "Artist: Shannon Ochoa\n",
      "Genre: Jazz\n"
     ]
    }
   ],
   "source": [
    "# Task 2.3\n",
    "libraryItems = []\n",
    "\n",
    "with open(\"libraryitems.txt\") as fs:\n",
    "    data = fs.read().split(\"\\n\")\n",
    "    for item in data:\n",
    "        info = item.split(\",\")\n",
    "        \n",
    "#         print(item)\n",
    "        if(info[0][0] == \"B\"):\n",
    "            tempBook = Book(info[0], info[1], info[2], info[3])\n",
    "            tempBook.print_details()\n",
    "            libraryItems.append(tempBook)\n",
    "        \n",
    "        else:\n",
    "            tempDisc = CompactDisc(info[0], info[1], info[2], info[3])\n",
    "            tempDisc.print_details()\n",
    "            libraryItems.append(tempDisc)\n",
    "    "
   ]
  },
  {
   "cell_type": "code",
   "execution_count": 31,
   "metadata": {},
   "outputs": [
    {
     "name": "stdout",
     "output_type": "stream",
     "text": [
      "Reserve\n",
      "Reserve\n",
      "Reserve\n"
     ]
    }
   ],
   "source": [
    "for i in range(len(libraryItems)):\n",
    "    libraryItems[i].loan_to(\"S1111111H\")\n",
    "    if(libraryItems[i].item_id[0] == \"B\"):\n",
    "        print(\"Reserve\")\n",
    "        libraryItems[i].reserve_for(\"S1222222D\")\n"
   ]
  },
  {
   "cell_type": "code",
   "execution_count": 32,
   "metadata": {},
   "outputs": [
    {
     "name": "stdout",
     "output_type": "stream",
     "text": [
      "\n",
      "Title: Da Vinci Code\n",
      "Loaned by: S1111111H\n",
      "Due date: 2022-10-02\n",
      "Reserved by: S1222222D\n",
      "Author: Dan Brown\n",
      "Category: Fiction\n",
      "\n",
      "Title: Python For All\n",
      "Loaned by: S1111111H\n",
      "Due date: 2022-10-02\n",
      "Reserved by: S1222222D\n",
      "Author: John Shovic\n",
      "Category: Education\n",
      "\n",
      "Title: Logical Morocco\n",
      "Loaned by: S1111111H\n",
      "Due date: 2022-10-02\n",
      "Artist: Abel Ryan\n",
      "Genre: Metal\n",
      "\n",
      "Title: Les Miserables\n",
      "Loaned by: S1111111H\n",
      "Due date: 2022-10-02\n",
      "Reserved by: S1222222D\n",
      "Author: Victor Hugo\n",
      "Category: Historical fiction\n",
      "\n",
      "Title: Price\n",
      "Loaned by: S1111111H\n",
      "Due date: 2022-10-02\n",
      "Artist: Shannon Ochoa\n",
      "Genre: Jazz\n"
     ]
    }
   ],
   "source": [
    "for libItem in libraryItems:\n",
    "    print(\"\")\n",
    "    libItem.print_details()"
   ]
  },
  {
   "cell_type": "code",
   "execution_count": null,
   "metadata": {},
   "outputs": [],
   "source": []
  }
 ],
 "metadata": {
  "kernelspec": {
   "display_name": "Python 3",
   "language": "python",
   "name": "python3"
  },
  "language_info": {
   "codemirror_mode": {
    "name": "ipython",
    "version": 3
   },
   "file_extension": ".py",
   "mimetype": "text/x-python",
   "name": "python",
   "nbconvert_exporter": "python",
   "pygments_lexer": "ipython3",
   "version": "3.6.4"
  }
 },
 "nbformat": 4,
 "nbformat_minor": 2
}

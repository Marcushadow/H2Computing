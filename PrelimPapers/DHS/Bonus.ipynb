{
 "cells": [
  {
   "cell_type": "code",
   "execution_count": 28,
   "metadata": {},
   "outputs": [
    {
     "name": "stdout",
     "output_type": "stream",
     "text": [
      "(1) Enqueue Participant_A, Participant_B, Participant_C, Participant_D.\n",
      "\n",
      "Fixed array contents:\n",
      "['Participant_A', 'Participant_B', 'Participant_C', 'Participant_D', '']\n",
      "\n",
      "\n",
      "(2.1) Deleted value =  Participant_A\n",
      "(2.2) Deleted value =  Participant_B\n",
      "Fixed array contents:\n",
      "['', '', 'Participant_C', 'Participant_D', '']\n",
      "\n",
      "\n",
      "(3) Enqueue Participant_E, Participant_F, Participant_G.\n",
      "\n",
      "Fixed array contents:\n",
      "['Participant_F', 'Participant_G', 'Participant_C', 'Participant_D', 'Participant_E']\n",
      "\n",
      "\n",
      "(4) Enqueue Participant_H.\n",
      "\n",
      "2\n",
      "Cannot enqueue: Queue is full.\n",
      "Fixed array contents:\n",
      "['Participant_F', 'Participant_G', 'Participant_C', 'Participant_D', 'Participant_E']\n",
      "\n",
      "\n"
     ]
    }
   ],
   "source": [
    "class CircularQueue:\n",
    "    def __init__(self, size = 10):\n",
    "        self.size = size\n",
    "        self.count = 0\n",
    "        self.arr = []\n",
    "        for i in range(self.size):\n",
    "            self.arr.append(\"\")\n",
    "\n",
    "        self.head = -1\n",
    "        self.tail = -1\n",
    "    \n",
    "    def enqueue(self, string):\n",
    "        nextPos = (self.tail + 1)%self.size\n",
    "        if(nextPos == self.head):\n",
    "            print(self.head)\n",
    "            return \"Cannot enqueue: Queue is full.\"\n",
    "        else:\n",
    "            self.count += 1\n",
    "            self.arr[nextPos] = string\n",
    "            \n",
    "            if(self.head == -1):\n",
    "                self.head = nextPos\n",
    "            \n",
    "            self.tail = nextPos\n",
    "        \n",
    "    def dequeue(self):\n",
    "        if(self.tail == -1):\n",
    "            print(\"Empty\")\n",
    "        else:\n",
    "            self.count -= 1\n",
    "            value = self.arr[self.head]\n",
    "            self.arr[self.head] = \"\"\n",
    "\n",
    "            if(self.head == self.tail):\n",
    "                self.head = -1\n",
    "                self.tail = -1\n",
    "\n",
    "            else:\n",
    "                self.head = (self.head+1)%self.size\n",
    "            \n",
    "            return value\n",
    "\n",
    "    def display_raw_array(self):\n",
    "        print(\"Fixed array contents:\")\n",
    "        print(self.arr)\n",
    "        print()\n",
    "        print()\n",
    "                \n",
    "# Driver program\n",
    "ob = CircularQueue(5)\n",
    "print(\"(1) Enqueue Participant_A, Participant_B, Participant_C, Participant_D.\")\n",
    "\n",
    "print()\n",
    "\n",
    "return_value = ob.enqueue(\"Participant_A\")\n",
    "if return_value == \"Cannot enqueue: Queue is full.\": print(return_value)\n",
    "return_value = ob.enqueue(\"Participant_B\")\n",
    "if return_value == \"Cannot enqueue: Queue is full.\": print(return_value)\n",
    "return_value = ob.enqueue(\"Participant_C\")\n",
    "if return_value == \"Cannot enqueue: Queue is full.\": print(return_value)\n",
    "return_value = ob.enqueue(\"Participant_D\")\n",
    "if return_value == \"Cannot enqueue: Queue is full.\": print(return_value)\n",
    "ob.display_raw_array()\n",
    "\n",
    "print (\"(2.1) Deleted value = \", ob.dequeue())\n",
    "print (\"(2.2) Deleted value = \", ob.dequeue())\n",
    "ob.display_raw_array()\n",
    "\n",
    "print(\"(3) Enqueue Participant_E, Participant_F, Participant_G.\")\n",
    "print()\n",
    "return_value = ob.enqueue(\"Participant_E\")\n",
    "if return_value == \"Cannot enqueue: Queue is full.\": print(return_value)\n",
    "return_value = ob.enqueue(\"Participant_F\")\n",
    "if return_value == \"Cannot enqueue: Queue is full.\": print(return_value)\n",
    "return_value = ob.enqueue(\"Participant_G\")\n",
    "if return_value == \"Cannot enqueue: Queue is full.\": print(return_value)\n",
    "ob.display_raw_array()\n",
    "\n",
    "print(\"(4) Enqueue Participant_H.\")\n",
    "print()\n",
    "return_value = ob.enqueue(\"Participant_H\")\n",
    "if return_value == \"Cannot enqueue: Queue is full.\": print(return_value)\n",
    "ob.display_raw_array()\n"
   ]
  },
  {
   "cell_type": "code",
   "execution_count": 31,
   "metadata": {},
   "outputs": [
    {
     "name": "stdout",
     "output_type": "stream",
     "text": [
      "100\n",
      "Platform full at 6:25 PM\n"
     ]
    }
   ],
   "source": [
    "def simulate(filename, threshold):\n",
    "    with open(filename) as fs:\n",
    "        data = fs.read().split(\"\\n\")\n",
    "        \n",
    "    exit = [data[0].split(\",\")[-1]]\n",
    "    currTime = data[0].split(\",\")[-2]\n",
    "    endTime = currTime\n",
    "    idx = 1\n",
    "    rv = None\n",
    "    \n",
    "    CQ = CircularQueue(threshold)\n",
    "    CQ.enqueue(data[0])\n",
    "    \n",
    "    while(rv != \"Cannot enqueue: Queue is full.\" and idx < len(data)):\n",
    "\n",
    "        nextPerson = data[idx]\n",
    "        entryTime = nextPerson.split(\",\")[-2]\n",
    "        exitTime = nextPerson.split(\",\")[-1]\n",
    "        \n",
    "        if(entryTime == currTime):\n",
    "            rv = CQ.enqueue(nextPerson)\n",
    "            exit.append(exitTime)\n",
    "                \n",
    "        else:\n",
    "            if(entryTime > exit[0]):\n",
    "                currTime = exit[0]\n",
    "\n",
    "            while(len(exit) > 0 and exit[0] == currTime):\n",
    "                exit.pop(0)\n",
    "                CQ.dequeue()\n",
    "            \n",
    "            currTime = entryTime\n",
    "            rv = CQ.enqueue(nextPerson)\n",
    "            exit.append(exitTime)\n",
    "        \n",
    "        idx += 1\n",
    "            \n",
    "            \n",
    "    if(rv == \"Cannot enqueue: Queue is full.\"):\n",
    "        print(f\"Platform full at {currTime}\" )\n",
    "        \n",
    "        \n",
    "simulate(\"./data files/marching.csv\", 530)"
   ]
  },
  {
   "cell_type": "code",
   "execution_count": 7,
   "metadata": {},
   "outputs": [
    {
     "data": {
      "text/plain": [
       "True"
      ]
     },
     "execution_count": 7,
     "metadata": {},
     "output_type": "execute_result"
    }
   ],
   "source": [
    "\"6:10 PM\" < \"6:11 PM\""
   ]
  },
  {
   "cell_type": "code",
   "execution_count": null,
   "metadata": {},
   "outputs": [],
   "source": [
    "\n",
    "\n",
    "\n"
   ]
  }
 ],
 "metadata": {
  "kernelspec": {
   "display_name": "Python 3",
   "language": "python",
   "name": "python3"
  },
  "language_info": {
   "codemirror_mode": {
    "name": "ipython",
    "version": 3
   },
   "file_extension": ".py",
   "mimetype": "text/x-python",
   "name": "python",
   "nbconvert_exporter": "python",
   "pygments_lexer": "ipython3",
   "version": "3.6.4"
  },
  "vscode": {
   "interpreter": {
    "hash": "79b5e9c4981b2ed0fae48cae49f290910e4ab927bd3333490b62cb47eeb76658"
   }
  }
 },
 "nbformat": 4,
 "nbformat_minor": 2
}

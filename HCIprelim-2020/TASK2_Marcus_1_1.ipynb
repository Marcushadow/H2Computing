{
 "cells": [
  {
   "cell_type": "code",
   "execution_count": 3,
   "metadata": {},
   "outputs": [
    {
     "data": {
      "text/plain": [
       "14"
      ]
     },
     "execution_count": 3,
     "metadata": {},
     "output_type": "execute_result"
    }
   ],
   "source": [
    "#Task 2.1\n",
    "\n",
    "\n",
    "def HashKey(Country):\n",
    "    text = Country.lower()\n",
    "    totalAscii = 0\n",
    "    for character in text:\n",
    "        totalAscii += ord(character)\n",
    "    \n",
    "    return totalAscii%30\n",
    "\n",
    "HashKey(\"Brazil\")"
   ]
  },
  {
   "cell_type": "code",
   "execution_count": 9,
   "metadata": {},
   "outputs": [
    {
     "name": "stdout",
     "output_type": "stream",
     "text": [
      "Hash Table is full!\n",
      "Hash Table is full!\n",
      "Hash Table is full!\n",
      "Hash Table is full!\n",
      "Hash Table is full!\n"
     ]
    }
   ],
   "source": [
    "#Task 2.2\n",
    "\n",
    "hashTable = [''] * 30\n",
    "\n",
    "\n",
    "with open(\"COUNTRY1.TXT\") as fs:\n",
    "    data = fs.read().strip(\"\\n\").split(\"\\n\")\n",
    "\n",
    "for country in data:\n",
    "    index = HashKey(country)\n",
    "    if(hashTable[index] == ''):\n",
    "        hashTable[index] = country\n",
    "    else:\n",
    "        probe = (index+1)%30\n",
    "        while(probe != index and hashTable[probe] != ''):\n",
    "            probe = (probe+1)%30\n",
    "        \n",
    "        if(probe != index):\n",
    "            hashTable[probe] = country\n",
    "        \n",
    "        else:\n",
    "            print(\"Hash Table is full!\")\n",
    "\n"
   ]
  },
  {
   "cell_type": "code",
   "execution_count": 11,
   "metadata": {},
   "outputs": [],
   "source": [
    "# Task 2.3 \n",
    "\n",
    "def SearchCountry(Country, HashTable):\n",
    "    location = HashKey(Country)\n",
    "\n",
    "    if(HashTable[location] == Country):\n",
    "        print(f\"Found at {location} \")\n",
    "    \n",
    "    else:\n",
    "        probe = (location+1)%30\n",
    "        while(probe != location and HashTable[probe] != Country):\n",
    "            probe = (probe+1)%30\n",
    "        \n",
    "        if(probe == location):\n",
    "            print(\"Not Found\")\n",
    "        \n",
    "        else:\n",
    "            print(f\"Found at {probe} \")"
   ]
  },
  {
   "cell_type": "code",
   "execution_count": 16,
   "metadata": {},
   "outputs": [
    {
     "name": "stdout",
     "output_type": "stream",
     "text": [
      "Found at 15 \n",
      "Found at 29 \n",
      "Not Found\n"
     ]
    }
   ],
   "source": [
    "SearchCountry(\"Brazil\", hashTable)\n",
    "SearchCountry(\"USA\", hashTable)\n",
    "SearchCountry(\"Nicaragua\", hashTable)"
   ]
  },
  {
   "cell_type": "code",
   "execution_count": 21,
   "metadata": {},
   "outputs": [],
   "source": [
    "#Task 2.4\n",
    "\n",
    "deathRateArray = []\n",
    "\n",
    "with open(\"COUNTRY2.txt\") as fs:\n",
    "    data = fs.read().strip(\"\\n\").split(\"\\n\")\n",
    "    \n",
    "    for entry in data:\n",
    "        contents = entry.split(\",\")\n",
    "        deathRateArray.append((contents[0], (int(contents[2])/ int(contents[1]))))\n",
    "\n",
    "for i in range(len(deathRateArray)):\n",
    "    for j in range(len(deathRateArray) - i - 1):\n",
    "        if(deathRateArray[j][1] > deathRateArray[j+1][1]):\n",
    "            deathRateArray[j] , deathRateArray[j+1] = deathRateArray[j+1] , deathRateArray[j]\n",
    "\n",
    "with open(\"RATE.TXT\", \"a\") as fs:\n",
    "    for country in deathRateArray:\n",
    "        fs.write(f\"{country[0]},{country[1]}\\n\")\n",
    "\n",
    "\n",
    "\n"
   ]
  },
  {
   "cell_type": "code",
   "execution_count": null,
   "metadata": {},
   "outputs": [],
   "source": []
  }
 ],
 "metadata": {
  "kernelspec": {
   "display_name": "Python 3.8.7 64-bit",
   "language": "python",
   "name": "python3"
  },
  "language_info": {
   "codemirror_mode": {
    "name": "ipython",
    "version": 3
   },
   "file_extension": ".py",
   "mimetype": "text/x-python",
   "name": "python",
   "nbconvert_exporter": "python",
   "pygments_lexer": "ipython3",
   "version": "3.8.7"
  },
  "orig_nbformat": 4,
  "vscode": {
   "interpreter": {
    "hash": "79b5e9c4981b2ed0fae48cae49f290910e4ab927bd3333490b62cb47eeb76658"
   }
  }
 },
 "nbformat": 4,
 "nbformat_minor": 2
}

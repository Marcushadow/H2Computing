{
 "cells": [
  {
   "cell_type": "code",
   "execution_count": null,
   "metadata": {},
   "outputs": [
    {
     "name": "stderr",
     "output_type": "stream",
     "text": [
      " * Running on http://127.0.0.1:5000/ (Press CTRL+C to quit)\n",
      "127.0.0.1 - - [20/Aug/2022 18:20:14] \"\u001b[37mGET /viewFiles HTTP/1.1\u001b[0m\" 200 -\n"
     ]
    }
   ],
   "source": [
    "import flask, sqlite3, os\n",
    "\n",
    "from flask import send_from_directory, render_template, request\n",
    "from werkzeug.utils import secure_filename\n",
    "\n",
    "app = flask.Flask(__name__, template_folder=\"./Task4_4/templates\")\n",
    "\n",
    "\n",
    "@app.route(\"/\")\n",
    "def main():\n",
    "    return render_template(\"index.html\")\n",
    "\n",
    "@app.route(\"/synthesised\", methods=[\"POST\"])\n",
    "def synthesis():\n",
    "    if request.method == \"POST\":\n",
    "        if(request.files and request.files['myfile']):\n",
    "            file = request.files['myfile']\n",
    "            name = request.form.get('assoc')\n",
    "            \n",
    "            filename = secure_filename(file.filename)\n",
    "            saveDirectory = os.path.join(\"Task4_4\", \"templates\", filename)\n",
    "            file.save(saveDirectory)\n",
    "            \n",
    "            client = sqlite3.connect(\"save.db\")\n",
    "            curr = client.execute(\"INSERT INTO Image(Name, FileDir) VALUES (?,?)\", (name,filename))\n",
    "            \n",
    "            client.commit()\n",
    "            client.close()\n",
    "            \n",
    "            \n",
    "    return render_template(\"index.html\")\n",
    "            \n",
    "    \n",
    "@app.route(\"/viewFiles\")\n",
    "def seeFiles():\n",
    "    client = sqlite3.connect(\"save.db\")\n",
    "    curr = client.execute(\"SELECT Name, FileDir FROM Image\")\n",
    "\n",
    "    attr = list(curr)\n",
    "    client.close()\n",
    "    \n",
    "    return render_template(\"output.html\", attr = attr)\n",
    "\n",
    "@app.route(\"/img/<filename>\")\n",
    "def getFile(filename):\n",
    "    return send_from_directory(\"Task4_4/templates\", filename)\n",
    "\n",
    "if __name__ == \"__main__\":\n",
    "    app.run()\n",
    "            \n",
    "            \n",
    "            \n",
    "            \n",
    "            "
   ]
  },
  {
   "cell_type": "code",
   "execution_count": null,
   "metadata": {},
   "outputs": [],
   "source": []
  }
 ],
 "metadata": {
  "kernelspec": {
   "display_name": "Python 3",
   "language": "python",
   "name": "python3"
  },
  "language_info": {
   "codemirror_mode": {
    "name": "ipython",
    "version": 3
   },
   "file_extension": ".py",
   "mimetype": "text/x-python",
   "name": "python",
   "nbconvert_exporter": "python",
   "pygments_lexer": "ipython3",
   "version": "3.6.4"
  }
 },
 "nbformat": 4,
 "nbformat_minor": 2
}

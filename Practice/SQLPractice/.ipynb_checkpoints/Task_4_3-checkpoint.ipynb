{
 "cells": [
  {
   "cell_type": "code",
   "execution_count": null,
   "metadata": {},
   "outputs": [],
   "source": []
  },
  {
   "cell_type": "code",
   "execution_count": 4,
   "metadata": {},
   "outputs": [],
   "source": [
    "class Book:\n",
    "    def __init__(self, title, price):\n",
    "        self.title = title\n",
    "        self.price = price\n",
    "    \n",
    "class Cart:\n",
    "    def __init__(self):\n",
    "#         self.items will store Book objects\n",
    "        self.items = []\n",
    "    \n",
    "    def total_price(self):\n",
    "        sumPrice = 0\n",
    "        for item in self.items:\n",
    "            sumPrice += item.price\n",
    "        \n",
    "        return sumPrice\n",
    "    \n",
    "class PrintedBook(Book):\n",
    "    def __init__(self, title, price, weight):\n",
    "        super().__init__(title, price)\n",
    "        self.weight = weight\n",
    "        \n",
    "class VirtualBook(Book):\n",
    "    def __init__(self, title, price, downloadLink):\n",
    "        super().__init__(title, price)\n",
    "        self.download_link = downloadLink"
   ]
  },
  {
   "cell_type": "code",
   "execution_count": 9,
   "metadata": {},
   "outputs": [
    {
     "name": "stderr",
     "output_type": "stream",
     "text": [
      " * Running on http://127.0.0.1:5000/ (Press CTRL+C to quit)\n",
      "127.0.0.1 - - [17/Aug/2022 22:07:00] \"\u001b[37mPOST / HTTP/1.1\u001b[0m\" 200 -\n"
     ]
    }
   ],
   "source": [
    "import flask, sqlite3\n",
    "from flask import render_template, request\n",
    "\n",
    "app = flask.Flask(__name__, template_folder = \"./TASK4_3_Marcus_1_1/templates\")\n",
    "cart = Cart()\n",
    "\n",
    "\n",
    "\n",
    "@app.route(\"/\", methods = [\"GET\", \"POST\"])\n",
    "def main():\n",
    "    if(request.method == \"GET\"):\n",
    "        client = sqlite3.connect(\"bookstore.db\")\n",
    "        curr = client.execute(\"SELECT BookID, Title, Price FROM Book\")\n",
    "        attr = list(curr)\n",
    "        client.close()\n",
    "\n",
    "        return render_template(\"index.html\", attr = attr)\n",
    "    \n",
    "    elif(request.method == \"POST\"):\n",
    "        BookID = request.form.get(\"id\")\n",
    "        \n",
    "        client = sqlite3.connect(\"bookstore.db\")\n",
    "        curr = client.execute(\"SELECT BookID, Title, Price, Type FROM Book\")\n",
    "        attr = list(curr)[0]\n",
    "        if(attr[3] == \"Physical\"):\n",
    "            curr = client.execute(\"SELECT Weight FROM Printed WHERE BookID = ?\", (attr[0],))\n",
    "            nAttr = list(curr)[0]\n",
    "            newInstance = PrintedBook(attr[0], attr[1], nAttr[0])\n",
    "            cart.items.append(newInstance)\n",
    "        else:\n",
    "            curr = client.execute(\"SELECT DownloadLink FROM Virtual WHERE BookID = ?\", (attr[0],))\n",
    "            nAttr = list(curr)[0]\n",
    "            newInstance = VirtualBook(attr[0], attr[1], nAttr[0])\n",
    "            cart.items.append(newInstance)\n",
    "        \n",
    "        client = sqlite3.connect(\"bookstore.db\")\n",
    "        curr = client.execute(\"SELECT BookID, Title, Price FROM Book\")\n",
    "        attr = list(curr)\n",
    "        client.close()\n",
    "\n",
    "        return render_template(\"index.html\", attr = attr)\n",
    "        \n",
    "    return render_template(\"index.html\")\n",
    "\n",
    "\n",
    "@app.route(\"/cart\")\n",
    "def seeCart():\n",
    "    return render_template(\"cart.html\", attr = cart.items)\n",
    "\n",
    "if __name__ == \"__main__\":\n",
    "    app.run()\n",
    "\n",
    "\n"
   ]
  },
  {
   "cell_type": "code",
   "execution_count": null,
   "metadata": {},
   "outputs": [],
   "source": []
  }
 ],
 "metadata": {
  "kernelspec": {
   "display_name": "Python 3",
   "language": "python",
   "name": "python3"
  },
  "language_info": {
   "codemirror_mode": {
    "name": "ipython",
    "version": 3
   },
   "file_extension": ".py",
   "mimetype": "text/x-python",
   "name": "python",
   "nbconvert_exporter": "python",
   "pygments_lexer": "ipython3",
   "version": "3.6.4"
  }
 },
 "nbformat": 4,
 "nbformat_minor": 2
}

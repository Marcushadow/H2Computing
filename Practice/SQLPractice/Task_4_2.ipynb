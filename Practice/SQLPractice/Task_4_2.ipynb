{
 "cells": [
  {
   "cell_type": "code",
   "execution_count": 1,
   "metadata": {},
   "outputs": [],
   "source": [
    "class Book:\n",
    "    def __init__(self, title, price):\n",
    "        self.title = title\n",
    "        self.price = price\n",
    "    \n",
    "class Cart:\n",
    "    def __init__(self):\n",
    "#         self.items will store Book objects\n",
    "        self.items = []\n",
    "    \n",
    "    def total_price(self):\n",
    "        sumPrice = 0\n",
    "        for item in self.items:\n",
    "            sumPrice += item.price\n",
    "        \n",
    "        return sumPrice\n",
    "    \n",
    "class PrintedBook(Book):\n",
    "    def __init__(self, title, price, weight):\n",
    "        super().__init__(title, price)\n",
    "        self.weight = weight\n",
    "        \n",
    "class VirtualBook(Book):\n",
    "    def __init__(self, title, price, downloadLink):\n",
    "        super().__init__(title, price)\n",
    "        self.download_link = downloadLink\n"
   ]
  },
  {
   "cell_type": "code",
   "execution_count": 3,
   "metadata": {},
   "outputs": [],
   "source": [
    "with open(\"bookstore.txt\") as fs:\n",
    "    data = fs.read().strip(\"\\n\").split(\"\\n\")\n",
    "    for item in data:\n",
    "        row = item.split(\",\")\n",
    "        if(row[2] == \"Physical\"):\n",
    "            newPrinted = PrintedBook(row[0], float(row[1]), int(row[3]))\n",
    "        \n",
    "        elif(row[2] == \"Virtual\"):\n",
    "            newVirtual = VirtualBook(row[0], float(row[1]), row[4])"
   ]
  },
  {
   "cell_type": "code",
   "execution_count": 9,
   "metadata": {},
   "outputs": [],
   "source": [
    "import sqlite3\n",
    "\n",
    "client = sqlite3.connect(\"bookstore.db\")\n",
    "\n",
    "with open(\"bookstore.txt\") as fs:\n",
    "    data = fs.read().strip(\"\\n\").split(\"\\n\")\n",
    "    for item in data:\n",
    "        row = item.split(\",\")\n",
    "        if(row[2] == \"Physical\"):\n",
    "            nBook = PrintedBook(row[0], float(row[1]), int(row[3]))\n",
    "            client.execute(\"INSERT INTO Book(Title,Price,Type) VALUES (?,?,?)\", (nBook.title, nBook.price, \"Physical\"))\n",
    "            curr = client.execute(\"SELECT BookID FROM Book WHERE Title = ?\", (nBook.title,))\n",
    "            BookID = list(curr)[0][0]\n",
    "            client.execute(\"INSERT INTO Printed(BookID, Weight) VALUES (?,?)\", (BookID, nBook.weight))\n",
    "            \n",
    "        \n",
    "        elif(row[2] == \"Virtual\"):\n",
    "            nBook = VirtualBook(row[0], float(row[1]), row[4])\n",
    "            client.execute(\"INSERT INTO Book(Title,Price,Type) VALUES (?,?,?)\", (nBook.title, nBook.price, \"Virtual\"))\n",
    "            curr = client.execute(\"SELECT BookID FROM Book WHERE Title = ?\", (nBook.title,))\n",
    "            BookID = list(curr)[0][0]\n",
    "            client.execute(\"INSERT INTO Virtual(BookID, DownloadLink) VALUES (?,?)\", (BookID, nBook.download_link))\n",
    "         \n",
    "client.commit()\n",
    "client.close()"
   ]
  },
  {
   "cell_type": "code",
   "execution_count": null,
   "metadata": {},
   "outputs": [],
   "source": []
  }
 ],
 "metadata": {
  "kernelspec": {
   "display_name": "Python 3",
   "language": "python",
   "name": "python3"
  },
  "language_info": {
   "codemirror_mode": {
    "name": "ipython",
    "version": 3
   },
   "file_extension": ".py",
   "mimetype": "text/x-python",
   "name": "python",
   "nbconvert_exporter": "python",
   "pygments_lexer": "ipython3",
   "version": "3.6.4"
  }
 },
 "nbformat": 4,
 "nbformat_minor": 2
}

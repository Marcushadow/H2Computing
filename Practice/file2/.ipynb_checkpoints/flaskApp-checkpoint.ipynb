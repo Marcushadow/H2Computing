{
 "cells": [
  {
   "cell_type": "code",
   "execution_count": null,
   "metadata": {},
   "outputs": [
    {
     "name": "stderr",
     "output_type": "stream",
     "text": [
      " * Running on http://127.0.0.1:5000/ (Press CTRL+C to quit)\n",
      "127.0.0.1 - - [20/Aug/2022 17:42:50] \"\u001b[37mPOST /showResults HTTP/1.1\u001b[0m\" 200 -\n",
      "127.0.0.1 - - [20/Aug/2022 17:42:50] \"\u001b[33mGET /image.jpeg HTTP/1.1\u001b[0m\" 404 -\n"
     ]
    }
   ],
   "source": [
    "import flask\n",
    "\n",
    "from flask import render_template, send_from_directory, request\n",
    "\n",
    "app = flask.Flask(__name__, template_folder=\"./task4_4_Marcus/templates\")\n",
    "\n",
    "@app.route(\"/\")\n",
    "def main():\n",
    "    return render_template(\"index.html\")\n",
    "\n",
    "@app.route(\"/showResults\", methods=[\"POST\"])\n",
    "def synthesis():\n",
    "    if(request.method == \"POST\"):\n",
    "        if(request.files and request.files['myfile']):\n",
    "            file = request.files['myfile']\n",
    "            directory = \"./task4_4_Marcus/templates/image.jpeg\"\n",
    "            file.save(directory)\n",
    "            \n",
    "            \n",
    "        return render_template(\"output.html\", attr=request.form.get('Title'))\n",
    "            \n",
    "            \n",
    "\n",
    "if(__name__ == \"__main__\"):\n",
    "    app.run()"
   ]
  },
  {
   "cell_type": "code",
   "execution_count": null,
   "metadata": {},
   "outputs": [],
   "source": []
  }
 ],
 "metadata": {
  "kernelspec": {
   "display_name": "Python 3",
   "language": "python",
   "name": "python3"
  },
  "language_info": {
   "codemirror_mode": {
    "name": "ipython",
    "version": 3
   },
   "file_extension": ".py",
   "mimetype": "text/x-python",
   "name": "python",
   "nbconvert_exporter": "python",
   "pygments_lexer": "ipython3",
   "version": "3.6.4"
  }
 },
 "nbformat": 4,
 "nbformat_minor": 2
}

{
 "cells": [
  {
   "cell_type": "code",
   "execution_count": 3,
   "metadata": {},
   "outputs": [
    {
     "data": {
      "text/plain": [
       "14"
      ]
     },
     "execution_count": 3,
     "metadata": {},
     "output_type": "execute_result"
    }
   ],
   "source": [
    "#Task 2.1\n",
    "\n",
    "def HashKey(Country):\n",
    "    asciiSum = 0\n",
    "    for character in Country.lower():\n",
    "        asciiSum += ord(character)\n",
    "    \n",
    "    return asciiSum%30\n"
   ]
  },
  {
   "cell_type": "code",
   "execution_count": 7,
   "metadata": {},
   "outputs": [
    {
     "name": "stdout",
     "output_type": "stream",
     "text": [
      "35\n",
      "The hash table is full\n",
      "The hash table is full\n",
      "The hash table is full\n",
      "The hash table is full\n",
      "The hash table is full\n"
     ]
    }
   ],
   "source": [
    "#Task 2.2\n",
    "\n",
    "hashTable = []\n",
    "for i in range(30):\n",
    "    hashTable.append(\"\")\n",
    "\n",
    "\n",
    "with open(\"COUNTRY1.TXT\") as fs:\n",
    "    data = fs.read().strip(\"\\n\").split(\"\\n\")\n",
    "    \n",
    "for countryName in data:\n",
    "    hashValue = HashKey(countryName)\n",
    "\n",
    "    if(hashTable[hashValue] == \"\"):\n",
    "        hashTable[hashValue] = countryName\n",
    "    \n",
    "    else:\n",
    "        probe = hashValue\n",
    "        while(hashTable[(probe+1)%30] != \"\" and (probe+1)%30 != hashValue):\n",
    "            probe = (probe+1)%30\n",
    "        \n",
    "        if((probe+1)%30 == hashValue):\n",
    "            print(\"The hash table is full\")\n",
    "        \n",
    "        else:\n",
    "            hashTable[(probe+1)%30] = countryName\n",
    "    "
   ]
  },
  {
   "cell_type": "code",
   "execution_count": 13,
   "metadata": {},
   "outputs": [],
   "source": [
    "# Task 2.3\n",
    "\n",
    "def SearchCountry(Country, HashTable):\n",
    "    hashAddr = HashKey(Country)\n",
    "    \n",
    "    if(hashTable[hashValue] == Country):\n",
    "        print(hashValue)\n",
    "    \n",
    "    else:\n",
    "        probe = hashValue\n",
    "        while(hashTable[(probe+1)%30] != Country and (probe+1)%30 != hashValue):\n",
    "            probe = (probe+1)%30\n",
    "        \n",
    "        if((probe+1)%30 == hashValue):\n",
    "            print(\"Not Found in the Hash Table\")\n",
    "        \n",
    "        else:\n",
    "            print(f\"Found {Country} ({hashValue}) at\", (probe+1)%30)\n",
    "    "
   ]
  },
  {
   "cell_type": "code",
   "execution_count": 14,
   "metadata": {},
   "outputs": [
    {
     "name": "stdout",
     "output_type": "stream",
     "text": [
      "Found USA (13) at 29\n"
     ]
    }
   ],
   "source": [
    "SearchCountry(\"USA\", hashTable)"
   ]
  },
  {
   "cell_type": "code",
   "execution_count": 29,
   "metadata": {},
   "outputs": [],
   "source": [
    "#Task 2.4\n",
    "\n",
    "deathRateList = []\n",
    "\n",
    "with open(\"COUNTRY2.TXT\") as fs:\n",
    "    data = fs.read().strip(\"\\n\").split(\"\\n\")\n",
    "    for countryData in data:\n",
    "        deathCount = int(countryData.split(\",\")[2])\n",
    "        cfmCases = int(countryData.split(\",\")[1])\n",
    "        country = countryData.split(\",\")[0]\n",
    "        deathRate = deathCount/cfmCases\n",
    "        \n",
    "        deathRateList.append((country, deathRate))\n",
    "        \n",
    "for i in range(len(deathRateList)):\n",
    "    for j in range(len(deathRateList) - i -1):\n",
    "        if(deathRateList[j][1] > deathRateList[j+1][1]):\n",
    "            deathRateList[j], deathRateList[j+1] = deathRateList[j+1], deathRateList[j]\n",
    "\n",
    "\n",
    "    \n",
    "with open(\"RATE.TXT\", \"w\") as fs:\n",
    "    for entry in deathRateList:\n",
    "        fs.write(entry[0] + \",\" + str(entry[1]))\n",
    "        fs.write(\"\\n\")\n",
    "\n",
    "    "
   ]
  },
  {
   "cell_type": "code",
   "execution_count": 26,
   "metadata": {},
   "outputs": [
    {
     "name": "stdout",
     "output_type": "stream",
     "text": [
      "[1, 2, 3, 4]\n"
     ]
    }
   ],
   "source": [
    "testArr = [1,4,2,3]\n",
    "\n",
    "for i in range(len(testArr)):\n",
    "    for j in range(len(testArr) - i -1):\n",
    "\n",
    "        if(testArr[j] > testArr[j+1]):\n",
    "   \n",
    "            testArr[j], testArr[j+1] = testArr[j+1], testArr[j]\n",
    "        \n",
    "\n",
    "            \n",
    "            \n",
    "\n",
    "print(testArr)"
   ]
  },
  {
   "cell_type": "code",
   "execution_count": null,
   "metadata": {},
   "outputs": [],
   "source": []
  }
 ],
 "metadata": {
  "kernelspec": {
   "display_name": "Python 3",
   "language": "python",
   "name": "python3"
  },
  "language_info": {
   "codemirror_mode": {
    "name": "ipython",
    "version": 3
   },
   "file_extension": ".py",
   "mimetype": "text/x-python",
   "name": "python",
   "nbconvert_exporter": "python",
   "pygments_lexer": "ipython3",
   "version": "3.6.4"
  }
 },
 "nbformat": 4,
 "nbformat_minor": 2
}

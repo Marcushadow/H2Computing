{
 "cells": [
  {
   "cell_type": "code",
   "execution_count": 7,
   "metadata": {},
   "outputs": [
    {
     "name": "stdout",
     "output_type": "stream",
     "text": [
      "Highest # cases 1426 is on 2004 May 2020,\n",
      "Highest # cases 447 is on 1504 May 2020,0205 June 2020,"
     ]
    }
   ],
   "source": [
    "#Task 1.1\n",
    "\n",
    "dateCaseDict = {}\n",
    "newCasesDict = {}\n",
    "\n",
    "with open(\"COVID19.txt\") as fs:\n",
    "    data = fs.read().strip(\"\\n\").split(\"\\n\")\n",
    "    prevCount = -1\n",
    "    for item in data:\n",
    "        info = item.split(\",\")\n",
    "        dateCaseDict[info[0]] = int(info[1])\n",
    "        \n",
    "        if prevCount == -1:\n",
    "            prevCount = int(info[1])\n",
    "        \n",
    "        else:\n",
    "            newCasesDict[info[0]] = int(info[1]) - prevCount\n",
    "            prevCount = int(info[1])\n",
    "            \n",
    "\n",
    "hiDates = []\n",
    "hiCount = -1\n",
    "lowDates = []\n",
    "lowCount = -1\n",
    "\n",
    "\n",
    "for key in newCasesDict.keys():\n",
    "    if(newCasesDict[key] > hiCount):\n",
    "        hiCount = newCasesDict[key]\n",
    "        hiDates = [key]\n",
    "    \n",
    "    elif(newCasesDict[key] == hiCount):\n",
    "        hiDates.append(key)\n",
    "    \n",
    "    if(newCasesDict[key] < lowCount or lowCount == -1):\n",
    "        lowCount = newCasesDict[key]\n",
    "        lowDates = [key]\n",
    "    \n",
    "    elif(newCasesDict[key] == lowCount):\n",
    "        lowDates.append(key)\n",
    "        \n",
    "    \n",
    "months = [\"January\", \"February\", \"March\", \"April\", \"May\", \"June\", \"July\", \"August\", \"September\", \"October\", \"November\", \"December\"]    \n",
    "\n",
    "print(f\"Highest # cases {hiCount} is on\", end = \" \") \n",
    "\n",
    "for item in hiDates:\n",
    "    day = str(int(item[:2]))\n",
    "    month = int(item[2:])\n",
    "    \n",
    "    print(item + \" \" + months[month] + \" 2020\", end = \",\")\n",
    "\n",
    "print()\n",
    "print(f\"Highest # cases {lowCount} is on\", end = \" \") \n",
    "        \n",
    "for item in lowDates:\n",
    "    day = str(int(item[:2]))\n",
    "    month = int(item[2:])\n",
    "    \n",
    "    print(item + \" \" + months[month] + \" 2020\", end = \",\")\n"
   ]
  },
  {
   "cell_type": "code",
   "execution_count": 10,
   "metadata": {},
   "outputs": [
    {
     "name": "stdout",
     "output_type": "stream",
     "text": [
      "Longest ascending streak is 3 days\n"
     ]
    }
   ],
   "source": [
    "longestStreak = 0\n",
    "currStreak = 0\n",
    "prev = -1\n",
    "\n",
    "for key in newCasesDict.keys():\n",
    "    if(newCasesDict[key] > prev):\n",
    "        currStreak += 1\n",
    "        if(currStreak > longestStreak):\n",
    "            longestStreak = currStreak\n",
    "            \n",
    "    else:\n",
    "        currStreak = 1\n",
    "    \n",
    "    prev = newCasesDict[key]\n",
    "        \n",
    "    \n",
    "print(f\"Longest ascending streak is {longestStreak} days\")\n",
    "    \n",
    "    "
   ]
  },
  {
   "cell_type": "code",
   "execution_count": null,
   "metadata": {},
   "outputs": [],
   "source": []
  }
 ],
 "metadata": {
  "kernelspec": {
   "display_name": "Python 3",
   "language": "python",
   "name": "python3"
  },
  "language_info": {
   "codemirror_mode": {
    "name": "ipython",
    "version": 3
   },
   "file_extension": ".py",
   "mimetype": "text/x-python",
   "name": "python",
   "nbconvert_exporter": "python",
   "pygments_lexer": "ipython3",
   "version": "3.6.4"
  }
 },
 "nbformat": 4,
 "nbformat_minor": 2
}

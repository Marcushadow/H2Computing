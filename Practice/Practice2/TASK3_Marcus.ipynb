{
 "cells": [
  {
   "cell_type": "code",
   "execution_count": 1,
   "metadata": {},
   "outputs": [],
   "source": [
    "import sqlite3\n",
    "\n",
    "conn = sqlite3.connect(\"bakery.db\")\n",
    "\n",
    "with open(\"CAKES.TXT\") as fs:\n",
    "    data = fs.read().strip(\"\\n\").split(\"\\n\")\n",
    "    \n",
    "    for product in data:\n",
    "        params = product.split(\",\")\n",
    "        ProductCode, Name, Location, Price, ServingSize, Shape  = params\n",
    "        Price = float(Price)\n",
    "        ServingSize = int(ServingSize)\n",
    "        \n",
    "        curr = conn.execute(\"INSERT INTO Product(ProductCode, Name, Type, Location, Price) VALUES (?,?,'Cake',?,?)\", (ProductCode, Name, Location, Price))\n",
    "        curr = conn.execute(\"INSERT INTO Cake(ProductCode, ServingSize, Shape) VALUES (?,?,?)\",(ProductCode, ServingSize, Shape))\n",
    "\n",
    "with open(\"LOAVES.TXT\") as fs:\n",
    "    data = fs.read().strip(\"\\n\").split(\"\\n\")\n",
    "    \n",
    "    for product in data:\n",
    "        params = product.split(\",\")\n",
    "        ProductCode, Name, Location, Price, Weight  = params\n",
    "        Price = float(Price)\n",
    "        Weight = float(Weight)\n",
    "        \n",
    "        curr = conn.execute(\"INSERT INTO Product(ProductCode, Name, Type, Location, Price) VALUES (?,?,'Loaf',?,?)\", (ProductCode, Name, Location, Price))\n",
    "        curr = conn.execute(\"INSERT INTO Loaf(ProductCode, Weight) VALUES (?,?)\", (ProductCode, Weight))\n",
    "        \n",
    "with open(\"BUNS.TXT\") as fs:\n",
    "    data = fs.read().strip(\"\\n\").split(\"\\n\")\n",
    "    \n",
    "    for product in data:\n",
    "        params = product.split(\",\")\n",
    "        ProductCode, Name, Location, Price, PiecesPerPackage  = params\n",
    "        Price = float(Price)\n",
    "        PiecePerPackage = int(PiecesPerPackage)\n",
    "        \n",
    "        curr = conn.execute(\"INSERT INTO Product(ProductCode, Name, Type, Location, Price) VALUES (?,?,'Bun',?,?)\", (ProductCode, Name, Location, Price))\n",
    "        curr = conn.execute(\"INSERT INTO Bun(ProductCode, PiecesPerPackage) VALUES (?,?)\", (ProductCode, PiecesPerPackage))\n",
    "    \n",
    "conn.commit()\n",
    "\n",
    "conn.close()"
   ]
  },
  {
   "cell_type": "code",
   "execution_count": null,
   "metadata": {},
   "outputs": [
    {
     "name": "stderr",
     "output_type": "stream",
     "text": [
      " * Running on http://127.0.0.1:5000/ (Press CTRL+C to quit)\n",
      "127.0.0.1 - - [09/Aug/2022 00:22:33] \"\u001b[37mGET / HTTP/1.1\u001b[0m\" 200 -\n",
      "127.0.0.1 - - [09/Aug/2022 00:22:38] \"\u001b[37mPOST /process HTTP/1.1\u001b[0m\" 200 -\n",
      "127.0.0.1 - - [09/Aug/2022 00:22:48] \"\u001b[37mPOST /process HTTP/1.1\u001b[0m\" 200 -\n"
     ]
    }
   ],
   "source": [
    "import flask, sqlite3\n",
    "from flask import render_template, redirect, request\n",
    "\n",
    "app = flask.Flask(__name__, template_folder=\"./Task3_4_Marcus_1_1/templates\")\n",
    "\n",
    "@app.route(\"/\")\n",
    "def main():\n",
    "    return render_template(\"index.html\")\n",
    "\n",
    "@app.route(\"/process\", methods = [\"POST\"])\n",
    "def synthesis():\n",
    "    if request.method == \"POST\":\n",
    "        data = request.form[\"location\"]\n",
    "        \n",
    "        conn = sqlite3.connect(\"bakery.db\")\n",
    "        curr = conn.execute(\"SELECT Name, Type, Price FROM Product WHERE Location = ? ORDER BY Price ASC\", (data,))\n",
    "        \n",
    "        toSend = list(curr)\n",
    "        conn.close()\n",
    "        \n",
    "        \n",
    "        return render_template(\"display.html\", attr=toSend)\n",
    "\n",
    "if __name__ == \"__main__\":\n",
    "    app.run()\n",
    "\n",
    "\n"
   ]
  },
  {
   "cell_type": "code",
   "execution_count": null,
   "metadata": {},
   "outputs": [],
   "source": []
  }
 ],
 "metadata": {
  "kernelspec": {
   "display_name": "Python 3",
   "language": "python",
   "name": "python3"
  },
  "language_info": {
   "codemirror_mode": {
    "name": "ipython",
    "version": 3
   },
   "file_extension": ".py",
   "mimetype": "text/x-python",
   "name": "python",
   "nbconvert_exporter": "python",
   "pygments_lexer": "ipython3",
   "version": "3.6.4"
  }
 },
 "nbformat": 4,
 "nbformat_minor": 2
}

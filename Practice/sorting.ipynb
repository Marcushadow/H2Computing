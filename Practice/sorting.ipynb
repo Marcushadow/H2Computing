{
 "cells": [
  {
   "cell_type": "code",
   "execution_count": 19,
   "metadata": {},
   "outputs": [],
   "source": [
    "def mergeSort(arr, left = -1, right = -1):\n",
    "    if(left == right == -1):\n",
    "        left = 0\n",
    "        right = len(arr)-1\n",
    "        \n",
    "    if(left < right):\n",
    "        mid = (left+right)//2\n",
    "        mergeSort(arr, left, mid)\n",
    "        mergeSort(arr, mid+1, right)\n",
    "        merge(arr, left, mid, right)\n",
    "\n",
    "def merge(arr, left, mid, right):\n",
    "\n",
    "    leftArr = arr[left: mid+1]\n",
    "    rightArr = arr[mid+1: right+1]\n",
    "\n",
    "\n",
    "    # print(leftArr, rightArr)\n",
    "    i = left\n",
    "    while(len(leftArr) != 0 or len(rightArr) != 0):\n",
    "\n",
    "        if(len(leftArr) == 0 or (len(rightArr) != 0 and rightArr[0] < leftArr[0])):\n",
    "           \n",
    "            arr[i] = rightArr[0]\n",
    "            rightArr.pop(0)\n",
    "\n",
    "        else:\n",
    "\n",
    "            arr[i] = leftArr[0]\n",
    "            leftArr.pop(0)\n",
    "        i += 1\n",
    "        "
   ]
  },
  {
   "cell_type": "code",
   "execution_count": 20,
   "metadata": {},
   "outputs": [
    {
     "name": "stdout",
     "output_type": "stream",
     "text": [
      "[1] [2]\n",
      "[4] [3]\n",
      "[1, 2] [3, 4]\n",
      "[1, 2, 3, 4]\n"
     ]
    }
   ],
   "source": [
    "test = [1,2,4,3]\n",
    "\n",
    "mergeSort(test)\n",
    "    \n",
    "print(test)"
   ]
  },
  {
   "cell_type": "code",
   "execution_count": 25,
   "metadata": {},
   "outputs": [],
   "source": [
    "\n",
    "def mergeSortIN(arr, left = -1, right = -1):\n",
    "    if(left == right == -1):\n",
    "        left = 0\n",
    "        right = len(arr)-1\n",
    "\n",
    "    if(left < right):\n",
    "        mid = (left + right)//2\n",
    "        mergeSortIN(arr, left, mid)\n",
    "        mergeSortIN(arr,mid+1, right)\n",
    "        mergeIN(arr, left, mid, right)\n",
    "\n",
    "def mergeIN(arr, left, mid, right):\n",
    "    l = left\n",
    "    lend = mid\n",
    "    r = mid+1\n",
    "    rend = right\n",
    "\n",
    "    while((l <= lend) and (r <= rend)):\n",
    "        if(arr[l] <= arr[r]):\n",
    "            l += 1\n",
    "\n",
    "        else:\n",
    "            val = arr[r]\n",
    "            for i in range(r, l, -1):\n",
    "                arr[i] = arr[i-1]\n",
    "            \n",
    "            arr[l] = val\n",
    "            l+= 1\n",
    "            lend+= 1\n",
    "            r += 1\n",
    "\n"
   ]
  },
  {
   "cell_type": "code",
   "execution_count": 26,
   "metadata": {},
   "outputs": [
    {
     "name": "stdout",
     "output_type": "stream",
     "text": [
      "[1, 2, 3, 4]\n"
     ]
    }
   ],
   "source": [
    "test = [1,2,4,3]\n",
    "\n",
    "mergeSortIN(test)\n",
    "    \n",
    "print(test)"
   ]
  },
  {
   "cell_type": "code",
   "execution_count": 32,
   "metadata": {},
   "outputs": [],
   "source": [
    "def insertSort(arr):\n",
    "    for i in range(1, len(arr)):\n",
    "        insertValue = arr[i]\n",
    "        insertPosition = i\n",
    "        while(0 < insertPosition and arr[insertPosition-1] > insertValue):\n",
    "            arr[insertPosition] = arr[insertPosition-1]\n",
    "            insertPosition -= 1\n",
    "        arr[insertPosition] = insertValue"
   ]
  },
  {
   "cell_type": "code",
   "execution_count": 33,
   "metadata": {},
   "outputs": [
    {
     "name": "stdout",
     "output_type": "stream",
     "text": [
      "[1, 2, 3, 4]\n"
     ]
    }
   ],
   "source": [
    "test = [1,2,4,3]\n",
    "\n",
    "insertSort(test)\n",
    "    \n",
    "print(test)"
   ]
  },
  {
   "cell_type": "code",
   "execution_count": null,
   "metadata": {},
   "outputs": [],
   "source": []
  }
 ],
 "metadata": {
  "kernelspec": {
   "display_name": "Python 3.8.7 64-bit",
   "language": "python",
   "name": "python3"
  },
  "language_info": {
   "codemirror_mode": {
    "name": "ipython",
    "version": 3
   },
   "file_extension": ".py",
   "mimetype": "text/x-python",
   "name": "python",
   "nbconvert_exporter": "python",
   "pygments_lexer": "ipython3",
   "version": "3.8.7"
  },
  "orig_nbformat": 4,
  "vscode": {
   "interpreter": {
    "hash": "79b5e9c4981b2ed0fae48cae49f290910e4ab927bd3333490b62cb47eeb76658"
   }
  }
 },
 "nbformat": 4,
 "nbformat_minor": 2
}

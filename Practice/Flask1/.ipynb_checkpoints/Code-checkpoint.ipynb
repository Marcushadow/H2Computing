{
 "cells": [
  {
   "cell_type": "code",
   "execution_count": 9,
   "metadata": {},
   "outputs": [
    {
     "name": "stdout",
     "output_type": "stream",
     "text": [
      "['54.36.149.41', '22/Jan/2021', '200', 'WA']\n",
      "['188.226.164.216', '22/Jan/2021', '0', 'FB']\n",
      "['92783423', '22/Jan/2021', '200']\n",
      "['188.226.164.216', '23/Jan/2021', '0', 'FB']\n",
      "['88188293', '23/Jan/2021', '0']\n"
     ]
    }
   ],
   "source": [
    "\n",
    "import sqlite3\n",
    "\n",
    "\n",
    "class ServiceRecord:\n",
    "\n",
    "    def __init__(self, Sender, AccessDate, Status, AppType = \"\"):\n",
    "        self.Sender = Sender\n",
    "        self.AccessDate = AccessDate\n",
    "        self.Status = Status\n",
    "        self.AppType = AppType\n",
    "   \n",
    "    def isSuccess(self):\n",
    "        return self.Status == 200\n",
    "       \n",
    "    def getAppType(self):\n",
    "        return self.AppType\n",
    "        \n",
    "        \n",
    "conn = sqlite3.connect(\"ServiceLog.db\")\n",
    "with open(\"LOG.txt\") as fs:\n",
    "    data = fs.read().strip(\"\\n\").split(\"\\n\")\n",
    "    \n",
    "    for line in data:\n",
    "        entry = line.split(\" \")\n",
    "        Sender = entry[0]\n",
    "        AccessDate = entry[1]\n",
    "        Status = int(entry[2])\n",
    "        \n",
    "        if(len(entry) > 3):\n",
    "            AppType = entry[3]\n",
    "            instance = ServiceRecord(Sender, AccessDate, Status, AppType)\n",
    "        \n",
    "        else:\n",
    "            instance = ServiceRecord(Sender, AccessDate, Status)\n",
    "            \n",
    "\n",
    "conn.close()\n",
    "        \n",
    "    \n",
    "    \n",
    "        \n",
    "    "
   ]
  },
  {
   "cell_type": "code",
   "execution_count": 2,
   "metadata": {},
   "outputs": [],
   "source": []
  },
  {
   "cell_type": "code",
   "execution_count": 3,
   "metadata": {},
   "outputs": [
    {
     "ename": "SyntaxError",
     "evalue": "invalid syntax (<ipython-input-3-f34ac5911407>, line 1)",
     "output_type": "error",
     "traceback": [
      "\u001b[1;36m  File \u001b[1;32m\"<ipython-input-3-f34ac5911407>\"\u001b[1;36m, line \u001b[1;32m1\u001b[0m\n\u001b[1;33m    arr...\u001b[0m\n\u001b[1;37m         ^\u001b[0m\n\u001b[1;31mSyntaxError\u001b[0m\u001b[1;31m:\u001b[0m invalid syntax\n"
     ]
    }
   ],
   "source": []
  },
  {
   "cell_type": "code",
   "execution_count": null,
   "metadata": {},
   "outputs": [],
   "source": []
  }
 ],
 "metadata": {
  "kernelspec": {
   "display_name": "Python 3",
   "language": "python",
   "name": "python3"
  },
  "language_info": {
   "codemirror_mode": {
    "name": "ipython",
    "version": 3
   },
   "file_extension": ".py",
   "mimetype": "text/x-python",
   "name": "python",
   "nbconvert_exporter": "python",
   "pygments_lexer": "ipython3",
   "version": "3.6.4"
  }
 },
 "nbformat": 4,
 "nbformat_minor": 2
}

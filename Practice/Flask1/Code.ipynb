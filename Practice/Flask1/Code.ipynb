{
 "cells": [
  {
   "cell_type": "code",
   "execution_count": 11,
   "metadata": {},
   "outputs": [],
   "source": [
    "\n",
    "import sqlite3\n",
    "\n",
    "\n",
    "class ServiceRecord:\n",
    "\n",
    "    def __init__(self, Sender, AccessDate, Status, AppType = \"\"):\n",
    "        self.Sender = Sender\n",
    "        self.AccessDate = AccessDate\n",
    "        self.Status = Status\n",
    "        self.AppType = AppType\n",
    "   \n",
    "    def isSuccess(self):\n",
    "        return self.Status == 200\n",
    "       \n",
    "    def getAppType(self):\n",
    "        return self.AppType\n",
    "        \n",
    "        \n",
    "conn = sqlite3.connect(\"ServiceLog.db\")\n",
    "with open(\"LOG.txt\") as fs:\n",
    "    data = fs.read().strip(\"\\n\").split(\"\\n\")\n",
    "    \n",
    "    for line in data:\n",
    "        entry = line.split(\" \")\n",
    "        Sender = entry[0]\n",
    "        AccessDate = entry[1]\n",
    "        Status = int(entry[2])\n",
    "        \n",
    "        if(len(entry) > 3):\n",
    "            AppType = entry[3]\n",
    "            instance = ServiceRecord(Sender, AccessDate, Status, AppType)\n",
    "            curr = conn.execute(\"INSERT INTO Log (Sender, AccessDate, Status, AppType) VALUES (?,?,?,?)\", (Sender, AccessDate, Status, AppType))\n",
    "            conn.commit()\n",
    "        else:\n",
    "            instance = ServiceRecord(Sender, AccessDate, Status)\n",
    "            curr = conn.execute(\"INSERT INTO Log (Sender, AccessDate, Status) VALUES (?,?,?)\", (Sender, AccessDate, Status))\n",
    "            conn.commit()\n",
    "\n",
    "\n",
    "conn.close()\n",
    "        \n",
    "    \n",
    "    \n",
    "        \n",
    "    "
   ]
  },
  {
   "cell_type": "code",
   "execution_count": 13,
   "metadata": {},
   "outputs": [],
   "source": [
    "from Task2_2_Marcus_1_1 import ServiceRecord\n",
    "\n",
    "class AppServiceRecord(ServiceRecord):\n",
    "    def __init__(self, Sender, AccessDate, Status, AppType = \"\"):\n",
    "        super().__init__(Sender, AccessDate, Status, AppType)\n",
    "    \n",
    "    def getAppType(self):\n",
    "        if(self.AppType == \"WA\"):\n",
    "            return \"WHATSAPP\"\n",
    "        elif(self.AppType == \"FB\"):\n",
    "            return \"FACEBOOK MESSENGER\"\n",
    "        \n",
    "    def getSuccess(self):\n",
    "        if(self.isSuccess()):\n",
    "            return \"SUCCESS\"\n",
    "        else:\n",
    "            return \"FAILED\"\n",
    "\n",
    "class SmsServiceRecord(ServiceRecord):\n",
    "    def __init__(self, Sender, AccessDate, Status):\n",
    "        super().__init__(Sender, AccessDate, Status, \"SHORT MESSAGE SERVICE\")\n",
    "        \n",
    "#     NO need to redefine getAppType as it will already always be SHORT MESSAGE SERVICE ^\n",
    "\n",
    "    def getSuccess(self):\n",
    "        if(self.isSuccess()):\n",
    "            return \"SUCCESS\"\n",
    "        else:\n",
    "            return \"FAILED\"\n",
    "    "
   ]
  },
  {
   "cell_type": "code",
   "execution_count": 3,
   "metadata": {},
   "outputs": [
    {
     "ename": "SyntaxError",
     "evalue": "invalid syntax (<ipython-input-3-f34ac5911407>, line 1)",
     "output_type": "error",
     "traceback": [
      "\u001b[1;36m  File \u001b[1;32m\"<ipython-input-3-f34ac5911407>\"\u001b[1;36m, line \u001b[1;32m1\u001b[0m\n\u001b[1;33m    arr...\u001b[0m\n\u001b[1;37m         ^\u001b[0m\n\u001b[1;31mSyntaxError\u001b[0m\u001b[1;31m:\u001b[0m invalid syntax\n"
     ]
    }
   ],
   "source": []
  },
  {
   "cell_type": "code",
   "execution_count": 19,
   "metadata": {},
   "outputs": [
    {
     "name": "stderr",
     "output_type": "stream",
     "text": [
      " * Running on http://127.0.0.1:5000/ (Press CTRL+C to quit)\n",
      "127.0.0.1 - - [31/Jul/2022 22:07:12] \"\u001b[37mGET / HTTP/1.1\u001b[0m\" 200 -\n"
     ]
    }
   ],
   "source": [
    "import flask, sqlite3\n",
    "\n",
    "from flask import render_template\n",
    "\n",
    "app = flask.Flask(__name__, template_folder = \"Task2_4_Marcus_1_1/templates\")\n",
    "\n",
    "@app.route(\"/\")\n",
    "def main():\n",
    "    conn = sqlite3.connect(\"ServiceLog.db\")\n",
    "    curr = conn.execute(\"SELECT Sender, AccessDate, AppType, Status FROM Log\")\n",
    "    listAttr = list(curr)\n",
    "    \n",
    "#     print(listAttr)\n",
    "    conn.close()\n",
    "    \n",
    "    return render_template(\"index.html\", attr = listAttr)\n",
    "\n",
    "\n",
    "if __name__ == \"__main__\":\n",
    "    app.run()\n",
    "           "
   ]
  },
  {
   "cell_type": "code",
   "execution_count": null,
   "metadata": {},
   "outputs": [],
   "source": []
  }
 ],
 "metadata": {
  "kernelspec": {
   "display_name": "Python 3",
   "language": "python",
   "name": "python3"
  },
  "language_info": {
   "codemirror_mode": {
    "name": "ipython",
    "version": 3
   },
   "file_extension": ".py",
   "mimetype": "text/x-python",
   "name": "python",
   "nbconvert_exporter": "python",
   "pygments_lexer": "ipython3",
   "version": "3.6.4"
  }
 },
 "nbformat": 4,
 "nbformat_minor": 2
}

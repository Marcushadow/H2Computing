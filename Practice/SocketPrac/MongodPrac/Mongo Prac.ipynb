{
 "cells": [
  {
   "cell_type": "code",
   "execution_count": 9,
   "metadata": {},
   "outputs": [],
   "source": [
    "import pymongo, json\n",
    "\n",
    "client = pymongo.MongoClient(\"127.0.0.1\", 27017)\n",
    "db = client.get_database(\"library\")\n",
    "coll = db.get_collection(\"books\")\n",
    "\n",
    "with open(\"BOOK.txt\") as fs:\n",
    "    entryArr = fs.read().split(\"\\n\")\n",
    "\n",
    "for item in entryArr:\n",
    "    inputDict = json.loads(item)\n",
    "#     print(inputDict)\n",
    "    coll.insert_one(inputDict)\n",
    "    \n",
    "client.close()"
   ]
  },
  {
   "cell_type": "code",
   "execution_count": 21,
   "metadata": {},
   "outputs": [
    {
     "name": "stdout",
     "output_type": "stream",
     "text": [
      "134 Mother Night ['Kurt', 'Dan']\n",
      "\n",
      "{'_id': ObjectId('6332c9d07321f354d8073250'), 'book_id': 334, 'title': 'Programming C## 6.0', 'author': ['Andrew', 'Dan'], 'page_count': 300, 'year': '2000'}\n",
      "{'_id': ObjectId('6332c9d07321f354d8073252'), 'book_id': 434, 'title': 'Travel with Dogs', 'author': 'Andy', 'publisher': 'APress', 'page_count': 100, 'year': '2017'}\n",
      "\n",
      "Father Night 433 2018\n",
      "Travel with Dogs 100 2017\n",
      "Mother Night Less Than 100 Pages 2015\n",
      "Programming C## 6.0 300 2000\n",
      "Introduction to Python Less Than 100 Pages 1999\n"
     ]
    }
   ],
   "source": [
    "import pymongo, json\n",
    "\n",
    "client = pymongo.MongoClient(\"127.0.0.1\", 27017)\n",
    "db = client.get_database(\"library\")\n",
    "coll = db.get_collection(\"books\")\n",
    "\n",
    "query = {\"year\":'2015'}\n",
    "curr = coll.find(query)\n",
    "output = list(curr)\n",
    "\n",
    "for item in output:\n",
    "    print(item['book_id'], item['title'], item['author'])\n",
    "    \n",
    "print()\n",
    "query = {\"page_count\": {\"$gte\" : 100}, \"page_count\" : {\"$lte\":400} }\n",
    "curr = coll.find(query)\n",
    "output = list(curr)\n",
    "\n",
    "for item in output:\n",
    "    print(item)\n",
    "\n",
    "print()\n",
    "query = {\"page_count\": {\"$exists\" : False}}\n",
    "update = {\"$set\": {\"page_count\": \"Less Than 100 Pages\"}}\n",
    "curr = coll.update_many(query, update)\n",
    "\n",
    "\n",
    "    \n",
    "curr = coll.find({}).sort(\"year\", -1)\n",
    "output = list(curr)\n",
    "\n",
    "for item in output:\n",
    "    print(item['title'], item['page_count'], item['year'])    \n",
    "\n",
    "\n",
    "\n",
    "    \n",
    "client.close()"
   ]
  },
  {
   "cell_type": "code",
   "execution_count": null,
   "metadata": {},
   "outputs": [],
   "source": []
  }
 ],
 "metadata": {
  "kernelspec": {
   "display_name": "Python 3",
   "language": "python",
   "name": "python3"
  },
  "language_info": {
   "codemirror_mode": {
    "name": "ipython",
    "version": 3
   },
   "file_extension": ".py",
   "mimetype": "text/x-python",
   "name": "python",
   "nbconvert_exporter": "python",
   "pygments_lexer": "ipython3",
   "version": "3.6.4"
  }
 },
 "nbformat": 4,
 "nbformat_minor": 2
}

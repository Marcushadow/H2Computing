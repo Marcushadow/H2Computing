{
 "cells": [
  {
   "cell_type": "code",
   "execution_count": 2,
   "metadata": {},
   "outputs": [
    {
     "ename": "TypeError",
     "evalue": "connect() takes exactly one argument (2 given)",
     "output_type": "error",
     "traceback": [
      "\u001b[1;31m---------------------------------------------------------------------------\u001b[0m",
      "\u001b[1;31mTypeError\u001b[0m                                 Traceback (most recent call last)",
      "\u001b[1;32m<ipython-input-2-d4c24baff3ac>\u001b[0m in \u001b[0;36m<module>\u001b[1;34m()\u001b[0m\n\u001b[0;32m      2\u001b[0m \u001b[1;33m\u001b[0m\u001b[0m\n\u001b[0;32m      3\u001b[0m \u001b[0mservSocket\u001b[0m \u001b[1;33m=\u001b[0m \u001b[0msocket\u001b[0m\u001b[1;33m.\u001b[0m\u001b[0msocket\u001b[0m\u001b[1;33m(\u001b[0m\u001b[1;33m)\u001b[0m\u001b[1;33m\u001b[0m\u001b[0m\n\u001b[1;32m----> 4\u001b[1;33m \u001b[0mservSocket\u001b[0m\u001b[1;33m.\u001b[0m\u001b[0mconnect\u001b[0m\u001b[1;33m(\u001b[0m\u001b[1;34m\"127.0.0.1\"\u001b[0m\u001b[1;33m,\u001b[0m \u001b[1;36m12345\u001b[0m\u001b[1;33m)\u001b[0m\u001b[1;33m\u001b[0m\u001b[0m\n\u001b[0m\u001b[0;32m      5\u001b[0m \u001b[1;33m\u001b[0m\u001b[0m\n\u001b[0;32m      6\u001b[0m \u001b[1;33m\u001b[0m\u001b[0m\n",
      "\u001b[1;31mTypeError\u001b[0m: connect() takes exactly one argument (2 given)"
     ]
    }
   ],
   "source": [
    "import socket\n",
    "\n",
    "servSocket = socket.socket()\n",
    "servSocket.connect((\"127.0.0.1\", 12345))\n",
    "\n",
    "\n",
    "print(servSocket.recv(1024).decode())\n",
    "guesses = 6\n",
    "message = b\"\"\n",
    "\n",
    "while(message != b\"END\\n\" and guesses > 0):\n",
    "    \n",
    "    if message == b\"WIN\\n\":\n",
    "        print(\"You WON!\")\n",
    "        servSocket.sendall(b\"END\\n\")\n",
    "    else:\n",
    "        if message == b\"LOWER\\n\":\n",
    "            print(\"Too High, guess lower\")\n",
    "\n",
    "        elif message == b\"HIGHER\\n\":\n",
    "            print(\"Too Low, guess higher\")\n",
    "\n",
    "        guessVal = input(\"Guess a number between 1 and 100: \")\n",
    "        servSocket.sendall((guessVal+\"\\n\").encode())\n",
    "\n",
    "        message = b\"\"\n",
    "        while(b\"\\n\" not in message):\n",
    "            message += servSocket.recv(1024)\n",
    "\n",
    "        guesses -= 1\n",
    "\n",
    "if guesses == 0:\n",
    "    print(\"Lost\")\n",
    "    servSocket.sendall(b\"END\\n\")\n",
    "    \n",
    "        \n",
    "    \n",
    "        \n",
    "    \n",
    "    \n",
    "    \n",
    "\n",
    "\n",
    "\n",
    "\n",
    "\n",
    "\n",
    "\n",
    "\n",
    "sock.close()"
   ]
  },
  {
   "cell_type": "code",
   "execution_count": null,
   "metadata": {},
   "outputs": [],
   "source": []
  }
 ],
 "metadata": {
  "kernelspec": {
   "display_name": "Python 3",
   "language": "python",
   "name": "python3"
  },
  "language_info": {
   "codemirror_mode": {
    "name": "ipython",
    "version": 3
   },
   "file_extension": ".py",
   "mimetype": "text/x-python",
   "name": "python",
   "nbconvert_exporter": "python",
   "pygments_lexer": "ipython3",
   "version": "3.6.4"
  }
 },
 "nbformat": 4,
 "nbformat_minor": 2
}

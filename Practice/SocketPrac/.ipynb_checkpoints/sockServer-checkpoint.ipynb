{
 "cells": [
  {
   "cell_type": "code",
   "execution_count": null,
   "metadata": {},
   "outputs": [],
   "source": [
    "import socket, random\n",
    "\n",
    "servSocket = socket.socket()\n",
    "servSocket.bind((\"127.0.0.1\", 12345))\n",
    "\n",
    "servSocket.listen()\n",
    "\n",
    "sock, addr = servSocket.accept()\n",
    "\n",
    "valueToGuess = random.randint(1,100)\n",
    "print(valueToGuess)\n",
    "sock.sendall(b\"Please make a guess (1-100):\")\n",
    "\n",
    "message = b\"\"\n",
    "while(message != b\"END\\n\"):\n",
    "    message = b\"\"\n",
    "    while(b\"\\n\" not in message):\n",
    "        message += sock.recv(1024)\n",
    "        \n",
    "    received = message.decode().strip(\"\\n\")\n",
    "    \n",
    "    print(received)\n",
    "    \n",
    "    \n",
    "    if(received.isnumeric() and int(received) <= 100 and int(received) >= 0):\n",
    "        guessValue = int(received)\n",
    "        \n",
    "        if(guessValue == valueToGuess):\n",
    "            sock.sendall(b\"WIN\\n\")\n",
    "            \n",
    "        elif(guessValue < valueToGuess):\n",
    "            sock.sendall(b\"HIGHER\\n\")\n",
    "        \n",
    "        else:\n",
    "            sock.sendall(b\"LOWER\\n\")\n",
    "        \n",
    "    \n",
    "    elif(received != \"END\"):\n",
    "        sock.sendall(b\"INVALID\\n\")\n",
    "        \n",
    "    \n",
    "sock.sendall(b\"END\\n\")\n",
    "    \n",
    "    \n",
    "    \n",
    "\n",
    "\n",
    "sock.close()"
   ]
  },
  {
   "cell_type": "code",
   "execution_count": null,
   "metadata": {},
   "outputs": [],
   "source": []
  }
 ],
 "metadata": {
  "kernelspec": {
   "display_name": "Python 3",
   "language": "python",
   "name": "python3"
  },
  "language_info": {
   "codemirror_mode": {
    "name": "ipython",
    "version": 3
   },
   "file_extension": ".py",
   "mimetype": "text/x-python",
   "name": "python",
   "nbconvert_exporter": "python",
   "pygments_lexer": "ipython3",
   "version": "3.6.4"
  }
 },
 "nbformat": 4,
 "nbformat_minor": 2
}

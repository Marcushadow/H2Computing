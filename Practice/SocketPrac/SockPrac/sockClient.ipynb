{
 "cells": [
  {
   "cell_type": "code",
   "execution_count": 3,
   "metadata": {},
   "outputs": [
    {
     "name": "stdout",
     "output_type": "stream",
     "text": [
      "Please make a guess (1-100):\n",
      "\n",
      "Guess a number between 1 and 100: 43\n",
      "You WON!\n"
     ]
    }
   ],
   "source": [
    "import socket\n",
    "\n",
    "servSocket = socket.socket()\n",
    "servSocket.connect((\"127.0.0.1\", 12345))\n",
    "\n",
    "\n",
    "print(servSocket.recv(1024).decode())\n",
    "guesses = 6\n",
    "message = b\"\"\n",
    "\n",
    "while(message != b\"END\\n\" and guesses > 0):\n",
    "    \n",
    "    if message == b\"WIN\\n\":\n",
    "        print(\"You WON!\")\n",
    "        servSocket.sendall(b\"END\\n\")\n",
    "    else:\n",
    "        print(message.decode())\n",
    "        if message == b\"LOWER\\n\":\n",
    "            print(\"Too High, guess lower\")\n",
    "\n",
    "        elif message == b\"HIGHER\\n\":\n",
    "            print(\"Too Low, guess higher\")\n",
    "\n",
    "        guessVal = input(\"Guess a number between 1 and 100: \")\n",
    "        servSocket.sendall((guessVal+\"\\n\").encode())\n",
    "\n",
    "        \n",
    "\n",
    "        guesses -= 1\n",
    "    \n",
    "    message = b\"\"\n",
    "    while(b\"\\n\" not in message):\n",
    "        message += servSocket.recv(1024)\n",
    "\n",
    "if guesses == 0:\n",
    "    print(\"Lost\")\n",
    "    servSocket.sendall(b\"END\\n\")\n",
    "    \n",
    "        \n",
    "    \n",
    "        \n",
    "    \n",
    "    \n",
    "    \n",
    "\n",
    "\n",
    "\n",
    "\n",
    "\n",
    "\n",
    "servSocket.close()"
   ]
  },
  {
   "cell_type": "code",
   "execution_count": null,
   "metadata": {},
   "outputs": [],
   "source": []
  }
 ],
 "metadata": {
  "kernelspec": {
   "display_name": "Python 3",
   "language": "python",
   "name": "python3"
  },
  "language_info": {
   "codemirror_mode": {
    "name": "ipython",
    "version": 3
   },
   "file_extension": ".py",
   "mimetype": "text/x-python",
   "name": "python",
   "nbconvert_exporter": "python",
   "pygments_lexer": "ipython3",
   "version": "3.6.4"
  }
 },
 "nbformat": 4,
 "nbformat_minor": 2
}

{
 "cells": [
  {
   "cell_type": "code",
   "execution_count": 6,
   "metadata": {},
   "outputs": [],
   "source": [
    "class Node:\n",
    "    def __init__(self, data = \"\", ptr = None):\n",
    "        self.data = data\n",
    "        self.ptr = ptr\n",
    "\n",
    "class LinkedList:\n",
    "    def __init__(self):\n",
    "        self.head = None\n",
    "        self.size = 0\n",
    "        \n",
    "    def insert(self, word, p):\n",
    "        \n",
    "        self.size += 1\n",
    "        newNode = Node(data = word)\n",
    "        if(self.head == None):\n",
    "            self.head = newNode\n",
    "            \n",
    "        else:\n",
    "            prev = None\n",
    "            probe = self.head\n",
    "            \n",
    "            it = p-1\n",
    "            while(it > 0 and probe != None):\n",
    "                prev = probe\n",
    "                probe = probe.ptr\n",
    "                it -= 1\n",
    "            \n",
    "            if(prev == None):\n",
    "                self.head = newNode\n",
    "                \n",
    "            else:\n",
    "                prev.ptr = newNode\n",
    "                \n",
    "            newNode.ptr = probe\n",
    "    \n",
    "    def to_String(self):\n",
    "        probe = self.head\n",
    "        outputStr = \"\"\n",
    "        while(probe != None):\n",
    "            outputStr += probe.data\n",
    "            if(probe.ptr != None):\n",
    "                outputStr += \" , \"\n",
    "                \n",
    "            probe = probe.ptr\n",
    "        \n",
    "        return outputStr\n",
    "            \n",
    "    \n",
    "    def delete(self, p):\n",
    "        if(self.size != 0):\n",
    "            self.size -= 1\n",
    "            prev = None\n",
    "            probe = self.head\n",
    "            it = p-1\n",
    "            while(it > 0 and probe.ptr != None):\n",
    "                prev = probe\n",
    "                probe = probe.ptr\n",
    "                it -= 1\n",
    "\n",
    "            if(prev == None):\n",
    "                self.head = self.head.ptr\n",
    "            \n",
    "            else:\n",
    "                prev.ptr = probe.ptr\n",
    "                \n"
   ]
  },
  {
   "cell_type": "code",
   "execution_count": 14,
   "metadata": {},
   "outputs": [
    {
     "name": "stdout",
     "output_type": "stream",
     "text": [
      "Zorua , Bacol , Abbey\n",
      "Zorua , Bacol\n"
     ]
    }
   ],
   "source": [
    "test = LinkedList()\n",
    "test.insert(\"Abbey\", 1)\n",
    "test.insert(\"Zorua\", 1)\n",
    "test.insert(\"Bacol\", 2)\n",
    "print(test.to_String())\n",
    "\n",
    "test.delete(3)\n",
    "print(test.to_String())"
   ]
  },
  {
   "cell_type": "code",
   "execution_count": null,
   "metadata": {},
   "outputs": [],
   "source": []
  }
 ],
 "metadata": {
  "kernelspec": {
   "display_name": "Python 3",
   "language": "python",
   "name": "python3"
  },
  "language_info": {
   "codemirror_mode": {
    "name": "ipython",
    "version": 3
   },
   "file_extension": ".py",
   "mimetype": "text/x-python",
   "name": "python",
   "nbconvert_exporter": "python",
   "pygments_lexer": "ipython3",
   "version": "3.6.4"
  }
 },
 "nbformat": 4,
 "nbformat_minor": 2
}

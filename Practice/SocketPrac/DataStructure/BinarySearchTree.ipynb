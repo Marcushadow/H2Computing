{
 "cells": [
  {
   "cell_type": "code",
   "execution_count": 8,
   "metadata": {},
   "outputs": [],
   "source": [
    "class Node:\n",
    "    def __init__(self, data=\"\"):\n",
    "        self.data = data\n",
    "        self.left = None\n",
    "        self.right = None\n",
    "        \n",
    "class BST:\n",
    "    def __init__(self):\n",
    "        self.root = None\n",
    "        \n",
    "    def isEmpty(self):\n",
    "        return self.root == None\n",
    "    \n",
    "    def add(self, value):\n",
    "        newNode = Node(data = value)\n",
    "        \n",
    "        if(self.isEmpty()):\n",
    "            self.root = newNode\n",
    "            \n",
    "        else:\n",
    "            probe = self.root\n",
    "            \n",
    "            while(probe != None):\n",
    "                if(probe.data > value):\n",
    "                    if(probe.left == None):\n",
    "                        probe.left = newNode\n",
    "                        probe = None\n",
    "                    else:\n",
    "                        probe = probe.left\n",
    "                else:\n",
    "                    if(probe.right == None):\n",
    "                        probe.right = newNode\n",
    "                        probe = None\n",
    "                    else:\n",
    "                        probe = probe.right\n",
    "    \n",
    "    def inOrder(self, probe):\n",
    "        if(probe != None):\n",
    "            self.inOrder(probe.left)\n",
    "            print(probe.data)\n",
    "            self.inOrder(probe.right)\n",
    "    \n",
    "    def inOrderTraversal(self):\n",
    "        return self.inOrder(self.root)\n",
    "                    \n",
    "            "
   ]
  },
  {
   "cell_type": "code",
   "execution_count": 10,
   "metadata": {},
   "outputs": [
    {
     "name": "stdout",
     "output_type": "stream",
     "text": [
      "Albin\n",
      "Bacquerel\n",
      "Corel\n",
      "Xavier\n"
     ]
    }
   ],
   "source": [
    "test = BST()\n",
    "test.add(\"Albin\")\n",
    "\n",
    "test.add(\"Bacquerel\")\n",
    "\n",
    "test.add(\"Xavier\")\n",
    "\n",
    "test.add(\"Corel\")\n",
    "\n",
    "test.inOrderTraversal()\n",
    "\n"
   ]
  },
  {
   "cell_type": "code",
   "execution_count": null,
   "metadata": {},
   "outputs": [],
   "source": []
  }
 ],
 "metadata": {
  "kernelspec": {
   "display_name": "Python 3",
   "language": "python",
   "name": "python3"
  },
  "language_info": {
   "codemirror_mode": {
    "name": "ipython",
    "version": 3
   },
   "file_extension": ".py",
   "mimetype": "text/x-python",
   "name": "python",
   "nbconvert_exporter": "python",
   "pygments_lexer": "ipython3",
   "version": "3.6.4"
  }
 },
 "nbformat": 4,
 "nbformat_minor": 2
}

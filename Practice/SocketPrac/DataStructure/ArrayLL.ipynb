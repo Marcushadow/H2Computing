{
 "cells": [
  {
   "cell_type": "code",
   "execution_count": 9,
   "metadata": {},
   "outputs": [],
   "source": [
    "class Node:\n",
    "    def __init__(self, data = \"\", ptr = 0):\n",
    "        self.data = data\n",
    "        self.ptr = ptr \n",
    "        \n",
    "class ArrayLinkedList:\n",
    "    def __init__(self):\n",
    "#         Starting from 1\n",
    "        self.head = 0\n",
    "        self.free = 1\n",
    "        \n",
    "        self.arr = []\n",
    "        \n",
    "        for i in range(10):\n",
    "            self.arr.append(Node(ptr = i+1))\n",
    "            \n",
    "        self.arr.append(Node(ptr = 0))\n",
    "            \n",
    "    def display(self):\n",
    "        print(f\"Head: {self.head}, Free: {self.free}\")\n",
    "        for i in range(10):\n",
    "            print(f\"Index: {i+1}, Data: {self.arr[i+1].data}, Ptr: {self.arr[i+1].ptr}\")\n",
    "        \n",
    "    def isEmpty(self):\n",
    "        return self.head == 0\n",
    "    \n",
    "    def isFull(self):\n",
    "        return self.free == 0\n",
    "    \n",
    "    def add(self, value):\n",
    "        if(not self.isFull()):\n",
    "            self.arr[self.free].data = value\n",
    "            nextFree = self.arr[self.free].ptr\n",
    "            \n",
    "            prev = 0\n",
    "            probe = self.head\n",
    "            \n",
    "            while(probe != 0 and self.arr[probe].data < value):\n",
    "                prev = probe\n",
    "                probe = self.arr[probe].ptr\n",
    "            \n",
    "            self.arr[self.free].ptr = probe\n",
    "            \n",
    "            if(prev == 0):\n",
    "                self.head = self.free\n",
    "            \n",
    "            else:\n",
    "                self.arr[prev].ptr = self.free\n",
    "            \n",
    "            self.free = nextFree\n",
    "    \n",
    "    def remove(self, value):\n",
    "        if(not self.isEmpty()):\n",
    "            prev = 0\n",
    "            probe = self.head\n",
    "            \n",
    "            while(probe != 0 and self.arr[probe].data != value):\n",
    "                prev = probe\n",
    "                probe = self.arr[probe].ptr\n",
    "                \n",
    "            if(probe == 0):\n",
    "                print(\"Not found!\")\n",
    "                \n",
    "            else:\n",
    "                self.arr[probe].data = \"\"\n",
    "                \n",
    "                if(prev == 0):\n",
    "                    self.head = self.arr[probe].ptr\n",
    "                else:\n",
    "                    self.arr[prev].ptr = self.arr[probe].ptr\n",
    "                \n",
    "                self.arr[probe].ptr = self.free\n",
    "                self.free = probe\n",
    "                \n",
    "                \n",
    "                \n",
    "        \n",
    "            \n",
    "        \n",
    "        "
   ]
  },
  {
   "cell_type": "code",
   "execution_count": 16,
   "metadata": {},
   "outputs": [
    {
     "name": "stdout",
     "output_type": "stream",
     "text": [
      "Head: 2, Free: 4\n",
      "Index: 1, Data: Jerome, Ptr: 3\n",
      "Index: 2, Data: Alibi, Ptr: 1\n",
      "Index: 3, Data: Xavier, Ptr: 0\n",
      "Index: 4, Data: , Ptr: 5\n",
      "Index: 5, Data: , Ptr: 6\n",
      "Index: 6, Data: , Ptr: 7\n",
      "Index: 7, Data: , Ptr: 8\n",
      "Index: 8, Data: , Ptr: 9\n",
      "Index: 9, Data: , Ptr: 10\n",
      "Index: 10, Data: , Ptr: 0\n"
     ]
    }
   ],
   "source": [
    "test = ArrayLinkedList()\n",
    "test.add(\"Jerome\")\n",
    "test.add(\"Alibi\")\n",
    "test.add(\"Xavier\")\n",
    "test.display()"
   ]
  },
  {
   "cell_type": "code",
   "execution_count": 17,
   "metadata": {},
   "outputs": [],
   "source": [
    "test.remove(\"Jerome\")"
   ]
  },
  {
   "cell_type": "code",
   "execution_count": 18,
   "metadata": {},
   "outputs": [
    {
     "name": "stdout",
     "output_type": "stream",
     "text": [
      "Head: 2, Free: 1\n",
      "Index: 1, Data: , Ptr: 4\n",
      "Index: 2, Data: Alibi, Ptr: 3\n",
      "Index: 3, Data: Xavier, Ptr: 0\n",
      "Index: 4, Data: , Ptr: 5\n",
      "Index: 5, Data: , Ptr: 6\n",
      "Index: 6, Data: , Ptr: 7\n",
      "Index: 7, Data: , Ptr: 8\n",
      "Index: 8, Data: , Ptr: 9\n",
      "Index: 9, Data: , Ptr: 10\n",
      "Index: 10, Data: , Ptr: 0\n"
     ]
    }
   ],
   "source": [
    "test.display()"
   ]
  },
  {
   "cell_type": "code",
   "execution_count": null,
   "metadata": {},
   "outputs": [],
   "source": []
  }
 ],
 "metadata": {
  "kernelspec": {
   "display_name": "Python 3",
   "language": "python",
   "name": "python3"
  },
  "language_info": {
   "codemirror_mode": {
    "name": "ipython",
    "version": 3
   },
   "file_extension": ".py",
   "mimetype": "text/x-python",
   "name": "python",
   "nbconvert_exporter": "python",
   "pygments_lexer": "ipython3",
   "version": "3.6.4"
  }
 },
 "nbformat": 4,
 "nbformat_minor": 2
}

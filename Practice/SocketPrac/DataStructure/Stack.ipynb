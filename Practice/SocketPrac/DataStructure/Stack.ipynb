{
 "cells": [
  {
   "cell_type": "code",
   "execution_count": 26,
   "metadata": {},
   "outputs": [],
   "source": [
    "class Node:\n",
    "    def __init__(self, data=\"\", ptr = None):\n",
    "        self.data = data\n",
    "        self.ptr = ptr\n",
    "        \n",
    "class Stack:\n",
    "    def __init__(self):\n",
    "        self.head = None\n",
    "    \n",
    "    def isEmpty(self):\n",
    "        return self.head == None\n",
    "    \n",
    "    def add(self, value):\n",
    "        newNode = Node(data = value, ptr = self.head)\n",
    "        self.head = newNode\n",
    "\n",
    "        \n",
    "    def traverse(self):\n",
    "        probe = self.head\n",
    "        \n",
    "        while(probe != None):\n",
    "            print(probe.data)\n",
    "            probe = probe.ptr\n",
    "        \n",
    "    def pop(self):\n",
    "        if(not self.isEmpty()):\n",
    "            returnValue = self.head.data\n",
    "            self.head = self.head.ptr\n",
    "            \n",
    "        return returnValue\n",
    "\n",
    "    def peek(self):\n",
    "        return self.head.data"
   ]
  },
  {
   "cell_type": "code",
   "execution_count": 27,
   "metadata": {},
   "outputs": [],
   "source": [
    "test = Stack()\n",
    "test.add(\"Jeremy\")\n",
    "test.add(\"HooXi\")\n"
   ]
  },
  {
   "cell_type": "code",
   "execution_count": null,
   "metadata": {},
   "outputs": [],
   "source": []
  }
 ],
 "metadata": {
  "kernelspec": {
   "display_name": "Python 3",
   "language": "python",
   "name": "python3"
  },
  "language_info": {
   "codemirror_mode": {
    "name": "ipython",
    "version": 3
   },
   "file_extension": ".py",
   "mimetype": "text/x-python",
   "name": "python",
   "nbconvert_exporter": "python",
   "pygments_lexer": "ipython3",
   "version": "3.6.4"
  }
 },
 "nbformat": 4,
 "nbformat_minor": 2
}

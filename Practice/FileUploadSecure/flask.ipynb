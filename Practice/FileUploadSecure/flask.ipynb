{
 "cells": [
  {
   "cell_type": "code",
   "execution_count": null,
   "metadata": {},
   "outputs": [
    {
     "name": "stderr",
     "output_type": "stream",
     "text": [
      " * Running on http://127.0.0.1:5000/ (Press CTRL+C to quit)\n",
      "127.0.0.1 - - [26/Sep/2022 21:10:28] \"\u001b[37mGET / HTTP/1.1\u001b[0m\" 200 -\n",
      "127.0.0.1 - - [26/Sep/2022 21:10:31] \"\u001b[37mGET /files HTTP/1.1\u001b[0m\" 200 -\n",
      "127.0.0.1 - - [26/Sep/2022 21:10:31] \"\u001b[37mGET /images/0-5361_philosophy-clipart-clip-art-think-bubble-comic-png.png HTTP/1.1\u001b[0m\" 200 -\n"
     ]
    },
    {
     "name": "stdout",
     "output_type": "stream",
     "text": [
      "[('Think', '0-5361_philosophy-clipart-clip-art-think-bubble-comic-png.png'), ('Think', '0-5361_philosophy-clipart-clip-art-think-bubble-comic-png.png')]\n"
     ]
    }
   ],
   "source": [
    "import flask, sqlite3, os\n",
    "\n",
    "from flask import send_from_directory, render_template, request\n",
    "from werkzeug.utils import secure_filename\n",
    "\n",
    "app = flask.Flask(__name__)\n",
    "\n",
    "@app.route(\"/\")\n",
    "def main():\n",
    "    return render_template(\"index.html\")\n",
    "\n",
    "@app.route(\"/formSubmission\", methods = [\"POST\"])\n",
    "def synthesis():\n",
    "    if request.method == \"POST\":\n",
    "        if(request.files and request.files['submittedFile']):\n",
    "            \n",
    "            uFile = request.files['submittedFile']\n",
    "            caption = request.form.get(\"caption\")\n",
    "            saveDir = os.path.join(\"files\", secure_filename(uFile.filename))\n",
    "            uFile.save(saveDir)\n",
    "            \n",
    "            client = sqlite3.connect(\"Imgrepo.db\")\n",
    "            curr = client.execute(\"INSERT INTO Image (Caption, Filepath) VALUES (?,?)\", (caption, secure_filename(uFile.filename)))\n",
    "            client.commit()\n",
    "            \n",
    "            \n",
    "            client.close()\n",
    "            \n",
    "            \n",
    "        \n",
    "        return render_template(\"index.html\")\n",
    "\n",
    "@app.route(\"/files\")\n",
    "def seeFiles():\n",
    "    client = sqlite3.connect(\"Imgrepo.db\")\n",
    "    curr = client.execute(\"SELECT Caption, Filepath FROM Image\")\n",
    "    attr = list(curr)\n",
    "    print(attr)\n",
    "    \n",
    "    client.close()\n",
    "    \n",
    "    return render_template(\"files.html\", attr = attr)\n",
    "\n",
    "@app.route(\"/images/<filename>\")\n",
    "def getFile(filename):\n",
    "    return send_from_directory(\"files\", filename)\n",
    "\n",
    "if __name__ == \"__main__\":\n",
    "    app.run()"
   ]
  },
  {
   "cell_type": "code",
   "execution_count": null,
   "metadata": {},
   "outputs": [],
   "source": []
  }
 ],
 "metadata": {
  "kernelspec": {
   "display_name": "Python 3",
   "language": "python",
   "name": "python3"
  },
  "language_info": {
   "codemirror_mode": {
    "name": "ipython",
    "version": 3
   },
   "file_extension": ".py",
   "mimetype": "text/x-python",
   "name": "python",
   "nbconvert_exporter": "python",
   "pygments_lexer": "ipython3",
   "version": "3.6.4"
  }
 },
 "nbformat": 4,
 "nbformat_minor": 2
}

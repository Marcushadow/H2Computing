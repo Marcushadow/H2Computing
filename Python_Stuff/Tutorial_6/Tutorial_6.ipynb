{
 "metadata": {
  "language_info": {
   "codemirror_mode": {
    "name": "ipython",
    "version": 3
   },
   "file_extension": ".py",
   "mimetype": "text/x-python",
   "name": "python",
   "nbconvert_exporter": "python",
   "pygments_lexer": "ipython3",
   "version": "3.9.2"
  },
  "orig_nbformat": 2,
  "kernelspec": {
   "name": "python392jvsc74a57bd0d2990ea161ee6956a362087ffa53000b23fd3c21cc082d0b19467b0840579a3c",
   "display_name": "Python 3.9.2 64-bit"
  },
  "metadata": {
   "interpreter": {
    "hash": "05b2220a26de58e0031cd0a7cbd64d94eaa84338873dc0e02216392d53d6f30f"
   }
  }
 },
 "nbformat": 4,
 "nbformat_minor": 2,
 "cells": [
  {
   "source": [
    "# Tutorial 6"
   ],
   "cell_type": "markdown",
   "metadata": {}
  },
  {
   "source": [
    "1a)\n",
    "\n",
    "    BEGIN  \n",
    "        INPUT s1, s2  \n",
    "        s1 = s2  \n",
    "    END  \n",
    "\n",
    "1b)\n",
    "\n",
    "    BEGIN  \n",
    "        INPUT s1, s2  \n",
    "        s1 = s1 + s2  \n",
    "    END  \n",
    "\n",
    "1c)\n",
    "\n",
    "    BEGIN  \n",
    "        INPUT s1, s2  \n",
    "\n",
    "        IF s1 == s2:  \n",
    "            PRINT \"same\"  \n",
    "        ELSE IF s1 > s2:  \n",
    "            PRINT \"s1 is greater\"  \n",
    "        ELSE:  \n",
    "            PRINT \"s2 is greater\"  \n",
    "        ENDIF  \n",
    "    END  \n",
    "\n",
    "2a)\n",
    "\n",
    "    p\n",
    "\n",
    "2b)\n",
    "\n",
    "    e\n",
    "    \n",
    "2c)\n",
    "\n",
    "    13\n",
    "\n",
    "2d)\n",
    "\n",
    "    myprogra\n",
    "\n",
    "3a)\n",
    "\n",
    "    data[5:9]\n",
    "\n",
    "3b)\n",
    "\n",
    "    data[:-]\n",
    "\n",
    "3c)\n",
    "\n",
    "    data.center(1)\n",
    "\n",
    "4a)\n",
    "\n",
    "    data.split(\" \")\n",
    "\n",
    "4b) \n",
    "\n",
    "    data.upper()\n",
    "\n",
    "4c)\n",
    "    \n",
    "    data.find(\"rules\")\n",
    "\n",
    "4d)\n",
    "\n",
    "    data.replace(\"!\", \"?\")\n",
    "\n",
    "5a)\n",
    "\n",
    "    False\n",
    "\n",
    "5b)\n",
    "\n",
    "    \"Python totally rules!\""
   ],
   "cell_type": "markdown",
   "metadata": {}
  },
  {
   "source": [],
   "cell_type": "markdown",
   "metadata": {}
  },
  {
   "cell_type": "code",
   "execution_count": 3,
   "metadata": {},
   "outputs": [
    {
     "output_type": "stream",
     "name": "stdout",
     "text": [
      "3\n"
     ]
    }
   ],
   "source": [
    "f = open(\"One.txt\", \"r\")\n",
    "\n",
    "print(len(f.read().split(\"\\n\")))"
   ]
  },
  {
   "cell_type": "code",
   "execution_count": 8,
   "metadata": {},
   "outputs": [
    {
     "output_type": "execute_result",
     "data": {
      "text/plain": [
       "2"
      ]
     },
     "metadata": {},
     "execution_count": 8
    }
   ],
   "source": [
    "def num_of_four_letters(filename):\n",
    "    fileObject = open(filename, 'r')\n",
    "    stringOfContent = fileObject.read()\n",
    "    wordsList = stringOfContent.split('\\n')\n",
    "    count = 0\n",
    "    for word in wordsList:\n",
    "        if (len(word) == 4):\n",
    "            count += 1\n",
    "    return count\n",
    "\n",
    "num_of_four_letters(\"One.txt\")"
   ]
  },
  {
   "cell_type": "code",
   "execution_count": 2,
   "metadata": {},
   "outputs": [
    {
     "output_type": "execute_result",
     "data": {
      "text/plain": [
       "36"
      ]
     },
     "metadata": {},
     "execution_count": 2
    }
   ],
   "source": [
    "def average_in_a_file(filename):\n",
    "    fileObject = open(filename, 'r')\n",
    "    stringOfContent = fileObject.read()\n",
    "    numsList = stringOfContent.split('\\n')\n",
    "    totalVal = 0\n",
    "    for num in numsList:\n",
    "        totalVal += int(num)\n",
    "\n",
    "    return round(totalVal/len(numsList))\n",
    "\n",
    "\n",
    "average_in_a_file(\"integer.txt\")"
   ]
  },
  {
   "source": [
    "# Assignment 6"
   ],
   "cell_type": "markdown",
   "metadata": {}
  },
  {
   "cell_type": "code",
   "execution_count": 13,
   "metadata": {},
   "outputs": [
    {
     "output_type": "stream",
     "name": "stdout",
     "text": [
      "f\nt\ne\nd\nb\nc\na\n"
     ]
    }
   ],
   "source": [
    "myString = \"acbdetf\"\n",
    "for character in myString[::-1]:\n",
    "    print(character)"
   ]
  },
  {
   "cell_type": "code",
   "execution_count": 7,
   "metadata": {},
   "outputs": [
    {
     "output_type": "execute_result",
     "data": {
      "text/plain": [
       "'2'"
      ]
     },
     "metadata": {},
     "execution_count": 7
    }
   ],
   "source": [
    "def binToHex(binaryVal):\n",
    "    indexi = \"0123456789ABCDEF\"\n",
    "    if(len(binaryVal) > 4):\n",
    "        return binToHex(binaryVal[:-4]) + binToHex(binaryVal[-4:])\n",
    "    else:\n",
    "        sum = 0\n",
    "        count = 0\n",
    "        for binNum in binaryVal[::-1]:\n",
    "            sum += (int(binNum)) * 2**count\n",
    "            count += 1\n",
    "        return indexi[count]\n",
    "        \n",
    "\n",
    "\n"
   ]
  },
  {
   "cell_type": "code",
   "execution_count": 1,
   "metadata": {},
   "outputs": [
    {
     "output_type": "stream",
     "name": "stdout",
     "text": [
      "+-----------+-------------+--------------+\n| Last Name | Hourly Wage | Hours Worked |\n+-----------+-------------+--------------+\n|    Tan    |      5      |      40      |\n|    Sim    |      6      |      20      |\n|    Lee    |      4      |      20      |\n|    Ng     |      7      |      50      |\n|    Ong    |      8      |      60      |\n|   Wong    |     5.5     |      45      |\n|    Goh    |     6.5     |      24      |\n|   Chua    |      7      |      60      |\n|   Chan    |      9      |      10      |\n|    Koh    |     12      |      5       |\n|    Lim    |     9.5     |      20      |\n+-----------+-------------+--------------+\n"
     ]
    }
   ],
   "source": [
    "from tabulate import tabulate\n",
    "\n",
    "def printFromFile(filename):\n",
    "    f = open(filename)\n",
    "    stringContent = f.read()\n",
    "    listOfContent = stringContent.split(\"\\n\")\n",
    "    for i in range(len(listOfContent)):\n",
    "        listOfContent[i] = listOfContent[i].split(\" \")\n",
    "    \n",
    "    print(tabulate(listOfContent, headers=[\"Last Name\", \"Hourly Wage\", \"Hours Worked\"], tablefmt=\"pretty\"))\n",
    "\n",
    "printFromFile(\"payroll.txt\")"
   ]
  },
  {
   "cell_type": "code",
   "execution_count": 7,
   "metadata": {},
   "outputs": [
    {
     "output_type": "stream",
     "name": "stdout",
     "text": [
      "+-----------+-------------+--------------+\n| Last Name | Hourly Wage | Hours Worked |\n+-----------+-------------+--------------+\n|    Tan    |      5      |      40      |\n|    Sim    |      6      |      20      |\n|    Lee    |      4      |      20      |\n|    Ng     |      7      |      50      |\n|    Ong    |      8      |      60      |\n|   Wong    |     5.5     |      45      |\n|    Goh    |     6.5     |      24      |\n|   Chua    |      7      |      60      |\n|   Chan    |      9      |      10      |\n|    Koh    |     12      |      5       |\n|    Lim    |     9.5     |      20      |\n+-----------+-------------+--------------+\n"
     ]
    }
   ],
   "source": [
    "\n",
    "from tabulate import tabulate\n",
    "\n",
    "infoList = []\n",
    "\n",
    "def printFromFile(filename):\n",
    "    with open(filename) as f:\n",
    "        data = f.readlines()\n",
    "        for line in data:\n",
    "            entry = line.strip().split()\n",
    "            infoList.append(entry)\n",
    "        \n",
    "    print(tabulate(infoList, headers=[\"Last Name\", \"Hourly Wage\", \"Hours Worked\"], tablefmt=\"pretty\"))\n",
    "\n",
    "\n",
    "\n",
    "\n",
    "printFromFile(\"payroll.txt\")"
   ]
  },
  {
   "cell_type": "code",
   "execution_count": null,
   "metadata": {},
   "outputs": [],
   "source": []
  }
 ]
}
{
 "cells": [
  {
   "cell_type": "markdown",
   "source": [
    "# Merge Sort\n",
    "\n",
    "### Task 1\n",
    "\n",
    "Define a function `merge` that takes in 2 parameters.\n",
    "    a. leftList - sorted list\n",
    "    b. rightList - sorted list\n",
    "\n",
    "The function merges the 2 sorted lists and return the merged list that is sorted.\n",
    "\n"
   ],
   "metadata": {}
  },
  {
   "cell_type": "code",
   "execution_count": null,
   "source": [
    "def merge_1(leftArr, rightArr):\r\n",
    "    \r\n",
    "    arrN = []\r\n",
    "    leftArrN = leftArr.copy()\r\n",
    "    rightArrN = rightArr.copy()\r\n",
    "\r\n",
    "    while(leftArrN and rightArrN):\r\n",
    "        if(leftArrN[0] < rightArrN[0]):\r\n",
    "            arrN.append(leftArrN[0])\r\n",
    "            leftArrN.pop(0)\r\n",
    "        else:\r\n",
    "            arrN.append(rightArrN[0])\r\n",
    "            rightArrN.pop(0)\r\n",
    "    \r\n",
    "    if(not leftArrN):\r\n",
    "        while(rightArrN):\r\n",
    "            arrN.append(rightArrN[0])\r\n",
    "            rightArrN.pop(0)\r\n",
    "\r\n",
    "    elif(not rightArrN):\r\n",
    "        while(leftArrN):\r\n",
    "            arrN.append(leftArrN[0])\r\n",
    "            leftArrN.pop(0)\r\n",
    "    \r\n",
    "\r\n",
    "    return arrN\r\n",
    "\r\n",
    "def merge_2(leftArr, rightArr):\r\n",
    "    arrN = []\r\n",
    "    leftPtr = rightPtr = 0\r\n",
    "\r\n",
    "    while(leftArrN and rightArrN):\r\n",
    "        if(leftArrN[0] < rightArrN[0]):\r\n",
    "            arrN.append(leftArrN[0])\r\n",
    "            leftArrN.pop(0)\r\n",
    "        else:\r\n",
    "            arrN.append(rightArrN[0])\r\n",
    "            rightArrN.pop(0)\r\n",
    "    \r\n",
    "    if(not leftArrN):\r\n",
    "        while(rightArrN):\r\n",
    "            arrN.append(rightArrN[0])\r\n",
    "            rightArrN.pop(0)\r\n",
    "\r\n",
    "    elif(not rightArrN):\r\n",
    "        while(leftArrN):\r\n",
    "            arrN.append(leftArrN[0])\r\n",
    "            leftArrN.pop(0)\r\n",
    "    \r\n",
    "\r\n",
    "    return arrN\r\n",
    "\r\n",
    "def merge_in_place(arr, l_start, r_end):\r\n",
    "    l_end = (l_start + r_end)//2\r\n",
    "    r_start = l_end + 1 \r\n",
    "\r\n",
    "    while (l_start <= l_end and r_start <= r_end):\r\n",
    "        if(arr[l_start] <= arr[r_start]):\r\n",
    "            l_start += 1\r\n",
    "        \r\n",
    "        else:\r\n",
    "            temp = arr[r_start]\r\n",
    "            for i in range(r_start, l_start, -1):\r\n",
    "                arr[i] = arr[i-1]\r\n",
    "            \r\n",
    "            arr[l_start] = temp\r\n",
    "\r\n",
    "            l_start += 1\r\n",
    "            l_end += 1\r\n",
    "\r\n",
    "\r\n",
    "def main():\r\n",
    "    l=[17,26,54,93]\r\n",
    "    r=[20,44,55]\r\n",
    "    sortedList = merge(l,r)\r\n",
    "    print(sortedList)\r\n",
    "\r\n",
    "main()"
   ],
   "outputs": [],
   "metadata": {}
  },
  {
   "cell_type": "markdown",
   "source": [
    "### Task 2\n",
    "\n",
    "Define a function `split` that takes in a list and split the list into 2 lists of almost equal length and print out the 2 list.\n"
   ],
   "metadata": {}
  },
  {
   "cell_type": "code",
   "execution_count": 3,
   "source": [
    "def split(lst):\r\n",
    "    mid = (len(lst)-2)//2\r\n",
    "    print(lst[0: mid])\r\n",
    "    print(lst[mid+1 : len(lst)-1])\r\n",
    "    \r\n",
    "def main():\r\n",
    "    l=[17,26,54,93,20,44,55]\r\n",
    "    split(l)\r\n",
    "    \r\n",
    "main()\r\n",
    "    "
   ],
   "outputs": [
    {
     "output_type": "stream",
     "name": "stdout",
     "text": [
      "[17, 26]\n",
      "[93, 20, 44]\n"
     ]
    }
   ],
   "metadata": {}
  },
  {
   "cell_type": "markdown",
   "source": [
    "### Task 3\n",
    "\n",
    "Define a function `keepSpliting` that takes in a list.\n",
    "* split the list into 2 lists of almost equal length\n",
    "* call itself with the first half of the splitted list until the list contains 1 element\n",
    "* call itself with the second half of the splitted list until the list contains 1 element\n",
    "    "
   ],
   "metadata": {}
  },
  {
   "cell_type": "code",
   "execution_count": 8,
   "source": [
    "#warning : do not run without a base case!\r\n",
    "def keepSpliting(lst):\r\n",
    "    if (len(lst) <= 1):\r\n",
    "        return lst\r\n",
    "\r\n",
    "    else:\r\n",
    "        mid = (len(lst)-2)//2\r\n",
    "\r\n",
    "        a=lst[0:mid]\r\n",
    "        b=lst[mid+1: len(lst)-1]\r\n",
    "        c = keepSpliting(a)\r\n",
    "        d = keepSpliting(b)\r\n",
    "        return c+d \r\n",
    "\r\n",
    "def main():\r\n",
    "    l=[17,26,54,93,20,44,55]\r\n",
    "    x = keepSpliting(l)\r\n",
    "    print(x)\r\n",
    "    \r\n",
    "main()"
   ],
   "outputs": [],
   "metadata": {}
  },
  {
   "cell_type": "markdown",
   "source": [
    "### Task 4\n",
    "\n",
    "#### Merge Sort\n",
    "\n",
    "Merge Sort is a Divide and Conquer algorithm.\n",
    "It divides input array in two halves, calls itself for the two halves\n",
    "and then merges the two sorted halves.\n",
    "\n",
    "Implement merge sort.\n",
    "\n"
   ],
   "metadata": {}
  },
  {
   "cell_type": "code",
   "execution_count": 11,
   "source": [
    "# In place for memory efficiency :D\r\n",
    "\r\n",
    "def merge(arr, l_start, l_end, r_start, r_end):\r\n",
    "    while (l_start <= l_end and r_start <= r_end):\r\n",
    "        if(arr[l_start] <= arr[r_start]):\r\n",
    "            l_start += 1\r\n",
    "        \r\n",
    "        else:\r\n",
    "            temp = arr[r_start]\r\n",
    "            for i in range(r_start, l_start, -1):\r\n",
    "                arr[i] = arr[i-1]\r\n",
    "            \r\n",
    "            arr[l_start] = temp\r\n",
    "\r\n",
    "            l_start += 1\r\n",
    "            l_end += 1\r\n",
    "            r_start += 1 \r\n",
    "\r\n",
    "def mergeSort(arr, start, end):\r\n",
    "    if(start < end):\r\n",
    "        mid = (start + end)//2\r\n",
    "\r\n",
    "        mergeSort(arr, start, mid)\r\n",
    "        mergeSort(arr, mid + 1, end)\r\n",
    "        merge(arr, start, mid, mid+1, end)\r\n",
    "    \r\n",
    "def main():\r\n",
    "    l=[26, 93, 17, 54, 55, 20, 44]\r\n",
    "    mergeSort(l, 0, len(l)-1)\r\n",
    "\r\n",
    "    print(l)\r\n",
    "    \r\n",
    "\r\n",
    "main()"
   ],
   "outputs": [
    {
     "output_type": "stream",
     "name": "stdout",
     "text": [
      "[17, 20, 26, 44, 54, 55, 93]\n"
     ]
    }
   ],
   "metadata": {
    "scrolled": true
   }
  },
  {
   "cell_type": "markdown",
   "source": [
    "### Task 5\n",
    "\n",
    "Write a function **Task5(filename, qty, min, max)** that:\n",
    "* accepts four parameters:\n",
    "    * *filename*, a string representing the name of a file\n",
    "    * *qty*, an integer representing the number of random integer to generate\n",
    "    * *min*, an integer representing the smallest value that a random integer can take\n",
    "    * *max*, an integer representing the largest value that a random integer can take\n",
    "* generates *qty* random integers between *min* and *max*\n",
    "* writes each generated integer, one per line, to a file named *filename*.\n",
    "\n",
    "Generate 200 random numbers between 8 and 500 and save them to a file call **Task5_random.txt**.\n"
   ],
   "metadata": {}
  },
  {
   "cell_type": "code",
   "execution_count": 6,
   "source": [
    "#Write your code here\r\n",
    "import random\r\n",
    "\r\n",
    "def Task5(filename, qty, min, max):\r\n",
    "\r\n",
    "    with open(filename, \"w\" ) as f:\r\n",
    "        for i in range(qty):\r\n",
    "            randValue = random.randint(min, max)\r\n",
    "            f.write(str(randValue) + \"\\n\")\r\n",
    "\r\n",
    "Task5(\"Task5_random.txt\", 200, 8, 500)\r\n"
   ],
   "outputs": [],
   "metadata": {}
  },
  {
   "cell_type": "markdown",
   "source": [
    "### Task 6\r\n",
    "\r\n",
    "Write a function **Task6(list_of_integers)** that:\r\n",
    "* takes a list of integers, *list_of_integers*\r\n",
    "* sort them into *descending order* using merge sort\r\n",
    "* returns the sorted list.\r\n",
    "\r\n",
    "Use the list ```[25, 15, 54, 78, 40, 98, 0, 7, 18, 40, 0 99, 100] ``` to test your function.\r\n"
   ],
   "metadata": {}
  },
  {
   "cell_type": "code",
   "execution_count": 14,
   "source": [
    "#Write your code here\r\n",
    "# In place for memory efficiency :D\r\n",
    "\r\n",
    "def merge(arr, l_start, l_end, r_start, r_end):\r\n",
    "    while (l_start <= l_end and r_start <= r_end):\r\n",
    "        if(arr[l_start] >= arr[r_start]):\r\n",
    "            l_start += 1\r\n",
    "        \r\n",
    "        else:\r\n",
    "            temp = arr[r_start]\r\n",
    "            for i in range(r_start, l_start, -1):\r\n",
    "                arr[i] = arr[i-1]\r\n",
    "            \r\n",
    "            arr[l_start] = temp\r\n",
    "\r\n",
    "            l_start += 1\r\n",
    "            l_end += 1\r\n",
    "            r_start += 1\r\n",
    "\r\n",
    "def mergeSort(arr, start, end):\r\n",
    "    if(start < end):\r\n",
    "        mid = (start + end)//2\r\n",
    "\r\n",
    "        mergeSort(arr, start, mid)\r\n",
    "        mergeSort(arr, mid + 1, end)\r\n",
    "        merge(arr, start, mid, mid+1, end)\r\n",
    "    \r\n",
    "def main():\r\n",
    "    l=[25, 15, 54, 78, 40, 98, 0, 7, 18, 40,0, 99, 100]\r\n",
    "    mergeSort(l, 0, len(l)-1)\r\n",
    "\r\n",
    "    print(l)\r\n",
    "    \r\n",
    "\r\n",
    "main()"
   ],
   "outputs": [
    {
     "output_type": "stream",
     "name": "stdout",
     "text": [
      "[100, 99, 98, 78, 54, 40, 40, 25, 18, 15, 7, 0, 0]\n"
     ]
    }
   ],
   "metadata": {}
  },
  {
   "cell_type": "markdown",
   "source": [
    "### Task 7\n",
    "\n",
    "Write a function **Task7(in_filename, out_filename)** that:\n",
    "* accepts two parameters:\n",
    "    * *in_filename* represents the input file name\n",
    "    * *out_filename* represents the output file name\n",
    "* reads the integers from the input file\n",
    "* uses **Task6** function to sort the integers\n",
    "* write the sorted integers to the output file.\n",
    "\n",
    "Invoke Task7 with the input file as **Task5_random.txt** and output file as **Task7_sorted.txt**"
   ],
   "metadata": {}
  },
  {
   "cell_type": "code",
   "execution_count": 23,
   "source": [
    "#Write your code here\r\n",
    "def Task7(in_filename, out_filename):\r\n",
    "    NumberList = []\r\n",
    "    with open(in_filename, \"r\") as rFile:\r\n",
    "        inputText = rFile.read()\r\n",
    "        NumberList = inputText.split(\"\\n\")[:-1]\r\n",
    "\r\n",
    "    NumberList = [int(v) for v in NumberList]\r\n",
    "    \r\n",
    "    mergeSort(NumberList, 0 , len(NumberList)-1)\r\n",
    "\r\n",
    "    print(NumberList)\r\n",
    "    \r\n",
    "    \r\n",
    "\r\n",
    "        \r\n"
   ],
   "outputs": [],
   "metadata": {}
  },
  {
   "cell_type": "code",
   "execution_count": 24,
   "source": [
    "Task7(\"Task5_random.txt\", \"Task7_sorted.txt\")"
   ],
   "outputs": [
    {
     "output_type": "stream",
     "name": "stdout",
     "text": [
      "[498, 497, 496, 495, 491, 488, 488, 487, 479, 479, 476, 474, 472, 471, 469, 458, 449, 448, 447, 443, 436, 434, 432, 431, 431, 429, 427, 426, 426, 417, 413, 407, 405, 404, 404, 403, 396, 396, 391, 387, 383, 379, 378, 376, 375, 370, 370, 368, 367, 366, 358, 354, 353, 350, 348, 348, 344, 344, 334, 321, 321, 313, 308, 305, 304, 304, 303, 299, 296, 295, 294, 292, 290, 284, 283, 282, 282, 280, 276, 275, 270, 269, 269, 267, 267, 265, 262, 260, 242, 242, 241, 239, 238, 238, 237, 234, 231, 225, 225, 220, 219, 215, 213, 210, 209, 207, 203, 203, 202, 201, 199, 199, 198, 197, 195, 192, 188, 185, 185, 182, 180, 179, 178, 177, 176, 173, 171, 169, 168, 168, 163, 162, 161, 160, 156, 155, 152, 152, 151, 149, 148, 146, 138, 136, 132, 126, 125, 120, 118, 115, 115, 113, 112, 109, 106, 105, 105, 102, 99, 96, 94, 93, 91, 89, 83, 81, 79, 75, 74, 68, 68, 66, 66, 65, 65, 63, 62, 62, 59, 58, 58, 52, 52, 52, 49, 48, 46, 45, 43, 41, 38, 38, 36, 36, 34, 34, 32, 31, 29, 17]\n"
     ]
    }
   ],
   "metadata": {}
  },
  {
   "cell_type": "code",
   "execution_count": null,
   "source": [],
   "outputs": [],
   "metadata": {}
  }
 ],
 "metadata": {
  "kernelspec": {
   "name": "python3",
   "display_name": "Python 3.8.7 64-bit"
  },
  "language_info": {
   "codemirror_mode": {
    "name": "ipython",
    "version": 3
   },
   "file_extension": ".py",
   "mimetype": "text/x-python",
   "name": "python",
   "nbconvert_exporter": "python",
   "pygments_lexer": "ipython3",
   "version": "3.8.7"
  },
  "interpreter": {
   "hash": "05b2220a26de58e0031cd0a7cbd64d94eaa84338873dc0e02216392d53d6f30f"
  }
 },
 "nbformat": 4,
 "nbformat_minor": 4
}
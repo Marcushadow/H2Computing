{
 "cells": [
  {
   "cell_type": "markdown",
   "metadata": {},
   "source": [
    "# Tutorial 3A"
   ]
  },
  {
   "cell_type": "markdown",
   "metadata": {},
   "source": [
    "Question 3"
   ]
  },
  {
   "cell_type": "code",
   "execution_count": 34,
   "metadata": {},
   "outputs": [
    {
     "name": "stdout",
     "output_type": "stream",
     "text": [
      "aaron adam\n"
     ]
    }
   ],
   "source": [
    "x = \"aaron\"\n",
    "y = \"adam\"\n",
    "\n",
    "if(x < y):\n",
    "    print(x, y)\n",
    "\n",
    "else:\n",
    "    print(y,x)"
   ]
  },
  {
   "cell_type": "markdown",
   "metadata": {},
   "source": [
    "Question 4"
   ]
  },
  {
   "cell_type": "code",
   "execution_count": 3,
   "metadata": {},
   "outputs": [
    {
     "name": "stdout",
     "output_type": "stream",
     "text": [
      "Please enter your gross income: 2345000\n",
      "Please enter number of dependents: 2\n",
      "Tax payable to the government is 466200.00\n"
     ]
    }
   ],
   "source": [
    "grossIncome = input(\"Please enter your gross income: \")\n",
    "\n",
    "if(not grossIncome.replace(\".\", \"\", 1).isdigit()):\n",
    "    print(\"Gross income must be an integer/float !!\")\n",
    "    grossIncome = input(\"Please enter your gross income: \")\n",
    "\n",
    "dependents = input(\"Please enter number of dependents: \")\n",
    "\n",
    "if(not dependents.isdigit()):\n",
    "    print(\"Number of dependents must be an integer !!\")\n",
    "    dependents = input(\"Please enter number of dependents: \")\n",
    "\n",
    "grossIncome = float(grossIncome)\n",
    "dependents = int(dependents)\n",
    "\n",
    "# Standard Deduction\n",
    "\n",
    "tax = grossIncome - 10000\n",
    "\n",
    "# Dependent deduction\n",
    "\n",
    "tax = tax - dependents*2000\n",
    "\n",
    "tax = float(0.2*tax)\n",
    "\n",
    "if(tax < 0):\n",
    "    tax = 0\n",
    "\n",
    "print(f\"Tax payable to the government is {tax:.2f}\")\n"
   ]
  },
  {
   "cell_type": "markdown",
   "metadata": {},
   "source": [
    "Question 5"
   ]
  },
  {
   "cell_type": "code",
   "execution_count": 6,
   "metadata": {},
   "outputs": [
    {
     "name": "stdout",
     "output_type": "stream",
     "text": [
      "A: Rock,paper or scissors (R, P, S): S\n",
      "B: Rock,paper or scissors (R, P, S): P\n",
      "A wins\n"
     ]
    }
   ],
   "source": [
    "playerA = input(\"A: Rock,paper or scissors (R, P, S): \")\n",
    "\n",
    "while( not (playerA == \"R\" or playerA == \"P\" or playerA ==\"S\")):\n",
    "    print(\"Not a valid input !!\")\n",
    "    playerA = input(\"A: Rock,paper or scissors (R, P, S): \")\n",
    "    \n",
    "    \n",
    "playerB = input(\"B: Rock,paper or scissors (R, P, S): \")\n",
    "\n",
    "while( not (playerB == \"R\" or playerB == \"P\" or playerB ==\"S\")):\n",
    "    print(\"Not a valid input !!\")\n",
    "    playerB = input(\"B: Rock,paper or scissors (R, P, S): \")\n",
    "\n",
    "if(playerA == playerB):\n",
    "    print(\"Draw!\")\n",
    "elif(playerA == \"R\"):\n",
    "    if(playerB == \"P\"):\n",
    "        print(\"B wins\")\n",
    "    else:\n",
    "        print(\"A wins\")\n",
    "elif(playerA == \"P\"):\n",
    "    if(playerB == \"R\"):\n",
    "        print(\"A wins\")\n",
    "    else:\n",
    "        print(\"B wins\")\n",
    "else:\n",
    "    if(playerB == \"S\"):\n",
    "        print(\"B wins\")\n",
    "    else:\n",
    "        print(\"A wins\")"
   ]
  },
  {
   "cell_type": "code",
   "execution_count": 16,
   "metadata": {},
   "outputs": [
    {
     "name": "stdout",
     "output_type": "stream",
     "text": [
      "A: Rock,paper or scissors (R, P, S): R\n",
      "B: Rock,paper or scissors (R, P, S): R\n",
      "Draw\n"
     ]
    }
   ],
   "source": [
    "playerA = input(\"A: Rock,paper or scissors (R, P, S): \")\n",
    "\n",
    "while( not (playerA == \"R\" or playerA == \"P\" or playerA ==\"S\")):\n",
    "    print(\"Not a valid input !!\")\n",
    "    playerA = input(\"A: Rock,paper or scissors (R, P, S): \")\n",
    "    \n",
    "    \n",
    "playerB = input(\"B: Rock,paper or scissors (R, P, S): \")\n",
    "\n",
    "while( not (playerB == \"R\" or playerB == \"P\" or playerB ==\"S\")):\n",
    "    print(\"Not a valid input !!\")\n",
    "    playerB = input(\"B: Rock,paper or scissors (R, P, S): \")\n",
    "    \n",
    "Outcomes = {\n",
    "    \"R\": {\"P\":\"B Wins\", \"R\":\"Draw\", \"S\":\" A Wins\"},\n",
    "    \"P\": {\"P\":\"Draw\", \"R\":\"A Wins\" ,\"S\":\"B Wins\"},\n",
    "    \"S\": {\"P\":\"A Wins\", \"R\":\"B Wins\" ,\"S\":\"Draw\"}\n",
    "}\n",
    "\n",
    "print(Outcomes[playerA][playerB])"
   ]
  },
  {
   "cell_type": "markdown",
   "metadata": {},
   "source": [
    "# Tutorial 3B"
   ]
  },
  {
   "cell_type": "markdown",
   "metadata": {},
   "source": [
    "Question 2"
   ]
  },
  {
   "cell_type": "code",
   "execution_count": 8,
   "metadata": {
    "collapsed": true
   },
   "outputs": [
    {
     "name": "stdout",
     "output_type": "stream",
     "text": [
      "your name\n",
      "your name\n",
      "your name\n",
      "your name\n",
      "your name\n",
      "your name\n",
      "your name\n",
      "your name\n",
      "your name\n",
      "your name\n",
      "your name\n",
      "your name\n",
      "your name\n",
      "your name\n",
      "your name\n",
      "your name\n",
      "your name\n",
      "your name\n",
      "your name\n",
      "your name\n",
      "your name\n",
      "your name\n",
      "your name\n",
      "your name\n",
      "your name\n",
      "your name\n",
      "your name\n",
      "your name\n",
      "your name\n",
      "your name\n",
      "your name\n",
      "your name\n",
      "your name\n",
      "your name\n",
      "your name\n",
      "your name\n",
      "your name\n",
      "your name\n",
      "your name\n",
      "your name\n",
      "your name\n",
      "your name\n",
      "your name\n",
      "your name\n",
      "your name\n",
      "your name\n",
      "your name\n",
      "your name\n",
      "your name\n",
      "your name\n"
     ]
    }
   ],
   "source": [
    "for i in range(50):\n",
    "    print(\"your name\", end=\"\\n\")"
   ]
  },
  {
   "cell_type": "markdown",
   "metadata": {},
   "source": [
    "Question 3"
   ]
  },
  {
   "cell_type": "code",
   "execution_count": 14,
   "metadata": {},
   "outputs": [
    {
     "name": "stdout",
     "output_type": "stream",
     "text": [
      " 0  : \\x00\n",
      " 1  : \\x01\n",
      " 2  : \\x02\n",
      " 3  : \\x03\n",
      " 4  : \\x04\n",
      " 5  : \\x05\n",
      " 6  : \\x06\n",
      " 7  : \\x07\n",
      " 8  : \\x08\n",
      " 9  : \\t\n",
      "10  : \\n\n",
      "11  : \\x0b\n",
      "12  : \\x0c\n",
      "13  : \\r\n",
      "14  : \\x0e\n",
      "15  : \\x0f\n",
      "16  : \\x10\n",
      "17  : \\x11\n",
      "18  : \\x12\n",
      "19  : \\x13\n",
      "20  : \\x14\n",
      "21  : \\x15\n",
      "22  : \\x16\n",
      "23  : \\x17\n",
      "24  : \\x18\n",
      "25  : \\x19\n",
      "26  : \\x1a\n",
      "27  : \\x1b\n",
      "28  : \\x1c\n",
      "29  : \\x1d\n",
      "30  : \\x1e\n",
      "31  : \\x1f\n",
      "32  :  \n",
      "33  : !\n",
      "34  : \"\n",
      "35  : #\n",
      "36  : $\n",
      "37  : %\n",
      "38  : &\n",
      "39  : '\n",
      "40  : (\n",
      "41  : )\n",
      "42  : *\n",
      "43  : +\n",
      "44  : ,\n",
      "45  : -\n",
      "46  : .\n",
      "47  : /\n",
      "48  : 0\n",
      "49  : 1\n",
      "50  : 2\n",
      "51  : 3\n",
      "52  : 4\n",
      "53  : 5\n",
      "54  : 6\n",
      "55  : 7\n",
      "56  : 8\n",
      "57  : 9\n",
      "58  : :\n",
      "59  : ;\n",
      "60  : <\n",
      "61  : =\n",
      "62  : >\n",
      "63  : ?\n",
      "64  : @\n",
      "65  : A\n",
      "66  : B\n",
      "67  : C\n",
      "68  : D\n",
      "69  : E\n",
      "70  : F\n",
      "71  : G\n",
      "72  : H\n",
      "73  : I\n",
      "74  : J\n",
      "75  : K\n",
      "76  : L\n",
      "77  : M\n",
      "78  : N\n",
      "79  : O\n",
      "80  : P\n",
      "81  : Q\n",
      "82  : R\n",
      "83  : S\n",
      "84  : T\n",
      "85  : U\n",
      "86  : V\n",
      "87  : W\n",
      "88  : X\n",
      "89  : Y\n",
      "90  : Z\n",
      "91  : [\n",
      "92  : \\\\\n",
      "93  : ]\n",
      "94  : ^\n",
      "95  : _\n",
      "96  : `\n",
      "97  : a\n",
      "98  : b\n",
      "99  : c\n",
      "100 : d\n",
      "101 : e\n",
      "102 : f\n",
      "103 : g\n",
      "104 : h\n",
      "105 : i\n",
      "106 : j\n",
      "107 : k\n",
      "108 : l\n",
      "109 : m\n",
      "110 : n\n",
      "111 : o\n",
      "112 : p\n",
      "113 : q\n",
      "114 : r\n",
      "115 : s\n",
      "116 : t\n",
      "117 : u\n",
      "118 : v\n",
      "119 : w\n",
      "120 : x\n",
      "121 : y\n",
      "122 : z\n",
      "123 : {\n",
      "124 : |\n",
      "125 : }\n",
      "126 : ~\n",
      "127 : \\x7f\n"
     ]
    }
   ],
   "source": [
    "for i in range(128):\n",
    "    print(f\"{i:^3} : {ascii(chr(i))[1:-1]}\", end=\"\\n\")"
   ]
  },
  {
   "cell_type": "markdown",
   "metadata": {},
   "source": [
    "Question 4"
   ]
  },
  {
   "cell_type": "code",
   "execution_count": 17,
   "metadata": {},
   "outputs": [
    {
     "name": "stdout",
     "output_type": "stream",
     "text": [
      "'H' with the ASCII value of 72\n",
      "'e' with the ASCII value of 101\n",
      "'l' with the ASCII value of 108\n",
      "'l' with the ASCII value of 108\n",
      "'o' with the ASCII value of 111\n",
      "' ' with the ASCII value of 32\n",
      "'W' with the ASCII value of 87\n",
      "'o' with the ASCII value of 111\n",
      "'r' with the ASCII value of 114\n",
      "'l' with the ASCII value of 108\n",
      "'d' with the ASCII value of 100\n"
     ]
    }
   ],
   "source": [
    "testString = \"Hello World\"\n",
    "\n",
    "for char in testString:\n",
    "    print(f\"'{char}' with the ASCII value of {ord(char)}\")"
   ]
  },
  {
   "cell_type": "markdown",
   "metadata": {},
   "source": [
    "Question 5"
   ]
  },
  {
   "cell_type": "code",
   "execution_count": 19,
   "metadata": {},
   "outputs": [
    {
     "name": "stdout",
     "output_type": "stream",
     "text": [
      "2\n"
     ]
    }
   ],
   "source": [
    "# No loop\n",
    "spaceString = \"  \"\n",
    "print(spaceString.count(' '))\n",
    "\n",
    "# Loop\n",
    "count = 0\n",
    "for char in spaceString:\n",
    "    count += int(char==' ')\n",
    "\n",
    "print(count)"
   ]
  },
  {
   "cell_type": "markdown",
   "metadata": {},
   "source": [
    "Question 6"
   ]
  },
  {
   "cell_type": "code",
   "execution_count": 28,
   "metadata": {},
   "outputs": [
    {
     "name": "stdout",
     "output_type": "stream",
     "text": [
      "Number of iterations: 4\n",
      "0.7238095238095239\n"
     ]
    }
   ],
   "source": [
    "iterations = input(\"Number of iterations: \")\n",
    "while(not iterations.isdigit()):\n",
    "    print(\"Error must be integer! \")\n",
    "    iterations = input(\"Number of iterations: \")\n",
    "\n",
    "iterations = int(iterations)\n",
    "piOverFour = 0\n",
    "for i in range(iterations):\n",
    "    \n",
    "    piOverFour += ((-1)**(i+2)) /(1+2*i)\n",
    "\n",
    "print(piOverFour)\n",
    "    "
   ]
  },
  {
   "cell_type": "markdown",
   "metadata": {},
   "source": [
    "Question 7"
   ]
  },
  {
   "cell_type": "code",
   "execution_count": 31,
   "metadata": {},
   "outputs": [
    {
     "name": "stdout",
     "output_type": "stream",
     "text": [
      "Enter the temperature for Monday: 1\n",
      "Enter the temperature for Tuesday: 2\n",
      "Enter the temperature for Wednesday: 3\n",
      "Enter the temperature for Thursday: -3\n",
      "Enter the temperature for Friday: -2\n",
      "Enter the temperature for Saturday: -1\n",
      "Enter the temperature for Sunday: 4\n",
      "Average temp for non-freezing days are 2.5\n"
     ]
    }
   ],
   "source": [
    "listOfTemps = []\n",
    "\n",
    "days = [\"Monday\", \"Tuesday\", \"Wednesday\", \"Thursday\", \"Friday\", \"Saturday\", \"Sunday\"]\n",
    "\n",
    "for day in days:\n",
    "    temperature = input(f\"Enter the temperature for {day}: \")\n",
    "    while(not temperature.replace(\",\", \"\",1).replace(\"-\", \"\", 1).isdigit()):\n",
    "        print(\"Error: temperature must be a value !!\")\n",
    "        temperature = input(f\"Enter the temperature for {day}: \")\n",
    "    temperature = float(temperature)\n",
    "    listOfTemps.append(temperature)\n",
    "\n",
    "listOfTemps = list(filter(lambda x: x > 0, listOfTemps ))\n",
    "print(f\"Average temp for non-freezing days are {sum(listOfTemps)/len(listOfTemps)}\")\n",
    "        "
   ]
  },
  {
   "cell_type": "markdown",
   "metadata": {},
   "source": [
    "Question 8"
   ]
  },
  {
   "cell_type": "code",
   "execution_count": 54,
   "metadata": {},
   "outputs": [
    {
     "name": "stdout",
     "output_type": "stream",
     "text": [
      "  Length  |   Area   \n",
      "    1     |    49    \n",
      "    2     |    96    \n",
      "    3     |   141    \n",
      "    4     |   184    \n",
      "    5     |   225    \n",
      "    6     |   264    \n",
      "    7     |   301    \n",
      "    8     |   336    \n",
      "    9     |   369    \n",
      "    10    |   400    \n",
      "    11    |   429    \n",
      "    12    |   456    \n",
      "    13    |   481    \n",
      "    14    |   504    \n",
      "    15    |   525    \n",
      "    16    |   544    \n",
      "    17    |   561    \n",
      "    18    |   576    \n",
      "    19    |   589    \n",
      "    20    |   600    \n",
      "    21    |   609    \n",
      "    22    |   616    \n",
      "    23    |   621    \n",
      "    24    |   624    \n",
      "    25    |   625    \n",
      "    26    |   624    \n",
      "    27    |   621    \n",
      "    28    |   616    \n",
      "    29    |   609    \n",
      "    30    |   600    \n",
      "    31    |   589    \n",
      "    32    |   576    \n",
      "    33    |   561    \n",
      "    34    |   544    \n",
      "    35    |   525    \n",
      "    36    |   504    \n",
      "    37    |   481    \n",
      "    38    |   456    \n",
      "    39    |   429    \n",
      "    40    |   400    \n",
      "    41    |   369    \n",
      "    42    |   336    \n",
      "    43    |   301    \n",
      "    44    |   264    \n",
      "    45    |   225    \n",
      "    46    |   184    \n",
      "    47    |   141    \n",
      "    48    |    96    \n",
      "    49    |    49    \n",
      "    50    |    0     \n",
      "Maximum Area is 625\n"
     ]
    }
   ],
   "source": [
    "x = 0\n",
    "listOfStrings = [\"Length\",\"Area\"]\n",
    "print(f\"{listOfStrings[0]:^10}|{listOfStrings[1]:^10}\")\n",
    "\n",
    "maxArea = 0\n",
    "\n",
    "while ((100-2*x)/2 > 0):\n",
    "    x = x + 1\n",
    "    tempArea = int(x*((100-2*x)/2))\n",
    "    print(f\"{x:^10}|{tempArea:^10}\")\n",
    "    maxArea = max(maxArea, tempArea)\n",
    "    \n",
    "print(f\"Maximum Area is {maxArea}\")"
   ]
  },
  {
   "cell_type": "code",
   "execution_count": 63,
   "metadata": {},
   "outputs": [
    {
     "name": "stdout",
     "output_type": "stream",
     "text": [
      "Please input a number: 10\n",
      "      |   1   |   2   |   3   |   4   |   5   |   6   |   7   |   8   |   9   |  10   | \n",
      "  1   |   1   | \n",
      "  2   |   2   |   4   | \n",
      "  3   |   3   |   6   |   9   | \n",
      "  4   |   4   |   8   |  12   |  16   | \n",
      "  5   |   5   |  10   |  15   |  20   |  25   | \n",
      "  6   |   6   |  12   |  18   |  24   |  30   |  36   | \n",
      "  7   |   7   |  14   |  21   |  28   |  35   |  42   |  49   | \n",
      "  8   |   8   |  16   |  24   |  32   |  40   |  48   |  56   |  64   | \n",
      "  9   |   9   |  18   |  27   |  36   |  45   |  54   |  63   |  72   |  81   | \n",
      " 10   |  10   |  20   |  30   |  40   |  50   |  60   |  70   |  80   |  90   |  100  | \n"
     ]
    }
   ],
   "source": [
    "multTable = input(\"Please input a number: \")\n",
    "while(not multTable.isdigit()):\n",
    "    print(\"Error: This is not a integer!!\")\n",
    "    multTable = input(\"Please input a number: \")\n",
    "    \n",
    "multTable = int(multTable)\n",
    "\n",
    "# print the header\n",
    "for i in range(multTable + 1):\n",
    "    if(i == 0):\n",
    "        print(\"     \", end=\" | \")\n",
    "    else:\n",
    "        print(f\"{i:^5}\", end=\" | \")\n",
    "\n",
    "print()\n",
    "for i in range(1, multTable+1):\n",
    "    print(f\"{i:^5}\", end = \" | \")\n",
    "    for j in range(1,i+1):\n",
    "        print(f\"{j*i:^5}\", end = \" | \")\n",
    "    print()\n"
   ]
  },
  {
   "cell_type": "markdown",
   "metadata": {},
   "source": [
    "# Tutorial 3C"
   ]
  },
  {
   "cell_type": "markdown",
   "metadata": {},
   "source": [
    "Question 1"
   ]
  },
  {
   "cell_type": "code",
   "execution_count": 72,
   "metadata": {},
   "outputs": [
    {
     "name": "stdout",
     "output_type": "stream",
     "text": [
      "~-~-~-~-~-~-~-~-~-~-~-~-~-~-~-\n",
      "Enter an item name (Enter 'xyz' to stop): hammer\n",
      "Please input the price of object: 19.50\n",
      "Please input the quantity purchased: 1\n",
      "1 hammer \t $ 19.50\n",
      "\n"
     ]
    },
    {
     "ename": "KeyboardInterrupt",
     "evalue": "Interrupted by user",
     "output_type": "error",
     "traceback": [
      "\u001b[0;31m---------------------------------------------------------------------------\u001b[0m",
      "\u001b[0;31mKeyboardInterrupt\u001b[0m                         Traceback (most recent call last)",
      "\u001b[0;32m<ipython-input-72-a1c714572ece>\u001b[0m in \u001b[0;36m<module>\u001b[0;34m\u001b[0m\n\u001b[1;32m     27\u001b[0m \u001b[0;34m\u001b[0m\u001b[0m\n\u001b[1;32m     28\u001b[0m     \u001b[0mprint\u001b[0m\u001b[0;34m(\u001b[0m\u001b[0;34m)\u001b[0m\u001b[0;34m\u001b[0m\u001b[0;34m\u001b[0m\u001b[0m\n\u001b[0;32m---> 29\u001b[0;31m     \u001b[0mitem\u001b[0m \u001b[0;34m=\u001b[0m \u001b[0minput\u001b[0m\u001b[0;34m(\u001b[0m\u001b[0;34m\"Enter an item name (Enter 'xyz' to stop): \"\u001b[0m\u001b[0;34m)\u001b[0m\u001b[0;34m\u001b[0m\u001b[0;34m\u001b[0m\u001b[0m\n\u001b[0m\u001b[1;32m     30\u001b[0m \u001b[0;34m\u001b[0m\u001b[0m\n\u001b[1;32m     31\u001b[0m \u001b[0mprint\u001b[0m\u001b[0;34m(\u001b[0m\u001b[0;34mf\"Total bill \\t ${totalBill: .2f}\"\u001b[0m\u001b[0;34m)\u001b[0m\u001b[0;34m\u001b[0m\u001b[0;34m\u001b[0m\u001b[0m\n",
      "\u001b[0;32m/Library/Frameworks/Python.framework/Versions/3.7/lib/python3.7/site-packages/ipykernel/kernelbase.py\u001b[0m in \u001b[0;36mraw_input\u001b[0;34m(self, prompt)\u001b[0m\n\u001b[1;32m    861\u001b[0m             \u001b[0mself\u001b[0m\u001b[0;34m.\u001b[0m\u001b[0m_parent_ident\u001b[0m\u001b[0;34m,\u001b[0m\u001b[0;34m\u001b[0m\u001b[0;34m\u001b[0m\u001b[0m\n\u001b[1;32m    862\u001b[0m             \u001b[0mself\u001b[0m\u001b[0;34m.\u001b[0m\u001b[0m_parent_header\u001b[0m\u001b[0;34m,\u001b[0m\u001b[0;34m\u001b[0m\u001b[0;34m\u001b[0m\u001b[0m\n\u001b[0;32m--> 863\u001b[0;31m             \u001b[0mpassword\u001b[0m\u001b[0;34m=\u001b[0m\u001b[0;32mFalse\u001b[0m\u001b[0;34m,\u001b[0m\u001b[0;34m\u001b[0m\u001b[0;34m\u001b[0m\u001b[0m\n\u001b[0m\u001b[1;32m    864\u001b[0m         )\n\u001b[1;32m    865\u001b[0m \u001b[0;34m\u001b[0m\u001b[0m\n",
      "\u001b[0;32m/Library/Frameworks/Python.framework/Versions/3.7/lib/python3.7/site-packages/ipykernel/kernelbase.py\u001b[0m in \u001b[0;36m_input_request\u001b[0;34m(self, prompt, ident, parent, password)\u001b[0m\n\u001b[1;32m    891\u001b[0m             \u001b[0;32mexcept\u001b[0m \u001b[0mKeyboardInterrupt\u001b[0m\u001b[0;34m:\u001b[0m\u001b[0;34m\u001b[0m\u001b[0;34m\u001b[0m\u001b[0m\n\u001b[1;32m    892\u001b[0m                 \u001b[0;31m# re-raise KeyboardInterrupt, to truncate traceback\u001b[0m\u001b[0;34m\u001b[0m\u001b[0;34m\u001b[0m\u001b[0;34m\u001b[0m\u001b[0m\n\u001b[0;32m--> 893\u001b[0;31m                 \u001b[0;32mraise\u001b[0m \u001b[0mKeyboardInterrupt\u001b[0m\u001b[0;34m(\u001b[0m\u001b[0;34m\"Interrupted by user\"\u001b[0m\u001b[0;34m)\u001b[0m \u001b[0;32mfrom\u001b[0m \u001b[0;32mNone\u001b[0m\u001b[0;34m\u001b[0m\u001b[0;34m\u001b[0m\u001b[0m\n\u001b[0m\u001b[1;32m    894\u001b[0m             \u001b[0;32melse\u001b[0m\u001b[0;34m:\u001b[0m\u001b[0;34m\u001b[0m\u001b[0;34m\u001b[0m\u001b[0m\n\u001b[1;32m    895\u001b[0m                 \u001b[0;32mbreak\u001b[0m\u001b[0;34m\u001b[0m\u001b[0;34m\u001b[0m\u001b[0m\n",
      "\u001b[0;31mKeyboardInterrupt\u001b[0m: Interrupted by user"
     ]
    }
   ],
   "source": [
    "totalBill = 0\n",
    "\n",
    "def spacer():\n",
    "    spacer = \"~-\"\n",
    "    print(f\"{spacer*15:^30}\")\n",
    "\n",
    "\n",
    "spacer()\n",
    "item = input(\"Enter an item name (Enter 'xyz' to stop): \")\n",
    "\n",
    "while((item != \"xyz\") and (item != \"'xyz'\")):\n",
    "    price = input(\"Please input the price of object: \")\n",
    "    while(not price.replace(\".\", \"\", 1).isdigit()):\n",
    "        print(\"Error: No negative values or strings\")\n",
    "        price = input(\"Please input the price of object: \")\n",
    "    price = float(price)\n",
    "    \n",
    "    number = input(\"Please input the quantity purchased: \")\n",
    "    while(not number.isdigit()):\n",
    "        print(\"Error: No negative values, floats or strings\")\n",
    "        number = input(\"Please input the quantity purchased: \")\n",
    "    number = int(number)\n",
    "    \n",
    "    totalBill += price*number\n",
    "\n",
    "    print(f\"{number} {item} \\t ${price*number : .2f}\", end=\"\\n\")\n",
    "    \n",
    "    print()\n",
    "    spacer()\n",
    "    item = input(\"Enter an item name (Enter 'xyz' to stop): \")\n",
    "\n",
    "print(f\"Total bill \\t ${totalBill: .2f}\")"
   ]
  },
  {
   "cell_type": "markdown",
   "metadata": {},
   "source": [
    "Question 2"
   ]
  },
  {
   "cell_type": "code",
   "execution_count": 76,
   "metadata": {},
   "outputs": [
    {
     "name": "stdout",
     "output_type": "stream",
     "text": [
      "Enter an integer: 3\n",
      "Enter an integer: 6\n",
      "GCD is 3\n"
     ]
    }
   ],
   "source": [
    "A = input(\"Enter an integer: \")\n",
    "while(not A.isdigit()):\n",
    "    print(\"Error: Not an integer\")\n",
    "    A = input(\"Enter an integer: \")\n",
    "    \n",
    "B = input(\"Enter an integer: \")\n",
    "while(not B.isdigit()):\n",
    "    print(\"Error: Not an integer\")\n",
    "    B = input(\"Enter an integer: \")\n",
    "    \n",
    "A = int(A)\n",
    "B = int(B)\n",
    "if(A < B):\n",
    "    A, B = B, A\n",
    "\n",
    "\n",
    "while(B != 0):\n",
    "    remainder = A%B\n",
    "    A , B = B, remainder\n",
    "\n",
    "print(f\"GCD is {A}\")"
   ]
  },
  {
   "cell_type": "markdown",
   "metadata": {},
   "source": [
    "# Assignment 3"
   ]
  },
  {
   "cell_type": "markdown",
   "metadata": {},
   "source": [
    "Question 1"
   ]
  },
  {
   "cell_type": "code",
   "execution_count": 78,
   "metadata": {},
   "outputs": [
    {
     "name": "stdout",
     "output_type": "stream",
     "text": [
      "Please enter an integer: 5\n",
      "The factorial is 120\n"
     ]
    }
   ],
   "source": [
    "import math\n",
    "number = input(\"Please enter an integer: \")\n",
    "while(not number.isdigit()):\n",
    "    print(\"Error: Not an integer\")\n",
    "    number = input(\"Please enter an integer: \")\n",
    "\n",
    "number = int(number)\n",
    "print(f\"The factorial is {math.factorial(number)}\")\n"
   ]
  },
  {
   "cell_type": "markdown",
   "metadata": {},
   "source": [
    "Question 2"
   ]
  },
  {
   "cell_type": "code",
   "execution_count": 81,
   "metadata": {},
   "outputs": [
    {
     "name": "stdout",
     "output_type": "stream",
     "text": [
      "Please enter side 1: \n",
      "Error: Not an integer\n",
      "Please enter side 1: 3\n",
      "Please enter side 2: 4\n",
      "Please enter side 3: 5\n",
      "Not equilateral\n"
     ]
    }
   ],
   "source": [
    "side1 = input(\"Please enter side 1: \")\n",
    "while(not side1.replace(\".\", \"\", 1).isdigit()):\n",
    "    print(\"Error: Not an integer\")\n",
    "    side1 = input(\"Please enter side 1: \")\n",
    "\n",
    "side2 = input(\"Please enter side 2: \")\n",
    "while(not side2.replace(\".\", \"\", 1).isdigit()):\n",
    "    print(\"Error: Not an integer\")\n",
    "    side2 = input(\"Please enter side 2: \")\n",
    "\n",
    "side3 = input(\"Please enter side 3: \")\n",
    "while(not side3.replace(\".\", \"\", 1).isdigit()):\n",
    "    print(\"Error: Not an integer\")\n",
    "    side3 = input(\"Please enter side 3: \")\n",
    "    \n",
    "side1 = float(side1)\n",
    "side2 = float(side2)\n",
    "side3 = float(side3)\n",
    "\n",
    "if(side1 != side2 or side2 != side3):\n",
    "    print(\"Not equilateral\")\n",
    "else:\n",
    "    print(\"Equilateral\")"
   ]
  },
  {
   "cell_type": "markdown",
   "metadata": {},
   "source": [
    "Question 3"
   ]
  },
  {
   "cell_type": "code",
   "execution_count": 83,
   "metadata": {},
   "outputs": [
    {
     "name": "stdout",
     "output_type": "stream",
     "text": [
      "Please enter a word: seqouia\n",
      "Letters: 7\n",
      "Vowels: 5\n",
      "Percentage of vowels:  71.43\n"
     ]
    }
   ],
   "source": [
    "vowel = ['a', 'e', 'i', 'o', 'u', 'A', 'E', 'I', 'O', 'U']\n",
    "\n",
    "word = input(\"Please enter a word: \")\n",
    "while(not word.isalpha()):\n",
    "    print(\"Please enter a word !!\")\n",
    "    word = input(\"Please enter a word: \")\n",
    "\n",
    "lengthOfWord = len(word)\n",
    "numOfVowels = 0\n",
    "for letter in word:\n",
    "    if letter in vowel:\n",
    "        numOfVowels += 1\n",
    "\n",
    "print(f\"Letters: {lengthOfWord}\", end=\"\\n\")\n",
    "print(f\"Vowels: {numOfVowels}\", end=\"\\n\")\n",
    "print(f\"Percentage of vowels: {numOfVowels/lengthOfWord*100 : .2f}\")"
   ]
  },
  {
   "cell_type": "markdown",
   "metadata": {},
   "source": [
    "Question 4"
   ]
  },
  {
   "cell_type": "code",
   "execution_count": 87,
   "metadata": {},
   "outputs": [
    {
     "name": "stdout",
     "output_type": "stream",
     "text": [
      "Please enter a number: 5\n",
      "* * * * * * * * * * \n",
      "*                 *\n",
      "*                 *\n",
      "*                 *\n",
      "* * * * * * * * * * "
     ]
    }
   ],
   "source": [
    "Num = input(\"Please enter a number: \")\n",
    "while(not Num.isdigit()):\n",
    "    print(\"Error: Not an integer\")\n",
    "    Num = input(\"Please enter a number: \")\n",
    "Num = int(Num)\n",
    "for i in range(2 * Num):\n",
    "    print('*', end=' ')\n",
    "print()\n",
    "for i in range(Num - 2):\n",
    "    print('*', end= ' ')\n",
    "    for j in range(2* Num - 2):\n",
    "        print(' ', end=' ')\n",
    "    print('*', end= '\\n')\n",
    "for i in range(2 * Num):\n",
    "    print('*', end=' ')"
   ]
  },
  {
   "cell_type": "markdown",
   "metadata": {},
   "source": [
    "Question 5"
   ]
  },
  {
   "cell_type": "code",
   "execution_count": 98,
   "metadata": {},
   "outputs": [
    {
     "name": "stdout",
     "output_type": "stream",
     "text": [
      "Please enter a number: 4\n",
      "1 2 4 \n",
      "Sum of divisors 7\n"
     ]
    }
   ],
   "source": [
    "# Not actual\n",
    "Num = input(\"Please enter a number: \")\n",
    "while(not Num.isdigit()):\n",
    "    print(\"Error: Not an integer\")\n",
    "    Num = input(\"Please enter a number: \")\n",
    "Num = int(Num)\n",
    "\n",
    "listOfDivisors = []\n",
    "for i in range(1, (Num)//2 + 1):\n",
    "    if(Num%i == 0 and not(i in listOfDivisors)):\n",
    "        listOfDivisors.append(i)\n",
    "        if(not (Num//i in listOfDivisors)):\n",
    "            listOfDivisors.append(Num//i)\n",
    "listOfDivisors.sort()\n",
    "\n",
    "for item in listOfDivisors:\n",
    "    print(item, end=\" \")\n",
    "print()\n",
    "print(f\"Sum of divisors {sum(listOfDivisors)}\")"
   ]
  },
  {
   "cell_type": "code",
   "execution_count": 101,
   "metadata": {
    "collapsed": true
   },
   "outputs": [
    {
     "name": "stdout",
     "output_type": "stream",
     "text": [
      "100: 1 2 4 5 10 20 25 50 100 \n",
      "Sum of divisors 217\n",
      "\n",
      "101: 1 101 \n",
      "Sum of divisors 102\n",
      "\n",
      "102: 1 2 3 6 17 34 51 102 \n",
      "Sum of divisors 216\n",
      "\n",
      "103: 1 103 \n",
      "Sum of divisors 104\n",
      "\n",
      "104: 1 2 4 8 13 26 52 104 \n",
      "Sum of divisors 210\n",
      "\n",
      "105: 1 3 5 7 15 21 35 105 \n",
      "Sum of divisors 192\n",
      "\n",
      "106: 1 2 53 106 \n",
      "Sum of divisors 162\n",
      "\n",
      "107: 1 107 \n",
      "Sum of divisors 108\n",
      "\n",
      "108: 1 2 3 4 6 9 12 18 27 36 54 108 \n",
      "Sum of divisors 280\n",
      "\n",
      "109: 1 109 \n",
      "Sum of divisors 110\n",
      "\n",
      "110: 1 2 5 10 11 22 55 110 \n",
      "Sum of divisors 216\n",
      "\n"
     ]
    }
   ],
   "source": [
    "for Num in range(100, 111):\n",
    "    listOfDivisors = []\n",
    "    for i in range(1, (Num)//2 + 1):\n",
    "        if(Num%i == 0 and not(i in listOfDivisors)):\n",
    "            listOfDivisors.append(i)\n",
    "            if(not (Num//i in listOfDivisors)):\n",
    "                listOfDivisors.append(Num//i)\n",
    "    listOfDivisors.sort()\n",
    "\n",
    "    print(Num, end=\": \")\n",
    "    for item in listOfDivisors:\n",
    "        print(item, end=\" \")\n",
    "    print()\n",
    "    print(f\"Sum of divisors {sum(listOfDivisors)}\")\n",
    "    print()"
   ]
  },
  {
   "cell_type": "markdown",
   "metadata": {},
   "source": [
    "Question 6"
   ]
  },
  {
   "cell_type": "code",
   "execution_count": 102,
   "metadata": {},
   "outputs": [
    {
     "name": "stdout",
     "output_type": "stream",
     "text": [
      "Please enter amount of pot money: 5\n",
      "This game took 10 iterations!!\n",
      "Maximum pot money is $9\n"
     ]
    }
   ],
   "source": [
    "import random\n",
    "Num = input(\"Please enter amount of pot money: \")\n",
    "while(not Num.isdigit()):\n",
    "    print(\"Error: Not an integer\")\n",
    "    Num = input(\"Please enter amount of pot money: \")\n",
    "Num = int(Num)\n",
    "\n",
    "maxAmt = Num\n",
    "iterations = 0\n",
    "while(Num > 0):\n",
    "    iterations += 1\n",
    "    A = random.randint(1, 6)\n",
    "    B = random.randint(1, 6)\n",
    "    if(A + B == 7):\n",
    "        Num += 4\n",
    "        maxAmt = max(maxAmt, Num)\n",
    "    else:\n",
    "        Num -= 1\n",
    "\n",
    "print(f\"This game took {iterations} iterations!!\", end=\"\\n\")\n",
    "print(f\"Maximum pot money is ${maxAmt}\")"
   ]
  },
  {
   "cell_type": "markdown",
   "metadata": {},
   "source": [
    "Question 7 version A"
   ]
  },
  {
   "cell_type": "code",
   "execution_count": 115,
   "metadata": {},
   "outputs": [
    {
     "name": "stdout",
     "output_type": "stream",
     "text": [
      "Guess a value: 50\n",
      "Too small!!\n",
      "Guess a value: 75\n",
      "Too small!!\n",
      "Guess a value: 88\n",
      "Too small!!\n",
      "Guess a value: 94\n",
      "Too large!!\n",
      "Guess a value: 91\n",
      "Too small!!\n",
      "Guess a value: 93\n",
      "You got it in 6 tries!\n"
     ]
    }
   ],
   "source": [
    "import random\n",
    "toGuess = random.randint(1,100)\n",
    "tries = 1\n",
    "guess = input(\"Guess a value: \")\n",
    "guess = int(guess)\n",
    "while(guess != toGuess):\n",
    "    if(guess > toGuess):\n",
    "        print(\"Too large!!\")\n",
    "    else:\n",
    "        print(\"Too small!!\")\n",
    "    guess = input(\"Guess a value: \")\n",
    "    guess = int(guess)\n",
    "    tries += 1\n",
    "\n",
    "print(f\"You got it in {tries} tries!\")"
   ]
  },
  {
   "cell_type": "markdown",
   "metadata": {},
   "source": [
    "Question 7 version B O(log n)"
   ]
  },
  {
   "cell_type": "code",
   "execution_count": 114,
   "metadata": {},
   "outputs": [
    {
     "name": "stdout",
     "output_type": "stream",
     "text": [
      "Please enter number from 1 - 100: 29\n",
      "hi = 50, lo = 1\n",
      "guess = 25\n",
      "\n",
      "hi = 50, lo = 25\n",
      "guess = 37\n",
      "\n",
      "hi = 37, lo = 25\n",
      "guess = 31\n",
      "\n",
      "hi = 31, lo = 25\n",
      "guess = 28\n",
      "\n",
      "hi = 31, lo = 28\n",
      "guess = 29\n",
      "\n",
      "It took 6 tries\n"
     ]
    }
   ],
   "source": [
    "import random\n",
    "maxVal = 100\n",
    "Num = input(f\"Please enter number from 1 - {maxVal}: \")\n",
    "while(not Num.isdigit()):\n",
    "    print(\"Error: Not an integer\")\n",
    "    Num = input(f\"Please enter number 1 - {maxVal}: \")\n",
    "Num = int(Num)\n",
    "tries = 1\n",
    "hi = maxVal\n",
    "lo = 1\n",
    "guess = (hi+lo)//2\n",
    "\n",
    "while(Num != guess):\n",
    "    \n",
    "    if(Num > guess):\n",
    "        lo = guess\n",
    "    else:\n",
    "        hi = guess\n",
    "    guess = (hi+lo)//2\n",
    "    tries += 1\n",
    "    \n",
    "#     print(f\"hi = {hi}, lo = {lo}\")\n",
    "#     print(f\"guess = {guess}\")\n",
    "#     print()\n",
    "\n",
    "print(f\"It took {tries} tries\")\n",
    "    "
   ]
  },
  {
   "cell_type": "code",
   "execution_count": null,
   "metadata": {},
   "outputs": [],
   "source": []
  }
 ],
 "metadata": {
  "kernelspec": {
   "display_name": "Python 3",
   "language": "python",
   "name": "python3"
  },
  "language_info": {
   "codemirror_mode": {
    "name": "ipython",
    "version": 3
   },
   "file_extension": ".py",
   "mimetype": "text/x-python",
   "name": "python",
   "nbconvert_exporter": "python",
   "pygments_lexer": "ipython3",
   "version": "3.7.4"
  }
 },
 "nbformat": 4,
 "nbformat_minor": 4
}

{
 "cells": [
  {
   "cell_type": "markdown",
   "id": "eastern-globe",
   "metadata": {},
   "source": [
    "#### Tutorial 4.2"
   ]
  },
  {
   "cell_type": "code",
   "execution_count": 1,
   "id": "suburban-spiritual",
   "metadata": {},
   "outputs": [],
   "source": [
    "def example(n):\n",
    "    if n > 0:\n",
    "        print(n)\n",
    "        example(n-1)\n"
   ]
  },
  {
   "cell_type": "markdown",
   "id": "metric-crossing",
   "metadata": {},
   "source": [
    "prints numbers from n up till 1"
   ]
  },
  {
   "cell_type": "markdown",
   "id": "opened-aviation",
   "metadata": {},
   "source": [
    "#### Tutorial 4.3"
   ]
  },
  {
   "cell_type": "code",
   "execution_count": 2,
   "id": "hybrid-arizona",
   "metadata": {},
   "outputs": [],
   "source": [
    "def example(n):\n",
    "    if n > 0:\n",
    "        print(n)\n",
    "        example(n)\n",
    "    else:\n",
    "        example(n-1)"
   ]
  },
  {
   "cell_type": "markdown",
   "id": "racial-fifth",
   "metadata": {},
   "source": [
    "prints 4 forever\n",
    "\n",
    "    calls example(4)\n",
    "    prints 4\n",
    "    calls example(4)\n",
    "    repeat"
   ]
  },
  {
   "cell_type": "markdown",
   "id": "announced-delivery",
   "metadata": {},
   "source": [
    "#### Tutorial 4.4"
   ]
  },
  {
   "cell_type": "code",
   "execution_count": 2,
   "id": "secure-excerpt",
   "metadata": {},
   "outputs": [
    {
     "name": "stdout",
     "output_type": "stream",
     "text": [
      "g\n",
      "n\n",
      "i\n",
      "r\n",
      "t\n",
      "S\n"
     ]
    }
   ],
   "source": [
    "def example(aString, index):\n",
    "    if index < len(aString) :\n",
    "        example(aString, index + 1)\n",
    "        print(aString[index])\n"
   ]
  },
  {
   "cell_type": "markdown",
   "id": "continuing-state",
   "metadata": {},
   "source": [
    "prints the reverse of the string with a new line for every letter"
   ]
  },
  {
   "cell_type": "markdown",
   "id": "pending-insider",
   "metadata": {},
   "source": [
    "#### Tutorial 4.5"
   ]
  },
  {
   "cell_type": "code",
   "execution_count": 4,
   "id": "designing-greeting",
   "metadata": {},
   "outputs": [],
   "source": [
    "def example(aString, index):\n",
    "    if index == len(aString):\n",
    "        return \"\"\n",
    "    else:\n",
    "        return aString[index] + example(aString, index+1)"
   ]
  },
  {
   "cell_type": "markdown",
   "id": "applied-reset",
   "metadata": {},
   "source": [
    "Returns the string itself"
   ]
  },
  {
   "cell_type": "markdown",
   "id": "delayed-summary",
   "metadata": {},
   "source": [
    "### Assignment Q1"
   ]
  },
  {
   "cell_type": "code",
   "execution_count": null,
   "id": "elder-vegetable",
   "metadata": {},
   "outputs": [],
   "source": [
    "def mult(x,y):\n",
    "    if(y == 1):\n",
    "        return x\n",
    "    else:\n",
    "        return x + mult(x, y-1)"
   ]
  },
  {
   "cell_type": "code",
   "execution_count": null,
   "id": "impaired-nomination",
   "metadata": {},
   "outputs": [],
   "source": [
    "print(mult(5,4))"
   ]
  },
  {
   "cell_type": "code",
   "execution_count": null,
   "id": "featured-insertion",
   "metadata": {},
   "outputs": [],
   "source": [
    "def better_mult(x,y):\n",
    "    return x*y"
   ]
  },
  {
   "cell_type": "markdown",
   "id": "southern-salem",
   "metadata": {},
   "source": [
    "Assignment Q2"
   ]
  },
  {
   "cell_type": "code",
   "execution_count": 3,
   "id": "surrounded-wedding",
   "metadata": {},
   "outputs": [],
   "source": [
    "def asterisks(n):\n",
    "    if(n == 1):\n",
    "        print(\"*\")\n",
    "    else:\n",
    "        print(\"*\"*n)\n",
    "        asterisks(n-1)"
   ]
  },
  {
   "cell_type": "code",
   "execution_count": 5,
   "id": "ranging-experiment",
   "metadata": {},
   "outputs": [],
   "source": [
    "def asterisks_upside_down(n):\n",
    "    if(n == 1):\n",
    "        print(\"*\")\n",
    "    else:\n",
    "        asterisk(n-1)\n",
    "        print(\"*\"*n)\n",
    "        "
   ]
  },
  {
   "cell_type": "markdown",
   "id": "indonesian-killing",
   "metadata": {},
   "source": [
    "Assignment Q3"
   ]
  },
  {
   "cell_type": "code",
   "execution_count": null,
   "id": "changing-webmaster",
   "metadata": {},
   "outputs": [],
   "source": [
    "def sum_to_n(n = 1):\n",
    "    if(n == 1):\n",
    "        return 1\n",
    "    else:\n",
    "        return sum_to_n(n-1) + n\n",
    "    \n",
    "\n",
    "    "
   ]
  },
  {
   "cell_type": "markdown",
   "id": "elder-experiment",
   "metadata": {},
   "source": [
    "Assignment Q4"
   ]
  },
  {
   "cell_type": "code",
   "execution_count": null,
   "id": "following-pillow",
   "metadata": {},
   "outputs": [],
   "source": [
    "balance = 1000.00\n",
    "\n",
    "def print_separator():\n",
    "#     print(\"\\n\")\n",
    "    print(\"~-~-\"*20)\n",
    "#     print(\"\\n\")\n",
    "    \n",
    "def print_subseparator():\n",
    "    print(\"----\"*20)\n",
    "    \n",
    "def print_menu():\n",
    "    print(\"\"\"\n",
    "    Actions available:\n",
    "    1. Deposit\n",
    "    2. Withdrawal\n",
    "    3. See Balance\n",
    "    4. Quit\n",
    "    \"\"\")\n",
    "\n",
    "def deposit():\n",
    "    global balance\n",
    "    money = input(\"Please deposit the money: \")\n",
    "    if(not money.replace(\".\", \"\", 1).isdigit()):\n",
    "        print(\"Error (code 1): Invalid input detected - Input must be a integer\", end=\"\\n\")\n",
    "    else:\n",
    "        balance = balance + float(money)\n",
    "\n",
    "def withdraw():\n",
    "    global balance\n",
    "    print(\"\"\"\n",
    "    Select amount to withdraw:\n",
    "    1. $ 50\n",
    "    2. $ 100\n",
    "    3. $ 200\n",
    "    4. $ 500\n",
    "    \"\"\")\n",
    "    \n",
    "    withdraw_list = [0, 50, 100, 200, 500]\n",
    "    \n",
    "    withdrawable_amount = input(\"Select how much to withdraw: \")\n",
    "    \n",
    "    if(not withdrawable_amount.isdigit()):\n",
    "        print(\"Error (code 1): Invalid input detected - Input must be a integer\", end=\"\\n\")\n",
    "        print_menu()\n",
    "        withdrawable_amount = input(\"Select how much to withdraw: \")\n",
    "        print_subseparator()\n",
    "        \n",
    "    elif(int(withdrawable_amount) > 4 or int(withdrawable_amount) < 1):\n",
    "        print(\"Error (code 2): Invalid input detected - Input must be a integer corresponding to a selection\", end=\"\\n\")\n",
    "        print_menu()\n",
    "        withdrawable_amount = input(\"Select how much to withdraw: \")\n",
    "        print_subseparator()\n",
    "    \n",
    "    else:\n",
    "        balance = balance - withdraw_list[int(withdrawable_amount)]\n",
    "    \n",
    "def show_balance():\n",
    "    print_subseparator()\n",
    "    print(f\"Balance is ${balance:0.2f}\")\n",
    "    print_subseparator()\n",
    "\n",
    "print_menu()\n",
    "action = input(\"Action to take (Input the corresponding number): \")\n",
    "print_separator()\n",
    "\n",
    "\n",
    "while(action != \"4\"):\n",
    "    if(not action.isdigit()):\n",
    "        print(\"Error (code 1): Invalid input detected - Input must be a integer\", end=\"\\n\")\n",
    "        print_menu()\n",
    "        action = input(\"Action to take (Input the corresponding number): \")\n",
    "        print_separator()\n",
    "        \n",
    "    elif(int(action) > 4 or int(action) < 1):\n",
    "        print(\"Error (code 2): Invalid input detected - Input must be a integer corresponding to a selection\", end=\"\\n\")\n",
    "        print_menu()\n",
    "        action = input(\"Action to take (Input the corresponding number): \")\n",
    "        print_separator()\n",
    "    \n",
    "    if(action == \"1\"):\n",
    "        deposit()\n",
    "    if(action == \"2\"):\n",
    "        withdraw()\n",
    "    elif(action == \"3\"):\n",
    "        show_balance()\n",
    "    \n",
    "    print_separator()\n",
    "    print_menu()\n",
    "    action = input(\"Action to take (Input the corresponding number): \")\n",
    "    print_separator()\n",
    "    "
   ]
  },
  {
   "cell_type": "markdown",
   "id": "specialized-february",
   "metadata": {},
   "source": [
    "#### "
   ]
  },
  {
   "cell_type": "code",
   "execution_count": null,
   "id": "unavailable-shareware",
   "metadata": {},
   "outputs": [
    {
     "name": "stdout",
     "output_type": "stream",
     "text": [
      "~-~-~-~-~-~-~-~-~-~-~-~-~-~-~-~-~-~-~-~-~-~-~-~-~-~-~-~-~-~-~-~-~-~-~-~-~-~-~-~-\n",
      "\n",
      "    Actions available:\n",
      "    1. Deposit\n",
      "    2. Withdrawal\n",
      "    3. See Balance\n",
      "    4. Quit\n",
      "    \n",
      "Action to take (Input the corresponding number): 1\n",
      "~-~-~-~-~-~-~-~-~-~-~-~-~-~-~-~-~-~-~-~-~-~-~-~-~-~-~-~-~-~-~-~-~-~-~-~-~-~-~-~-\n",
      "Menu\n",
      "Deposit\n"
     ]
    }
   ],
   "source": [
    "balance = 1000.00\n",
    "\n",
    "def print_separator():\n",
    "#     print(\"\\n\")\n",
    "    print(\"~-~-\"*20)\n",
    "#     print(\"\\n\")\n",
    "    \n",
    "def print_subseparator():\n",
    "    print(\"----\"*20)\n",
    "    \n",
    "def print_menu():\n",
    "    print(\"\"\"\n",
    "    Actions available:\n",
    "    1. Deposit\n",
    "    2. Withdrawal\n",
    "    3. See Balance\n",
    "    4. Quit\n",
    "    \"\"\")\n",
    "\n",
    "def deposit():\n",
    "    global balance\n",
    "    money = input(\"Please deposit the money: \")\n",
    "    if(not money.replace(\".\", \"\", 1).isdigit()):\n",
    "        print(\"Error (code 1): Invalid input detected - Input must be a integer\", end=\"\\n\")\n",
    "    else:\n",
    "        balance = balance + float(money)\n",
    "\n",
    "def withdraw():\n",
    "    global balance\n",
    "    print(\"\"\"\n",
    "    Select amount to withdraw:\n",
    "    1. $ 50\n",
    "    2. $ 100\n",
    "    3. $ 200\n",
    "    4. $ 500\n",
    "    \"\"\")\n",
    "    \n",
    "    withdraw_list = [0, 50, 100, 200, 500]\n",
    "    \n",
    "    withdrawable_amount = input(\"Select how much to withdraw: \")\n",
    "    \n",
    "    if(not withdrawable_amount.isdigit()):\n",
    "        print(\"Error (code 1): Invalid input detected - Input must be a integer\", end=\"\\n\")\n",
    "        print_menu()\n",
    "        withdrawable_amount = input(\"Select how much to withdraw: \")\n",
    "        print_subseparator()\n",
    "        \n",
    "    elif(int(withdrawable_amount) > 4 or int(withdrawable_amount) < 1):\n",
    "        print(\"Error (code 2): Invalid input detected - Input must be a integer corresponding to a selection\", end=\"\\n\")\n",
    "        print_menu()\n",
    "        withdrawable_amount = input(\"Select how much to withdraw: \")\n",
    "        print_subseparator()\n",
    "    \n",
    "    else:\n",
    "        balance = balance - withdraw_list[int(withdrawable_amount)]\n",
    "    \n",
    "def show_balance():\n",
    "    print_subseparator()\n",
    "    print(f\"Balance is ${balance:0.2f}\")\n",
    "    print_subseparator()\n",
    "\n",
    "\n",
    "\n",
    "\n",
    "def menu(action):\n",
    "    def menu_repeat():\n",
    "        print_separator()\n",
    "        print_menu()\n",
    "        action = input(\"Action to take (Input the corresponding number): \")\n",
    "        print_separator()\n",
    "        menu(action)\n",
    "    \n",
    "    if(not action.isdigit()):\n",
    "        print(\"Error (code 1): Invalid input detected - Input must be a integer\", end=\"\\n\")\n",
    "        menu_repeat()\n",
    "        \n",
    "    elif(int(action) > 4 or int(action) < 1):\n",
    "        print(\"Error (code 2): Invalid input detected - Input must be a integer corresponding to a selection\", end=\"\\n\")\n",
    "        menu_repeat()\n",
    "    \n",
    "    if(action == \"1\"):\n",
    "        deposit()\n",
    "        menu_repeat()\n",
    "    if(action == \"2\"):\n",
    "        withdraw()\n",
    "        menu_repeat()\n",
    "    elif(action == \"3\"):\n",
    "        show_balance()\n",
    "        menu_repeat()\n",
    "    \n",
    "    \n",
    "    \n",
    "print_separator()\n",
    "print_menu()\n",
    "action = input(\"Action to take (Input the corresponding number): \")\n",
    "print_separator()\n",
    "menu(action)\n",
    "\n",
    "    \n",
    "    "
   ]
  },
  {
   "cell_type": "code",
   "execution_count": null,
   "id": "blind-florence",
   "metadata": {},
   "outputs": [],
   "source": []
  }
 ],
 "metadata": {
  "kernelspec": {
   "display_name": "Python 3",
   "language": "python",
   "name": "python3"
  },
  "language_info": {
   "codemirror_mode": {
    "name": "ipython",
    "version": 3
   },
   "file_extension": ".py",
   "mimetype": "text/x-python",
   "name": "python",
   "nbconvert_exporter": "python",
   "pygments_lexer": "ipython3",
   "version": "3.9.2"
  }
 },
 "nbformat": 4,
 "nbformat_minor": 5
}

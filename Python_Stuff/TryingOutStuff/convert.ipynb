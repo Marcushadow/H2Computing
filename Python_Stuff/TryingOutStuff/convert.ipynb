{
 "cells": [
  {
   "cell_type": "code",
   "execution_count": 18,
   "source": [
    "binV = \"101011011\""
   ],
   "outputs": [],
   "metadata": {}
  },
  {
   "cell_type": "code",
   "execution_count": 2,
   "source": [
    "def bin2dec(binVal, power):\r\n",
    "    if(binVal):\r\n",
    "        return int(binVal[-1])* (2**power) + bin2dec(binVal[:-1], power+1)\r\n",
    "    else:\r\n",
    "        return 0"
   ],
   "outputs": [],
   "metadata": {}
  },
  {
   "cell_type": "code",
   "execution_count": 4,
   "source": [
    "bin2dec(binV, 0)"
   ],
   "outputs": [
    {
     "output_type": "execute_result",
     "data": {
      "text/plain": [
       "21"
      ]
     },
     "metadata": {},
     "execution_count": 4
    }
   ],
   "metadata": {}
  },
  {
   "cell_type": "code",
   "execution_count": 10,
   "source": [
    "def bin2hex(binVal):\r\n",
    "    letters = \"0123456789ABCDEF\"\r\n",
    "    if(len(binVal) > 4):\r\n",
    "        pwr = 0\r\n",
    "        val = 0\r\n",
    "        for character in binVal[-1: -5: -1]:\r\n",
    "            val += (int(character) * (2**pwr))\r\n",
    "            pwr += 1\r\n",
    "        return bin2hex(binVal[:-4]) + letters[val]\r\n",
    "    \r\n",
    "    else:\r\n",
    "        pwr = 0\r\n",
    "        val = 0\r\n",
    "        for character in binVal[::-1]:\r\n",
    "            val += (int(character) * (2**pwr))\r\n",
    "            pwr += 1\r\n",
    "        \r\n",
    "        return letters[val]"
   ],
   "outputs": [],
   "metadata": {}
  },
  {
   "cell_type": "code",
   "execution_count": 11,
   "source": [
    "bin2hex(binV)"
   ],
   "outputs": [
    {
     "output_type": "execute_result",
     "data": {
      "text/plain": [
       "'15B'"
      ]
     },
     "metadata": {},
     "execution_count": 11
    }
   ],
   "metadata": {}
  },
  {
   "cell_type": "code",
   "execution_count": 21,
   "source": [
    "def binTohexVal(val):\r\n",
    "    letters = \"0123456789ABCDEF\"\r\n",
    "    value = 0\r\n",
    "    for i in range(len(val)):\r\n",
    "        value += (2**i)*(int(val[::-1][i]))\r\n",
    "\r\n",
    "    return letters[value]\r\n",
    "\r\n",
    "def bin2hex(binVal):\r\n",
    "    if(len(binVal) > 4):\r\n",
    "        return bin2hex(binVal[:-4]) + binTohexVal(binVal[-4::])\r\n",
    "    else:\r\n",
    "        return binTohexVal(binVal)\r\n",
    "    "
   ],
   "outputs": [],
   "metadata": {}
  },
  {
   "cell_type": "code",
   "execution_count": 22,
   "source": [
    "bin2hex(binV)"
   ],
   "outputs": [
    {
     "output_type": "execute_result",
     "data": {
      "text/plain": [
       "'15B'"
      ]
     },
     "metadata": {},
     "execution_count": 22
    }
   ],
   "metadata": {}
  },
  {
   "cell_type": "code",
   "execution_count": 3,
   "source": [
    "def dec2bin(val):\r\n",
    "    if(val <= 1):\r\n",
    "        return str(val)\r\n",
    "    else:\r\n",
    "        return dec2bin(val//2) + str(val%2) "
   ],
   "outputs": [],
   "metadata": {}
  },
  {
   "cell_type": "code",
   "execution_count": 4,
   "source": [
    "dec2bin(20)"
   ],
   "outputs": [
    {
     "output_type": "execute_result",
     "data": {
      "text/plain": [
       "'10100'"
      ]
     },
     "metadata": {},
     "execution_count": 4
    }
   ],
   "metadata": {}
  },
  {
   "cell_type": "code",
   "execution_count": 5,
   "source": [
    "def dec2hex(val):\r\n",
    "    hexList = \"0123456789ABCDEF\"\r\n",
    "    if(val < 16):\r\n",
    "        return hexList[val]\r\n",
    "    \r\n",
    "    else:\r\n",
    "        return dec2hex(val//16) + hexList[val%16]"
   ],
   "outputs": [],
   "metadata": {}
  },
  {
   "cell_type": "code",
   "execution_count": 6,
   "source": [
    "dec2hex(16)"
   ],
   "outputs": [
    {
     "output_type": "execute_result",
     "data": {
      "text/plain": [
       "'10'"
      ]
     },
     "metadata": {},
     "execution_count": 6
    }
   ],
   "metadata": {}
  },
  {
   "cell_type": "code",
   "execution_count": 21,
   "source": [
    "def hex2dec(hexString):\r\n",
    "    hexList = \"0123456789ABCDEF\"\r\n",
    "    ans = 0\r\n",
    "    for i in range(len(hexString)):\r\n",
    "        ans += (16**i)*hexList.index(hexString[::-1][i])\r\n",
    "    \r\n",
    "    return ans\r\n",
    "        "
   ],
   "outputs": [],
   "metadata": {}
  },
  {
   "cell_type": "code",
   "execution_count": 22,
   "source": [
    "hex2dec(\"10\")"
   ],
   "outputs": [
    {
     "output_type": "execute_result",
     "data": {
      "text/plain": [
       "16"
      ]
     },
     "metadata": {},
     "execution_count": 22
    }
   ],
   "metadata": {}
  },
  {
   "cell_type": "code",
   "execution_count": 40,
   "source": [
    "def dec2bin(decval):\r\n",
    "    if(decval <= 1):\r\n",
    "        return str(decval)\r\n",
    "    \r\n",
    "    else:\r\n",
    "        return dec2bin(decval//2) + str(decval%2)\r\n",
    "\r\n",
    "def hex2bin(hexVal):\r\n",
    "    hexList = \"0123456789ABCDEF\"\r\n",
    "    binaryString = \"\"\r\n",
    "    for value in hexVal[::-1]:\r\n",
    "        decVal = hexList.index(value)\r\n",
    "        print(decVal)\r\n",
    "        binaryString = (\"{:0>4}\".format(dec2bin(decVal))) + binaryString\r\n",
    "    \r\n",
    "    return binaryString.lstrip(\"0\")\r\n",
    "\r\n",
    "        \r\n",
    "\r\n",
    "\r\n"
   ],
   "outputs": [],
   "metadata": {}
  },
  {
   "cell_type": "code",
   "execution_count": 41,
   "source": [
    "hex2bin(\"10\")"
   ],
   "outputs": [
    {
     "output_type": "stream",
     "name": "stdout",
     "text": [
      "0\n",
      "1\n"
     ]
    },
    {
     "output_type": "execute_result",
     "data": {
      "text/plain": [
       "'10000'"
      ]
     },
     "metadata": {},
     "execution_count": 41
    }
   ],
   "metadata": {}
  },
  {
   "cell_type": "code",
   "execution_count": null,
   "source": [],
   "outputs": [],
   "metadata": {}
  }
 ],
 "metadata": {
  "orig_nbformat": 4,
  "language_info": {
   "name": "python",
   "version": "3.8.7",
   "mimetype": "text/x-python",
   "codemirror_mode": {
    "name": "ipython",
    "version": 3
   },
   "pygments_lexer": "ipython3",
   "nbconvert_exporter": "python",
   "file_extension": ".py"
  },
  "kernelspec": {
   "name": "python3",
   "display_name": "Python 3.8.7 64-bit"
  },
  "interpreter": {
   "hash": "05b2220a26de58e0031cd0a7cbd64d94eaa84338873dc0e02216392d53d6f30f"
  }
 },
 "nbformat": 4,
 "nbformat_minor": 2
}
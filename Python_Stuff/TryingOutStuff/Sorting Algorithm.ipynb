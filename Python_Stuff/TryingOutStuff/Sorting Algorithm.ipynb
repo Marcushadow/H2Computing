{
 "cells": [
  {
   "cell_type": "markdown",
   "source": [
    "# Bubble Sort"
   ],
   "metadata": {}
  },
  {
   "cell_type": "code",
   "execution_count": 13,
   "source": [
    "n = [1,4,2,3,5,0,8,4,10]"
   ],
   "outputs": [],
   "metadata": {}
  },
  {
   "cell_type": "code",
   "execution_count": 9,
   "source": [
    "def recursiveBubbleSort(n, end):\r\n",
    "    temp = n\r\n",
    "    if(end > 0):\r\n",
    "        for i in range(end-1):\r\n",
    "            if(temp[i] > temp[i+1]):\r\n",
    "                temp[i], temp[i+1] = temp[i+1], temp[i]\r\n",
    "        return recursiveBubbleSort(temp, end - 1)\r\n",
    "    else:\r\n",
    "        return temp\r\n",
    "\r\n",
    "        \r\n",
    "output = recursiveBubbleSort(n, len(n))\r\n",
    "\r\n",
    "print(output)"
   ],
   "outputs": [
    {
     "output_type": "stream",
     "name": "stdout",
     "text": [
      "[1, 2, 3, 4, 4, 5, 8, 10]\n"
     ]
    }
   ],
   "metadata": {}
  },
  {
   "cell_type": "markdown",
   "source": [
    "# Merge Sort"
   ],
   "metadata": {}
  },
  {
   "cell_type": "code",
   "execution_count": 23,
   "source": [
    "def merge(array, start, end):\r\n",
    "    temp = []\r\n",
    "    first = start\r\n",
    "    second = (start+end+1)//2\r\n",
    "    while((first < (start+end+1)//2) and (second < end+1)):\r\n",
    "        if(array[first] < array[second]):\r\n",
    "            temp.append(array[first])\r\n",
    "            first += 1\r\n",
    "        else:\r\n",
    "            temp.append(array[second])\r\n",
    "            second += 1\r\n",
    "    \r\n",
    "    while(first < (start+end+1)//2):\r\n",
    "        temp.append(array[first])\r\n",
    "        first += 1\r\n",
    "    while(second < end+1):\r\n",
    "        temp.append(array[second])\r\n",
    "        second += 1\r\n",
    "        \r\n",
    "    for i in range(len(temp)):\r\n",
    "        array[start] = temp[i]\r\n",
    "        start += 1\r\n",
    "   \r\n",
    "arr = [1,3,4,5,2,3,4,5]\r\n",
    "\r\n",
    "merge(arr, 0 , len(arr)-1)\r\n",
    "print(arr)"
   ],
   "outputs": [
    {
     "output_type": "stream",
     "name": "stdout",
     "text": [
      "[1, 2, 3, 3, 4, 4, 5, 5]\n"
     ]
    }
   ],
   "metadata": {}
  },
  {
   "cell_type": "markdown",
   "source": [
    "# Quicksort"
   ],
   "metadata": {}
  },
  {
   "cell_type": "code",
   "execution_count": 5,
   "source": [
    "def partition(arr, left, right) :\r\n",
    "    mid = (left + right)// 2\r\n",
    "    pivVal = arr[mid]\r\n",
    "    arr[left], arr[mid] = arr[mid], arr[left]\r\n",
    " \r\n",
    "    low = left + 1\r\n",
    "    hi = right\r\n",
    "\r\n",
    "    while (low <= hi):\r\n",
    "        while(low <= hi and arr[low] <= pivVal):\r\n",
    "            low += 1\r\n",
    "        \r\n",
    "        while(low <= hi and arr[hi] > pivVal):\r\n",
    "            hi -= 1\r\n",
    "        \r\n",
    "        if(low <= hi):\r\n",
    "            arr[low] , arr[hi] = arr[hi], arr[low]\r\n",
    "        \r\n",
    "    arr[hi] , arr[left] = arr[left], arr[hi]\r\n",
    "    return hi"
   ],
   "outputs": [],
   "metadata": {}
  },
  {
   "cell_type": "code",
   "execution_count": 19,
   "source": [
    "# First partition\r\n",
    "def partition(arr, left, right) :\r\n",
    "    mid = (left + right)// 2\r\n",
    "    pivVal = arr[left]\r\n",
    " \r\n",
    "    low = left + 1\r\n",
    "    hi = right\r\n",
    "\r\n",
    "    while (low <= hi):\r\n",
    "        while(low <= hi and arr[low] <= pivVal):\r\n",
    "            low += 1\r\n",
    "        \r\n",
    "        while(low <= hi and arr[hi] > pivVal):\r\n",
    "            hi -= 1\r\n",
    "        \r\n",
    "        if(low <= hi):\r\n",
    "            arr[low] , arr[hi] = arr[hi], arr[low]\r\n",
    "        \r\n",
    "    arr[hi] , arr[left] = arr[left], arr[hi]\r\n",
    "    return hi"
   ],
   "outputs": [],
   "metadata": {}
  },
  {
   "cell_type": "code",
   "execution_count": 12,
   "source": [
    "def quickSort(arr, left, right):\r\n",
    "\r\n",
    "    while (left < right):\r\n",
    "        newPivotPosition = partition(arr, left, right)\r\n",
    "        return quickSort(arr, left, newPivotPosition - 1)\r\n",
    "        return quickSort(arr, newPivotPosition + 1, right)\r\n",
    "    "
   ],
   "outputs": [],
   "metadata": {}
  },
  {
   "cell_type": "code",
   "execution_count": 15,
   "source": [
    "quickSort(n, 0, len(n)-1)"
   ],
   "outputs": [],
   "metadata": {}
  },
  {
   "cell_type": "code",
   "execution_count": 17,
   "source": [
    "s = \"qef\"\r\n",
    "\r\n",
    "def change_s(sr):\r\n",
    "    sr = sr + \"a\"\r\n",
    "\r\n",
    "change_s(s)\r\n",
    "print(s) "
   ],
   "outputs": [
    {
     "output_type": "stream",
     "name": "stdout",
     "text": [
      "qef\n"
     ]
    }
   ],
   "metadata": {}
  },
  {
   "cell_type": "code",
   "execution_count": 18,
   "source": [
    "arr = [1,2,3]\r\n",
    "\r\n",
    "def change_arr(r):\r\n",
    "    r.append(4)\r\n",
    "\r\n",
    "change_arr(arr)\r\n",
    "\r\n",
    "print(arr)"
   ],
   "outputs": [
    {
     "output_type": "stream",
     "name": "stdout",
     "text": [
      "[1, 2, 3, 4]\n"
     ]
    }
   ],
   "metadata": {}
  },
  {
   "cell_type": "code",
   "execution_count": null,
   "source": [
    "pp = 1"
   ],
   "outputs": [
    {
     "output_type": "error",
     "ename": "Error",
     "evalue": "Session cannot generate requests",
     "traceback": [
      "Error: Session cannot generate requests",
      "at w.executeCodeCell (c:\\Users\\arach\\.vscode\\extensions\\ms-toolsai.jupyter-2021.8.1236758218\\out\\client\\extension.js:90:327199)",
      "at w.execute (c:\\Users\\arach\\.vscode\\extensions\\ms-toolsai.jupyter-2021.8.1236758218\\out\\client\\extension.js:90:326520)",
      "at w.start (c:\\Users\\arach\\.vscode\\extensions\\ms-toolsai.jupyter-2021.8.1236758218\\out\\client\\extension.js:90:322336)",
      "at runMicrotasks (<anonymous>)",
      "at processTicksAndRejections (internal/process/task_queues.js:93:5)",
      "at async t.CellExecutionQueue.executeQueuedCells (c:\\Users\\arach\\.vscode\\extensions\\ms-toolsai.jupyter-2021.8.1236758218\\out\\client\\extension.js:90:336863)",
      "at async t.CellExecutionQueue.start (c:\\Users\\arach\\.vscode\\extensions\\ms-toolsai.jupyter-2021.8.1236758218\\out\\client\\extension.js:90:336403)"
     ]
    }
   ],
   "metadata": {}
  },
  {
   "cell_type": "markdown",
   "source": [
    "# Lomuto Partition"
   ],
   "metadata": {}
  },
  {
   "cell_type": "code",
   "execution_count": 45,
   "source": [
    "n = [1,4,2,3,5,0,8,4,10]"
   ],
   "outputs": [],
   "metadata": {}
  },
  {
   "cell_type": "code",
   "execution_count": 46,
   "source": [
    "def partition(arr, L, R):\r\n",
    "    M = (L+R)//2\r\n",
    "    pivVal = arr[M]\r\n",
    "\r\n",
    "    # Changing the pivot to the front\r\n",
    "\r\n",
    "    arr[L], arr[M] = arr[M] , arr[L]\r\n",
    "\r\n",
    "    pivPos = L\r\n",
    "\r\n",
    "    for i in range(L+1, R+1):\r\n",
    "        if(arr[i] <= pivVal):\r\n",
    "            pivPos += 1\r\n",
    "            arr[i] , arr[pivPos] = arr[pivPos] , arr[i]\r\n",
    "            \r\n",
    "\r\n",
    "        else:\r\n",
    "            pass\r\n",
    "            \r\n",
    "    \r\n",
    "    arr[L] , arr[pivPos] = arr[pivPos] , arr[L]\r\n",
    "\r\n",
    "\r\n",
    "    return pivPos \r\n",
    "\r\n"
   ],
   "outputs": [],
   "metadata": {}
  },
  {
   "cell_type": "code",
   "execution_count": 47,
   "source": [
    "def quicksort(arr, L, R):\r\n",
    "    if(L < R):\r\n",
    "        pivIndex = partition(arr, L , R)\r\n",
    "        quicksort(arr, L, pivIndex -1)\r\n",
    "        quicksort(arr, pivIndex+1, R)"
   ],
   "outputs": [],
   "metadata": {}
  },
  {
   "cell_type": "code",
   "execution_count": 48,
   "source": [
    "quicksort(n, 0, len(n)-1)"
   ],
   "outputs": [
    {
     "output_type": "stream",
     "name": "stdout",
     "text": [
      "/n first\n",
      "[5, 4, 2, 3, 1, 0, 8, 4, 10]\n",
      "[4, 4, 2, 3, 1, 0, 5, 8, 10]\n",
      "5\n",
      "/n first\n",
      "[2, 4, 4, 3, 1, 0, 5, 8, 10]\n",
      "[0, 1, 2, 3, 4, 4, 5, 8, 10]\n",
      "2\n",
      "/n first\n",
      "[0, 1, 2, 3, 4, 4, 5, 8, 10]\n",
      "[0, 1, 2, 3, 4, 4, 5, 8, 10]\n",
      "0\n",
      "/n first\n",
      "[0, 1, 2, 4, 3, 4, 5, 8, 10]\n",
      "[0, 1, 2, 4, 3, 4, 5, 8, 10]\n",
      "4\n",
      "/n first\n",
      "[0, 1, 2, 4, 3, 4, 5, 8, 10]\n",
      "[0, 1, 2, 3, 4, 4, 5, 8, 10]\n",
      "4\n",
      "/n first\n",
      "[0, 1, 2, 3, 4, 4, 5, 8, 10]\n",
      "[0, 1, 2, 3, 4, 4, 5, 8, 10]\n",
      "8\n"
     ]
    }
   ],
   "metadata": {}
  },
  {
   "cell_type": "code",
   "execution_count": 49,
   "source": [
    "print(n)"
   ],
   "outputs": [
    {
     "output_type": "stream",
     "name": "stdout",
     "text": [
      "[0, 1, 2, 3, 4, 4, 5, 8, 10]\n"
     ]
    }
   ],
   "metadata": {}
  },
  {
   "cell_type": "markdown",
   "source": [
    "# In Place Merge Sort"
   ],
   "metadata": {}
  },
  {
   "cell_type": "code",
   "execution_count": 22,
   "source": [
    "def merge(arr, l_start, l_end, r_start, r_end):\r\n",
    "    while (l_start <= l_end and r_start <= r_end):\r\n",
    "        if(arr[l_start] <= arr[r_start]):\r\n",
    "            l_start += 1\r\n",
    "        \r\n",
    "        else:\r\n",
    "            temp = arr[r_start]\r\n",
    "            for i in range(r_start, l_start, -1):\r\n",
    "                arr[i] = arr[i-1]\r\n",
    "            \r\n",
    "            arr[l_start] = temp\r\n",
    "\r\n",
    "            l_start += 1\r\n",
    "            l_end += 1\r\n",
    "            r_start += 1\r\n",
    "\r\n",
    "        \r\n"
   ],
   "outputs": [],
   "metadata": {}
  },
  {
   "cell_type": "code",
   "execution_count": 23,
   "source": [
    "def mergeSort(arr, start, end):\r\n",
    "    if(start < end):\r\n",
    "        mid = (start + end)//2\r\n",
    "\r\n",
    "        mergeSort(arr, start, mid)\r\n",
    "        mergeSort(arr, mid + 1, end)\r\n",
    "        merge(arr, start, mid, mid+1, end)"
   ],
   "outputs": [],
   "metadata": {}
  },
  {
   "cell_type": "code",
   "execution_count": 24,
   "source": [
    "arr = [26, 93, 17, 54, 55, 20, 44]\r\n",
    "\r\n",
    "mergeSort(arr, 0, len(arr)-1)"
   ],
   "outputs": [],
   "metadata": {}
  },
  {
   "cell_type": "code",
   "execution_count": 25,
   "source": [
    "arr"
   ],
   "outputs": [
    {
     "output_type": "execute_result",
     "data": {
      "text/plain": [
       "[17, 20, 26, 44, 54, 55, 93]"
      ]
     },
     "metadata": {},
     "execution_count": 25
    }
   ],
   "metadata": {}
  },
  {
   "cell_type": "code",
   "execution_count": null,
   "source": [],
   "outputs": [],
   "metadata": {}
  }
 ],
 "metadata": {
  "kernelspec": {
   "name": "python3",
   "display_name": "Python 3.9.2 64-bit"
  },
  "language_info": {
   "codemirror_mode": {
    "name": "ipython",
    "version": 3
   },
   "file_extension": ".py",
   "mimetype": "text/x-python",
   "name": "python",
   "nbconvert_exporter": "python",
   "pygments_lexer": "ipython3",
   "version": "3.9.2"
  },
  "interpreter": {
   "hash": "d2990ea161ee6956a362087ffa53000b23fd3c21cc082d0b19467b0840579a3c"
  }
 },
 "nbformat": 4,
 "nbformat_minor": 5
}
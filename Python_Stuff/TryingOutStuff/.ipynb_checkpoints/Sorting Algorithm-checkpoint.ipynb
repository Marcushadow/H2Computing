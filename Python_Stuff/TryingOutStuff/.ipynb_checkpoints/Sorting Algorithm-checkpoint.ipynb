{
 "cells": [
  {
   "cell_type": "markdown",
   "id": "approved-multiple",
   "metadata": {},
   "source": [
    "# Bubble Sort"
   ]
  },
  {
   "cell_type": "code",
   "execution_count": 5,
   "id": "spoken-scout",
   "metadata": {},
   "outputs": [],
   "source": [
    "n = [1,4,2,3,5,8,4,10]"
   ]
  },
  {
   "cell_type": "code",
   "execution_count": 9,
   "id": "sticky-biography",
   "metadata": {},
   "outputs": [
    {
     "name": "stdout",
     "output_type": "stream",
     "text": [
      "[1, 2, 3, 4, 4, 5, 8, 10]\n"
     ]
    }
   ],
   "source": [
    "def recursiveBubbleSort(n, end):\n",
    "    temp = n\n",
    "    if(end > 0):\n",
    "        for i in range(end-1):\n",
    "            if(temp[i] > temp[i+1]):\n",
    "                temp[i], temp[i+1] = temp[i+1], temp[i]\n",
    "        return recursiveBubbleSort(temp, end - 1)\n",
    "    else:\n",
    "        return temp\n",
    "\n",
    "        \n",
    "output = recursiveBubbleSort(n, len(n))\n",
    "\n",
    "print(output)"
   ]
  },
  {
   "cell_type": "markdown",
   "id": "intended-norwegian",
   "metadata": {},
   "source": [
    "# Merge Sort"
   ]
  },
  {
   "cell_type": "code",
   "execution_count": 20,
   "id": "stylish-authentication",
   "metadata": {},
   "outputs": [
    {
     "name": "stdout",
     "output_type": "stream",
     "text": [
      "First: 0, Second: 4\n",
      "First: 1, Second: 4\n",
      "First: 1, Second: 5\n",
      "First: 2, Second: 5\n",
      "First: 2, Second: 6\n",
      "First: 3, Second: 6\n",
      "First: 3, Second: 7\n",
      "End first\n",
      "First: 4, Second: 7\n",
      "[1, 2, 2, 3, 4, 5, 5, 6]\n"
     ]
    }
   ],
   "source": [
    "def merge(array, start, end):\n",
    "    temp = []\n",
    "    first = start\n",
    "    second = (start+end+1)//2\n",
    "    while((first < (start+end+1)//2) and (second < end+1)):\n",
    "        if(array[first] < array[second]):\n",
    "            temp.append(array[first])\n",
    "            first += 1\n",
    "        else:\n",
    "            temp.append(array[second])\n",
    "            second += 1\n",
    "    \n",
    "    while(first < (start+end+1)//2):\n",
    "        temp.append(array[first])\n",
    "        first += 1\n",
    "    while(second < end+1):\n",
    "        temp.append(array[second])\n",
    "        second += 1\n",
    "    \n",
    "   \n",
    "\n",
    "arr = [1,2,4,5, 2,3,5,6]\n",
    "\n",
    "merge(arr, 0 , len(arr)-1)"
   ]
  },
  {
   "cell_type": "code",
   "execution_count": null,
   "id": "private-surface",
   "metadata": {},
   "outputs": [],
   "source": []
  }
 ],
 "metadata": {
  "kernelspec": {
   "display_name": "Python 3",
   "language": "python",
   "name": "python3"
  },
  "language_info": {
   "codemirror_mode": {
    "name": "ipython",
    "version": 3
   },
   "file_extension": ".py",
   "mimetype": "text/x-python",
   "name": "python",
   "nbconvert_exporter": "python",
   "pygments_lexer": "ipython3",
   "version": "3.9.2"
  }
 },
 "nbformat": 4,
 "nbformat_minor": 5
}

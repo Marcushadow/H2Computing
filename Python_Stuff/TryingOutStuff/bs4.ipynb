{
 "cells": [
  {
   "cell_type": "code",
   "execution_count": 3,
   "source": [
    "import requests\r\n",
    "from bs4 import BeautifulSoup\r\n",
    "\r\n",
    "\r\n",
    "\r\n",
    "\r\n"
   ],
   "outputs": [],
   "metadata": {}
  },
  {
   "cell_type": "code",
   "execution_count": 16,
   "source": [
    "URL = \"https://prnt.sc/ashe10\"\r\n",
    "page = requests.get(URL)\r\n",
    "soup = BeautifulSoup(page.content, \"html.parser\")\r\n"
   ],
   "outputs": [],
   "metadata": {}
  },
  {
   "cell_type": "code",
   "execution_count": 5,
   "source": [],
   "outputs": [],
   "metadata": {}
  },
  {
   "cell_type": "code",
   "execution_count": 17,
   "source": [
    "pageDiv = soup.find(\"body\")\r\n",
    "pageDiv"
   ],
   "outputs": [
    {
     "output_type": "execute_result",
     "data": {
      "text/plain": [
       "<body>\n",
       "<div id=\"cf-wrapper\">\n",
       "<div class=\"p-0\" id=\"cf-error-details\">\n",
       "<header class=\"mx-auto pt-10 lg:pt-6 lg:px-8 w-240 lg:w-full mb-8\">\n",
       "<h1 class=\"inline-block sm:block sm:mb-2 font-light text-60 lg:text-4xl text-black-dark leading-tight mr-2\">\n",
       "<span class=\"cf-error-type\">Error</span>\n",
       "<span class=\"cf-error-code\">520</span>\n",
       "</h1>\n",
       "<span class=\"inline-block sm:block font-mono text-15 lg:text-sm lg:leading-relaxed\">Ray ID: 68ca4c73db1bd187 •</span>\n",
       "<span class=\"inline-block sm:block font-mono text-15 lg:text-sm lg:leading-relaxed\">2021-09-10 17:15:31 UTC</span>\n",
       "<h2 class=\"text-gray-600 leading-1.3 text-3xl font-light\">Web server is returning an unknown error</h2>\n",
       "</header>\n",
       "<div class=\"my-8 bg-gradient-gray\">\n",
       "<div class=\"w-240 lg:w-full mx-auto\">\n",
       "<div class=\"clearfix md:px-8\">\n",
       "<div class=\"relative w-1/3 md:w-full py-15 md:p-0 md:py-8 md:text-left md:border-solid md:border-0 md:border-b md:border-gray-400 overflow-hidden float-left md:float-none text-center\" id=\"cf-browser-status\">\n",
       "<div class=\"relative mb-10 md:m-0\">\n",
       "<span class=\"cf-icon-browser block md:hidden h-20 bg-center bg-no-repeat\"></span>\n",
       "<span class=\"cf-icon-ok w-12 h-12 absolute left-1/2 md:left-auto md:right-0 md:top-0 -ml-6 -bottom-4\"></span>\n",
       "</div>\n",
       "<span class=\"md:block w-full truncate\">You</span>\n",
       "<h3 class=\"md:inline-block mt-3 md:mt-0 text-2xl text-gray-600 font-light leading-1.3\">Browser</h3>\n",
       "<span class=\"leading-1.3 text-2xl text-green-success\">Working</span>\n",
       "</div>\n",
       "<div class=\"relative w-1/3 md:w-full py-15 md:p-0 md:py-8 md:text-left md:border-solid md:border-0 md:border-b md:border-gray-400 overflow-hidden float-left md:float-none text-center\" id=\"cf-cloudflare-status\">\n",
       "<div class=\"relative mb-10 md:m-0\">\n",
       "<span class=\"cf-icon-cloud block md:hidden h-20 bg-center bg-no-repeat\"></span>\n",
       "<span class=\"cf-icon-ok w-12 h-12 absolute left-1/2 md:left-auto md:right-0 md:top-0 -ml-6 -bottom-4\"></span>\n",
       "</div>\n",
       "<span class=\"md:block w-full truncate\">Hong Kong</span>\n",
       "<h3 class=\"md:inline-block mt-3 md:mt-0 text-2xl text-gray-600 font-light leading-1.3\">Cloudflare</h3>\n",
       "<span class=\"leading-1.3 text-2xl text-green-success\">Working</span>\n",
       "</div>\n",
       "<div class=\"cf-error-source relative w-1/3 md:w-full py-15 md:p-0 md:py-8 md:text-left md:border-solid md:border-0 md:border-b md:border-gray-400 overflow-hidden float-left md:float-none text-center\" id=\"cf-host-status\">\n",
       "<div class=\"relative mb-10 md:m-0\">\n",
       "<span class=\"cf-icon-server block md:hidden h-20 bg-center bg-no-repeat\"></span>\n",
       "<span class=\"cf-icon-error w-12 h-12 absolute left-1/2 md:left-auto md:right-0 md:top-0 -ml-6 -bottom-4\"></span>\n",
       "</div>\n",
       "<span class=\"md:block w-full truncate\">prnt.sc</span>\n",
       "<h3 class=\"md:inline-block mt-3 md:mt-0 text-2xl text-gray-600 font-light leading-1.3\">Host</h3>\n",
       "<span class=\"leading-1.3 text-2xl text-red-error\">Error</span>\n",
       "</div>\n",
       "</div>\n",
       "</div>\n",
       "</div>\n",
       "<div class=\"w-240 lg:w-full mx-auto mb-8 lg:px-8\">\n",
       "<div class=\"clearfix\">\n",
       "<div class=\"w-1/2 md:w-full float-left pr-6 md:pb-10 md:pr-0 leading-relaxed\">\n",
       "<h2 class=\"text-3xl font-normal leading-1.3 mb-4\">What happened?</h2>\n",
       "<p>There is an unknown connection issue between Cloudflare and the origin web server. As a result, the web page can not be displayed.</p>\n",
       "</div>\n",
       "<div class=\"w-1/2 md:w-full float-left leading-relaxed\">\n",
       "<h2 class=\"text-3xl font-normal leading-1.3 mb-4\">What can I do?</h2>\n",
       "<h3 class=\"text-15 font-semibold mb-2\">If you are a visitor of this website:</h3>\n",
       "<p class=\"mb-6\">Please try again in a few minutes.</p>\n",
       "<h3 class=\"text-15 font-semibold mb-2\">If you are the owner of this website:</h3>\n",
       "<p><span>There is an issue between Cloudflare's cache and your origin web server. Cloudflare monitors for these errors and automatically investigates the cause. To help support the investigation, you can pull the corresponding error log from your web server and submit it our support team.  Please include the Ray ID (which is at the bottom of this error page).</span> <a href=\"https://support.cloudflare.com/hc/en-us/articles/200171936-Error-520\" rel=\"noopener noreferrer\">Additional troubleshooting resources</a>.</p>\n",
       "</div>\n",
       "</div>\n",
       "</div>\n",
       "<div class=\"cf-error-footer cf-wrapper w-240 lg:w-full py-10 sm:py-4 sm:px-8 mx-auto text-center sm:text-left border-solid border-0 border-t border-gray-300\">\n",
       "<p class=\"text-13\">\n",
       "<span class=\"cf-footer-item sm:block sm:mb-1\">Cloudflare Ray ID: <strong class=\"font-semibold\">68ca4c73db1bd187</strong></span>\n",
       "<span class=\"cf-footer-separator sm:hidden\">•</span>\n",
       "<span class=\"cf-footer-item sm:block sm:mb-1\"><span>Your IP</span>: 42.61.231.67</span>\n",
       "<span class=\"cf-footer-separator sm:hidden\">•</span>\n",
       "<span class=\"cf-footer-item sm:block sm:mb-1\"><span>Performance &amp; security by</span> <a href=\"https://www.cloudflare.com/5xx-error-landing\" id=\"brand_link\" rel=\"noopener noreferrer\" target=\"_blank\">Cloudflare</a></span>\n",
       "</p>\n",
       "</div><!-- /.error-footer -->\n",
       "</div>\n",
       "</div>\n",
       "</body>"
      ]
     },
     "metadata": {},
     "execution_count": 17
    }
   ],
   "metadata": {}
  },
  {
   "cell_type": "code",
   "execution_count": 1,
   "source": [],
   "outputs": [
    {
     "output_type": "error",
     "ename": "NameError",
     "evalue": "name 'asherList' is not defined",
     "traceback": [
      "\u001b[1;31m---------------------------------------------------------------------------\u001b[0m",
      "\u001b[1;31mNameError\u001b[0m                                 Traceback (most recent call last)",
      "\u001b[1;32m<ipython-input-1-567ecd7de4e1>\u001b[0m in \u001b[0;36m<module>\u001b[1;34m\u001b[0m\n\u001b[1;32m----> 1\u001b[1;33m \u001b[0mprint\u001b[0m\u001b[1;33m(\u001b[0m\u001b[0mlen\u001b[0m\u001b[1;33m(\u001b[0m\u001b[0masherList\u001b[0m\u001b[1;33m)\u001b[0m\u001b[1;33m)\u001b[0m\u001b[1;33m\u001b[0m\u001b[1;33m\u001b[0m\u001b[0m\n\u001b[0m",
      "\u001b[1;31mNameError\u001b[0m: name 'asherList' is not defined"
     ]
    }
   ],
   "metadata": {}
  },
  {
   "cell_type": "code",
   "execution_count": 45,
   "source": [
    "pageDiv = [str(cap) for cap in pageDiv]\r\n",
    "streng = \" \".join(pageDiv)"
   ],
   "outputs": [],
   "metadata": {}
  },
  {
   "cell_type": "code",
   "execution_count": 25,
   "source": [
    "for div in soup.findAll('div', attrs={'id':'search'}):\r\n",
    "    print(div.text)\r\n"
   ],
   "outputs": [],
   "metadata": {}
  },
  {
   "cell_type": "code",
   "execution_count": 47,
   "source": [
    "find_persons(streng)"
   ],
   "outputs": [
    {
     "output_type": "error",
     "ename": "NameError",
     "evalue": "name 'nlp' is not defined",
     "traceback": [
      "\u001b[1;31m---------------------------------------------------------------------------\u001b[0m",
      "\u001b[1;31mNameError\u001b[0m                                 Traceback (most recent call last)",
      "\u001b[1;32m<ipython-input-47-1c7eb1e3d525>\u001b[0m in \u001b[0;36m<module>\u001b[1;34m\u001b[0m\n\u001b[1;32m----> 1\u001b[1;33m \u001b[0mfind_persons\u001b[0m\u001b[1;33m(\u001b[0m\u001b[0mstreng\u001b[0m\u001b[1;33m)\u001b[0m\u001b[1;33m\u001b[0m\u001b[1;33m\u001b[0m\u001b[0m\n\u001b[0m",
      "\u001b[1;32m<ipython-input-42-90c92b5be4c6>\u001b[0m in \u001b[0;36mfind_persons\u001b[1;34m(text)\u001b[0m\n\u001b[0;32m      1\u001b[0m \u001b[1;32mdef\u001b[0m \u001b[0mfind_persons\u001b[0m\u001b[1;33m(\u001b[0m\u001b[0mtext\u001b[0m\u001b[1;33m)\u001b[0m\u001b[1;33m:\u001b[0m\u001b[1;33m\u001b[0m\u001b[1;33m\u001b[0m\u001b[0m\n\u001b[0;32m      2\u001b[0m     \u001b[1;31m# Create Doc object\u001b[0m\u001b[1;33m\u001b[0m\u001b[1;33m\u001b[0m\u001b[1;33m\u001b[0m\u001b[0m\n\u001b[1;32m----> 3\u001b[1;33m     \u001b[0mdoc2\u001b[0m \u001b[1;33m=\u001b[0m \u001b[0mnlp\u001b[0m\u001b[1;33m(\u001b[0m\u001b[0mtext\u001b[0m\u001b[1;33m)\u001b[0m\u001b[1;33m\u001b[0m\u001b[1;33m\u001b[0m\u001b[0m\n\u001b[0m\u001b[0;32m      4\u001b[0m \u001b[1;33m\u001b[0m\u001b[0m\n\u001b[0;32m      5\u001b[0m     \u001b[1;31m# Identify the persons\u001b[0m\u001b[1;33m\u001b[0m\u001b[1;33m\u001b[0m\u001b[1;33m\u001b[0m\u001b[0m\n",
      "\u001b[1;31mNameError\u001b[0m: name 'nlp' is not defined"
     ]
    }
   ],
   "metadata": {}
  },
  {
   "cell_type": "code",
   "execution_count": 9,
   "source": [
    "print(results.prettify())"
   ],
   "outputs": [
    {
     "output_type": "error",
     "ename": "AttributeError",
     "evalue": "'NoneType' object has no attribute 'prettify'",
     "traceback": [
      "\u001b[1;31m---------------------------------------------------------------------------\u001b[0m",
      "\u001b[1;31mAttributeError\u001b[0m                            Traceback (most recent call last)",
      "\u001b[1;32m<ipython-input-9-d240cd3bd521>\u001b[0m in \u001b[0;36m<module>\u001b[1;34m\u001b[0m\n\u001b[1;32m----> 1\u001b[1;33m \u001b[0mprint\u001b[0m\u001b[1;33m(\u001b[0m\u001b[0mresults\u001b[0m\u001b[1;33m.\u001b[0m\u001b[0mprettify\u001b[0m\u001b[1;33m(\u001b[0m\u001b[1;33m)\u001b[0m\u001b[1;33m)\u001b[0m\u001b[1;33m\u001b[0m\u001b[1;33m\u001b[0m\u001b[0m\n\u001b[0m",
      "\u001b[1;31mAttributeError\u001b[0m: 'NoneType' object has no attribute 'prettify'"
     ]
    }
   ],
   "metadata": {}
  },
  {
   "cell_type": "code",
   "execution_count": null,
   "source": [],
   "outputs": [],
   "metadata": {}
  }
 ],
 "metadata": {
  "orig_nbformat": 4,
  "language_info": {
   "name": "python",
   "version": "3.9.2",
   "mimetype": "text/x-python",
   "codemirror_mode": {
    "name": "ipython",
    "version": 3
   },
   "pygments_lexer": "ipython3",
   "nbconvert_exporter": "python",
   "file_extension": ".py"
  },
  "kernelspec": {
   "name": "python3",
   "display_name": "Python 3.9.2 64-bit"
  },
  "interpreter": {
   "hash": "d2990ea161ee6956a362087ffa53000b23fd3c21cc082d0b19467b0840579a3c"
  }
 },
 "nbformat": 4,
 "nbformat_minor": 2
}
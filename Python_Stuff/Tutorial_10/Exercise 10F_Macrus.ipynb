{
 "cells": [
  {
   "cell_type": "markdown",
   "metadata": {},
   "source": [
    "Implement a **Stack** class using a linked structure with the following attribute and methods:\n",
    "\n",
    "* **head** pointer, pointing to the first element in the linked list.\n",
    "* __Constructor()__ set up an empty stack.\n",
    "* __IsEmpty()__ returns **True** if the stack is empty, or __False__ otherwise. \n",
    "* __Push(item)__ inserts item at the top of the stack.\n",
    "* __Pop()__ removes and returns the item at the top of the stack.\n",
    "* __Peek()__ returns the item at the top of the stack.\n",
    "* __Size()__ returns the number of elements in stack.\n",
    "* __Display()__  displays the stack in reverse order (the most recently added element first).\n",
    "\n"
   ]
  },
  {
   "cell_type": "markdown",
   "metadata": {},
   "source": [
    "**Task 1**\n",
    "\n",
    "Write program code for the **Stack** class with the property and methods above.\n",
    "\n"
   ]
  },
  {
   "cell_type": "code",
   "execution_count": 2,
   "metadata": {},
   "outputs": [],
   "source": [
    "# Task 1\n",
    "\n",
    "class Node:\n",
    "    def __init__(self, value, next):\n",
    "        self.value = value\n",
    "        self.next = next\n",
    "\n",
    "\n",
    "class Stack:\n",
    "    def __init__(self):\n",
    "        self.head = None\n",
    "        self.size = 0\n",
    "    \n",
    "    def isEmpty(self):\n",
    "        return self.size == 0\n",
    "    \n",
    "    def Push(self, item):\n",
    "        self.head = Node(item, self.head)\n",
    "        self.size += 1\n",
    "    \n",
    "    def Pop(self):\n",
    "        if (self.head != None):\n",
    "            value = self.head.value\n",
    "            self.head = self.head.next\n",
    "            self.size -= 1\n",
    "\n",
    "            return value\n",
    "        else:\n",
    "            return None\n",
    "    \n",
    "    def Peek(self):\n",
    "        if (self.head != None):\n",
    "            return self.head.value\n",
    "        else:\n",
    "            return None\n",
    "    \n",
    "    def Size(self):\n",
    "        return self.size\n",
    "    \n",
    "    def Display(self):\n",
    "        \n",
    "        probe = self.head\n",
    "        while(probe != None and probe.next != None):\n",
    "            print(probe.value, end =\", \")\n",
    "            probe = probe.next\n",
    "            \n",
    "            \n",
    "\n"
   ]
  },
  {
   "cell_type": "markdown",
   "metadata": {},
   "source": [
    "A stack can be used to evaluate an arithmetic expression. An arithmetic expression can first be converted from infix notation to postfix notation, then the postfix notation can be evaluated to get the value of the infix notation.\n",
    "\n",
    "For example, the infix notation  __5 * ( 6 + 2 ) – 12 / 4__  can first be converted to postfix notation  **5 6 2 + * 12 4 / -** , and then evaluated to **37** using a stack.\n",
    "\n"
   ]
  },
  {
   "cell_type": "markdown",
   "metadata": {},
   "source": [
    "\n",
    "The following is an algorithm for converting an infix notation to postfix notation:\n",
    "\n",
    "1.\tStart with an empty stack and an empty list for output.\n",
    "\n",
    "\n",
    "2.\tScan the token list in infix notation from left to right.\n",
    "\n",
    "      * If the token is an operand, append it to the output list.\n",
    "      * If the token is a left parenthesis, push it onto the stack.\n",
    "      * If the token is an operator, ```*```, /, +, or -, push it onto the stack. However, first remove any operators already on the stack that have higher or equal precedence and append them to the output list.\n",
    "\n",
    "      * If the token is a right parenthesis, pop operators from the stack and append them to the output list until the corresponding left parenthesis is removed. \n",
    "      \n",
    " \t\n",
    "3.\tWhen the infix expression has been completely processed, pop all remaining operators from the stack and append to the output list.\n",
    "\n"
   ]
  },
  {
   "cell_type": "markdown",
   "metadata": {},
   "source": [
    "**Task 2**\n",
    "\n",
    "Write program code for the algorithm to convert infix notation to postfix notation using the following specification:\n",
    "\n",
    "   **FUNCTION Infix2Postfix (infix: STRING) : STRING**\n",
    "\n",
    " \n"
   ]
  },
  {
   "cell_type": "code",
   "execution_count": 3,
   "metadata": {},
   "outputs": [
    {
     "data": {
      "text/plain": [
       "'10 9 3 / 27 23 + * +'"
      ]
     },
     "execution_count": 3,
     "metadata": {},
     "output_type": "execute_result"
    }
   ],
   "source": [
    "# Task 2\n",
    "# Infix to Postfix Conversion using Stack\n",
    "\n",
    "def Infix2Postfix(infix):\n",
    "    stack = Stack()\n",
    "    operator = [\"+\", \"-\", \"*\", \"/\"]\n",
    "    operatorPrecedence= {\n",
    "        \"+\": 1,\n",
    "        \"-\": 1,\n",
    "        \"*\": 2,\n",
    "        \"/\": 2,\n",
    "        \"(\": 0,\n",
    "        \")\": 0,\n",
    "        \"{\": 0,\n",
    "        \"}\": 0,\n",
    "        \"[\": 0,\n",
    "        \"]\": 0\n",
    "    }\n",
    "    \n",
    "    openParan = [\"(\", \"{\", \"[\"]\n",
    "    closeParan = [\")\", \"}\", \"]\"]\n",
    "    \n",
    "    output = []\n",
    "    infix = infix.split(\" \")\n",
    "    \n",
    "    for character in infix:\n",
    "   \n",
    "        if(character in operator):\n",
    "            while((not stack.isEmpty()) and operatorPrecedence[stack.Peek()] >= operatorPrecedence[character]):\n",
    "                output.append(stack.Pop())\n",
    "                \n",
    "    \n",
    "            stack.Push(character)\n",
    "\n",
    "        elif(character in openParan):\n",
    "            stack.Push(character)\n",
    "\n",
    "        elif(character in closeParan):\n",
    "            while(stack.Peek() != openParan[closeParan.index(character)]):\n",
    "                output.append(stack.Pop())\n",
    "            stack.Pop()\n",
    "\n",
    "        else:\n",
    "            output.append(character)\n",
    "            \n",
    "    while(not stack.isEmpty()):\n",
    "#         print(stack.Size())\n",
    "        output.append(stack.Pop())\n",
    "            \n",
    "    return \" \".join(output)\n",
    "                    \n",
    "    \n",
    "Infix2Postfix(\"10 + ( 9 / 3 ) * ( 27 + 23 )\")\n"
   ]
  },
  {
   "cell_type": "markdown",
   "metadata": {},
   "source": [
    "\n",
    "The following algorithm can be used to evaluate postfix notation:\n",
    "\n",
    "1.\tCreate an empty stack.\n",
    "\n",
    "\n",
    "2.\tScan the token list in postfix notation from left to right.\n",
    "\n",
    "       * If the token is an operand, push it onto the stack. \n",
    "       * If the token is an operator, pop the stack twice. Apply the operator to the two popped operands and push the result onto the stack.\n",
    "       \n",
    "\n",
    "3.\tWhen the postfix expression has been completely processed, pop the stack and return the value.\n",
    "\n",
    "```\n",
    "\n",
    "```\n",
    "   \n",
    "\n",
    "**Task 3**\n",
    "\n",
    "Write program code for the algorithm to evaluate postfix notation using the following specification:\n",
    "\n",
    " **FUNCTION PostfixEval (postfix: STRING) : FLOAT**\n",
    "\n"
   ]
  },
  {
   "cell_type": "code",
   "execution_count": 87,
   "metadata": {},
   "outputs": [
    {
     "data": {
      "text/plain": [
       "'37'"
      ]
     },
     "execution_count": 87,
     "metadata": {},
     "output_type": "execute_result"
    }
   ],
   "source": [
    "# Task 3\n",
    "# Evaluation of Postfix Expression using Stack\n",
    "\n",
    "def PostfixEval(postfix):\n",
    "    stack = Stack()\n",
    "    operator = [\"+\", \"-\", \"*\", \"/\"]\n",
    "    postfix = postfix.split()\n",
    "    for character in postfix:\n",
    "        if (not character in operator):\n",
    "            stack.Push(character)\n",
    "        \n",
    "        else:\n",
    "            secondValue = (stack.Pop())\n",
    "            firstValue = (stack.Pop())\n",
    "            \n",
    "            stack.Push(str(int(eval(f\"{firstValue} {character} {secondValue}\"))))\n",
    "            \n",
    "    return stack.Peek()\n",
    "\n",
    "PostfixEval(\"5 6 2 + * 12 4 / -\")\n",
    "\n"
   ]
  },
  {
   "cell_type": "markdown",
   "metadata": {},
   "source": [
    "**Task 4**\n",
    "\n",
    "Write program code to read the infix expressions from the file **INFIX.txt** and output its postfix expressions and its evaluation.\n",
    "\n",
    "\n"
   ]
  },
  {
   "cell_type": "code",
   "execution_count": 89,
   "metadata": {},
   "outputs": [
    {
     "name": "stdout",
     "output_type": "stream",
     "text": [
      "\n",
      "infix:  2 + 3 * 4 - 10\n",
      "postfix:  2 3 4 * + 10 -\n",
      "Value:  4\n",
      "\n",
      "infix:  ( 6 + 2 ) * 3 - 8 / 4\n",
      "postfix:  6 2 + 3 * 8 4 / -\n",
      "Value:  22\n",
      "\n",
      "infix:  ( [ 10 - 6 ] * { 2 - 5 } )\n",
      "postfix:  10 6 - 2 5 - *\n",
      "Value:  -12\n",
      "\n",
      "infix:  5 + ( 3 + 4 * 2 - 6 ) * 2 \n",
      "postfix:  5 3 4 2 * + 6 - 2  * +\n",
      "Value:  15\n",
      "\n",
      "infix:  2 + 3 * ( ( 8 - 6 ) * 2 ) \n",
      "postfix:  2 3 8 6 - 2 *  * +\n",
      "Value:  14\n"
     ]
    }
   ],
   "source": [
    "# Task 4\n",
    "\n",
    "with open(\"INFIX.txt\", \"r\") as fs:\n",
    "    inputs = fs.read()\n",
    "    allExpressions = inputs.split(\"\\n\")\n",
    "    \n",
    "    for expression in allExpressions:\n",
    "        print()\n",
    "        print(\"infix: \", expression)\n",
    "        pf = Infix2Postfix(expression)\n",
    "        print(\"postfix: \", pf)\n",
    "        print(\"Value: \", PostfixEval(pf))\n",
    "        \n",
    "\n",
    "#     print(allExpressions)\n"
   ]
  },
  {
   "cell_type": "code",
   "execution_count": null,
   "metadata": {},
   "outputs": [],
   "source": []
  }
 ],
 "metadata": {
  "interpreter": {
   "hash": "79b5e9c4981b2ed0fae48cae49f290910e4ab927bd3333490b62cb47eeb76658"
  },
  "kernelspec": {
   "display_name": "Python 3.8.7 64-bit",
   "language": "python",
   "name": "python3"
  },
  "language_info": {
   "codemirror_mode": {
    "name": "ipython",
    "version": 3
   },
   "file_extension": ".py",
   "mimetype": "text/x-python",
   "name": "python",
   "nbconvert_exporter": "python",
   "pygments_lexer": "ipython3",
   "version": "3.8.7"
  }
 },
 "nbformat": 4,
 "nbformat_minor": 2
}

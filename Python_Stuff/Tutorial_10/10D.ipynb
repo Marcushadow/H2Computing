{
 "cells": [
  {
   "cell_type": "code",
   "execution_count": null,
   "metadata": {},
   "outputs": [],
   "source": []
  },
  {
   "cell_type": "markdown",
   "metadata": {},
   "source": [
    "# 10D Question 1\n",
    "\n",
    "<image src=\"10D_1.png\">"
   ]
  },
  {
   "cell_type": "markdown",
   "metadata": {},
   "source": [
    "## Q2"
   ]
  },
  {
   "cell_type": "code",
   "execution_count": 1,
   "metadata": {},
   "outputs": [],
   "source": [
    "def SearchItem(tree, item):\n",
    "    if (tree == None):\n",
    "        return False\n",
    "    elif(tree.data > item):\n",
    "        return SearchItem(tree.left, item)\n",
    "    elif(tree.data < item):\n",
    "        return SearchItem(tree.right, item)\n",
    "    else:\n",
    "        return True\n",
    "    "
   ]
  },
  {
   "cell_type": "markdown",
   "metadata": {},
   "source": [
    "## Q3"
   ]
  },
  {
   "cell_type": "code",
   "execution_count": 2,
   "metadata": {},
   "outputs": [],
   "source": [
    "def InsertItem(tree, item):\n",
    "    newNode = TreeNode(item)\n",
    "\n",
    "    if(tree == None):\n",
    "        tree = newNode\n",
    "    \n",
    "    elif(tree.data > item):\n",
    "        InsertItem(tree.left, item)\n",
    "    \n",
    "    elif(tree.data < item):\n",
    "        InsertItem(tree.right, item)\n",
    "    \n",
    "    else:\n",
    "        print(\"Item is already in the list\")\n"
   ]
  },
  {
   "cell_type": "markdown",
   "metadata": {},
   "source": [
    "## Q4 a\n",
    "\n",
    "<image src=\"10D_2.png\">"
   ]
  },
  {
   "cell_type": "markdown",
   "metadata": {},
   "source": [
    "## Q4 b\n",
    "\n",
    "<image src=\"10D_3.png\">"
   ]
  },
  {
   "cell_type": "markdown",
   "metadata": {},
   "source": [
    "## Q5\n",
    "\n",
    "PreOrder:\n",
    "```\n",
    "- + a / * b c d e \n",
    "\n",
    "Prefix notation\n",
    "```\n",
    "\n",
    "InOrder:\n",
    "\n",
    "```\n",
    "a + b * c / d - e\n",
    "\n",
    "Infix Notation\n",
    "```\n",
    "\n",
    "PostOrder:\n",
    "```\n",
    "a b c * d / + e - \n",
    "\n",
    "Postfix Notation\n",
    "```"
   ]
  },
  {
   "cell_type": "markdown",
   "metadata": {},
   "source": [
    "## Q5 b.)\n",
    "\n",
    "<image src=\"10D_4.png\">\n",
    "<image src=\"10D_5.png\">"
   ]
  },
  {
   "cell_type": "markdown",
   "metadata": {},
   "source": [
    "## Q6\n",
    "### a\n",
    "I : . .\n",
    "\n",
    "N : - . \n",
    "\n",
    "### b\n",
    "\n",
    "<image src=\"10D_6.png\">\n"
   ]
  },
  {
   "cell_type": "markdown",
   "metadata": {},
   "source": [
    "## 6C\n",
    "\n",
    "The algorithm gets the user to input the morse code value\n",
    "\n",
    "while the input is not empty, look at the first value of the input.\n",
    "if the first value is \"-\" iterate to the right child of the node.\n",
    "else if the value is \".\" iterate to the left child of the node.\n",
    "\n",
    "run the algorithm again with the remaining morse as the query\n",
    "\n",
    "```\n",
    "FUNCTION findValue(STRING morseCode, node) RETURNS STRING\n",
    "\n",
    "IF LENGTH OF morseCode = 0\n",
    "    RETURN node.value\n",
    "\n",
    "ELIF morseCode[0] = \"-\"\n",
    "    RETURN findValue(morseCode[1:], node.rightChild)\n",
    "\n",
    "ELSE\n",
    "    RETURN findValue(morseCode[1:], node.leftChild)\n",
    "\n",
    "ENDIF\n",
    "ENDFUNCTION\n",
    "```"
   ]
  },
  {
   "cell_type": "markdown",
   "metadata": {},
   "source": [
    "## 6D\n",
    "\n",
    "It uses up a lot of storage space and is unnecessarily complicated. As you need to loop through to find each each individual letter. Need to traverse the whole tree.\n",
    "\n",
    "You can maintain a dictionary of every morse code pattern for a direct lookup\n",
    "Hash Table\n",
    "Store the Morse codes in a 1-dimensional array "
   ]
  },
  {
   "cell_type": "markdown",
   "metadata": {},
   "source": [
    "## 7a\n",
    "\n",
    "<image src = \"morebst.png\">\n",
    "\n",
    "## 7b\n",
    "\n",
    "The node that will replace it is the node number 5 or in node number 6\n",
    "\n",
    "## 7c \n",
    "\n",
    "This is inorder traversal\n",
    "\n",
    "## 7d\n",
    "\n",
    "This is preorder traversal"
   ]
  },
  {
   "cell_type": "markdown",
   "metadata": {},
   "source": [
    "## 8 a i.)\n",
    "\n",
    "If this were the case, the top node would have been \"the\", but in the displayed binary tree, the top node is \"one\". This implies that the first thing added to the bst is \"one\"\n",
    "\n",
    "## 8 a ii.)\n",
    "\n",
    "<image src=\"10D_7.png\">\n"
   ]
  },
  {
   "cell_type": "markdown",
   "metadata": {},
   "source": [
    "## 8 b i.)\n",
    "Sentence:\n",
    "\n",
    "one the man chased dog cat\n",
    "\n",
    "\n",
    "## 8 b ii.)\n",
    "\n",
    "As all alphabetically previous are on the left child nodes while those alphabetically greater are on the right nodes:\n",
    "\n",
    "\n",
    "```\n",
    "if tree is not empty then\n",
    "    Write out the left sub-tree using printtree\n",
    "    Write out the word stored in the current node\n",
    "    Write out the right sub-tree using printtree\n",
    "\n",
    "Ifend\n",
    "```\n",
    "\n",
    "## 8 c.)\n",
    "\n",
    "Iterate through the binary tree and create a separate binary tree that compares the nodes based on the values.\n",
    "If the count of the nodes are greater than the parent node, the node is added to the right child and to the left child if other wise\n",
    "- If the count is greater, it is added to the right child of the node\n",
    "- If the count is smaller or equal to, it is added to the left child of the node\n",
    "\n",
    "The newly constructed binary tree will have its data sorted based on count. As a result if we conduct an inorder traversal on this newly constructed binary tree, we will have the counts in order as well.\n",
    "\n",
    "def InorderPrint(node):\n",
    "    if(node != None):\n",
    "        InorderPrint(node.left)\n",
    "        print(node.value)\n",
    "        InorderPrint(node.right)\n",
    "\n",
    "\n"
   ]
  },
  {
   "cell_type": "markdown",
   "metadata": {},
   "source": [
    "## 9a\n",
    "\n",
    "<image src=\"10correction1.png\">\n",
    "\n",
    "## 9b\n",
    "\n",
    "<image src=\"10correction2.png\">"
   ]
  },
  {
   "cell_type": "code",
   "execution_count": 1,
   "metadata": {},
   "outputs": [
    {
     "data": {
      "text/plain": [
       "True"
      ]
     },
     "execution_count": 1,
     "metadata": {},
     "output_type": "execute_result"
    }
   ],
   "source": [
    "\"they\" > \"the\""
   ]
  },
  {
   "cell_type": "code",
   "execution_count": null,
   "metadata": {},
   "outputs": [],
   "source": []
  }
 ],
 "metadata": {
  "interpreter": {
   "hash": "05b2220a26de58e0031cd0a7cbd64d94eaa84338873dc0e02216392d53d6f30f"
  },
  "kernelspec": {
   "display_name": "Python 3.8.7 64-bit",
   "language": "python",
   "name": "python3"
  },
  "language_info": {
   "codemirror_mode": {
    "name": "ipython",
    "version": 3
   },
   "file_extension": ".py",
   "mimetype": "text/x-python",
   "name": "python",
   "nbconvert_exporter": "python",
   "pygments_lexer": "ipython3",
   "version": "3.8.7"
  },
  "orig_nbformat": 4
 },
 "nbformat": 4,
 "nbformat_minor": 2
}

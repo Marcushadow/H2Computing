{
 "cells": [
  {
   "cell_type": "code",
   "execution_count": null,
   "metadata": {},
   "outputs": [],
   "source": []
  },
  {
   "cell_type": "markdown",
   "metadata": {},
   "source": [
    "### 10A"
   ]
  },
  {
   "cell_type": "markdown",
   "metadata": {},
   "source": [
    "#### 1 a.)"
   ]
  },
  {
   "cell_type": "code",
   "execution_count": 2,
   "metadata": {},
   "outputs": [],
   "source": [
    "\n",
    "class node:\n",
    "    def __init__(self, value, next = None):\n",
    "        self.value = value\n",
    "        self.next = next\n",
    "\n",
    "\n",
    "\n",
    "def average(head):\n",
    "    count = 0\n",
    "    \n",
    "    probe = head\n",
    "    totalValue = probe.value\n",
    "\n",
    "    while(probe.next != None):\n",
    "        probe = probe.next\n",
    "        count += 1\n",
    "        totalValue += probe.value\n",
    "    \n",
    "    return totalValue/count"
   ]
  },
  {
   "cell_type": "markdown",
   "metadata": {},
   "source": [
    "```\n",
    "BEGIN\n",
    "\n",
    "probe <- head\n",
    "count <- 0\n",
    "totalValue <- probe.value\n",
    "\n",
    "WHILE (probe.next <> null):\n",
    "\n",
    "    probe <- probe.next\n",
    "    count <- count + 1\n",
    "    totalValue = totalValue + probe.Value\n",
    "\n",
    "ENDWHILE\n",
    "\n",
    "IF count <> 0\n",
    "    PRINT(totalValue/ count)\n",
    "ENDIF\n",
    "\n",
    "END\n",
    "\n",
    "```"
   ]
  },
  {
   "cell_type": "markdown",
   "metadata": {},
   "source": [
    "#### 1 b.)"
   ]
  },
  {
   "cell_type": "code",
   "execution_count": 3,
   "metadata": {},
   "outputs": [],
   "source": [
    "def insertNode(head, value):\n",
    "    probe = head\n",
    "\n",
    "    while(probe.next != None):\n",
    "        probe = probe.next\n",
    "    \n",
    "    probe.next = node(value)"
   ]
  },
  {
   "cell_type": "markdown",
   "metadata": {},
   "source": [
    "```\n",
    "BEGIN\n",
    "\n",
    "probe <- head\n",
    "\n",
    "WHILE (probe.next <> null):\n",
    "\n",
    "    probe <- probe.next\n",
    "ENDWHILE\n",
    "\n",
    "probe.next <- NEW node(value)\n",
    "\n",
    "END\n",
    "\n",
    "```"
   ]
  },
  {
   "cell_type": "markdown",
   "metadata": {},
   "source": [
    "#### 1c.)"
   ]
  },
  {
   "cell_type": "code",
   "execution_count": 4,
   "metadata": {},
   "outputs": [],
   "source": [
    "def search(head, value):\n",
    "    probe = head\n",
    "\n",
    "    while(probe.next != None):\n",
    "        if(probe.next.value == value):\n",
    "            return probe\n",
    "    \n",
    "    return None"
   ]
  },
  {
   "cell_type": "markdown",
   "metadata": {},
   "source": [
    "```\n",
    "BEGIN\n",
    "\n",
    "probe <- head\n",
    "input searchValue\n",
    "\n",
    "WHILE (probe.next <> null):\n",
    "    IF(probe.next.value == searchValue):\n",
    "        RETURN probe.next\n",
    "    ENDIF\n",
    "ENDWHILE\n",
    "\n",
    "RETURN null\n",
    "\n",
    "END\n",
    "\n",
    "```"
   ]
  },
  {
   "cell_type": "markdown",
   "metadata": {},
   "source": [
    "#### 2 a.)\n",
    "\n",
    "A linked list is a data structure comprising of nodes with a non-contiguous dynamic memory allocation scheme, each node containing a value as well as a reference to the next node.\n",
    "\n",
    "<image src=\"2a.png\">"
   ]
  },
  {
   "cell_type": "markdown",
   "metadata": {},
   "source": [
    "#### 2b.)\n",
    "\n",
    "- Check if the value to change is the head node, if it is the head node, set the next of the head to the current head and value as the value to insert.\n",
    "\n",
    "- Starting from the head node, iterate through the linked lists in order to reach the probe at position (n-1)\n",
    "\n",
    "- Create a new node with the value to insert and store the references to the next item in the list to the value of next of the probe at position (n-1)\n",
    "\n",
    "- Set the next of the list at position (n-1) to be this new node\n",
    "\n",
    "<image src=\"2b.png\">\n"
   ]
  },
  {
   "cell_type": "markdown",
   "metadata": {},
   "source": [
    "#### 2c\n",
    "\n",
    "Advantage:\n",
    "- Simple to use and traverse\n",
    "- All high-level languages support arrays but not all support pointers\n",
    "- Arrays are easier to program\n",
    "- Arrays require less storage than linked lists\n",
    "\n",
    "\n",
    "Disadvantage:\n",
    "- Does not have dynamic allocation and hence cannot cater for bigger sizes of data\n",
    "- Can't increase memory allocation as more data is needed\n",
    "- Can waste space\n",
    "- Additions to or deletions from an array means that the array has to be frequently reorganised whereas for a linked list only a few pointers need changing\n"
   ]
  },
  {
   "cell_type": "markdown",
   "metadata": {},
   "source": [
    "#### 3 ai.)\n",
    "\n",
    "When deleting at the head, the head node is shifted to the next node, and garbage collection returns the memory occupied by the node back to system heap.\n",
    "\n",
    "<image src=\"deleteHead.png\">\n",
    "\n",
    "When deleting any where in the middle, you have to search for the node at position n-1 and delete the next item and set the pointer the the pointer of the deleted item\n",
    "\n",
    "<image src=\"deletePosition.png\">\n",
    "\n",
    "####"
   ]
  },
  {
   "cell_type": "markdown",
   "metadata": {},
   "source": [
    "#### Q 3aii.)\n",
    "\n",
    "```\n",
    "BEGIN\n",
    "    probe <- head\n",
    "    input deletePosition\n",
    "\n",
    "    IF deletePosition == 1\n",
    "        print head.value\n",
    "        head <- head.next\n",
    "\n",
    "    ELSE\n",
    "        FOR i <- 2 TO (deletePosition - 1)\n",
    "            probe <- probe.next\n",
    "        ENDFOR\n",
    "\n",
    "        print(probe.next.value)\n",
    "        probe.next <- probe.next.next\n",
    "        \n",
    "\n",
    "    ENDIF\n",
    "END\n",
    "\n",
    "```"
   ]
  },
  {
   "cell_type": "markdown",
   "metadata": {},
   "source": [
    "#### Q3aiii.)\n",
    "\n",
    "```\n",
    "BEGIN\n",
    "    count <- 1\n",
    "    probe <- head\n",
    "\n",
    "    WHILE probe.next != null:\n",
    "        count <- count + 1\n",
    "        probe <- probe.next\n",
    "    ENDWHILE\n",
    "\n",
    "    print count\n",
    "\n",
    "END\n",
    "\n",
    "```"
   ]
  },
  {
   "cell_type": "markdown",
   "metadata": {},
   "source": [
    "#### Q3 b i.)\n",
    "\n",
    "<image src=\"3b.png\">\n",
    "\n",
    "##### take note of Start not head"
   ]
  },
  {
   "cell_type": "markdown",
   "metadata": {},
   "source": [
    "#### Q3 b ii.)\n",
    "```\n",
    "BEGIN\n",
    "    testList.delete(testList.length())\n",
    "END\n",
    "```"
   ]
  },
  {
   "cell_type": "markdown",
   "metadata": {},
   "source": [
    "#### Q4 \n",
    "\n",
    "Before anything is added:\n",
    "<image src=\"head.png\">\n",
    "\n",
    "After thing is added:\n",
    "<image src=\"sent2.png\">\n",
    "\n",
    "##### Remember to put slash at the last node?\n",
    "\n",
    "<image src=\"corrected-Diagram.png\">"
   ]
  },
  {
   "cell_type": "markdown",
   "metadata": {},
   "source": [
    "#### Q4b\n",
    "\n",
    "- Assuming each Node object contains a value, count as well a pointer to the next object\n",
    "- Define a function to determine the alphabetical precedence of a word compared to another word, and returns true if its is alphabetically precedent to the other word, i.e isAlphabeticallyPrecedent(\"A\", \"B\") returns True\n",
    "- Create an empty node object \n",
    "\n",
    "- Input the first word\n",
    "- Create a probe that equals to the head of the linked list\n",
    "- When a new word is added, iterate through the linked list until the next word is no longer alphabetically precedent. (i.e equals to or is after)\n",
    "- If the value of the next word is equal to the input word, increase the count of the next word by 1\n",
    "- Else if the value of the next word is no longer alphabetically precedent, insert a new node with value of word, count = 1 and next = next of the current node\n",
    "- set the next of the current node to this new node"
   ]
  },
  {
   "cell_type": "markdown",
   "metadata": {},
   "source": [
    "#### 5\n",
    "```\n",
    "Assume the existence of a data type Node with next and value\n",
    "\n",
    "BEGIN\n",
    "\n",
    "FUNCTION isAlphaPrecedent(<string> a, <string> b) RETURNS BOOL\n",
    "    RETURNS a < b\n",
    "ENDFUNCTION\n",
    "\n",
    "FUNCTION addValue(<node> head, <string> input) RETURNS node\n",
    "\n",
    "    inputNode <- node(input)\n",
    "\n",
    "    IF head == null\n",
    "        head <- inputNode\n",
    "\n",
    "    ELSE\n",
    "        probe <- head\n",
    "        WHILE isAlphaPrecedent(probe.next.value, input)\n",
    "            probe <- probe.next\n",
    "        ENDWHILE\n",
    "\n",
    "        IF probe.next == null\n",
    "            probe.next <- inputNode\n",
    "        ELSE\n",
    "            inputNode.next <- probe.next\n",
    "            probe.next <- inputNode\n",
    "        ENDIF\n",
    "        # Can be with or without\n",
    "\n",
    "    ENDIF\n",
    "    \n",
    "ENDFUNCTION\n",
    "\n",
    "\n",
    "END\n",
    "```"
   ]
  },
  {
   "cell_type": "markdown",
   "metadata": {},
   "source": [
    "#### Q 5 b.)\n",
    "\n",
    "- Loop through the linked list until the next item is no longer alphabetically precedent to the target key.\n",
    "- If the next value is equal to the target key\n",
    "- Set the next pointer of the current node to the next pointer of the next node\n",
    "- let the garbage collector free out the memory to the heap"
   ]
  },
  {
   "cell_type": "markdown",
   "metadata": {},
   "source": [
    "#### Q6 a.)\n",
    "\n",
    "<image src=\"question.png\">\n",
    "\n",
    "-> They can be stored in a linked list, comprising node classes, each with a value and a next\n",
    "\n",
    "#### Q6 b.)\n",
    "\n",
    "<image src=\"6_1.png\">\n",
    "\n",
    "<image src=\"correction_2.png\">\n",
    "\n",
    "<image src = \"6_2.png\">\n",
    "\n",
    "<image src=\"corrected_3.png\">\n",
    "\n",
    "##### COrrection:\n",
    "\n",
    "- Use pointers to move through the list until value is found or it is the end of the list\n",
    "- If end of list return error and stop\n",
    "- Change pointer to the previous point on the linked list"
   ]
  },
  {
   "cell_type": "markdown",
   "metadata": {},
   "source": []
  }
 ],
 "metadata": {
  "interpreter": {
   "hash": "05b2220a26de58e0031cd0a7cbd64d94eaa84338873dc0e02216392d53d6f30f"
  },
  "kernelspec": {
   "display_name": "Python 3.8.7 64-bit",
   "language": "python",
   "name": "python3"
  },
  "language_info": {
   "codemirror_mode": {
    "name": "ipython",
    "version": 3
   },
   "file_extension": ".py",
   "mimetype": "text/x-python",
   "name": "python",
   "nbconvert_exporter": "python",
   "pygments_lexer": "ipython3",
   "version": "3.8.7"
  },
  "orig_nbformat": 4
 },
 "nbformat": 4,
 "nbformat_minor": 2
}

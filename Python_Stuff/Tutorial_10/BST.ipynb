{
 "cells": [
  {
   "cell_type": "code",
   "execution_count": null,
   "metadata": {},
   "outputs": [],
   "source": [
    "class TreeNode:\n",
    "    def __init__(self, data):\n",
    "        self.data = data\n",
    "        self.left = None\n",
    "        self.right = None\n",
    "\n",
    "class BST:\n",
    "    def __init__(self):\n",
    "        self.root = None\n",
    "        self.size = 0\n",
    "    \n",
    "    def insert(self, value):\n",
    "        tempNode = TreeNode(value)\n",
    "\n",
    "        if(self.root == None):\n",
    "            self\n",
    "        "
   ]
  },
  {
   "cell_type": "code",
   "execution_count": 46,
   "metadata": {},
   "outputs": [],
   "source": [
    "class BSTree:\n",
    "    def __init__(self, data = None):\n",
    "        self.left = None\n",
    "        self.right = None\n",
    "        self.data = data\n",
    "\n",
    "    def insert(self, item):\n",
    "        newSubTree = BSTree(item)\n",
    "        if(self.data == None):\n",
    "            self.data = item\n",
    "\n",
    "        elif(data >= self.data):\n",
    "            if(self.right == None):\n",
    "                self.right = newSubTree\n",
    "            else:\n",
    "                self.right.insert(data)\n",
    "        else:\n",
    "            if(self.left == None):\n",
    "                self.left = newSubTree\n",
    "            else:\n",
    "                self.left.insert(data)\n",
    "    \n",
    "    def InOrderTraversal(self):\n",
    "        if(self.left != None):\n",
    "            self.left.InOrderTraversal()\n",
    "\n",
    "        print(self.data)\n",
    "\n",
    "        if(self.right != None):\n",
    "            self.right.InOrderTraversal()\n",
    "\n",
    "    def Search(self, item):\n",
    "        if(self.data == item):\n",
    "            return True\n",
    "        elif(self.data > item and self.left != None):\n",
    "            return self.left.Search(item)\n",
    "        elif(self.data < item and self.right != None):\n",
    "            return self.right.Search(item)\n",
    "        else:\n",
    "            return False\n",
    "\n",
    "    def iterSearch(self, item):\n",
    "        probe = self\n",
    "        while (probe != None and probe.data != None):\n",
    "            if(probe.data == item):\n",
    "                return True\n",
    "            else:\n",
    "                if(probe.data > item):\n",
    "                    probe = probe.left\n",
    "                else:\n",
    "                    probe = probe.right\n",
    "\n",
    "        return False\n",
    "\n",
    "    def iterInsert(self, item):\n",
    "        \n",
    "        if(self.data == None):\n",
    "            self.data = item\n",
    "        else:\n",
    "            probe = self\n",
    "            newItem = BSTree(item)\n",
    "            inserted = False\n",
    "            while (not inserted):\n",
    "                if(item > probe.data):\n",
    "                    if(probe.right == None):\n",
    "                        probe.right = newItem\n",
    "                        inserted = True\n",
    "                    else:\n",
    "                        probe = probe.right\n",
    "                else:\n",
    "                    if(probe.left == None):\n",
    "                        probe.left = newItem\n",
    "                        inserted = True\n",
    "                    else:\n",
    "                        probe = probe.left\n",
    "                    \n",
    "            \n",
    "            probe = newItem\n",
    "                \n",
    "\n",
    "        "
   ]
  },
  {
   "cell_type": "code",
   "execution_count": 47,
   "metadata": {},
   "outputs": [],
   "source": [
    "test = BSTree()\n",
    "test.iterInsert(\"J\")\n",
    "test.iterInsert(\"E\")\n",
    "test.iterInsert(\"F\")\n",
    "test.iterInsert(\"T\")\n",
    "test.iterInsert(\"A\")"
   ]
  },
  {
   "cell_type": "code",
   "execution_count": 48,
   "metadata": {},
   "outputs": [
    {
     "name": "stdout",
     "output_type": "stream",
     "text": [
      "A\n",
      "E\n",
      "F\n",
      "J\n",
      "T\n"
     ]
    }
   ],
   "source": [
    "test.InOrderTraversal()"
   ]
  },
  {
   "cell_type": "code",
   "execution_count": 40,
   "metadata": {},
   "outputs": [
    {
     "data": {
      "text/plain": [
       "False"
      ]
     },
     "execution_count": 40,
     "metadata": {},
     "output_type": "execute_result"
    }
   ],
   "source": [
    "test.iterSearch(\"Q\")"
   ]
  },
  {
   "cell_type": "code",
   "execution_count": null,
   "metadata": {},
   "outputs": [],
   "source": []
  }
 ],
 "metadata": {
  "interpreter": {
   "hash": "05b2220a26de58e0031cd0a7cbd64d94eaa84338873dc0e02216392d53d6f30f"
  },
  "kernelspec": {
   "display_name": "Python 3.8.7 64-bit",
   "language": "python",
   "name": "python3"
  },
  "language_info": {
   "codemirror_mode": {
    "name": "ipython",
    "version": 3
   },
   "file_extension": ".py",
   "mimetype": "text/x-python",
   "name": "python",
   "nbconvert_exporter": "python",
   "pygments_lexer": "ipython3",
   "version": "3.8.7"
  },
  "orig_nbformat": 4
 },
 "nbformat": 4,
 "nbformat_minor": 2
}

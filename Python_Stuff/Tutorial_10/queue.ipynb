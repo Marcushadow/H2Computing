{
 "cells": [
  {
   "cell_type": "code",
   "execution_count": null,
   "metadata": {},
   "outputs": [],
   "source": [
    "def Node:\n",
    "    def __init__(self, value, next):\n",
    "        self.value = value\n",
    "        self.next = next\n",
    "\n",
    "def Queue:\n",
    "    def __init__(self):\n",
    "        self.queue = None\n",
    "\n",
    "    def add(self,value):\n",
    "        newNode = Node(value, None)\n",
    "        if(self.queue == None):\n",
    "            self.queue = newNode\n",
    "\n",
    "        else:\n",
    "            probe = self.queue\n",
    "            while(probe.next != None):\n",
    "                probe = probe.next\n",
    "            \n",
    "            probe.next = newNode\n",
    "    \n",
    "    def length(self):\n",
    "        probe = self.queue\n",
    "        length = 0\n",
    "        while(probe != None):\n",
    "            length += 1\n",
    "            probe = probe.next\n",
    "        \n",
    "        return length\n",
    "    \n",
    "    def pop(self):\n",
    "        value = self.queue.value\n",
    "        self.queue = self.queue.next\n",
    "        return value\n",
    "\n",
    "    def display(self):\n",
    "        probe = self.queue\n",
    "        while(probe != None):\n",
    "            print(f\"Queue Item: {probe.value}\")\n",
    "            probe = probe.next\n",
    "        \n",
    "        return length\n",
    "        \n",
    "        \n",
    "            "
   ]
  }
 ],
 "metadata": {
  "interpreter": {
   "hash": "05b2220a26de58e0031cd0a7cbd64d94eaa84338873dc0e02216392d53d6f30f"
  },
  "kernelspec": {
   "display_name": "Python 3.8.7 64-bit",
   "language": "python",
   "name": "python3"
  },
  "language_info": {
   "name": "python",
   "version": "3.8.7"
  },
  "orig_nbformat": 4
 },
 "nbformat": 4,
 "nbformat_minor": 2
}

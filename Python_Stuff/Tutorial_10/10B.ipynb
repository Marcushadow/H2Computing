{
 "cells": [
  {
   "cell_type": "code",
   "execution_count": null,
   "metadata": {},
   "outputs": [],
   "source": []
  },
  {
   "cell_type": "markdown",
   "metadata": {},
   "source": [
    "### Tutorial 10B\n",
    "```\n",
    "\n",
    "Assume the existence of a stack with attributes top, size and items in the stack, with methods pop() and push()\n",
    "\n",
    "BEGIN\n",
    "letterStack <- new stack\n",
    "input inputString\n",
    "lengthOfString <- LENGTH OF inputString\n",
    "isPalindromic <- True\n",
    "\n",
    "FOR i <- 1 TO lengthOfString//2\n",
    "    letterStack.push(inputString[i])\n",
    "ENDFOR\n",
    "\n",
    "IF (lengthOfString%2 == 0)\n",
    "    iterator <- lengthOfString//2 + 1\n",
    "ELSE\n",
    "    iterator <- lengthOfString//2 + 2\n",
    "ENDIF\n",
    "\n",
    "FOR i <- iterator TO lengthOfString\n",
    "    value <- letterStack.pop()\n",
    "    IF value != inputString[i]\n",
    "        isPalindromic <- False\n",
    "    ENDIF\n",
    "ENDFOR\n",
    "\n",
    "IF (NOT isPalindromic)\n",
    "    print \"Is not a Palindrome\"\n",
    "ELSE\n",
    "    print \"Is palindrome\"\n",
    "ENDIF\n",
    "\n",
    "\n",
    "END\n",
    "```"
   ]
  },
  {
   "cell_type": "markdown",
   "metadata": {},
   "source": [
    "#### Q2"
   ]
  },
  {
   "cell_type": "code",
   "execution_count": 1,
   "metadata": {},
   "outputs": [],
   "source": [
    "class stack:\n",
    "    def __init__(self):\n",
    "        self._contents = []\n",
    "        self._top = -1\n",
    "        self._size = 0\n",
    "\n",
    "    def __len__(self):\n",
    "        return self._size\n",
    "\n",
    "    def push(self, value):\n",
    "        self._contents.append(value)\n",
    "        self._size += 1\n",
    "        self._top += 1\n",
    "\n",
    "    def pop(self):\n",
    "        if(self._size == 0):\n",
    "            return None\n",
    "        else:\n",
    "            self._size -= 1\n",
    "            self._top -= 1\n",
    "            return self._contents.pop(-1)\n",
    "\n",
    "\n",
    "\n",
    "def selectItem(s,n):\n",
    "    tempStack = stack()\n",
    "    position = -1\n",
    "    totalLength = len(s)\n",
    "\n",
    "    for i in range(totalLength):\n",
    "        value = s.pop()\n",
    "        tempStack.push(value)\n",
    "        if(value == n):\n",
    "            position = totalLength - 1 - i\n",
    "    \n",
    "\n",
    "    for i in range(totalLength):\n",
    "        value = tempStack.pop()\n",
    "        if(i != position):\n",
    "            s.push(value)\n",
    "    \n",
    "    if(len(s) != totalLength):\n",
    "        s.push(n)\n",
    "\n"
   ]
  },
  {
   "cell_type": "code",
   "execution_count": 13,
   "metadata": {},
   "outputs": [],
   "source": [
    "class stack:\n",
    "    def __init__(self):\n",
    "        self._contents = []\n",
    "        self._top = -1\n",
    "        self._size = 0\n",
    "\n",
    "    def __len__(self):\n",
    "        return self._size\n",
    "\n",
    "    def push(self, value):\n",
    "        self._contents.append(value)\n",
    "        self._size += 1\n",
    "        self._top += 1\n",
    "\n",
    "    def pop(self):\n",
    "        if(self._size == 0):\n",
    "            return None\n",
    "        else:\n",
    "            self._size -= 1\n",
    "            self._top -= 1\n",
    "            return self._contents.pop(-1)\n",
    "\n",
    "    def peek(self):\n",
    "        if(self._size == 0):\n",
    "            return None\n",
    "        else:\n",
    "            return self._contents[self._top]\n",
    "\n",
    "def multiBaseOutput(num, b):\n",
    "    tempStack = stack()\n",
    "    output = \"\"\n",
    "\n",
    "    while(num != 0):\n",
    "        remainder = num%b\n",
    "        num = num//b\n",
    "    \n",
    "        tempStack.push(remainder)\n",
    "\n",
    "    totalLength = len(tempStack)\n",
    "    \n",
    "    for i in range(totalLength):\n",
    "        output += str(tempStack.pop())\n",
    "    \n",
    "    return output\n"
   ]
  },
  {
   "cell_type": "code",
   "execution_count": 14,
   "metadata": {},
   "outputs": [
    {
     "data": {
      "text/plain": [
       "'1000'"
      ]
     },
     "execution_count": 14,
     "metadata": {},
     "output_type": "execute_result"
    }
   ],
   "source": [
    "multiBaseOutput(8, 2)"
   ]
  },
  {
   "cell_type": "markdown",
   "metadata": {},
   "source": [
    "#### Question 4 \n",
    "\n",
    "##### 4a.)\n",
    "\n",
    "Post fix:\n",
    "\n",
    "`a b c / + d -`\n",
    "\n",
    "##### 4b.)\n",
    "\n",
    "Post fix:\n",
    "\n",
    "`a b c d - e * /  + f -`\n",
    "\n",
    "##### 4c.)\n",
    "\n",
    "Post fix:\n",
    "\n",
    "`a b + c / d - e +`\n",
    "\n",
    "##### 4d.)\n",
    "\n",
    "Post fix:\n",
    "\n",
    "`b b *  4 a * c * - 2 a * /`\n"
   ]
  },
  {
   "cell_type": "markdown",
   "metadata": {},
   "source": [
    "#### Question 6\n",
    "\n",
    "##### Evaluate the following postfix (Reverse Polish Notation) expressions:\n",
    "##### 5a to 5d\n",
    "```\n",
    "24 2 4 * / \n",
    "\n",
    "3\n",
    "\n",
    "33 6 + 12 4 / +\n",
    "\n",
    "42\n",
    "\n",
    "32 5 3 + / 5 *\n",
    "\n",
    "20\n",
    "\n",
    "2 17 - 5 / 3 *\n",
    "\n",
    "-9\n",
    "\n",
    "```"
   ]
  },
  {
   "cell_type": "markdown",
   "metadata": {},
   "source": [
    "# Help 17 marks"
   ]
  },
  {
   "cell_type": "markdown",
   "metadata": {},
   "source": [
    "#### Question 6\n",
    "\n",
    "A recursive program is a program which calls itself until a solution is found, where successive local variables are preserved\n",
    "\n",
    "<image src=\"fibonacci.png\">\n",
    "\n",
    "The diagram above shows the recursive call tree of the above function, with the number indicating the order in which the functions were called.\n",
    "\n",
    "<image src=\"table_1.png\">\n",
    "\n",
    "The order of function calls start from the first entry, where n is equal to 3. However as fibval is equal to the recursive call of (2) and (1), the activation record of (2) is first placed which calls subsequently places the activation record of (1) and (1) which both resolves to 1. After resolution, it goes back to place the activation record of the paired (1) called together with (2). That is then resolved back to 1.\n",
    "\n",
    "According to the table, the fibval of the activation of (2) then resolves to 2, and subsequently, the call made all the way at the beginning (top of the table is finally resolved)\n",
    "\n"
   ]
  },
  {
   "cell_type": "markdown",
   "metadata": {},
   "source": [
    "#### Question 8\n",
    "##### 8a.)\n",
    "\n",
    "<image src=\"stackDiagram.png\">"
   ]
  },
  {
   "cell_type": "markdown",
   "metadata": {},
   "source": [
    "##### 8b i.)\n",
    "\n",
    "- Check if SP is 12\n",
    "- If SP is 12, then the stack is full so the algorithm must raise an error\n",
    "- Else increment SP by one\n",
    "- Set the top of the stack to the new value\n",
    "\n",
    "##### 8b ii.)\n",
    "\n",
    "- Check if SP is 0\n",
    "- If SP is 0, then the stack is empty so the algorithm must raise an error\n",
    "- Else decrease SP by one \n",
    "- Remove the highest item in the stack\n"
   ]
  },
  {
   "cell_type": "markdown",
   "metadata": {},
   "source": [
    "##### 9 a i.)\n",
    "\n",
    "- Change Head\n",
    "\n",
    "<image src=\"changeHead.png\">\n",
    "\n",
    "- Change middle\n",
    "\n",
    "<image src=\"changeMid.png\">"
   ]
  },
  {
   "cell_type": "markdown",
   "metadata": {},
   "source": [
    "##### 9 a ii.)\n",
    "\n",
    "```\n",
    "FUNCTION INSERT(Start < linkedList >, value < int > , position < int >) RETURNS < linkedlist >\n",
    "    probe <- Start\n",
    "    insertNode <- Node(value)\n",
    "    \n",
    "    IF position == 1\n",
    "        insertNode.next <- Start.next\n",
    "        Start <- insertNode\n",
    "\n",
    "    ELSE\n",
    "        FOR i <- 1 to position - 1\n",
    "            probe <- probe.next\n",
    "        ENDFOR\n",
    "        insertNode.next <- probe.next\n",
    "        probe.next <- insertNode\n",
    "\n",
    "    ENDIF\n",
    "    \n",
    "ENDFUNCTION\n",
    "```"
   ]
  },
  {
   "cell_type": "markdown",
   "metadata": {},
   "source": [
    "##### 9 b i.)\n",
    "\n",
    "Using the same Create(x) function\n",
    "\n",
    "\n",
    "##### ii.) \n",
    "\n",
    "Insert(x, item, Length(x)+1)\n",
    "\n",
    "##### iii.) \n",
    "\n",
    "if (IsEmptyList == False):\n",
    "    Delete(x, Length(X))"
   ]
  },
  {
   "cell_type": "markdown",
   "metadata": {},
   "source": [
    "##### 9c\n",
    "- An operation that changes the value of a dictionary item based on the key\n",
    "- edit(dict, key, value)\n",
    "\n",
    "- An operation that checks the value of a dictionary item based on the key. \n",
    "- search(dict, key)\n",
    "\n",
    "- An operation that deletes the value of a dictionary item based on the key.\n",
    "- delete(dict, key)"
   ]
  },
  {
   "cell_type": "markdown",
   "metadata": {},
   "source": [
    "##### 9d\n",
    "\n",
    "- the ability to dynamically allocate memory\n",
    "- Easy traversal and alteration"
   ]
  },
  {
   "cell_type": "markdown",
   "metadata": {},
   "source": []
  }
 ],
 "metadata": {
  "interpreter": {
   "hash": "05b2220a26de58e0031cd0a7cbd64d94eaa84338873dc0e02216392d53d6f30f"
  },
  "kernelspec": {
   "display_name": "Python 3.8.7 64-bit",
   "language": "python",
   "name": "python3"
  },
  "language_info": {
   "codemirror_mode": {
    "name": "ipython",
    "version": 3
   },
   "file_extension": ".py",
   "mimetype": "text/x-python",
   "name": "python",
   "nbconvert_exporter": "python",
   "pygments_lexer": "ipython3",
   "version": "3.8.7"
  },
  "orig_nbformat": 4
 },
 "nbformat": 4,
 "nbformat_minor": 2
}

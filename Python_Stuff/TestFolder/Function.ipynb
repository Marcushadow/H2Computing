{
 "metadata": {
  "language_info": {
   "codemirror_mode": {
    "name": "ipython",
    "version": 3
   },
   "file_extension": ".py",
   "mimetype": "text/x-python",
   "name": "python",
   "nbconvert_exporter": "python",
   "pygments_lexer": "ipython3",
   "version": "3.9.2"
  },
  "orig_nbformat": 2,
  "kernelspec": {
   "name": "python392jvsc74a57bd0d2990ea161ee6956a362087ffa53000b23fd3c21cc082d0b19467b0840579a3c",
   "display_name": "Python 3.9.2 64-bit"
  }
 },
 "nbformat": 4,
 "nbformat_minor": 2,
 "cells": [
  {
   "cell_type": "code",
   "execution_count": 2,
   "metadata": {},
   "outputs": [
    {
     "output_type": "stream",
     "name": "stdout",
     "text": [
      "Hello World\n"
     ]
    }
   ],
   "source": [
    "print(\"Hello World\")"
   ]
  },
  {
   "cell_type": "code",
   "execution_count": 58,
   "metadata": {},
   "outputs": [
    {
     "output_type": "execute_result",
     "data": {
      "text/plain": [
       "1"
      ]
     },
     "metadata": {},
     "execution_count": 58
    }
   ],
   "source": [
    "\n",
    "def g_iterative(x):\n",
    "    if(x==0):\n",
    "        return 0\n",
    "        \n",
    "    returnValue = 1\n",
    "    while(x%3==0):\n",
    "        x = x/3\n",
    "        returnValue *= 3\n",
    "    return returnValue\n",
    "\n",
    "g_iterative(1)"
   ]
  },
  {
   "cell_type": "code",
   "execution_count": 63,
   "metadata": {},
   "outputs": [
    {
     "output_type": "execute_result",
     "data": {
      "text/plain": [
       "1"
      ]
     },
     "metadata": {},
     "execution_count": 63
    }
   ],
   "source": [
    "import math\n",
    "math.gcd(1, 3**1)"
   ]
  },
  {
   "cell_type": "code",
   "execution_count": 48,
   "metadata": {},
   "outputs": [
    {
     "output_type": "execute_result",
     "data": {
      "text/plain": [
       "9"
      ]
     },
     "metadata": {},
     "execution_count": 48
    }
   ],
   "source": [
    "def g_recursive(x):\n",
    "    if(x == 0):\n",
    "        return 0\n",
    "    elif(x%3 != 0):\n",
    "        return 1\n",
    "    else:\n",
    "        return g_recursive(x/3)*3\n",
    "\n",
    "g_recursive(36)"
   ]
  },
  {
   "cell_type": "code",
   "execution_count": 66,
   "metadata": {},
   "outputs": [],
   "source": [
    "def g_vanilla(x):\n",
    "    return math.gcd(x, 3**x)"
   ]
  },
  {
   "cell_type": "code",
   "execution_count": 68,
   "metadata": {},
   "outputs": [
    {
     "output_type": "execute_result",
     "data": {
      "text/plain": [
       "27"
      ]
     },
     "metadata": {},
     "execution_count": 68
    }
   ],
   "source": [
    "g_vanilla(27)"
   ]
  },
  {
   "cell_type": "code",
   "execution_count": 69,
   "metadata": {},
   "outputs": [
    {
     "output_type": "stream",
     "name": "stdout",
     "text": [
      "9 9 9\n"
     ]
    }
   ],
   "source": [
    "n = 36\n",
    "print(g_iterative(n), g_recursive(n), g_vanilla(n))"
   ]
  },
  {
   "cell_type": "code",
   "execution_count": null,
   "metadata": {},
   "outputs": [],
   "source": []
  }
 ]
}
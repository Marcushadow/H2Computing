{
 "cells": [
  {
   "cell_type": "code",
   "execution_count": 1,
   "source": [
    "unsortedList = [1,3,2,4,7,9,8,2,5,2,0,1,2,3]"
   ],
   "outputs": [],
   "metadata": {}
  },
  {
   "cell_type": "markdown",
   "source": [
    "# MergeSort from Scratch"
   ],
   "metadata": {}
  },
  {
   "cell_type": "code",
   "execution_count": 37,
   "source": [
    "def mergeSort(array):\r\n",
    "    newList = array.copy()\r\n",
    "    l = 0\r\n",
    "    r = len(array)-1\r\n",
    "\r\n",
    "    if(len(array) <= 1):\r\n",
    "        return newList\r\n",
    "    \r\n",
    "    else:\r\n",
    "        leftArr = mergeSort(newList[l:r//2+1])\r\n",
    "        rightArr = mergeSort(newList[r//2+1: r+1])\r\n",
    "\r\n",
    "        return merge(leftArr, rightArr)"
   ],
   "outputs": [],
   "metadata": {}
  },
  {
   "cell_type": "code",
   "execution_count": 38,
   "source": [
    "def merge(leftArr, rightArr):\r\n",
    "\r\n",
    "    arrN = []\r\n",
    "    leftArrN = leftArr.copy()\r\n",
    "    rightArrN = rightArr.copy()\r\n",
    "\r\n",
    "\r\n",
    "    while(leftArrN and rightArrN):\r\n",
    "        if(leftArrN[0] < rightArrN[0]):\r\n",
    "            arrN.append(leftArrN[0])\r\n",
    "            leftArrN.pop(0)\r\n",
    "        else:\r\n",
    "            arrN.append(rightArrN[0])\r\n",
    "            rightArrN.pop(0)\r\n",
    "    \r\n",
    "    if(not leftArrN):\r\n",
    "        while(rightArrN):\r\n",
    "            arrN.append(rightArrN[0])\r\n",
    "            rightArrN.pop(0)\r\n",
    "\r\n",
    "    elif(not rightArrN):\r\n",
    "        while(leftArrN):\r\n",
    "            arrN.append(leftArrN[0])\r\n",
    "            leftArrN.pop(0)\r\n",
    "    \r\n",
    "\r\n",
    "    return arrN"
   ],
   "outputs": [],
   "metadata": {}
  },
  {
   "cell_type": "code",
   "execution_count": 39,
   "source": [
    "new = mergeSort(unsortedList)\r\n",
    "print(new)"
   ],
   "outputs": [
    {
     "output_type": "stream",
     "name": "stdout",
     "text": [
      "[0, 1, 1, 2, 2, 2, 2, 3, 3, 4, 5, 7, 8, 9]\n"
     ]
    }
   ],
   "metadata": {}
  },
  {
   "cell_type": "code",
   "execution_count": 36,
   "source": [
    "new\r\n"
   ],
   "outputs": [
    {
     "output_type": "execute_result",
     "data": {
      "text/plain": [
       "[0, 1, 1, 2, 2, 2, 2, 3, 3, 4, 5, 7, 8, 9]"
      ]
     },
     "metadata": {},
     "execution_count": 36
    }
   ],
   "metadata": {}
  },
  {
   "cell_type": "code",
   "execution_count": null,
   "source": [],
   "outputs": [],
   "metadata": {}
  }
 ],
 "metadata": {
  "orig_nbformat": 4,
  "language_info": {
   "name": "python"
  }
 },
 "nbformat": 4,
 "nbformat_minor": 2
}
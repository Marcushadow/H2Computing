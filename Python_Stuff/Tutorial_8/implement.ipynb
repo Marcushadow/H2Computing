{
    "cells": [
        {
            "cell_type": "code",
            "execution_count": 24,
            "source": [
                "arr = [1,2,4,2,1,5,3,6,3,4,6,8]"
            ],
            "outputs": [],
            "metadata": {}
        },
        {
            "cell_type": "code",
            "execution_count": 21,
            "source": [
                "def partition(Arr, start, end):\r\n",
                "    pp = (start + end)//2\r\n",
                "    pivot = Arr[pp]\r\n",
                "\r\n",
                "    # Set the first as pp\r\n",
                "\r\n",
                "    Arr[start], Arr[pp] = Arr[pp], Arr[start]\r\n",
                "\r\n",
                "    left = start + 1\r\n",
                "    right = end\r\n",
                "\r\n",
                "    while((left <= right)):\r\n",
                "\r\n",
                "        # Ensures everything on the left is below the pivot is less than equals to the pivot\r\n",
                "        # Best case scenario\r\n",
                "\r\n",
                "        #           1     r\r\n",
                "        # 7 1 2 3 7 9 10 11\r\n",
                "        while((left <= right) and Arr[left] <= pivot):\r\n",
                "            left += 1\r\n",
                "            \r\n",
                "        #         r 1     \r\n",
                "        # 7 1 2 3 7 9 10 11\r\n",
                "\r\n",
                "        while(Arr[right] > pivot):\r\n",
                "            right -= 1\r\n",
                "        \r\n",
                "        if(left < right):\r\n",
                "            Arr[left], Arr[right] = Arr[right], Arr[left]\r\n",
                "    \r\n",
                "    Arr[start], Arr[right] = Arr[right], Arr[start]\r\n",
                "\r\n",
                "    return right\r\n",
                "\r\n",
                "\r\n",
                "def quicksort(Arr, start, end):\r\n",
                "\r\n",
                "    if(start < end):\r\n",
                "        pivot = partition(Arr, start, end)\r\n",
                "        quicksort(Arr, start, pivot - 1)\r\n",
                "        quicksort(Arr, pivot + 1, end)\r\n",
                "    \r\n",
                "\r\n"
            ],
            "outputs": [],
            "metadata": {}
        },
        {
            "cell_type": "code",
            "execution_count": 25,
            "source": [
                "quicksort(arr, 0, len(arr)-1)"
            ],
            "outputs": [],
            "metadata": {}
        },
        {
            "cell_type": "code",
            "execution_count": 26,
            "source": [
                "arr"
            ],
            "outputs": [
                {
                    "output_type": "execute_result",
                    "data": {
                        "text/plain": [
                            "[1, 1, 2, 2, 3, 3, 4, 4, 5, 6, 6, 8]"
                        ]
                    },
                    "metadata": {},
                    "execution_count": 26
                }
            ],
            "metadata": {}
        },
        {
            "cell_type": "code",
            "execution_count": 17,
            "source": [
                "import winsound, time\r\n",
                "\r\n",
                "\r\n",
                "winsound.Beep(1500, 100)\r\n",
                "winsound.Beep(1820, 100)\r\n",
                "# winsound.Beep(1000, 100)\r\n",
                "# winsound.Beep(1000, 100)\r\n",
                "# winsound.Beep(1000, 100)\r\n",
                "# winsound.Beep(1000, 100)\r\n",
                "# winsound.Beep(1000, 100)\r\n",
                "winsound.Beep(1200, 100)"
            ],
            "outputs": [],
            "metadata": {}
        },
        {
            "cell_type": "code",
            "execution_count": 18,
            "source": [
                "from music import *"
            ],
            "outputs": [
                {
                    "output_type": "error",
                    "ename": "ModuleNotFoundError",
                    "evalue": "No module named 'music'",
                    "traceback": [
                        "\u001b[1;31m---------------------------------------------------------------------------\u001b[0m",
                        "\u001b[1;31mModuleNotFoundError\u001b[0m                       Traceback (most recent call last)",
                        "\u001b[1;32m<ipython-input-18-a15103b415dd>\u001b[0m in \u001b[0;36m<module>\u001b[1;34m\u001b[0m\n\u001b[1;32m----> 1\u001b[1;33m \u001b[1;32mfrom\u001b[0m \u001b[0mmusic\u001b[0m \u001b[1;32mimport\u001b[0m \u001b[1;33m*\u001b[0m\u001b[1;33m\u001b[0m\u001b[1;33m\u001b[0m\u001b[0m\n\u001b[0m",
                        "\u001b[1;31mModuleNotFoundError\u001b[0m: No module named 'music'"
                    ]
                }
            ],
            "metadata": {}
        },
        {
            "cell_type": "code",
            "execution_count": null,
            "source": [],
            "outputs": [],
            "metadata": {}
        }
    ],
    "metadata": {
        "orig_nbformat": 4,
        "language_info": {
            "name": "python",
            "version": "3.9.2",
            "mimetype": "text/x-python",
            "codemirror_mode": {
                "name": "ipython",
                "version": 3
            },
            "pygments_lexer": "ipython3",
            "nbconvert_exporter": "python",
            "file_extension": ".py"
        },
        "kernelspec": {
            "name": "python3",
            "display_name": "Python 3.9.2 64-bit"
        },
        "interpreter": {
            "hash": "d2990ea161ee6956a362087ffa53000b23fd3c21cc082d0b19467b0840579a3c"
        }
    },
    "nbformat": 4,
    "nbformat_minor": 2
}
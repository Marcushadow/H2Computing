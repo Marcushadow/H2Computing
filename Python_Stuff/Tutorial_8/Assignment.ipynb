{
 "cells": [
  {
   "cell_type": "code",
   "execution_count": 4,
   "source": [
    "unsorted_arr = [1,2,3,4,5,5,6,4,3,2,1]\r\n",
    "sorted_arr = [1,2,3,4,5,6,7,8,9,11,23,25,34, 57, 348]"
   ],
   "outputs": [],
   "metadata": {}
  },
  {
   "cell_type": "markdown",
   "source": [
    "# Tutorial 8A\r\n",
    "# Qn 1"
   ],
   "metadata": {}
  },
  {
   "cell_type": "markdown",
   "source": [
    "## Qn 1(a)\r\n",
    "## State which elements will be accessed and what order\r\n",
    "[8, 12, 17, 18, 24, 27, 28, 35, 38, 39, 49, 63, 64, 68, 70, 71, 77, 84, 88, 89, 91]\r\n",
    "\r\n",
    "\r\n",
    "### Searching for 88\r\n",
    "1:  8, 49, 91\r\n",
    "2:  63, 71, 91\r\n",
    "3: 77, 88, 91\r\n",
    "\r\n",
    "### Searching for 65\r\n",
    "1:  8, 49, 91\r\n",
    "2:  63, 71, 91\r\n",
    "3:  63, 64, 70\r\n",
    "4:  64, 64, 68\r\n",
    "\r\n",
    "End as hi < lo"
   ],
   "metadata": {}
  },
  {
   "cell_type": "markdown",
   "source": [
    "## Qn 1(b)\r\n",
    "\r\n",
    "Binary search does not iterate through every single variable, but linear search iterates through the array to find the value\r\n",
    "\r\n",
    "Binary Search only works in ordered lists, but linear search works for both ordered and unordered arrays"
   ],
   "metadata": {}
  },
  {
   "cell_type": "markdown",
   "source": [
    "# Qn 2"
   ],
   "metadata": {}
  },
  {
   "cell_type": "markdown",
   "source": [
    "1, 71, 142 -> Not Found\r\n",
    "\r\n",
    "1, 36, 72 -> Not Found\r\n",
    "\r\n",
    "37, 54, 72 -> Not Found\r\n",
    "\r\n",
    "37, 45, 53 -> Not Found\r\n",
    "\r\n",
    "37, 40, 44 -> Not Found\r\n",
    "\r\n",
    "41, 42, 44 -> Not Found\r\n",
    "\r\n",
    "43, 43, 44 -> Not Found\r\n",
    "\r\n",
    "44, 44, 44-> Found"
   ],
   "metadata": {}
  },
  {
   "cell_type": "markdown",
   "source": [
    "log 142 = 7.14\r\n",
    "\r\n",
    "Therefore an array of size 142 can be split into half 7 times\r\n",
    "Therefore, including the first variable checked, 8 variables are checked"
   ],
   "metadata": {}
  },
  {
   "cell_type": "markdown",
   "source": [
    "# Question 3"
   ],
   "metadata": {}
  },
  {
   "cell_type": "markdown",
   "source": [
    "# Qn 3a\r\n",
    "\r\n",
    "A recursive algorithm is an algorithm that is defined in terms of itself"
   ],
   "metadata": {}
  },
  {
   "cell_type": "markdown",
   "source": [
    "Stack overflow\r\n",
    "\r\n",
    "Reaching the recursive limit of multiple programming languages\r\n",
    "\r\n",
    "It doesnt find the answer"
   ],
   "metadata": {}
  },
  {
   "cell_type": "markdown",
   "source": [
    "Search(1, 15)\r\n",
    "\r\n",
    "Search(1, 8)\r\n",
    "\r\n",
    "Search(1, 4)\r\n",
    "\r\n",
    "Search(2, 4)"
   ],
   "metadata": {}
  },
  {
   "cell_type": "markdown",
   "source": [
    "Add:\r\n",
    "\r\n",
    "if( lo > mid ) return -1"
   ],
   "metadata": {}
  },
  {
   "cell_type": "markdown",
   "source": [
    "Since log 15 = 3.\r\n",
    "\r\n",
    "Therefore including the first variable searched, there must be 4 variables that are checked before a value is found"
   ],
   "metadata": {}
  },
  {
   "cell_type": "markdown",
   "source": [
    "# Question 4"
   ],
   "metadata": {}
  },
  {
   "cell_type": "markdown",
   "source": [
    "26 -> 4\r\n",
    "\r\n",
    "42 -> 9\r\n",
    "\r\n",
    "5 -> 5\r\n",
    "\r\n",
    "44 -> 0\r\n",
    "\r\n",
    "92 -> 4\r\n",
    "\r\n",
    "59 -> 4\r\n",
    "\r\n",
    "40 -> 7\r\n",
    "\r\n",
    "36 -> 3\r\n",
    "\r\n",
    "12 -> 1\r\n",
    "\r\n",
    "60 -> 5\r\n",
    "\r\n",
    "80 -> 3\r\n",
    "\r\n",
    "\r\n",
    "## Linear Probing\r\n",
    "0   44\r\n",
    "\r\n",
    "1   12\r\n",
    "\r\n",
    "2   80\r\n",
    "\r\n",
    "3   36\r\n",
    "\r\n",
    "4   26\r\n",
    "\r\n",
    "5   5\r\n",
    "\r\n",
    "6   92\r\n",
    "\r\n",
    "7   59\r\n",
    "\r\n",
    "8   40\r\n",
    "\r\n",
    "9   42\r\n",
    "\r\n",
    "10  60"
   ],
   "metadata": {}
  },
  {
   "cell_type": "markdown",
   "source": [
    "## Chaining\r\n",
    "\r\n",
    "0   44\r\n",
    "\r\n",
    "1   12\r\n",
    "\r\n",
    "2\r\n",
    "\r\n",
    "3   36  80\r\n",
    "\r\n",
    "4   26  92  59\r\n",
    "\r\n",
    "5   5   60\r\n",
    "\r\n",
    "6\r\n",
    "\r\n",
    "7   40\r\n",
    "\r\n",
    "8\r\n",
    "\r\n",
    "9   42\r\n",
    "\r\n",
    "10"
   ],
   "metadata": {}
  },
  {
   "cell_type": "markdown",
   "source": [
    "# Assignment 8A\r\n",
    "# Qn 1"
   ],
   "metadata": {}
  },
  {
   "cell_type": "markdown",
   "source": [
    "SearchOne:\r\n",
    "\r\n",
    "    SearchOne(1, 11) -> SearchOne(2, 11) -> SearchOne(3, 11) -> SearchOne(4, 11) -> SearchOne(5, 11) -> SearchOne(6, 11) -> SearchOne(7, 11) -> SearchOne(8, 11) \r\n",
    "\r\n",
    "    Anne                 Bryn                Cleo                   Dora                 Eric               Fran             Grag                    Hugh\r\n",
    "\r\n",
    "\r\n",
    "SearchTwo:\r\n",
    "\r\n",
    "    SearchTwo(1,11) -> SearchTwo(7, 11) -> SearchTwo(7,8) -> SearchTwo(8,8)\r\n",
    "\r\n",
    "    Fran            Iisa            Grag            Hugh\r\n",
    "\r\n",
    "\r\n",
    "I would use binary if it was sorted and linear if not sorted\r\n",
    "\r\n",
    "Binary if huge and linear if small"
   ],
   "metadata": {}
  },
  {
   "cell_type": "markdown",
   "source": [
    "# Question 2"
   ],
   "metadata": {}
  },
  {
   "cell_type": "markdown",
   "source": [],
   "metadata": {}
  },
  {
   "cell_type": "code",
   "execution_count": 1,
   "source": [
    "def RecSearch(A, key, start):\r\n",
    "    if (not A):\r\n",
    "        return 0\r\n",
    "    elif (key == A[start]):\r\n",
    "        return 1 + RecSearch(A[start+1:], key, 0)\r\n",
    "    else:\r\n",
    "        return RecSearch(A[start+1:], key, 0)\r\n",
    "\r\n"
   ],
   "outputs": [],
   "metadata": {}
  },
  {
   "cell_type": "code",
   "execution_count": 2,
   "source": [
    "arr = [1,2,3,4,5,5,6,4,3,2,1]\r\n",
    "\r\n",
    "RecSearch(arr, 1, 0)"
   ],
   "outputs": [
    {
     "output_type": "execute_result",
     "data": {
      "text/plain": [
       "2"
      ]
     },
     "metadata": {},
     "execution_count": 2
    }
   ],
   "metadata": {}
  },
  {
   "cell_type": "code",
   "execution_count": 7,
   "source": [
    "def binSearch( A, low, high, key):\r\n",
    "    med = int((high + low)/2)\r\n",
    "    if(low > high):\r\n",
    "        return -1\r\n",
    "    elif(A[med] == key):\r\n",
    "        return med\r\n",
    "    elif(A[med] > key):\r\n",
    "        return binSearch(A, low, med-1, key)\r\n",
    "    else:\r\n",
    "        return binSearch(A, med+1, high, key)"
   ],
   "outputs": [],
   "metadata": {}
  },
  {
   "cell_type": "code",
   "execution_count": 8,
   "source": [
    "binSearch(sorted_arr, 0, len(sorted_arr)-1, 7)"
   ],
   "outputs": [
    {
     "output_type": "execute_result",
     "data": {
      "text/plain": [
       "6"
      ]
     },
     "metadata": {},
     "execution_count": 8
    }
   ],
   "metadata": {}
  },
  {
   "cell_type": "markdown",
   "source": [
    "# Tutorial 8b"
   ],
   "metadata": {}
  },
  {
   "cell_type": "markdown",
   "source": [
    "## Bubble Sort\r\n",
    "Pass 1: 30 50 10 40 60 70\r\n",
    "\r\n",
    "Pass 2: 30 10 40 50 60 70\r\n",
    "\r\n",
    "Pass 3: 20 30 40 50 60 70"
   ],
   "metadata": {}
  },
  {
   "cell_type": "markdown",
   "source": [
    "## Insertion Sort\r\n",
    "\r\n",
    "Pass 1: 30 50 70 10 40 60\r\n",
    "\r\n",
    "Pass 2: 30 50 70 10 40 60\r\n",
    "\r\n",
    "Pass 3: 10 30 50 70 40 60\r\n",
    "\r\n",
    "Pass 4: 10 30 40 50 70 60\r\n",
    "\r\n",
    "Pass 5: 10 30 40 50 60 70"
   ],
   "metadata": {}
  },
  {
   "cell_type": "markdown",
   "source": [
    "## Question 2\r\n",
    "\r\n",
    "### Assuming the use of center as pivot as well as the use of Hoare's partitioning method\r\n",
    "\r\n",
    "Swap(45, 80)\r\n",
    "\r\n",
    "Swap (80, 45)\r\n",
    "\r\n",
    "### | 40 20 50 30 45 10 60 70 | 80 90\r\n",
    "\r\n",
    "\r\n",
    "Pivot: 30\r\n",
    "\r\n",
    "Swap(50, 10)\r\n",
    "\r\n",
    "Swap(10, 30)\r\n",
    "\r\n",
    "### 10 20 30 40 45 50 60 70 80 90\r\n",
    "\r\n",
    "\r\n",
    "\r\n",
    "\r\n"
   ],
   "metadata": {}
  },
  {
   "cell_type": "markdown",
   "source": [
    "# Question 3A\r\n",
    "\r\n",
    "By selecting the middle value as a pivot, and shifting the pivot to the left, we get \r\n",
    "\r\n",
    "2684 3217 6111 9163 7412\r\n",
    "\r\n",
    "A left indicator then can be used to reference the 2nd index, 3217 and a right indicator can be used to reference the last index, 7412.\r\n",
    "\r\n",
    "while the left index is on the left or equal to the right index, the left index slides to the right to check if it is greater than the pivot while the right index slides to the left checks if it is smaller than the pivot.\r\n",
    "\r\n",
    "In the first iteration the left index stops at 3217, but the right index keeps iterating until it reaches index = 1\r\n",
    "\r\n",
    "As the right index is smaller than the left index, element at R and the pivot are swapped, resulting in:\r\n",
    "\r\n",
    "2684 3217 6111 9163 7412 -> The pivot value is now in the correct position\r\n",
    "\r\n",
    "The list has been partitioned into 2 sublists, one containing values less than the pivot, 6111, the other containing all those greater than 6111\r\n",
    "\r\n",
    "The two sublists are then divided the same way recursively, until sublists of length one are achieved\r\n"
   ],
   "metadata": {}
  },
  {
   "cell_type": "markdown",
   "source": [
    "# Question 3A\r\n",
    "\r\n",
    "By selecting the middle value as a pivot, and shifting the pivot to the left, we get \r\n",
    "\r\n",
    "2684 3217 6111 9163 7412\r\n",
    "\r\n",
    "A left indicator then can be used to reference the 2nd index, 3217 and a right indicator can be used to reference the last index, 7412.\r\n",
    "\r\n",
    "while the left index is on the left or equal to the right index, the left index slides to the right to check if it is greater than the pivot while the right index slides to the left checks if it is smaller than the pivot.\r\n",
    "\r\n",
    "In the first iteration the left index stops at 3217, but the right index keeps iterating until it reaches index = 1\r\n",
    "\r\n",
    "As the right index is smaller than the left index, element at R and the pivot are swapped, resulting in:\r\n",
    "\r\n",
    "2684 3217 6111 9163 7412 -> The pivot value is now in the correct position\r\n",
    "\r\n",
    "The list has been partitioned into 2 sublists, one containing values less than the pivot, 6111, the other containing all those greater than 6111\r\n",
    "\r\n",
    "The two sublists are then divided the same way recursively, until sublists of length one are achieved\r\n"
   ],
   "metadata": {}
  },
  {
   "cell_type": "markdown",
   "source": [
    "# Question 3b \r\n",
    "\r\n",
    "If the file is relatively huge, a quicksort may be used due to its time efficiency\r\n",
    "However if the file can only give one output at a time, a bubblesort may be more efficient"
   ],
   "metadata": {}
  },
  {
   "cell_type": "markdown",
   "source": [],
   "metadata": {}
  },
  {
   "cell_type": "markdown",
   "source": [
    "FLAG = 0\r\n",
    "COUNT = 0\r\n",
    "START = (2)"
   ],
   "metadata": {}
  },
  {
   "cell_type": "markdown",
   "source": [
    "ii)\r\n",
    "6 5 3 1"
   ],
   "metadata": {}
  },
  {
   "cell_type": "markdown",
   "source": [
    "iii)\r\n",
    "\r\n",
    "It helps to indicate whether a change was made, indicating whether it has been sorted"
   ],
   "metadata": {}
  },
  {
   "cell_type": "code",
   "execution_count": 11,
   "source": [
    "arr_val = [5, 1, 3, 6]\r\n",
    "\r\n",
    "last = len(arr_val)-1\r\n",
    "count = 0\r\n",
    "start = 0\r\n",
    "flag = 1\r\n",
    "\r\n",
    "while(flag == 1):\r\n",
    "    flag = 0\r\n",
    "    count += start\r\n",
    "    while (not(count == last)):\r\n",
    "        if(arr_val[count] < arr_val[count+1]):\r\n",
    "            flag = 1\r\n",
    "            arr_val[count], arr_val[count+1] = arr_val[count+1], arr_val[count]\r\n",
    "        count += 1\r\n",
    "    count = 0\r\n",
    "    start += 1\r\n",
    "\r\n",
    "print(arr_val)\r\n",
    "        \r\n"
   ],
   "outputs": [
    {
     "output_type": "stream",
     "name": "stdout",
     "text": [
      "[5, 6, 3, 1]\n"
     ]
    }
   ],
   "metadata": {}
  },
  {
   "cell_type": "markdown",
   "source": [],
   "metadata": {}
  },
  {
   "cell_type": "markdown",
   "source": [
    "# Question 2"
   ],
   "metadata": {}
  },
  {
   "cell_type": "markdown",
   "source": [
    "    set i = 5\r\n",
    "    repeat\r\n",
    "        set flag = 0\r\n",
    "        for j = 1 to i-1 do\r\n",
    "            if X[j] > X[j+1] then\r\n",
    "                flag = 1\r\n",
    "                swap X[j] and X[j+1]\r\n",
    "            endif   \r\n",
    "        endfor\r\n",
    "        set i = i -1\r\n",
    "    until flag = 0"
   ],
   "metadata": {}
  },
  {
   "cell_type": "markdown",
   "source": [
    "Set data one:\r\n",
    "\r\n",
    "[1,2,3,4,5]\r\n",
    "\r\n",
    "Already sorted, see if it iterates even if its sorted\r\n",
    "\r\n",
    "[5,4,3,2,1]\r\n",
    "\r\n",
    "Requires every iteration"
   ],
   "metadata": {}
  },
  {
   "cell_type": "markdown",
   "source": [
    "If you have a part of the data that already is sorted, insertion sort may be more suitable\r\n",
    "\r\n",
    "If speed is key, quick sort is most suitable\r\n",
    "\r\n",
    "When reading from two different files, merge sort may be more suitable\r\n",
    "\r\n",
    "When you want to have fun with bubbles, bubble sort is most suitable"
   ],
   "metadata": {}
  },
  {
   "cell_type": "markdown",
   "source": [
    "# Question 3"
   ],
   "metadata": {}
  },
  {
   "cell_type": "markdown",
   "source": [
    "min (a, b, c)\r\n",
    "\r\n",
    "- Compare the minimum of a and b\r\n",
    "- if a is smaller, compare the minimum of a and c\r\n",
    "\r\n",
    "- else compare the minimum of b and c\r\n",
    "\r\n",
    "- return the smallest\r\n",
    "\r\n",
    "\r\n",
    "////\r\n",
    "\r\n",
    "\r\n",
    "Take a - b\r\n",
    "\r\n",
    "Take b - c"
   ],
   "metadata": {}
  },
  {
   "cell_type": "markdown",
   "source": [
    "    Create a new array, Arr\r\n",
    "    \r\n",
    "    Add a counter to each array A, B and C\r\n",
    "\r\n",
    "    While all the counters are not pointing to the end of the array, use the minimum function to compare the values of the values at the counter index to find the smallest value, the smallest value is added to the new array\r\n",
    "\r\n",
    "    loop through the counters of each array to find which array the value was from, and increment the counter for that array\r\n",
    "\r\n",
    "    once an array reaches the end, instead of comparing with the counter index, the values from other arrays are compared to 0\r\n",
    "\r\n",
    "    Repeat until all arrays are empty"
   ],
   "metadata": {}
  },
  {
   "cell_type": "markdown",
   "source": [
    "All values are written to another array\r\n",
    "\r\n",
    "Read one element from each file\r\n",
    "\r\n",
    "We compare these items and write the smaller\r\n",
    "\r\n",
    "read another value from the file that the value was read from \r\n",
    "\r\n",
    "Compare the new value with the value from the other file and write the smaller\r\n",
    "\r\n",
    "if values are equal\r\n",
    "\r\n",
    "Repeat the process until the value read from one of the files is hugekey\r\n",
    "\r\n",
    "When that occurs, read all the values from the other file until it reads hugekey\r\n",
    "\r\n",
    "In the array where the values are written to, add the hugekey ender"
   ],
   "metadata": {}
  },
  {
   "cell_type": "markdown",
   "source": [],
   "metadata": {}
  }
 ],
 "metadata": {
  "orig_nbformat": 4,
  "language_info": {
   "name": "python",
   "version": "3.8.7",
   "mimetype": "text/x-python",
   "codemirror_mode": {
    "name": "ipython",
    "version": 3
   },
   "pygments_lexer": "ipython3",
   "nbconvert_exporter": "python",
   "file_extension": ".py"
  },
  "kernelspec": {
   "name": "python3",
   "display_name": "Python 3.8.7 64-bit"
  },
  "interpreter": {
   "hash": "05b2220a26de58e0031cd0a7cbd64d94eaa84338873dc0e02216392d53d6f30f"
  }
 },
 "nbformat": 4,
 "nbformat_minor": 2
}
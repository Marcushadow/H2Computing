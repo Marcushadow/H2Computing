{
 "cells": [
  {
   "cell_type": "markdown",
   "metadata": {},
   "source": [
    "### Question 1"
   ]
  },
  {
   "cell_type": "code",
   "execution_count": 1,
   "metadata": {},
   "outputs": [
    {
     "name": "stdout",
     "output_type": "stream",
     "text": [
      "Your worker is Hello of number 1 of shift 1 of pay 12\n"
     ]
    }
   ],
   "source": [
    "class Employee:\n",
    "    def __init__(self, name, number):\n",
    "        self._name = name\n",
    "        self._number = number\n",
    "\n",
    "    def get_name(self):\n",
    "        return self._name\n",
    "    \n",
    "    def set_name(self, name):\n",
    "        self._name = name\n",
    "    \n",
    "    def get_number(self):\n",
    "        return self._number\n",
    "    \n",
    "    def set_number(self, number):\n",
    "        self._number = number\n",
    "    \n",
    "class ProductionWorker(Employee):\n",
    "    def __init__(self, name, number, shift, pay):\n",
    "        super().__init__(name, number)\n",
    "        self._shift = shift\n",
    "        self._pay = pay\n",
    "    \n",
    "    def get_shift(self):\n",
    "        return self._shift\n",
    "    \n",
    "    def set_shift(self, shift):\n",
    "        self._shift = shift\n",
    "\n",
    "    def get_pay(self):\n",
    "        return self._pay\n",
    "    \n",
    "    def set_pay(self, pay):\n",
    "        self._pay = pay\n",
    "\n",
    "\n",
    "Name = input(\"Enter Name: \")\n",
    "Number = input(\"Enter Number: \")\n",
    "Shift = input(\"Enter Shift: \")\n",
    "Pay = input(\"Enter Pay: \")\n",
    "\n",
    "n = ProductionWorker(Name, Number,Shift, Pay)\n",
    "\n",
    "print(f\"Your worker is {n.get_name()} of number {n.get_number()} of shift {n.get_shift()} of pay {n.get_pay()}\")"
   ]
  },
  {
   "cell_type": "markdown",
   "metadata": {},
   "source": [
    "### Question 2"
   ]
  },
  {
   "cell_type": "code",
   "execution_count": 2,
   "metadata": {},
   "outputs": [
    {
     "name": "stdout",
     "output_type": "stream",
     "text": [
      "300\n"
     ]
    }
   ],
   "source": [
    "class ShiftSupervisor(Employee):\n",
    "    def __init__(self, name, number, salary, prod_bonus):\n",
    "        super().__init__(name, number)\n",
    "        self._salary = salary\n",
    "        self._prod_bonus = prod_bonus\n",
    "    \n",
    "    def calc_prod_bonus(self):\n",
    "        return self._salary * self._prod_bonus\n",
    "\n",
    "me = ShiftSupervisor(\"HI\", \"1\", 100, 3)\n",
    "print(me.calc_prod_bonus())\n",
    "        "
   ]
  },
  {
   "cell_type": "markdown",
   "metadata": {},
   "source": [
    "### Question 3"
   ]
  },
  {
   "cell_type": "code",
   "execution_count": 3,
   "metadata": {},
   "outputs": [
    {
     "name": "stdout",
     "output_type": "stream",
     "text": [
      "Mail sent\n",
      "Not him u dimwit\n"
     ]
    }
   ],
   "source": [
    "class Person:\n",
    "    def __init__(self, name, address, ph):\n",
    "        self._name = name\n",
    "        self._address = address\n",
    "        self._ph = ph\n",
    "    \n",
    "class Customer(Person):\n",
    "    def __init__(self, name, address, ph, customer_number, mailing):\n",
    "        super().__init__(name, address, ph)\n",
    "        self._customer_number = customer_number\n",
    "        self._mailing = mailing\n",
    "    \n",
    "    def send_mail(self):\n",
    "        if(self._mailing):\n",
    "            print(\"Mail sent\")\n",
    "        else:\n",
    "            print(\"Not him u dimwit\")\n",
    "\n",
    "yesMail = Customer(\"Asher\", \"GB\", \"90930938\", \"1\", True)\n",
    "noMail = Customer(\"HanSheen\", \"China\", \"99424322\", \"2\", False)\n",
    "\n",
    "yesMail.send_mail()\n",
    "noMail.send_mail()\n",
    "\n"
   ]
  },
  {
   "cell_type": "code",
   "execution_count": null,
   "metadata": {},
   "outputs": [],
   "source": []
  }
 ],
 "metadata": {
  "interpreter": {
   "hash": "05b2220a26de58e0031cd0a7cbd64d94eaa84338873dc0e02216392d53d6f30f"
  },
  "kernelspec": {
   "display_name": "Python 3.8.7 64-bit",
   "language": "python",
   "name": "python3"
  },
  "language_info": {
   "codemirror_mode": {
    "name": "ipython",
    "version": 3
   },
   "file_extension": ".py",
   "mimetype": "text/x-python",
   "name": "python",
   "nbconvert_exporter": "python",
   "pygments_lexer": "ipython3",
   "version": "3.8.7"
  },
  "orig_nbformat": 4
 },
 "nbformat": 4,
 "nbformat_minor": 2
}

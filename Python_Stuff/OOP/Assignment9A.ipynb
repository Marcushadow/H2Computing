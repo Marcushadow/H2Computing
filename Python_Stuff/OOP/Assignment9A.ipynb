{
 "cells": [
  {
   "cell_type": "markdown",
   "metadata": {},
   "source": [
    "### Question 1"
   ]
  },
  {
   "cell_type": "code",
   "execution_count": 1,
   "metadata": {},
   "outputs": [],
   "source": [
    "class Book:\n",
    "    def __init__(self, title, author_name, publisher_name):\n",
    "        self._title = title\n",
    "        self._author_name = author_name\n",
    "        self._publisher_name = publisher_name\n",
    "\n",
    "    def get_title(self):\n",
    "        return self._title\n",
    "\n",
    "    def set_title(self, title):\n",
    "        self._title = title \n",
    "\n",
    "    def get_author_name(self):\n",
    "        return self._author_name\n",
    "\n",
    "    def set_author_name(self, author_name):\n",
    "        self._author_name = author_name \n",
    "\n",
    "    def get_publisher_name(self):\n",
    "        return self._publisher_name\n",
    "\n",
    "    def set_publisher_name(self, publisher_name):\n",
    "        self._publisher_name = publisher_name "
   ]
  },
  {
   "cell_type": "markdown",
   "metadata": {},
   "source": [
    "### Question 2"
   ]
  },
  {
   "cell_type": "code",
   "execution_count": 2,
   "metadata": {},
   "outputs": [
    {
     "name": "stdout",
     "output_type": "stream",
     "text": [
      "Your pet is Me Dog 1\n"
     ]
    }
   ],
   "source": [
    "class Pet:\n",
    "    def __init__(self, name, animal_type, age):\n",
    "        self._name = name\n",
    "        self._animal_type = animal_type\n",
    "        self._age = age\n",
    "\n",
    "    def get_name(self):\n",
    "        return self._name\n",
    "\n",
    "    def set_name(self, name):\n",
    "        self._name = name \n",
    "\n",
    "    def get_animal_type(self):\n",
    "        return self._animal_type\n",
    "\n",
    "    def set_animal_type(self, animal_type):\n",
    "        self._animal_type = animal_type \n",
    "\n",
    "    def get_age(self):\n",
    "        return self._age\n",
    "\n",
    "    def set_age(self, age):\n",
    "        self._age = age \n",
    "\n",
    "Name = input(\"Enter Name: \")\n",
    "Type = input(\"Enter Animal Type: \")\n",
    "Age = input(\"Enter Age: \")\n",
    "\n",
    "myPet = Pet(Name, Type, Age)\n",
    "\n",
    "print(f\"Your pet is {myPet.get_name()} of type {myPet.get_animal_type()} of age {myPet.get_age()}\")"
   ]
  },
  {
   "cell_type": "markdown",
   "metadata": {},
   "source": [
    "### Question 3"
   ]
  },
  {
   "cell_type": "code",
   "execution_count": 3,
   "metadata": {},
   "outputs": [
    {
     "name": "stdout",
     "output_type": "stream",
     "text": [
      "5\n",
      "10\n",
      "15\n",
      "20\n",
      "25\n",
      "20\n",
      "15\n",
      "10\n",
      "5\n",
      "0\n"
     ]
    }
   ],
   "source": [
    "class Car:\n",
    "    def __init__(self, year_model, make):\n",
    "        self._year_model = year_model\n",
    "        self._make = make\n",
    "        self._speed = 0\n",
    "    \n",
    "    def accelerate(self):\n",
    "        self._speed += 5\n",
    "    \n",
    "    def brake(self):\n",
    "        self._speed -= 5\n",
    "    \n",
    "    def get_speed(self):\n",
    "        return self._speed\n",
    "    \n",
    "testCar = Car(\"2002\", \"F.R.I.E.N.D.S\")\n",
    "\n",
    "for i in range(5):\n",
    "    testCar.accelerate()\n",
    "    print(testCar.get_speed())\n",
    "\n",
    "for i in range(5):\n",
    "    testCar.brake()\n",
    "    print(testCar.get_speed())"
   ]
  },
  {
   "cell_type": "code",
   "execution_count": null,
   "metadata": {},
   "outputs": [],
   "source": []
  }
 ],
 "metadata": {
  "interpreter": {
   "hash": "05b2220a26de58e0031cd0a7cbd64d94eaa84338873dc0e02216392d53d6f30f"
  },
  "kernelspec": {
   "display_name": "Python 3.8.7 64-bit",
   "language": "python",
   "name": "python3"
  },
  "language_info": {
   "codemirror_mode": {
    "name": "ipython",
    "version": 3
   },
   "file_extension": ".py",
   "mimetype": "text/x-python",
   "name": "python",
   "nbconvert_exporter": "python",
   "pygments_lexer": "ipython3",
   "version": "3.8.7"
  },
  "orig_nbformat": 4
 },
 "nbformat": 4,
 "nbformat_minor": 2
}

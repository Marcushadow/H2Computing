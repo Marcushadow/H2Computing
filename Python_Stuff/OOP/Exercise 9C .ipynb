{
 "cells": [
  {
   "cell_type": "markdown",
   "metadata": {},
   "source": [
    "In a school, the Personnel Department is responsible for storing details about all staff who work for the school.  There are two categories of staff:\n",
    "\n",
    "*\tTeacher\n",
    "*\tSupport staff\n",
    " \n",
    "All staff have a StaffID and a Name. In addition, the salary for each member of staff is stored. \n",
    "\n",
    "A teacher has a classroom in which they do all their teaching. A teacher is also responsible for a form group.\n",
    "\n",
    "Support staff is either part-time or full-time. They are also allocated to one department.\n",
    "\n",
    "Software, using object-oriented programming, is to be written to process data about the staff.\n",
    "\n",
    "\n",
    "(a)\tComplete a class diagram showing the three classes:\n",
    "*\tStaff\n",
    "*\tTeacher\n",
    "*\tSupportStaff\n",
    "\n",
    "Include all the properties described above. In addition, include a constructor method that is called when an object of the class is created. The method should allow the object properties to be initialized. There should also be a show method that displays all the property values of the object.\n",
    "\n",
    "\n",
    "(b)\tImplement the classes designed in (a). Use inheritance to create appropriate relationships between the classes.\n",
    "\n",
    " \n",
    "(c)\tTest the code by creating objects from each class and then displaying their property values. \n",
    "\n",
    "\n",
    "(d)\tLunches are provided for all staff. The cost is 1/80 of their salary. Write a method that will display the cost for each member of staff. Test your solution.\n",
    "\n",
    "\n",
    "(e)\tChanges are made to the cost of the lunches so that the teaching staff are charged only 1/100 of their salary, and for support staff it is 1/120 of their salary. Use polymorphism to implement methods in the Teacher and SupportStaff classes for displaying the cost of lunches. Test your changes.\n"
   ]
  },
  {
   "cell_type": "markdown",
   "metadata": {},
   "source": [
    "<image src=\"./9c.png\">"
   ]
  },
  {
   "cell_type": "code",
   "execution_count": 17,
   "metadata": {},
   "outputs": [],
   "source": [
    "class Staff:\n",
    "    def __init__(self, StaffID, Name, Salary):\n",
    "        self._ID = StaffID\n",
    "        self._Name = Name\n",
    "        self._Salary = Salary\n",
    "\n",
    "    def getName(self):\n",
    "        return self._Name\n",
    "    \n",
    "    def getSalary(self):\n",
    "        return self._Salary\n",
    "    \n",
    "    def getID(self):\n",
    "        return self._ID\n",
    "\n",
    "    def setName(self, Name):\n",
    "        self._Name = Name\n",
    "    \n",
    "    def setSalary(self, Salary):\n",
    "        self._Salary = Salary\n",
    "    \n",
    "    def setID(self, ID):\n",
    "        self._ID = ID\n",
    "\n",
    "    def lunchMoney(self):\n",
    "        return (1/80) * int(self._Salary)\n",
    "    \n",
    "    def display(self):\n",
    "        print(f\"My id is: {self._ID}\\nname is: {self._Name}\\nsalary is: {self._Salary}\")\n",
    "\n",
    "\n",
    "class Teacher(Staff):\n",
    "    def __init__(self, StaffID, Name, Salary, Classroom, formGroup):\n",
    "        super().__init__(StaffID, Name, Salary)\n",
    "        self._Classroom = Classroom\n",
    "        self._formGroup = formGroup\n",
    "    \n",
    "    def getClassroom(self):\n",
    "        return self._Classroom\n",
    "    \n",
    "    def getformGroup(self):\n",
    "        return self._formGroup\n",
    "    \n",
    "    def setClassroom(self, Classroom):\n",
    "        self._Classroom = Classroom\n",
    "    \n",
    "    def setformGroup(self, formGroup):\n",
    "        self._formGroup = formGroup\n",
    "    \n",
    "    def lunchMoney(self):\n",
    "        return (1/100) * int(self._Salary)\n",
    "    \n",
    "    def display(self):\n",
    "        print(f\"My id is: {self._ID}\\nname is: {self._Name}\\nsalary is: {self._Salary}\\nclassroom is {self._Classroom}\\nform group is {self._formGroup}\")\n",
    "\n",
    "\n",
    "class SupportStaff(Staff):\n",
    "    def __init__(self, StaffID, Name, Salary, Department, shift):\n",
    "        super().__init__(StaffID, Name, Salary)\n",
    "        self._Department = Department\n",
    "        self._shift = (shift if (shift == \"part-time\" or shift == \"full-time\") else \"part-time\")\n",
    "    \n",
    "    def getDepartment(self):\n",
    "        return self._Department\n",
    "    \n",
    "    def getshift(self):\n",
    "        return self._shift\n",
    "    \n",
    "    def setDepartment(self, Department):\n",
    "        self._Department = Department\n",
    "    \n",
    "    def setshift(self, shift):\n",
    "        if (shift != \"part-time\" and shift != \"full-time\"):\n",
    "            print(\"Invalid Shift\")\n",
    "        else:\n",
    "            self._shift = shift\n",
    "    \n",
    "    def lunchMoney(self):\n",
    "        return (1/120) * int(self._Salary)\n",
    "    \n",
    "    def display(self):\n",
    "        print(f\"My id is: {self._ID}\\nname is: {self._Name}\\nsalary is: {self._Salary}\\nDepartment is {self._Department}\\nwork is {self._shift}\")"
   ]
  },
  {
   "cell_type": "code",
   "execution_count": 18,
   "metadata": {},
   "outputs": [
    {
     "name": "stdout",
     "output_type": "stream",
     "text": [
      "My id is: 1\n",
      "name is: Asher\n",
      "salary is: 123\n",
      "classroom is 21 1e2e\n",
      "form group is c21e\n"
     ]
    }
   ],
   "source": [
    "try:\n",
    "    ID = int(input(\"Please input ID: \"))\n",
    "except:\n",
    "    ID = None\n",
    "\n",
    "Name = input(\"Please input a name: \")\n",
    "\n",
    "try:\n",
    "    Salary = int(input(\"Please input Salary: \"))\n",
    "except:\n",
    "    Salary = 0\n",
    "\n",
    "Class = input(\"Please input a Classroom: \")\n",
    "formClass = input(\"Please input form class: \")\n",
    "\n",
    "\n",
    "\n",
    "Asher = Teacher(ID, Name, Salary, Class, formClass)\n",
    "Asher.display()"
   ]
  },
  {
   "cell_type": "code",
   "execution_count": 19,
   "metadata": {},
   "outputs": [
    {
     "name": "stdout",
     "output_type": "stream",
     "text": [
      "1.23\n"
     ]
    }
   ],
   "source": [
    "print(Asher.lunchMoney())"
   ]
  },
  {
   "cell_type": "code",
   "execution_count": 20,
   "metadata": {},
   "outputs": [
    {
     "data": {
      "text/plain": [
       "203528.6"
      ]
     },
     "execution_count": 20,
     "metadata": {},
     "output_type": "execute_result"
    }
   ],
   "source": [
    "try:\n",
    "    ID = int(input(\"Please input ID: \"))\n",
    "except:\n",
    "    ID = None\n",
    "\n",
    "Name = input(\"Please input a name: \")\n",
    "\n",
    "try:\n",
    "    Salary = int(input(\"Please input Salary: \"))\n",
    "except:\n",
    "    Salary = 0\n",
    "\n",
    "Department = input(\"Please input a Department: \")\n",
    "shift = input(\"Please input shift (part-time / full-time): \")\n",
    "\n",
    "Aaaron = SupportStaff(ID, Name, Salary, Department, shift)\n",
    "\n",
    "Aaaron.lunchMoney()\n"
   ]
  },
  {
   "cell_type": "code",
   "execution_count": null,
   "metadata": {},
   "outputs": [],
   "source": []
  }
 ],
 "metadata": {
  "kernelspec": {
   "display_name": "Python 3",
   "language": "python",
   "name": "python3"
  },
  "language_info": {
   "codemirror_mode": {
    "name": "ipython",
    "version": 3
   },
   "file_extension": ".py",
   "mimetype": "text/x-python",
   "name": "python",
   "nbconvert_exporter": "python",
   "pygments_lexer": "ipython3",
   "version": "3.8.7"
  }
 },
 "nbformat": 4,
 "nbformat_minor": 2
}

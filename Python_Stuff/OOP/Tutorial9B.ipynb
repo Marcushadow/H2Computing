{
 "cells": [
  {
   "cell_type": "code",
   "execution_count": null,
   "metadata": {},
   "outputs": [],
   "source": []
  },
  {
   "cell_type": "markdown",
   "metadata": {},
   "source": [
    "### 1.What does a subclass inherit from its superclass?\n",
    "\n",
    "> Attributes and Methods"
   ]
  },
  {
   "cell_type": "markdown",
   "metadata": {},
   "source": [
    "### 2.What are the benefits of having class B extend from Class A??\n",
    "\n",
    "> New attributes and instances can be added"
   ]
  },
  {
   "cell_type": "markdown",
   "metadata": {},
   "source": [
    "### 3.Look at the following class definition. What is the name of the superclass? What is the name of the subclass?\n",
    "\n",
    "`class Tiger(Felis):`\n",
    "\n",
    "> Superclass = Felis\n",
    "\n",
    "> Subclass = Tiger"
   ]
  },
  {
   "cell_type": "markdown",
   "metadata": {},
   "source": [
    "### 4.Describe what the __init__ method should do in a class that extends another class.\n",
    "\n",
    "> The \\_\\_init\\_\\_ function should contain the init function of the superclass as well as the new attributes of the subclass"
   ]
  },
  {
   "cell_type": "markdown",
   "metadata": {},
   "source": [
    "### 5.Look at the following class definition:\n",
    "\n",
    "`class Beverage:`\n",
    "\n",
    "`def __init__(self, bev_name):`\n",
    "`self._bev_name = bev_name`\n",
    "\n",
    "#### Write the code for a class named Cola that is a subclass of the Beverage class. The\n",
    "#### Cola class’s __init__ method should call the Beverage class’s __init__ method,\n",
    "#### passing ‘cola’ as an argument.\n",
    "\n",
    "```\n",
    "class Cola(Beverage):\n",
    "    def __init__(self, bev_name):\n",
    "        super().__init__(bev_name)\n",
    "\n",
    "\n",
    "```"
   ]
  },
  {
   "cell_type": "markdown",
   "metadata": {},
   "source": [
    "### 6.What is an overridden method??\n",
    "\n",
    "> Occurs when a subclass defines a method with the same name"
   ]
  },
  {
   "cell_type": "markdown",
   "metadata": {},
   "source": [
    "### 7.Look at the following class definitions:\n",
    "```\n",
    "class Plant:\n",
    "    def __init__(self, plant_type):\n",
    "        self._plant_type = plant_type\n",
    "    def message(self):\n",
    "        print (\"I'm a plant\")\n",
    "\n",
    "class Tree(Plant):\n",
    "    def __init__(self):\n",
    "        super().__init__('tree')\n",
    "    def message(self):\n",
    "        print (\"I'm a tree\")\n",
    "```\n",
    "\n",
    "Given these class definitions, what will the following statements display?\n",
    "\n",
    "```\n",
    "p = Plant('sapling')\n",
    "t = Tree()\n",
    "p.message()\n",
    "t.message()\n",
    "```\n",
    "\n",
    "> \"I'm a plant\"\n",
    "\n",
    "> \"I'm a tree\"\n",
    "\n"
   ]
  },
  {
   "cell_type": "markdown",
   "metadata": {},
   "source": [
    "### 8. Class B extends class A. Class A defines an __str__ method that returns the string representation of its instance variables. Class B defines a single variable named _age. Write the code to define the __str__ method for class B. This method should return the combined string information from both classes. Label the data for _age with the string “Age: “.\n",
    "\n",
    "```\n",
    "class A:\n",
    "    def __init__(self):\n",
    "\n",
    "    def __str__(self):\n",
    "        for i,k in self.__dict__.items() :\n",
    "            print(i,k)\n",
    "\n",
    "class B(A):\n",
    "    def __init__(self, age):\n",
    "        super().__init__()\n",
    "        self._age = age\n",
    "\n",
    "    def __str__(self):\n",
    "        return self._age\n",
    "\n",
    "```"
   ]
  },
  {
   "cell_type": "markdown",
   "metadata": {},
   "source": []
  },
  {
   "cell_type": "markdown",
   "metadata": {},
   "source": []
  }
 ],
 "metadata": {
  "language_info": {
   "name": "python"
  },
  "orig_nbformat": 4
 },
 "nbformat": 4,
 "nbformat_minor": 2
}

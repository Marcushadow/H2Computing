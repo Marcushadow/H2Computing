{
 "cells": [
  {
   "cell_type": "code",
   "execution_count": null,
   "metadata": {},
   "outputs": [],
   "source": []
  },
  {
   "cell_type": "markdown",
   "metadata": {},
   "source": [
    "# Tutorial 9A\n",
    "\n"
   ]
  },
  {
   "cell_type": "markdown",
   "metadata": {},
   "source": [
    "### 1. What is encapsulation??\n",
    "\n",
    "> Encapsulation is the process of combining data and functions into the same object"
   ]
  },
  {
   "cell_type": "markdown",
   "metadata": {},
   "source": [
    "### 2.What is the difference between a class and an instance of a class?\n",
    "\n",
    "> A class is code that specifies the data attributes and methods pertaining to an object\n",
    "\n",
    "> An instance of a class is an object created from a class, with multiple instances being able to be created at any one point in time."
   ]
  },
  {
   "cell_type": "markdown",
   "metadata": {},
   "source": [
    "### 3.Why should an object’s data attributes be hidden from code outside the class? How do we hide an attribute in a python class?\n",
    "\n",
    "> First is to protect from accidental corruption and second is to ensure that the outside code does not interfere with internal code."
   ]
  },
  {
   "cell_type": "markdown",
   "metadata": {},
   "source": [
    "### 4.The following statement calls an object’s method. What is the name of the method?\n",
    "### What is the name of the variable that references the object?\n",
    "##### wallet.get_dollar()\n",
    "> `Variable: wallet`\n",
    "\n",
    "> `Method: get_dollar()`"
   ]
  },
  {
   "cell_type": "markdown",
   "metadata": {},
   "source": [
    "### 5.When the \\_\\_init\\_\\_ method executes, what does the self parameter reference?\n",
    "\n",
    "> It references the specific object that the method is working on"
   ]
  },
  {
   "cell_type": "markdown",
   "metadata": {},
   "source": [
    "### 6.How do you call the \\_\\_str\\_\\_ method?\n",
    "\n",
    "> This method is called when the object name is passed to the print statement or when it is an argument of the str() function"
   ]
  },
  {
   "cell_type": "markdown",
   "metadata": {},
   "source": [
    "### 7.Suppose my_car is the name of a variable that references an object, and go is the\n",
    "### name of a method. Write a statement that uses the my_car variable to call the go\n",
    "### method. (You do not have to pass any arguments to the go method.)\n",
    "\n",
    "> my_car.go()"
   ]
  },
  {
   "cell_type": "markdown",
   "metadata": {},
   "source": [
    "### Draw a class diagram for Book. The Book class has data attributes for title, author’s\n",
    "### name, publisher’s name and their corresponding accessor and mutator methods for\n",
    "### each attribute.\n",
    "\n",
    "> <image src=\"./BookTable.png\">"
   ]
  },
  {
   "cell_type": "markdown",
   "metadata": {},
   "source": []
  }
 ],
 "metadata": {
  "language_info": {
   "name": "python"
  },
  "orig_nbformat": 4
 },
 "nbformat": 4,
 "nbformat_minor": 2
}

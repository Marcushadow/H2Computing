{
 "cells": [
  {
   "cell_type": "code",
   "execution_count": 6,
   "metadata": {},
   "outputs": [
    {
     "ename": "OperationalError",
     "evalue": "table Book already exists",
     "output_type": "error",
     "traceback": [
      "\u001b[1;31m---------------------------------------------------------------------------\u001b[0m",
      "\u001b[1;31mOperationalError\u001b[0m                          Traceback (most recent call last)",
      "\u001b[1;32m<ipython-input-6-9764bab22dfb>\u001b[0m in \u001b[0;36m<module>\u001b[1;34m\u001b[0m\n\u001b[0;32m      2\u001b[0m \u001b[1;33m\u001b[0m\u001b[0m\n\u001b[0;32m      3\u001b[0m \u001b[0mconnection\u001b[0m \u001b[1;33m=\u001b[0m \u001b[0msqlite3\u001b[0m\u001b[1;33m.\u001b[0m\u001b[0mconnect\u001b[0m\u001b[1;33m(\u001b[0m\u001b[1;34m\"test.db\"\u001b[0m\u001b[1;33m)\u001b[0m\u001b[1;33m\u001b[0m\u001b[1;33m\u001b[0m\u001b[0m\n\u001b[1;32m----> 4\u001b[1;33m \u001b[0mconnection\u001b[0m\u001b[1;33m.\u001b[0m\u001b[0mexecute\u001b[0m\u001b[1;33m(\u001b[0m\u001b[1;34m\"CREATE TABLE Book \"\u001b[0m \u001b[1;33m+\u001b[0m \u001b[1;34m\"(ID INTEGER PRIMARY KEY, Title TEXT)\"\u001b[0m\u001b[1;33m)\u001b[0m\u001b[1;33m\u001b[0m\u001b[1;33m\u001b[0m\u001b[0m\n\u001b[0m\u001b[0;32m      5\u001b[0m \u001b[0mconnection\u001b[0m\u001b[1;33m.\u001b[0m\u001b[0mcommit\u001b[0m\u001b[1;33m(\u001b[0m\u001b[1;33m)\u001b[0m\u001b[1;33m\u001b[0m\u001b[1;33m\u001b[0m\u001b[0m\n\u001b[0;32m      6\u001b[0m \u001b[1;33m\u001b[0m\u001b[0m\n",
      "\u001b[1;31mOperationalError\u001b[0m: table Book already exists"
     ]
    }
   ],
   "source": [
    "import sqlite3\n",
    "\n",
    "connection = sqlite3.connect(\"test.db\")\n",
    "connection.execute(\"CREATE TABLE Book \" + \"(ID INTEGER PRIMARY KEY, Title TEXT)\")\n",
    "connection.commit()\n",
    "\n",
    "\n",
    "connection.close()"
   ]
  },
  {
   "cell_type": "code",
   "execution_count": null,
   "metadata": {},
   "outputs": [],
   "source": [
    "connection = sqlite3.connect(\"test.db\")\n",
    "\n",
    "# TEMPLATE CODE\n",
    "\n",
    "\n",
    "connection.close()"
   ]
  },
  {
   "cell_type": "code",
   "execution_count": 5,
   "metadata": {},
   "outputs": [],
   "source": [
    "connection = sqlite3.connect(\"test.db\")\n",
    "\n",
    "connection.execute(\"INSERT INTO Book(ID, Title) VALUES (0, 'The Adventures of Huckleberry Finn')\")\n",
    "connection.commit()\n",
    "\n",
    "connection.close()"
   ]
  },
  {
   "cell_type": "code",
   "execution_count": 7,
   "metadata": {},
   "outputs": [
    {
     "name": "stdout",
     "output_type": "stream",
     "text": [
      "0, The Adventures of Huckleberry Finn\n"
     ]
    }
   ],
   "source": [
    "connection = sqlite3.connect(\"test.db\")\n",
    "\n",
    "cursor = connection.execute(\"SELECT ID, Title FROM Book\")\n",
    "\n",
    "for row in cursor:\n",
    "    print(f\"{row[0]}, {row[1]}\")\n",
    "\n",
    "connection.close()"
   ]
  },
  {
   "cell_type": "code",
   "execution_count": 8,
   "metadata": {},
   "outputs": [
    {
     "name": "stdout",
     "output_type": "stream",
     "text": [
      "0, The Adventures of Huckleberry Finn\n"
     ]
    }
   ],
   "source": [
    "connection = sqlite3.connect(\"test.db\")\n",
    "\n",
    "cursor = connection.execute(\"SELECT ID, Title FROM Book\")\n",
    "\n",
    "\n",
    "row = cursor.fetchone()\n",
    "while(row is not None):\n",
    "    print(f\"{row[0]}, {row[1]}\")\n",
    "    row = cursor.fetchone()\n",
    "\n",
    "connection.close()"
   ]
  },
  {
   "cell_type": "code",
   "execution_count": 9,
   "metadata": {},
   "outputs": [
    {
     "name": "stdout",
     "output_type": "stream",
     "text": [
      "0, The Adventures of Huckleberry Finn\n"
     ]
    }
   ],
   "source": [
    "connection = sqlite3.connect(\"test.db\")\n",
    "\n",
    "cursor = connection.execute(\"SELECT ID, Title FROM Book\")\n",
    "\n",
    "\n",
    "rows = cursor.fetchall()\n",
    "for row in rows:\n",
    "    print(f\"{row[0]}, {row[1]}\")\n",
    "    row = cursor.fetchone()\n",
    "\n",
    "connection.close()"
   ]
  },
  {
   "cell_type": "markdown",
   "metadata": {},
   "source": [
    "## Row factory"
   ]
  },
  {
   "cell_type": "code",
   "execution_count": 10,
   "metadata": {},
   "outputs": [
    {
     "name": "stdout",
     "output_type": "stream",
     "text": [
      "<sqlite3.Row object at 0x000002C41E00EE70>\n"
     ]
    }
   ],
   "source": [
    "connection = sqlite3.connect(\"test.db\")\n",
    "connection.row_factory = sqlite3.Row\n",
    "cursor = connection.execute(\"SELECT ID, Title FROM Book\")\n",
    "\n",
    "for row in cursor:\n",
    "    print(row)\n",
    "\n",
    "connection.close()  "
   ]
  },
  {
   "cell_type": "code",
   "execution_count": 15,
   "metadata": {},
   "outputs": [
    {
     "name": "stdout",
     "output_type": "stream",
     "text": [
      "{'ID': 0, 'Title': 'The Adventures of Huckleberry Finn'}\n"
     ]
    }
   ],
   "source": [
    "connection = sqlite3.connect(\"test.db\")\n",
    "connection.row_factory = sqlite3.Row\n",
    "cursor = connection.execute(\"SELECT ID, Title FROM Book\")\n",
    "\n",
    "row = cursor.fetchone()\n",
    "while row is not None:\n",
    "    row = dict(row)\n",
    "    print(row)\n",
    "    row = cursor.fetchone()\n",
    "\n",
    "connection.close()  "
   ]
  },
  {
   "cell_type": "code",
   "execution_count": 13,
   "metadata": {},
   "outputs": [
    {
     "name": "stdout",
     "output_type": "stream",
     "text": [
      "{'ID': 0, 'Title': 'The Adventures of Huckleberry Finn'}\n"
     ]
    }
   ],
   "source": [
    "connection = sqlite3.connect(\"test.db\")\n",
    "connection.row_factory = sqlite3.Row\n",
    "cursor = connection.execute(\"SELECT ID, Title FROM Book\")\n",
    "\n",
    "rows = cursor.fetchall()\n",
    "for row in rows:\n",
    "    print(dict(row))\n",
    "\n",
    "connection.close()  "
   ]
  },
  {
   "cell_type": "code",
   "execution_count": null,
   "metadata": {},
   "outputs": [],
   "source": []
  }
 ],
 "metadata": {
  "interpreter": {
   "hash": "05b2220a26de58e0031cd0a7cbd64d94eaa84338873dc0e02216392d53d6f30f"
  },
  "kernelspec": {
   "display_name": "Python 3.8.7 64-bit",
   "language": "python",
   "name": "python3"
  },
  "language_info": {
   "codemirror_mode": {
    "name": "ipython",
    "version": 3
   },
   "file_extension": ".py",
   "mimetype": "text/x-python",
   "name": "python",
   "nbconvert_exporter": "python",
   "pygments_lexer": "ipython3",
   "version": "3.8.7"
  },
  "orig_nbformat": 4
 },
 "nbformat": 4,
 "nbformat_minor": 2
}

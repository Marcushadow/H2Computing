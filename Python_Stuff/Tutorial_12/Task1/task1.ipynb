{
 "cells": [
  {
   "cell_type": "code",
   "execution_count": 1,
   "metadata": {},
   "outputs": [],
   "source": [
    "import sqlite3\n",
    "\n",
    "conn = sqlite3.connect(\"loans.db\")\n",
    "\n",
    "conn.execute(\"CREATE TABLE Borrower (\" + \"ID INTEGER PRIMARY KEY, Name TEXT NOT NULL\" + \")\")\n",
    "conn.execute(\"CREATE TABLE Book (\" + \"ID INTEGER PRIMARY KEY,Title TEXT NOT NULL\" + \")\")\n",
    "conn.execute(\"CREATE TABLE Loan (\" + \"ID INTEGER PRIMARY KEY AUTOINCREMENT, BorrowerID INTEGER NOT NULL, BookID INTEGER NOT NULL,FOREIGN KEY (BorrowerID) REFERENCES Borrower(ID), FOREIGN KEY (BookID) REFERENCES Book(ID)\" + \")\")\n",
    "\n",
    "\n",
    "conn.close()"
   ]
  },
  {
   "cell_type": "code",
   "execution_count": 8,
   "metadata": {},
   "outputs": [
    {
     "name": "stdout",
     "output_type": "stream",
     "text": [
      "ERROR BOOK IS BORROWED\n"
     ]
    }
   ],
   "source": [
    "import sqlite3\n",
    "while True:\n",
    "    conn = sqlite3.connect(\"loans.db\")\n",
    "    # Get Borrower ID\n",
    "    borrower_id = int(input(\"Enter Borrower ID: \"))\n",
    "    cursor = conn.execute(\"SELECT COUNT(*) FROM Borrower \" + \"WHERE ID = ?\", (borrower_id,))\n",
    "    if cursor.fetchone()[0] == 0:\n",
    "        name = input(\"New Borrower! Enter Borrower Name: \")\n",
    "        conn.execute(\"INSERT INTO Borrower(ID, Name) \" + \"VALUES(?, ?)\", (borrower_id, name))\n",
    "\n",
    "    \n",
    "    book_id = int(input(\"Enter Book ID: \"))\n",
    "    cursor = conn.execute(\"SELECT COUNT(*) FROM Book \" + \"WHERE ID = ?\", (book_id,))\n",
    "\n",
    "    if cursor.fetchone()[0] == 0:\n",
    "        bookname = input(\"New Book! Enter Book Name: \")\n",
    "        conn.execute(\"INSERT INTO Book(ID, Title) \" + \"VALUES(?, ?)\", (book_id, bookname))\n",
    "\n",
    "    cursor = conn.execute(\"SELECT COUNT(*) FROM Loan \" + \"WHERE BookID = ?\", (book_id,))\n",
    "\n",
    "    if cursor.fetchone()[0] == 0:\n",
    "        # No loans yet\n",
    "        conn.execute(\"INSERT INTO Loan(BorrowerID, BookID) VALUES (?,?)\", (borrower_id, book_id))\n",
    "    else:\n",
    "        print(\"ERROR BOOK IS BORROWED\")\n",
    "    \n",
    "    conn.commit()\n",
    "    conn.close()\n",
    "    if input(\"Quit (Y/N)? \").upper() == \"Y\":\n",
    "        break"
   ]
  },
  {
   "cell_type": "code",
   "execution_count": null,
   "metadata": {},
   "outputs": [],
   "source": []
  }
 ],
 "metadata": {
  "interpreter": {
   "hash": "05b2220a26de58e0031cd0a7cbd64d94eaa84338873dc0e02216392d53d6f30f"
  },
  "kernelspec": {
   "display_name": "Python 3.8.7 64-bit",
   "language": "python",
   "name": "python3"
  },
  "language_info": {
   "codemirror_mode": {
    "name": "ipython",
    "version": 3
   },
   "file_extension": ".py",
   "mimetype": "text/x-python",
   "name": "python",
   "nbconvert_exporter": "python",
   "pygments_lexer": "ipython3",
   "version": "3.8.7"
  },
  "orig_nbformat": 4
 },
 "nbformat": 4,
 "nbformat_minor": 2
}

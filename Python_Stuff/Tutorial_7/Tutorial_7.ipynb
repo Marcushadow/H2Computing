{
 "cells": [
  {
   "cell_type": "markdown",
   "source": [
    "# Tutorial 7"
   ],
   "metadata": {}
  },
  {
   "cell_type": "code",
   "execution_count": 1,
   "source": [
    "from tabulate import tabulate\r\n",
    "\r\n"
   ],
   "outputs": [],
   "metadata": {}
  },
  {
   "cell_type": "code",
   "execution_count": 2,
   "source": [
    "data = {}\r\n",
    "total = [0,0,0,0]\r\n",
    "with open(\"basketball_data.txt\") as file:\r\n",
    "    for i in range(6):\r\n",
    "        name = file.readline().strip('\\n')\r\n",
    "        scores = file.readline()\r\n",
    "        scores = scores.split(\" \")\r\n",
    "        for i in range(len(scores)):\r\n",
    "            scores[i] = int(scores[i])\r\n",
    "            total[i] += scores[i]\r\n",
    "        \r\n",
    "        averageScore = round(sum(scores)/len(scores), 2)\r\n",
    "\r\n",
    "\r\n",
    "        data[name] = {}\r\n",
    "        data[name]['scores'] = scores\r\n",
    "        data[name]['average score'] = averageScore\r\n",
    "    \r\n",
    "    data[\"Team\"] = {\r\n",
    "        'scores' : total,\r\n",
    "        'average score' : round(sum(total)/len(total), 2)\r\n",
    "    }\r\n",
    "print(list(data.keys()))\r\n",
    "print(list(data.values()))"
   ],
   "outputs": [
    {
     "output_type": "stream",
     "name": "stdout",
     "text": [
      "['Smith', 'Wing Yip', 'Zen Wei', 'Asher Ng', 'Jun Kai', 'Ms Yu', 'Team']\n",
      "[{'scores': [12, 14, 7, 10], 'average score': 10.75}, {'scores': [12, 13, 16, 17], 'average score': 14.5}, {'scores': [11, 18, 20, 15], 'average score': 16.0}, {'scores': [10, 13, 19, 20], 'average score': 15.5}, {'scores': [16, 15, 20, 23], 'average score': 18.5}, {'scores': [14, 15, 19, 23], 'average score': 17.75}, {'scores': [75, 88, 101, 108], 'average score': 93.0}]\n"
     ]
    }
   ],
   "metadata": {}
  },
  {
   "cell_type": "code",
   "execution_count": 5,
   "source": [
    "print(tabulate(data, headers=\"keys\", tablefmt='github'))"
   ],
   "outputs": [
    {
     "output_type": "stream",
     "name": "stdout",
     "text": [
      "| Smith         | Wing Yip      | Zen Wei       | Asher Ng      | Jun Kai       | Ms Yu         | Team          |\n",
      "|---------------|---------------|---------------|---------------|---------------|---------------|---------------|\n",
      "| scores        | scores        | scores        | scores        | scores        | scores        | scores        |\n",
      "| average score | average score | average score | average score | average score | average score | average score |\n"
     ]
    }
   ],
   "metadata": {}
  },
  {
   "cell_type": "code",
   "execution_count": 3,
   "source": [
    "l1 = [1,2,9, 2,3]\r\n",
    "l2 = sorted(l1)\r\n",
    "\r\n",
    "l2"
   ],
   "outputs": [
    {
     "output_type": "execute_result",
     "data": {
      "text/plain": [
       "[1, 2, 2, 3, 9]"
      ]
     },
     "metadata": {},
     "execution_count": 3
    }
   ],
   "metadata": {}
  },
  {
   "cell_type": "markdown",
   "source": [
    "Question1\n",
    "\n",
    "    BEGIN\n",
    "\n",
    "        READ numOfPlayers\n",
    "        READ numOfGames\n",
    "\n",
    "        Assume an array of strings, names = [1...numOfPlayers]\n",
    "        Assume an array of integers, averages = [1...numOfPlayers]\n",
    "        Assume an array of integers, perGame = [1...numOfGames]\n",
    "        Assume a 2 dimensional array of integers, points = [1...numOfPlayers,1...numOfGames]\n",
    "        \n",
    "        \n",
    "        FOR player <- 1 to numOfPlayers\n",
    "            READ names[player]\n",
    "            sumOfScore = 0\n",
    "            FOR gameNumber = 1 to numOfGames\n",
    "                READ points[player, gameNumber]\n",
    "                sumOfScore = sumOfScore + points[player, gameNumber]\n",
    "                perGame[gameNumber] = perGame[gameNumber] + points[player, gameNumber]\n",
    "            averages[player] = sumOfScore/numOfGames\n",
    "            ENDFOR\n",
    "        ENDFOR\n",
    "\n",
    "        PRINT \"Player \\t  Player Scores \\t Game Average\"\n",
    "\n",
    "        FOR player <- 1 to numOfPlayers\n",
    "            PRINT name[player], points[player], averages[player]\n",
    "        ENDFOR\n",
    "\n",
    "        FOR game <- 1 to numOfGames\n",
    "            PRINT perGame[game]\n",
    "        ENDFOR\n",
    "    END\n",
    "        \n",
    "        \n",
    "        "
   ],
   "metadata": {}
  },
  {
   "cell_type": "markdown",
   "source": [
    "## Alternative Solution\n",
    "\n",
    "    BEGIN\n",
    "\n",
    "        DECLARE Name: Array[1...6] OF STRING\n",
    "        DECLARE Score: Array[1...6, 1...5] OF REAL\n",
    "        \n",
    "        \n",
    "        FOR i <- 1 to 6\n",
    "            READ names[i]\n",
    "            FOR j <- 1 to 4\n",
    "                READ scores[i,j]\n",
    "                team[j] = team[j] + scores[i,j]\n",
    "            ENDFOR\n",
    "        ENDFOR\n",
    "\n",
    "        FOR i <- 1 to 6\n",
    "            PRINT names[i]\n",
    "            DECLARE: SumScores : INTEGER\n",
    "            FOR j <- 1 to 4\n",
    "                PRINT scores[i,j]\n",
    "                SumScores = SumScores + scores[i,j]\n",
    "            ENDFOR\n",
    "\n",
    "            PRINT SumScores/4\n",
    "        ENDFOR\n",
    "\n",
    "        FOR i <- 1 to 4\n",
    "            PRINT team[i]\n",
    "        ENDFOR\n",
    "    END\n",
    "            \n",
    "        "
   ],
   "metadata": {}
  },
  {
   "cell_type": "markdown",
   "source": [
    "# Question 2\n",
    "\n",
    "    BEGIN\n",
    "        READ numberOfStocks\n",
    "        Assume an array of strings, names = [1...numberOfStocks]\n",
    "        Assume a 2d array of integers, closingPrices = [1...numberOfStocks,1...7]\n",
    "\n",
    "        FOR i <- 1 to numberOfStocks\n",
    "            READ names[i]\n",
    "            FOR day <- 1 to 7\n",
    "                READ closingPrices[i][day]\n",
    "            ENDFOR\n",
    "        \n",
    "        FOR i <- 1 to numberOfStocks\n",
    "            DECLARE min, minDay, max, maxDay : INTEGER\n",
    "            FOR day <- 1 to 7 \n",
    "                IF(closingPrices[i][day] > max)\n",
    "                    max = closingPrices[i][day]\n",
    "                    maxDay = day\n",
    "                ELSE IF (closingPrices[i][day] < min)\n",
    "                    min = closingPrices[i][day]\n",
    "                    minDay = day\n",
    "                ENDIF\n",
    "            \n",
    "            PRINT names[i] , minDay, min, maxDay, max\n",
    "\n",
    "\n",
    "    END          \n",
    "                \n",
    "\n",
    "        \n",
    "        \n",
    "        "
   ],
   "metadata": {}
  },
  {
   "cell_type": "markdown",
   "source": [
    "## Question 2 Alternative Solution\n",
    "\n",
    "    BEGIN\n",
    "\n",
    "        DECLARE maxStocks: INTEGER\n",
    "        READ maxStocks\n",
    "\n",
    "        DECLARE stockNames: Array[1...maxStocks] OF STRING\n",
    "        DECLARE stockPrices: Array[1...maxStocks, 1...5] OF REAL\n",
    "\n",
    "    \n",
    "        FOR stockIterator <- 1 to maxStocks\n",
    "            READ <- stockNames[stockIterator]\n",
    "            FOR dayIterator <- 1 to 5\n",
    "                READ stockPrices[stockIterator, dayIterator]\n",
    "            ENDFOR\n",
    "        ENDFOR\n",
    "\n",
    "        dayMap <- [\"Monday\", \"Tuesday\", \"Wednesday\", \"Thursday\", \"Friday\"]\n",
    "\n",
    "        FOR stockIterator <- 1 to maxStocks\n",
    "            DECLARE highestPrice, lowestPrice : INTEGER\n",
    "            DECLARE highestDay, lowestDay : STRING\n",
    "\n",
    "            highestPrice , lowestPrice <- stockPrices[stockIterator, 1]\n",
    "            highestDay , lowestDay <- dayMap[1]\n",
    "\n",
    "            FOR dayIterator <- 2 to 5\n",
    "                IF stockPrices[stockIterator, dayIterator] > highestPrice\n",
    "                    highestPrice <- stockPrices[stockIterator, dayIterator]\n",
    "                    highestDay <- dayMap[dayIterator]\n",
    "                \n",
    "                ELSE IF stockPrices[stockIterator, dayIterator] < lowestPrice\n",
    "                    lowestPrice <- stockPrices[stockIterator, dayIterator]\n",
    "                    lowestDay <- dayMap[dayIterator]\n",
    "                ENDIF\n",
    "            ENDFOR\n",
    "\n",
    "            PRINT stockNames[stockIterator]\n",
    "            PRINT \"Highest Day Highest Price Lowest Day Lowest Price\"\n",
    "            PRINT highestDay, highestPrice, lowestDay, lowestPrice\n",
    "        ENDFOR\n",
    "            \n",
    "            "
   ],
   "metadata": {}
  },
  {
   "cell_type": "markdown",
   "source": [
    "Question 3\n",
    "\n",
    "    BEGIN\n",
    "\n",
    "        maxStudents = 40\n",
    "        Assume an array of integers, scores[1...maxStudents]\n",
    "        Assume an array of integers, scoresAboveAverage[1...maxStudents]\n",
    "        sAAIter = 0\n",
    "\n",
    "        numStudents = 0\n",
    "        totalScore = 0\n",
    "\n",
    "        FOR i <- 1 to maxStudents\n",
    "            READ scores[i]\n",
    "            numStudents = numStudents + 1\n",
    "            totalScore = totalScore + scores[i]\n",
    "        ENDFOR\n",
    "\n",
    "        averageScore = totalScore/numStudents\n",
    "\n",
    "        FOR i <- 1 to maxStudents\n",
    "            IF(scores[i] > averageScore)\n",
    "                sAAIter = sAAIter + 1\n",
    "                scoresAboveAverage[sAAIter] = scores[i]\n",
    "            ENDIF\n",
    "        ENDFOR\n",
    "\n",
    "        PRINT \"Average Score: \" + averageScore\n",
    "        PRINT \"Scores above average \"\n",
    "        FOR i <- 1 to sAAIter:\n",
    "            PRINT scoresAboveAverage[i]\n",
    "        ENDFOR\n",
    "    END\n",
    "                \n",
    "\n",
    "\n",
    "\n",
    "        "
   ],
   "metadata": {}
  },
  {
   "cell_type": "markdown",
   "source": [
    "1a\n",
    "\n",
    "    7\n",
    "\n",
    "1b\n",
    "\n",
    "    7\n",
    "\n",
    "1c\n",
    "\n",
    "    3\n",
    "\n",
    "1d\n",
    "\n",
    "    [5,3]\n",
    "\n",
    "1e\n",
    "\n",
    "    False\n",
    "\n",
    "1f\n",
    "\n",
    "    [5,3,7,2,10,5]\n",
    "\n",
    "1g\n",
    "\n",
    "    (5,3,7)"
   ],
   "metadata": {}
  },
  {
   "cell_type": "markdown",
   "source": [
    "2a\n",
    "\n",
    "    data[0] = -data[0]\n",
    "\n",
    "2b\n",
    "\n",
    "    data.append(10) \n",
    "    data.extend([10])\n",
    "\n",
    "2c\n",
    "\n",
    "    data.insert(1, 22)\n",
    "\n",
    "2d\n",
    "\n",
    "    data.pop(0)\n",
    "\n",
    "2e\n",
    "\n",
    "    data.extend(newData)\n",
    "\n",
    "2f\n",
    "\n",
    "    data.find(7)\n",
    "\n",
    "2g\n",
    "\n",
    "    data.sort()"
   ],
   "metadata": {}
  },
  {
   "cell_type": "markdown",
   "source": [
    "## Question 3"
   ],
   "metadata": {}
  },
  {
   "cell_type": "code",
   "execution_count": 39,
   "source": [
    "data = [1, 3, 4, 7, 9, 10, 2]\r\n",
    "sumOfValues = 0\r\n",
    "\r\n",
    "for val in data:\r\n",
    "    sumOfValues += val\r\n",
    "\r\n"
   ],
   "outputs": [],
   "metadata": {}
  },
  {
   "cell_type": "markdown",
   "source": [
    "## Question 4"
   ],
   "metadata": {}
  },
  {
   "cell_type": "code",
   "execution_count": 42,
   "source": [
    "data = [1, 3, 4, 7, 9, 10, 2]\r\n",
    "result = []\r\n",
    "\r\n",
    "for val in data:\r\n",
    "    if(val != 0):\r\n",
    "        result.append(val)\r\n",
    "result"
   ],
   "outputs": [
    {
     "output_type": "execute_result",
     "data": {
      "text/plain": [
       "[1, 3, 4, 7, 9, 10, 2]"
      ]
     },
     "metadata": {},
     "execution_count": 42
    }
   ],
   "metadata": {}
  },
  {
   "cell_type": "code",
   "execution_count": 43,
   "source": [
    "data = [1, -3, 4, 7, 9, 10, 2]\r\n",
    "\r\n",
    "for i in range(len(data)):\r\n",
    "    data[i] = abs(data[i])\r\n",
    "\r\n",
    "data"
   ],
   "outputs": [
    {
     "output_type": "execute_result",
     "data": {
      "text/plain": [
       "[1, 3, 4, 7, 9, 10, 2]"
      ]
     },
     "metadata": {},
     "execution_count": 43
    }
   ],
   "metadata": {}
  },
  {
   "cell_type": "markdown",
   "source": [
    "# Tutorial 7c"
   ],
   "metadata": {}
  },
  {
   "cell_type": "markdown",
   "source": [
    "1a\n",
    "\n",
    "    35\n",
    "\n",
    "1b\n",
    "\n",
    "    None\n",
    "\n",
    "1c\n",
    "\n",
    "    2\n",
    "\n",
    "1d\n",
    "\n",
    "    ['b','a']\n",
    "\n",
    "1e\n",
    "\n",
    "    [20,35]\n",
    "\n",
    "1f\n",
    "\n",
    "    {\"a\":35}\n",
    "\n",
    "1g\n",
    "\n",
    "    {\"a\":35}\n",
    "    \n",
    "2a\n",
    "\n",
    "    data[\"b\"] = -data[\"b\"]\n",
    "\n",
    "2b\n",
    "\n",
    "    data[\"c\"] = 40\n",
    "\n",
    "2c\n",
    "\n",
    "    data.pop(\"b\")\n",
    "\n",
    "2d\n",
    "\n",
    "    list(data.keys()).sort()\n",
    "        "
   ],
   "metadata": {}
  },
  {
   "cell_type": "code",
   "execution_count": 45,
   "source": [
    "wlExercises = {\r\n",
    "    \"Hammer Curls\": 20,\r\n",
    "    \"Bench Presses\": 10,\r\n",
    "    \"Deadlifts\" : 25\r\n",
    "}\r\n",
    "\r\n",
    "for (key, value) in wlExercises.items():\r\n",
    "    print(f\"I did {value} {key}\")"
   ],
   "outputs": [
    {
     "output_type": "stream",
     "name": "stdout",
     "text": [
      "I did 20 Hammer Curls\n",
      "I did 10 Bench Presses\n",
      "I did 25 Deadlifts\n"
     ]
    }
   ],
   "metadata": {}
  },
  {
   "cell_type": "code",
   "execution_count": 4,
   "source": [
    "filename = \"input.txt\"\r\n",
    "\r\n",
    "mode = 0\r\n",
    "modeVal = 0\r\n",
    "prevData = 0\r\n",
    "medianVal = 0\r\n",
    "\r\n",
    "with open(filename, \"r\") as f:\r\n",
    "    contentString = f.read()\r\n",
    "    listOfData = contentString.split(\"\\n\")\r\n",
    "    for i in range(len(listOfData)):\r\n",
    "        listOfData[i] = int(listOfData[i])\r\n",
    "\r\n",
    "    count = 0\r\n",
    "    for data in listOfData:\r\n",
    "        if(data == prevData):\r\n",
    "            count += 1 \r\n",
    "            if(count >= mode):\r\n",
    "                mode = count\r\n",
    "                modeVal = data\r\n",
    "        else:\r\n",
    "            count = 0\r\n",
    "\r\n",
    "    if(len(listOfData)%2 == 1):\r\n",
    "        medianVal = listOfData[len(listOfData)//2]\r\n",
    "    else:\r\n",
    "        medianVal = (listOfData[len(listOfData)//2]+ listOfData[len(listOfData)//2 +1]) /2\r\n",
    "\r\n",
    "\r\n",
    "    print(f\"median: {medianVal} \\n mode: {modeVal}\")\r\n",
    "\r\n",
    "\r\n"
   ],
   "outputs": [
    {
     "output_type": "stream",
     "name": "stdout",
     "text": [
      "median: 7.5 \n",
      " mode: 0\n"
     ]
    }
   ],
   "metadata": {}
  },
  {
   "cell_type": "code",
   "execution_count": 6,
   "source": [
    "\r\n",
    "filename = input(\"Please input a file name: \")\r\n",
    "with open(filename) as filestream:\r\n",
    "    contentString = filestream.read()\r\n",
    "\r\n",
    "    data = contentString.split('\\n')\r\n",
    "\r\n",
    "    print(\"Number of lines in the file:\" ,  len(data))\r\n",
    "\r\n",
    "    line = input(\"Please input a file name: \")\r\n",
    "    if(line != \"0\" and int(line) <= len(data)):\r\n",
    "        print(data[int(line)-1])"
   ],
   "outputs": [
    {
     "output_type": "stream",
     "name": "stdout",
     "text": [
      "Number of lines in the file: 10\n",
      "2\n"
     ]
    }
   ],
   "metadata": {}
  },
  {
   "cell_type": "code",
   "execution_count": 17,
   "source": [
    "filename = input(\"Please input a file name: \")\r\n",
    "with open(filename) as filestream:\r\n",
    "    contentString = filestream.read()\r\n",
    "    data = contentString.split('\\n')\r\n",
    "\r\n",
    "    setVal = list(set(data))\r\n",
    "    setVal.sort()\r\n",
    "\r\n",
    "    # print(setVal)\r\n",
    "    \r\n",
    "    for val in setVal:\r\n",
    "        print(val)\r\n",
    "    \r\n"
   ],
   "outputs": [
    {
     "output_type": "stream",
     "name": "stdout",
     "text": [
      "1\n",
      "11\n",
      "13\n",
      "2\n",
      "3\n",
      "5\n",
      "7\n",
      "8\n",
      "9\n"
     ]
    }
   ],
   "metadata": {}
  },
  {
   "cell_type": "code",
   "execution_count": 39,
   "source": [
    "valueMap = {}\r\n",
    "\r\n",
    "filename = input(\"Please input a file name: \")\r\n",
    "with open(filename) as filestream:\r\n",
    "    contentString = filestream.read()\r\n",
    "    data = contentString.split('\\n')\r\n",
    "\r\n",
    "    for item in data:\r\n",
    "        if(not(item in valueMap.keys())):\r\n",
    "            valueMap[item] = 1\r\n",
    "        else:\r\n",
    "            valueMap[item] += 1\r\n",
    "    \r\n",
    "    \r\n",
    "\r\n",
    "    keyOrder = list(sorted(valueMap.keys()))\r\n",
    "    for keyVal in keyOrder:\r\n",
    "        print(keyVal, \":\", valueMap[keyVal]) \r\n",
    "    "
   ],
   "outputs": [
    {
     "output_type": "stream",
     "name": "stdout",
     "text": [
      "assignment : 4\n",
      "comment : 1\n",
      "concatenation : 1\n",
      "control : 2\n",
      "conversion : 1\n",
      "identifier : 1\n",
      "indentation : 3\n",
      "iteration : 1\n",
      "literal : 1\n",
      "module : 1\n",
      "parameter : 4\n",
      "selection : 1\n",
      "sequence : 1\n",
      "shell : 1\n",
      "space : 2\n",
      "white : 1\n"
     ]
    }
   ],
   "metadata": {}
  },
  {
   "cell_type": "markdown",
   "source": [
    "# 3C\r\n"
   ],
   "metadata": {}
  },
  {
   "cell_type": "code",
   "execution_count": 34,
   "source": [
    "valueMap = {}\r\n",
    "\r\n",
    "# filename = input(\"Please input a file name: \")\r\n",
    "filename = \"howcan.txt\"\r\n",
    "with open(filename) as filestream:\r\n",
    "    contentString = filestream.read()\r\n",
    "    data = contentString.split('\\n')\r\n",
    "\r\n",
    "    for item in data:\r\n",
    "        if(not(item in valueMap.keys())):\r\n",
    "            valueMap[item] = 1\r\n",
    "        else:\r\n",
    "            valueMap[item] += 1\r\n",
    "\r\n",
    "    maxvals = list(sorted([(k,v) for (k,v) in valueMap.items() if v == max(valueMap.values())]))\r\n",
    "\r\n",
    "    for k,v in maxvals:\r\n",
    "        print(k)\r\n",
    "\r\n",
    "    \r\n",
    "\r\n",
    "\r\n",
    "\r\n"
   ],
   "outputs": [
    {
     "output_type": "stream",
     "name": "stdout",
     "text": [
      "assignment\n",
      "parameter\n"
     ]
    }
   ],
   "metadata": {}
  },
  {
   "cell_type": "code",
   "execution_count": 30,
   "source": [
    "valueMap = {}\r\n",
    "maxwords = []\r\n",
    "# filename = input(\"Please input a file name: \")\r\n",
    "filename = \"howcan.txt\"\r\n",
    "with open(filename) as filestream:\r\n",
    "    contentString = filestream.read()\r\n",
    "    data = contentString.split('\\n')\r\n",
    "\r\n",
    "    for item in data:\r\n",
    "        if(not(item in valueMap.keys())):\r\n",
    "            valueMap[item] = 1\r\n",
    "        else:\r\n",
    "            valueMap[item] += 1\r\n",
    "\r\n",
    "    for key, value in valueMap.items():\r\n",
    "        if(value == max(valueMap.values())):\r\n",
    "            maxwords.append(key)\r\n",
    "    \r\n",
    "    maxwords.sort()\r\n",
    "\r\n",
    "    for val in maxwords:\r\n",
    "        print(val)\r\n",
    "\r\n",
    "    "
   ],
   "outputs": [
    {
     "output_type": "stream",
     "name": "stdout",
     "text": [
      "assignment\n",
      "parameter\n"
     ]
    }
   ],
   "metadata": {}
  },
  {
   "cell_type": "code",
   "execution_count": 32,
   "source": [
    "valueMap = {}\r\n",
    "maxwords = []\r\n",
    "# filename = input(\"Please input a file name: \")\r\n",
    "filename = \"howcan.txt\"\r\n",
    "with open(filename) as filestream:\r\n",
    "    contentString = filestream.read()\r\n",
    "    data = contentString.split('\\n')\r\n",
    "\r\n",
    "    for item in data:\r\n",
    "        if(not(item in valueMap.keys())):\r\n",
    "            valueMap[item] = 1\r\n",
    "        else:\r\n",
    "            valueMap[item] += 1\r\n",
    "\r\n",
    "    maxV = 0\r\n",
    "    for count in valueMap.values():\r\n",
    "        maxV = max(maxV, count)\r\n",
    "\r\n",
    "    for key, value in valueMap.items():\r\n",
    "        if(value == maxV):\r\n",
    "            maxwords.append(key)\r\n",
    "    \r\n",
    "    maxwords.sort()\r\n",
    "\r\n",
    "    for val in maxwords:\r\n",
    "        print(val)\r\n",
    "\r\n",
    "    "
   ],
   "outputs": [
    {
     "output_type": "stream",
     "name": "stdout",
     "text": [
      "assignment\n",
      "parameter\n"
     ]
    }
   ],
   "metadata": {}
  },
  {
   "cell_type": "code",
   "execution_count": null,
   "source": [],
   "outputs": [],
   "metadata": {}
  }
 ],
 "metadata": {
  "kernelspec": {
   "display_name": "Python 3.9.2 64-bit",
   "name": "python392jvsc74a57bd0d2990ea161ee6956a362087ffa53000b23fd3c21cc082d0b19467b0840579a3c"
  },
  "language_info": {
   "codemirror_mode": {
    "name": "ipython",
    "version": 3
   },
   "file_extension": ".py",
   "mimetype": "text/x-python",
   "name": "python",
   "nbconvert_exporter": "python",
   "pygments_lexer": "ipython3",
   "version": "3.9.2"
  },
  "orig_nbformat": 2
 },
 "nbformat": 4,
 "nbformat_minor": 2
}
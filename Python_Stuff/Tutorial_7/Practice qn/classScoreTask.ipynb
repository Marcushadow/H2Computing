{
 "metadata": {
  "language_info": {
   "codemirror_mode": {
    "name": "ipython",
    "version": 3
   },
   "file_extension": ".py",
   "mimetype": "text/x-python",
   "name": "python",
   "nbconvert_exporter": "python",
   "pygments_lexer": "ipython3",
   "version": "3.8.7"
  },
  "orig_nbformat": 2,
  "kernelspec": {
   "name": "python387jvsc74a57bd005b2220a26de58e0031cd0a7cbd64d94eaa84338873dc0e02216392d53d6f30f",
   "display_name": "Python 3.8.7 64-bit"
  },
  "metadata": {
   "interpreter": {
    "hash": "05b2220a26de58e0031cd0a7cbd64d94eaa84338873dc0e02216392d53d6f30f"
   }
  }
 },
 "nbformat": 4,
 "nbformat_minor": 2,
 "cells": [
  {
   "cell_type": "code",
   "execution_count": 35,
   "source": [
    "def grade(score):\r\n",
    "    if score >= 90:\r\n",
    "        return \"A\"\r\n",
    "    elif score >= 80:\r\n",
    "        return \"B\"\r\n",
    "    elif score >= 70:\r\n",
    "        return \"C\"\r\n",
    "    elif score >= 60:\r\n",
    "        return \"D\"\r\n",
    "    else:\r\n",
    "        return \"F\"\r\n",
    "\r\n",
    "\r\n",
    "filename = 'classScore.txt'\r\n",
    "\r\n",
    "names = []\r\n",
    "scores = []\r\n",
    "highestScore = []\r\n",
    "highestScorer = []\r\n",
    "\r\n",
    "with open(filename) as f:\r\n",
    "    line = f.readline()\r\n",
    "    while(line != ''):\r\n",
    "        values = line.split()\r\n",
    "        names.append(values[0])\r\n",
    "        scores.append(values[1:])\r\n",
    "        line = f.readline()\r\n",
    "\r\n",
    "print(\"Name\\t\\t|\\tTest 1\\t|\\tTest 2\\t|\\tTest 3\\t|\\tTest 4\\t|\\tTest 5\\t|\\tAverage Grade\\t|\")\r\n",
    "for i in range(len(names)):\r\n",
    "    sumScores = 0\r\n",
    "    print(names[i]+\"\\t\\t|\", end=\"\")\r\n",
    "    for j in range(len(scores[i])):\r\n",
    "        # printing the original\r\n",
    "        indivScore = int(scores[i][j])\r\n",
    "        print(f\"\\t{grade(indivScore)}\\t|\", end=\"\")\r\n",
    "        sumScores += indivScore\r\n",
    "\r\n",
    "        # highest per test\r\n",
    "        if len(highestScore) == j:\r\n",
    "            highestScore.append(indivScore)\r\n",
    "            highestScorer.append(names[i])\r\n",
    "        elif(indivScore > highestScore[j]):\r\n",
    "            highestScore[j] = indivScore\r\n",
    "            highestScorer[j] = names[i]\r\n",
    "\r\n",
    "\r\n",
    "    print(f\"\\t{grade(sumScores/5)}\\t\\t|\")\r\n",
    "\r\n",
    "print(f\"Highest Score\\t|\", end='')\r\n",
    "for score in highestScore:\r\n",
    "    print(\"\\t\" + str(score), end='\\t|')\r\n",
    "print()\r\n",
    "print(f\"Highest Scorer\\t|\", end='')\r\n",
    "for Scorer in highestScorer:\r\n",
    "    print(\"\\t\" + str(Scorer), end='\\t|')\r\n"
   ],
   "outputs": [
    {
     "output_type": "stream",
     "name": "stdout",
     "text": [
      "Name\t\t|\tTest 1\t|\tTest 2\t|\tTest 3\t|\tTest 4\t|\tTest 5\t|\tAverage Grade\t|\n",
      "Trisha\t\t|\tF\t|\tB\t|\tF\t|\tF\t|\tB\t|\tF\t\t|\n",
      "Mark\t\t|\tC\t|\tA\t|\tF\t|\tC\t|\tF\t|\tD\t\t|\n",
      "Guinny\t\t|\tF\t|\tC\t|\tF\t|\tD\t|\tC\t|\tD\t\t|\n",
      "Highest Score\t|\t76\t|\t98\t|\t56\t|\t76\t|\t85\t|\n",
      "Highest Scorer\t|\tMark\t|\tMark\t|\tGuinny\t|\tMark\t|\tTrisha\t|"
     ]
    }
   ],
   "metadata": {
    "tags": []
   }
  },
  {
   "cell_type": "code",
   "execution_count": null,
   "source": [],
   "outputs": [],
   "metadata": {}
  }
 ]
}
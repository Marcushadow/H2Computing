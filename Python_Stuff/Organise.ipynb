{
 "metadata": {
  "language_info": {
   "codemirror_mode": {
    "name": "ipython",
    "version": 3
   },
   "file_extension": ".py",
   "mimetype": "text/x-python",
   "name": "python",
   "nbconvert_exporter": "python",
   "pygments_lexer": "ipython3",
   "version": "3.8.7"
  },
  "orig_nbformat": 4,
  "kernelspec": {
   "name": "python3",
   "display_name": "Python 3.8.7 64-bit"
  },
  "interpreter": {
   "hash": "05b2220a26de58e0031cd0a7cbd64d94eaa84338873dc0e02216392d53d6f30f"
  }
 },
 "nbformat": 4,
 "nbformat_minor": 2,
 "cells": [
  {
   "cell_type": "code",
   "execution_count": 1,
   "metadata": {},
   "outputs": [],
   "source": [
    "import json"
   ]
  },
  {
   "cell_type": "code",
   "execution_count": null,
   "metadata": {},
   "outputs": [],
   "source": []
  },
  {
   "cell_type": "code",
   "execution_count": 5,
   "metadata": {
    "tags": []
   },
   "outputs": [],
   "source": [
    "trainDir = \"./train.json\"\n",
    "hiddenDir = \"./c1_hidden/labels.json\"\n",
    "valDir = \"./val.json\"\n",
    "data = \"\"\n",
    "hidden_data = \"\"\n",
    "\n",
    "\n",
    "\n",
    "with open(trainDir) as json_file:\n",
    "    global data\n",
    "    data = json.load(json_file)\n",
    "\n"
   ]
  },
  {
   "cell_type": "code",
   "execution_count": 6,
   "metadata": {
    "tags": []
   },
   "outputs": [],
   "source": [
    "with open(hiddenDir) as json_file:\n",
    "    global hidden_data\n",
    "    hidden_data = json.load(json_file)\n",
    "\n",
    "    \n",
    "\n",
    "    # data['images'].extend(hidden_data['images'])"
   ]
  },
  {
   "cell_type": "code",
   "execution_count": 20,
   "metadata": {},
   "outputs": [],
   "source": [
    "for image in hidden_data['images']:\n",
    "    image['id'] += data['images'][-1]['id']\n",
    "    "
   ]
  },
  {
   "cell_type": "code",
   "execution_count": 26,
   "metadata": {},
   "outputs": [],
   "source": [
    "data['images'].extend(hidden_data['images'])"
   ]
  },
  {
   "cell_type": "code",
   "execution_count": 27,
   "metadata": {},
   "outputs": [
    {
     "output_type": "execute_result",
     "data": {
      "text/plain": [
       "4707"
      ]
     },
     "metadata": {},
     "execution_count": 27
    }
   ],
   "source": [
    "len(data['images'])"
   ]
  },
  {
   "cell_type": "code",
   "execution_count": 38,
   "metadata": {},
   "outputs": [
    {
     "output_type": "execute_result",
     "data": {
      "text/plain": [
       "5571"
      ]
     },
     "metadata": {},
     "execution_count": 38
    }
   ],
   "source": [
    "len(data['annotations'])"
   ]
  },
  {
   "cell_type": "code",
   "execution_count": 28,
   "metadata": {},
   "outputs": [],
   "source": [
    "for image in hidden_data['annotations']:\n",
    "    image['id'] += data['annotations'][-1]['id']\n",
    "    "
   ]
  },
  {
   "cell_type": "code",
   "execution_count": 45,
   "metadata": {},
   "outputs": [
    {
     "output_type": "execute_result",
     "data": {
      "text/plain": [
       "728"
      ]
     },
     "metadata": {},
     "execution_count": 45
    }
   ],
   "source": [
    "len(hidden_data['annotations'])"
   ]
  },
  {
   "cell_type": "code",
   "execution_count": 31,
   "metadata": {},
   "outputs": [],
   "source": [
    "data['annotations'].extend(hidden_data['annotations'])"
   ]
  },
  {
   "cell_type": "code",
   "execution_count": 38,
   "metadata": {
    "tags": [
     "outputPrepend"
    ]
   },
   "outputs": [
    {
     "output_type": "stream",
     "name": "stdout",
     "text": [
      "ntation\": [],\n            \"area\": 2813.0,\n            \"bbox\": [\n                738.0,\n                337.0,\n                97.0,\n                29.0\n            ],\n            \"iscrowd\": 0,\n            \"attributes\": {\n                \"occluded\": false\n            }\n        },\n        {\n            \"id\": 6250,\n            \"image_id\": 470,\n            \"category_id\": 3,\n            \"segmentation\": [],\n            \"area\": 8704.0,\n            \"bbox\": [\n                643.0,\n                412.0,\n                128.0,\n                68.0\n            ],\n            \"iscrowd\": 0,\n            \"attributes\": {\n                \"occluded\": false\n            }\n        },\n        {\n            \"id\": 6251,\n            \"image_id\": 470,\n            \"category_id\": 3,\n            \"segmentation\": [],\n            \"area\": 4080.0,\n            \"bbox\": [\n                638.0,\n                300.0,\n                60.0,\n                68.0\n            ],\n            \"iscrowd\": 0,\n            \"attributes\": {\n                \"occluded\": false\n            }\n        },\n        {\n            \"id\": 6252,\n            \"image_id\": 470,\n            \"category_id\": 3,\n            \"segmentation\": [],\n            \"area\": 2688.0,\n            \"bbox\": [\n                471.0,\n                452.0,\n                48.0,\n                56.0\n            ],\n            \"iscrowd\": 0,\n            \"attributes\": {\n                \"occluded\": false\n            }\n        },\n        {\n            \"id\": 6253,\n            \"image_id\": 470,\n            \"category_id\": 3,\n            \"segmentation\": [],\n            \"area\": 5136.0,\n            \"bbox\": [\n                136.0,\n                389.0,\n                107.0,\n                48.0\n            ],\n            \"iscrowd\": 0,\n            \"attributes\": {\n                \"occluded\": false\n            }\n        },\n        {\n            \"id\": 6254,\n            \"image_id\": 470,\n            \"category_id\": 3,\n            \"segmentation\": [],\n            \"area\": 14580.0,\n            \"bbox\": [\n                166.0,\n                296.0,\n                162.0,\n                90.0\n            ],\n            \"iscrowd\": 0,\n            \"attributes\": {\n                \"occluded\": false\n            }\n        },\n        {\n            \"id\": 6255,\n            \"image_id\": 470,\n            \"category_id\": 3,\n            \"segmentation\": [],\n            \"area\": 4389.0,\n            \"bbox\": [\n                280.0,\n                375.0,\n                77.0,\n                57.0\n            ],\n            \"iscrowd\": 0,\n            \"attributes\": {\n                \"occluded\": false\n            }\n        },\n        {\n            \"id\": 6256,\n            \"image_id\": 470,\n            \"category_id\": 3,\n            \"segmentation\": [],\n            \"area\": 2320.0,\n            \"bbox\": [\n                317.0,\n                562.0,\n                58.0,\n                40.0\n            ],\n            \"iscrowd\": 0,\n            \"attributes\": {\n                \"occluded\": false\n            }\n        },\n        {\n            \"id\": 6257,\n            \"image_id\": 470,\n            \"category_id\": 3,\n            \"segmentation\": [],\n            \"area\": 4800.0,\n            \"bbox\": [\n                325.0,\n                339.0,\n                80.0,\n                60.0\n            ],\n            \"iscrowd\": 0,\n            \"attributes\": {\n                \"occluded\": false\n            }\n        },\n        {\n            \"id\": 6258,\n            \"image_id\": 470,\n            \"category_id\": 3,\n            \"segmentation\": [],\n            \"area\": 2688.0,\n            \"bbox\": [\n                486.0,\n                223.0,\n                42.0,\n                64.0\n            ],\n            \"iscrowd\": 0,\n            \"attributes\": {\n                \"occluded\": false\n            }\n        },\n        {\n            \"id\": 6259,\n            \"image_id\": 470,\n            \"category_id\": 3,\n            \"segmentation\": [],\n            \"area\": 3658.0,\n            \"bbox\": [\n                621.0,\n                195.0,\n                59.0,\n                62.0\n            ],\n            \"iscrowd\": 0,\n            \"attributes\": {\n                \"occluded\": false\n            }\n        },\n        {\n            \"id\": 6260,\n            \"image_id\": 471,\n            \"category_id\": 3,\n            \"segmentation\": [],\n            \"area\": 35096.0,\n            \"bbox\": [\n                541.0,\n                314.0,\n                164.0,\n                214.0\n            ],\n            \"iscrowd\": 0,\n            \"attributes\": {\n                \"occluded\": false\n            }\n        },\n        {\n            \"id\": 6261,\n            \"image_id\": 472,\n            \"category_id\": 4,\n            \"segmentation\": [],\n            \"area\": 248820.0,\n            \"bbox\": [\n                113.0,\n                108.0,\n                435.0,\n                572.0\n            ],\n            \"iscrowd\": 0,\n            \"attributes\": {\n                \"occluded\": false\n            }\n        },\n        {\n            \"id\": 6262,\n            \"image_id\": 473,\n            \"category_id\": 5,\n            \"segmentation\": [],\n            \"area\": 476615.0,\n            \"bbox\": [\n                134.0,\n                134.0,\n                865.0,\n                551.0\n            ],\n            \"iscrowd\": 0,\n            \"attributes\": {\n                \"occluded\": false\n            }\n        },\n        {\n            \"id\": 6263,\n            \"image_id\": 474,\n            \"category_id\": 5,\n            \"segmentation\": [],\n            \"area\": 773959.0,\n            \"bbox\": [\n                121.0,\n                163.0,\n                901.0,\n                859.0\n            ],\n            \"iscrowd\": 0,\n            \"attributes\": {\n                \"occluded\": false\n            }\n        },\n        {\n            \"id\": 6264,\n            \"image_id\": 475,\n            \"category_id\": 1,\n            \"segmentation\": [],\n            \"area\": 812262.0,\n            \"bbox\": [\n                0.0,\n                0.0,\n                794.0,\n                1023.0\n            ],\n            \"iscrowd\": 0,\n            \"attributes\": {\n                \"occluded\": false\n            }\n        },\n        {\n            \"id\": 6265,\n            \"image_id\": 476,\n            \"category_id\": 5,\n            \"segmentation\": [],\n            \"area\": 502293.0,\n            \"bbox\": [\n                0.0,\n                51.0,\n                1023.0,\n                491.0\n            ],\n            \"iscrowd\": 0,\n            \"attributes\": {\n                \"occluded\": false\n            }\n        },\n        {\n            \"id\": 6266,\n            \"image_id\": 477,\n            \"category_id\": 4,\n            \"segmentation\": [],\n            \"area\": 87890.0,\n            \"bbox\": [\n                353.0,\n                447.0,\n                374.0,\n                235.0\n            ],\n            \"iscrowd\": 0,\n            \"attributes\": {\n                \"occluded\": false\n            }\n        },\n        {\n            \"id\": 6267,\n            \"image_id\": 477,\n            \"category_id\": 4,\n            \"segmentation\": [],\n            \"area\": 66878.0,\n            \"bbox\": [\n                590.0,\n                204.0,\n                238.0,\n                281.0\n            ],\n            \"iscrowd\": 0,\n            \"attributes\": {\n                \"occluded\": false\n            }\n        },\n        {\n            \"id\": 6268,\n            \"image_id\": 477,\n            \"category_id\": 4,\n            \"segmentation\": [],\n            \"area\": 73948.0,\n            \"bbox\": [\n                592.0,\n                404.0,\n                266.0,\n                278.0\n            ],\n            \"iscrowd\": 0,\n            \"attributes\": {\n                \"occluded\": false\n            }\n        },\n        {\n            \"id\": 6269,\n            \"image_id\": 478,\n            \"category_id\": 3,\n            \"segmentation\": [],\n            \"area\": 46494.0,\n            \"bbox\": [\n                545.0,\n                215.0,\n                162.0,\n                287.0\n            ],\n            \"iscrowd\": 0,\n            \"attributes\": {\n                \"occluded\": false\n            }\n        },\n        {\n            \"id\": 6270,\n            \"image_id\": 479,\n            \"category_id\": 3,\n            \"segmentation\": [],\n            \"area\": 407490.0,\n            \"bbox\": [\n                188.0,\n                96.0,\n                578.0,\n                705.0\n            ],\n            \"iscrowd\": 0,\n            \"attributes\": {\n                \"occluded\": false\n            }\n        },\n        {\n            \"id\": 6271,\n            \"image_id\": 480,\n            \"category_id\": 3,\n            \"segmentation\": [],\n            \"area\": 143736.0,\n            \"bbox\": [\n                157.0,\n                61.0,\n                318.0,\n                452.0\n            ],\n            \"iscrowd\": 0,\n            \"attributes\": {\n                \"occluded\": false\n            }\n        },\n        {\n            \"id\": 6272,\n            \"image_id\": 481,\n            \"category_id\": 3,\n            \"segmentation\": [],\n            \"area\": 146985.0,\n            \"bbox\": [\n                435.0,\n                305.0,\n                239.0,\n                615.0\n            ],\n            \"iscrowd\": 0,\n            \"attributes\": {\n                \"occluded\": false\n            }\n        },\n        {\n            \"id\": 6273,\n            \"image_id\": 482,\n            \"category_id\": 3,\n            \"segmentation\": [],\n            \"area\": 291200.0,\n            \"bbox\": [\n                82.0,\n                135.0,\n                520.0,\n                560.0\n            ],\n            \"iscrowd\": 0,\n            \"attributes\": {\n                \"occluded\": false\n            }\n        },\n        {\n            \"id\": 6274,\n            \"image_id\": 483,\n            \"category_id\": 3,\n            \"segmentation\": [],\n            \"area\": 159372.0,\n            \"bbox\": [\n                374.0,\n                258.0,\n                342.0,\n                466.0\n            ],\n            \"iscrowd\": 0,\n            \"attributes\": {\n                \"occluded\": false\n            }\n        },\n        {\n            \"id\": 6275,\n            \"image_id\": 484,\n            \"category_id\": 4,\n            \"segmentation\": [],\n            \"area\": 121124.0,\n            \"bbox\": [\n                238.0,\n                203.0,\n                428.0,\n                283.0\n            ],\n            \"iscrowd\": 0,\n            \"attributes\": {\n                \"occluded\": false\n            }\n        },\n        {\n            \"id\": 6276,\n            \"image_id\": 485,\n            \"category_id\": 4,\n            \"segmentation\": [],\n            \"area\": 412508.0,\n            \"bbox\": [\n                289.0,\n                205.0,\n                734.0,\n                562.0\n            ],\n            \"iscrowd\": 0,\n            \"attributes\": {\n                \"occluded\": false\n            }\n        },\n        {\n            \"id\": 6277,\n            \"image_id\": 485,\n            \"category_id\": 4,\n            \"segmentation\": [],\n            \"area\": 358810.0,\n            \"bbox\": [\n                181.0,\n                3.0,\n                677.0,\n                530.0\n            ],\n            \"iscrowd\": 0,\n            \"attributes\": {\n                \"occluded\": false\n            }\n        },\n        {\n            \"id\": 6278,\n            \"image_id\": 486,\n            \"category_id\": 3,\n            \"segmentation\": [],\n            \"area\": 4320.0,\n            \"bbox\": [\n                135.0,\n                173.0,\n                96.0,\n                45.0\n            ],\n            \"iscrowd\": 0,\n            \"attributes\": {\n                \"occluded\": false\n            }\n        },\n        {\n            \"id\": 6279,\n            \"image_id\": 486,\n            \"category_id\": 3,\n            \"segmentation\": [],\n            \"area\": 27716.0,\n            \"bbox\": [\n                781.0,\n                122.0,\n                169.0,\n                164.0\n            ],\n            \"iscrowd\": 0,\n            \"attributes\": {\n                \"occluded\": false\n            }\n        },\n        {\n            \"id\": 6280,\n            \"image_id\": 486,\n            \"category_id\": 3,\n            \"segmentation\": [],\n            \"area\": 4469.0,\n            \"bbox\": [\n                81.0,\n                294.0,\n                109.0,\n                41.0\n            ],\n            \"iscrowd\": 0,\n            \"attributes\": {\n                \"occluded\": false\n            }\n        },\n        {\n            \"id\": 6281,\n            \"image_id\": 486,\n            \"category_id\": 3,\n            \"segmentation\": [],\n            \"area\": 9900.0,\n            \"bbox\": [\n                235.0,\n                506.0,\n                165.0,\n                60.0\n            ],\n            \"iscrowd\": 0,\n            \"attributes\": {\n                \"occluded\": false\n            }\n        },\n        {\n            \"id\": 6282,\n            \"image_id\": 487,\n            \"category_id\": 4,\n            \"segmentation\": [],\n            \"area\": 141056.0,\n            \"bbox\": [\n                218.0,\n                94.0,\n                256.0,\n                551.0\n            ],\n            \"iscrowd\": 0,\n            \"attributes\": {\n                \"occluded\": false\n            }\n        },\n        {\n            \"id\": 6283,\n            \"image_id\": 487,\n            \"category_id\": 4,\n            \"segmentation\": [],\n            \"area\": 112271.0,\n            \"bbox\": [\n                651.0,\n                0.0,\n                361.0,\n                311.0\n            ],\n            \"iscrowd\": 0,\n            \"attributes\": {\n                \"occluded\": false\n            }\n        },\n        {\n            \"id\": 6284,\n            \"image_id\": 488,\n            \"category_id\": 4,\n            \"segmentation\": [],\n            \"area\": 1021098.0,\n            \"bbox\": [\n                0.0,\n                0.0,\n                1014.0,\n                1007.0\n            ],\n            \"iscrowd\": 0,\n            \"attributes\": {\n                \"occluded\": false\n            }\n        },\n        {\n            \"id\": 6285,\n            \"image_id\": 489,\n            \"category_id\": 3,\n            \"segmentation\": [],\n            \"area\": 32361.0,\n            \"bbox\": [\n                433.0,\n                247.0,\n                161.0,\n                201.0\n            ],\n            \"iscrowd\": 0,\n            \"attributes\": {\n                \"occluded\": false\n            }\n        },\n        {\n            \"id\": 6286,\n            \"image_id\": 490,\n            \"category_id\": 4,\n            \"segmentation\": [],\n            \"area\": 416745.0,\n            \"bbox\": [\n                52.0,\n                115.0,\n                735.0,\n                567.0\n            ],\n            \"iscrowd\": 0,\n            \"attributes\": {\n                \"occluded\": false\n            }\n        },\n        {\n            \"id\": 6287,\n            \"image_id\": 491,\n            \"category_id\": 3,\n            \"segmentation\": [],\n            \"area\": 224407.0,\n            \"bbox\": [\n                91.0,\n                71.0,\n                643.0,\n                349.0\n            ],\n            \"iscrowd\": 0,\n            \"attributes\": {\n                \"occluded\": false\n            }\n        },\n        {\n            \"id\": 6288,\n            \"image_id\": 492,\n            \"category_id\": 4,\n            \"segmentation\": [],\n            \"area\": 722832.0,\n            \"bbox\": [\n                208.0,\n                134.0,\n                814.0,\n                888.0\n            ],\n            \"iscrowd\": 0,\n            \"attributes\": {\n                \"occluded\": false\n            }\n        },\n        {\n            \"id\": 6289,\n            \"image_id\": 493,\n            \"category_id\": 4,\n            \"segmentation\": [],\n            \"area\": 27244.0,\n            \"bbox\": [\n                266.0,\n                77.0,\n                139.0,\n                196.0\n            ],\n            \"iscrowd\": 0,\n            \"attributes\": {\n                \"occluded\": false\n            }\n        },\n        {\n            \"id\": 6290,\n            \"image_id\": 493,\n            \"category_id\": 1,\n            \"segmentation\": [],\n            \"area\": 93201.815,\n            \"bbox\": [\n                18.47,\n                229.82,\n                424.9,\n                219.35\n            ],\n            \"iscrowd\": 0,\n            \"attributes\": {\n                \"occluded\": false\n            }\n        },\n        {\n            \"id\": 6291,\n            \"image_id\": 493,\n            \"category_id\": 4,\n            \"segmentation\": [],\n            \"area\": 35250.0,\n            \"bbox\": [\n                361.0,\n                1.0,\n                125.0,\n                282.0\n            ],\n            \"iscrowd\": 0,\n            \"attributes\": {\n                \"occluded\": false\n            }\n        },\n        {\n            \"id\": 6292,\n            \"image_id\": 494,\n            \"category_id\": 2,\n            \"segmentation\": [],\n            \"area\": 15570.0,\n            \"bbox\": [\n                510.0,\n                533.0,\n                90.0,\n                173.0\n            ],\n            \"iscrowd\": 0,\n            \"attributes\": {\n                \"occluded\": false\n            }\n        },\n        {\n            \"id\": 6293,\n            \"image_id\": 495,\n            \"category_id\": 2,\n            \"segmentation\": [],\n            \"area\": 33976.0,\n            \"bbox\": [\n                273.0,\n                511.0,\n                248.0,\n                137.0\n            ],\n            \"iscrowd\": 0,\n            \"attributes\": {\n                \"occluded\": false\n            }\n        },\n        {\n            \"id\": 6294,\n            \"image_id\": 496,\n            \"category_id\": 5,\n            \"segmentation\": [],\n            \"area\": 92726.0,\n            \"bbox\": [\n                0.0,\n                285.0,\n                653.0,\n                142.0\n            ],\n            \"iscrowd\": 0,\n            \"attributes\": {\n                \"occluded\": false\n            }\n        },\n        {\n            \"id\": 6295,\n            \"image_id\": 497,\n            \"category_id\": 2,\n            \"segmentation\": [],\n            \"area\": 200184.0,\n            \"bbox\": [\n                380.0,\n                0.0,\n                439.0,\n                456.0\n            ],\n            \"iscrowd\": 0,\n            \"attributes\": {\n                \"occluded\": false\n            }\n        },\n        {\n            \"id\": 6296,\n            \"image_id\": 498,\n            \"category_id\": 5,\n            \"segmentation\": [],\n            \"area\": 590433.0,\n            \"bbox\": [\n                3.0,\n                72.0,\n                989.0,\n                597.0\n            ],\n            \"iscrowd\": 0,\n            \"attributes\": {\n                \"occluded\": false\n            }\n        },\n        {\n            \"id\": 6297,\n            \"image_id\": 499,\n            \"category_id\": 4,\n            \"segmentation\": [],\n            \"area\": 300245.0,\n            \"bbox\": [\n                506.0,\n                184.0,\n                515.0,\n                583.0\n            ],\n            \"iscrowd\": 0,\n            \"attributes\": {\n                \"occluded\": false\n            }\n        },\n        {\n            \"id\": 6298,\n            \"image_id\": 499,\n            \"category_id\": 4,\n            \"segmentation\": [],\n            \"area\": 216240.0,\n            \"bbox\": [\n                49.0,\n                42.0,\n                424.0,\n                510.0\n            ],\n            \"iscrowd\": 0,\n            \"attributes\": {\n                \"occluded\": false\n            }\n        },\n        {\n            \"id\": 6299,\n            \"image_id\": 500,\n            \"category_id\": 5,\n            \"segmentation\": [],\n            \"area\": 120192.0,\n            \"bbox\": [\n                462.0,\n                8.0,\n                313.0,\n                384.0\n            ],\n            \"iscrowd\": 0,\n            \"attributes\": {\n                \"occluded\": false\n            }\n        }\n    ]\n}\n"
     ]
    }
   ],
   "source": [
    "print(json.dumps(data, indent=4))"
   ]
  },
  {
   "cell_type": "code",
   "execution_count": 41,
   "metadata": {},
   "outputs": [],
   "source": [
    "with open('combined.json', 'w') as writeFile:\n",
    "    json.dump(data, writeFile)"
   ]
  },
  {
   "cell_type": "code",
   "execution_count": 44,
   "metadata": {},
   "outputs": [
    {
     "output_type": "stream",
     "name": "stdout",
     "text": [
      "6299\n"
     ]
    }
   ],
   "source": [
    "with open('combined.json') as file_json:\n",
    "    newData = json.load(file_json)\n",
    "    print(len(newData['annotations']))"
   ]
  },
  {
   "cell_type": "code",
   "execution_count": null,
   "metadata": {},
   "outputs": [],
   "source": []
  }
 ]
}
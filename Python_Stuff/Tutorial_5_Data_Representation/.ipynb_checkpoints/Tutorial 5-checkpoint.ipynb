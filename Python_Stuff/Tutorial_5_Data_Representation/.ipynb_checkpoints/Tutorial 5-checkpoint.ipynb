{
 "cells": [
  {
   "cell_type": "markdown",
   "id": "forty-river",
   "metadata": {},
   "source": [
    "1a)\n",
    "\n",
    "    Binary -> 1010\n",
    "\n",
    "    Decimal -> (1 * 2^3)(0 * 2^2)(1 * 2^1)(0 * 2^0)\n",
    "            -> 10\n",
    "\n",
    "1b)\n",
    "\n",
    "    Binary -> 11111111\n",
    "    \n",
    "    Decimal -> 1 + 2 + 4 + 8 + 16 + 32 + 64 + 128\n",
    "            -> 255\n",
    "    \n",
    "1c)\n",
    "    \n",
    "    Binary -> 10111\n",
    "   \n",
    "    Decimal -> 1 + 2 + 4 + 16\n",
    "            -> 23\n",
    "    \n"
   ]
  },
  {
   "cell_type": "markdown",
   "id": "signed-success",
   "metadata": {},
   "source": [
    "2a)\n",
    "\n",
    "    Denary -> 27\n",
    "    \n",
    "        27 / 2 = 13 R 1\n",
    "        13 / 2 = 6 R 1\n",
    "         6 / 2 = 3 R 0\n",
    "         3 / 2 = 1 R 1\n",
    "         1 / 2 = 0 R 1\n",
    "         \n",
    "    Binary -> 11011\n",
    "    \n",
    "    1B\n",
    "    \n",
    "2b)\n",
    "\n",
    "    Denary -> 128\n",
    "    \n",
    "    Binary -> 1000000\n",
    "    \n",
    "    80\n",
    "2c)\n",
    "\n",
    "    Denary -> 63\n",
    "    \n",
    "    Binary -> 111111\n",
    "\n",
    "    3F"
   ]
  },
  {
   "cell_type": "markdown",
   "id": "active-regulation",
   "metadata": {},
   "source": [
    "3a)\n",
    "\n",
    "    Binary -> 10110\n",
    "    \n",
    "    HexaDecimal -> 16\n",
    "\n",
    "3b)\n",
    "\n",
    "    Binary -> 10101011\n",
    "    \n",
    "    HexaDecimal -> AB\n",
    "    \n",
    "3c)\n",
    "\n",
    "    Binary -> 11100111\n",
    "    \n",
    "    HexaDecimal -> E7"
   ]
  },
  {
   "cell_type": "markdown",
   "id": "superb-clerk",
   "metadata": {},
   "source": [
    "4a)\n",
    "\n",
    "    HexaDecimal -> 279\n",
    "    Binary -> 10 0111 1001\n",
    "    \n",
    "4b)\n",
    "\n",
    "    HexaDecimal -> FF60\n",
    "    Binary -> 1111 1111 0110 0000\n",
    "\n",
    "4c)\n",
    "\n",
    "    HexaDecimal -> B48\n",
    "    Binary -> 1011 0100 1000"
   ]
  },
  {
   "cell_type": "markdown",
   "id": "frank-disco",
   "metadata": {},
   "source": [
    "5a)\n",
    "\n",
    "    Ascii Decimal -> 73 81\n",
    "    Binary ->  0100 1001 0101 0001\n",
    "\n",
    "5b)\n",
    "\n",
    "    Ascii Decimal -> 98 101\n",
    "    Binary -> 0110 0010 0110 0101\n",
    "\n",
    "5c)\n",
    "\n",
    "    Ascii Decimal -> 49 50 51 52\n",
    "    Binary -> 0011 0001 0011 0010 0011 0011 0011 0100"
   ]
  },
  {
   "cell_type": "code",
   "execution_count": 22,
   "id": "molecular-underwear",
   "metadata": {},
   "outputs": [
    {
     "name": "stdout",
     "output_type": "stream",
     "text": [
      "65 66\n"
     ]
    }
   ],
   "source": [
    "print(ord(\"A\") , ord(\"B\"))"
   ]
  },
  {
   "cell_type": "markdown",
   "id": "proof-force",
   "metadata": {},
   "source": [
    "Tutorial 5B\n",
    "---\n",
    "\n",
    "---\n",
    "To check the validity of the data provided\n",
    "\n",
    "---\n",
    "This method is inadequate as it is easily derived taken advantage of\n",
    "\n",
    "---\n",
    "Use the mod 11 check digit methodology\n",
    "- Multiply each value by a specific weight\n",
    "- Sum up the product of the first step\n",
    "- Take the remainder and divide the values by 11 to obtain the remainder\n",
    "- subtract the remainder from 11\n",
    "- each value could correspond to a letter and append the letter to the back\n",
    "---"
   ]
  },
  {
   "cell_type": "markdown",
   "id": "brief-cutting",
   "metadata": {},
   "source": [
    "Assignment 5\n",
    "---"
   ]
  },
  {
   "cell_type": "markdown",
   "id": "different-medium",
   "metadata": {},
   "source": [
    "Assignment 1a -> binaryToDecimal"
   ]
  },
  {
   "cell_type": "code",
   "execution_count": 29,
   "id": "cultural-democracy",
   "metadata": {},
   "outputs": [],
   "source": [
    "def binaryToDecimal(val):\n",
    "    string_val = str(val)\n",
    "    returnValue = 0\n",
    "    for i in range(len(string_val), 0, -1):\n",
    "        indexPos = i - 1\n",
    "        charVal = int(string_val[indexPos])\n",
    "        returnValue += charVal * 2**(len(string_val) - i)\n",
    "    return returnValue\n",
    "\n",
    "# Recursive\n",
    "\n",
    "# 110110110\n",
    "def bestBinToDec(binary):\n",
    "    return int(str(binary), base=2)\n",
    "\n",
    "def binary_to_decimal(num, iterations = 0):\n",
    "    stringVal = str(num)\n",
    "    if(len(stringVal) == 1):\n",
    "        return int(num) * 2**iterations\n",
    "    else:\n",
    "        return (binary_to_decimal(int(stringVal[0: -1]), iterations = iterations + 1) + (int(stringVal[-1]) * 2**iterations))\n",
    "\n"
   ]
  },
  {
   "cell_type": "code",
   "execution_count": 30,
   "id": "sensitive-carrier",
   "metadata": {},
   "outputs": [
    {
     "data": {
      "text/plain": [
       "10"
      ]
     },
     "execution_count": 30,
     "metadata": {},
     "output_type": "execute_result"
    }
   ],
   "source": [
    "bestBinToDec(1010)"
   ]
  },
  {
   "cell_type": "markdown",
   "id": "liable-horror",
   "metadata": {},
   "source": [
    "Assignment 1b - decimalToHex"
   ]
  },
  {
   "cell_type": "code",
   "execution_count": 41,
   "id": "american-medline",
   "metadata": {},
   "outputs": [],
   "source": [
    "def decimalToHex(val):\n",
    "    indexing = \"0123456789ABCDEF\"\n",
    "    HexVal = \"\"\n",
    "    while(val > 0):\n",
    "        remainder = val%16\n",
    "        val //= 16\n",
    "        HexVal = indexing[remainder] + HexVal\n",
    "        \n",
    "    HexVal = HexVal if HexVal else \"0\"\n",
    "    return HexVal\n",
    "\n",
    "def dec_to_bin(n):\n",
    "    binary = ''\n",
    "    if n == 0:\n",
    "        return ''\n",
    "    else:\n",
    "        return dec_to_bin(n//2) + str(n%2)\n",
    "\n",
    "def dec_to_hex(n):\n",
    "    key='0123456789ABCDEF'\n",
    "    hexn = ''\n",
    "    if n == 0 :\n",
    "        return 0\n",
    "    while n>0:\n",
    "        hexn = key[n%16] + hexn\n",
    "        n//=16\n",
    "    return hexn\n"
   ]
  },
  {
   "cell_type": "code",
   "execution_count": 42,
   "id": "ready-istanbul",
   "metadata": {},
   "outputs": [
    {
     "data": {
      "text/plain": [
       "'0'"
      ]
     },
     "execution_count": 42,
     "metadata": {},
     "output_type": "execute_result"
    }
   ],
   "source": [
    "decimalToHex(0)"
   ]
  },
  {
   "cell_type": "markdown",
   "id": "ideal-providence",
   "metadata": {},
   "source": [
    "Assignment 1c\n",
    "---"
   ]
  },
  {
   "cell_type": "code",
   "execution_count": 3,
   "id": "terminal-grace",
   "metadata": {},
   "outputs": [
    {
     "name": "stdout",
     "output_type": "stream",
     "text": [
      "11010\n"
     ]
    }
   ],
   "source": [
    "def decToBinary(dec):\n",
    "    decVal = int(dec)\n",
    "    quotient = decVal//2\n",
    "    remainder = decVal - quotient*2 \n",
    "    BinaryVal = \"\"\n",
    "    \n",
    "    while(quotient != 0):\n",
    "\n",
    "        BinaryVal = str(remainder) + BinaryVal\n",
    "        \n",
    "        decVal = quotient\n",
    "        quotient = decVal//2\n",
    "        remainder = decVal - quotient*2 \n",
    "        \n",
    "    BinaryVal = str(remainder) + BinaryVal\n",
    "    return int(BinaryVal)\n",
    "\n",
    "\n",
    "def singleHexToBinary(singleHex):\n",
    "    if(singleHex.isdigit()):\n",
    "        decVal = int(singleHex)\n",
    "        return decToBinary(decVal)\n",
    "    else:\n",
    "        return decToBinary(ord(singleHex)-55)\n",
    "\n",
    "def hexToBinary(hexVal):\n",
    "    if(len(hexVal) == 1):\n",
    "        return str(singleHexToBinary(hexVal))\n",
    "\n",
    "    else:\n",
    "        return str(hexToBinary(hexVal[0:-1])) + str(hexToBinary(hexVal[-1]))\n",
    "\n",
    "print(hexToBinary(\"1A\"))"
   ]
  },
  {
   "cell_type": "code",
   "execution_count": 22,
   "id": "general-application",
   "metadata": {},
   "outputs": [
    {
     "data": {
      "text/plain": [
       "'55'"
      ]
     },
     "execution_count": 22,
     "metadata": {},
     "output_type": "execute_result"
    }
   ],
   "source": [
    "def binaryToDecimalR(num, iterations = 0):\n",
    "    stringVal = str(num)\n",
    "    \n",
    "    if(len(stringVal) < 2):\n",
    "        return int(num) * 2**iterations\n",
    "    else:\n",
    "        return (binaryToDecimalR(int(stringVal[0: -1]), iterations = iterations + 1) + (int(stringVal[-1]) * 2**iterations))\n",
    "\n",
    "def decimalToHex(val):\n",
    "    HexVal = \"\"\n",
    "    \n",
    "    tempval = val\n",
    "    quotient = val//16\n",
    "    remainder = tempval - quotient*16\n",
    "\n",
    "    while(quotient != 0):\n",
    "        \n",
    "        if(remainder < 10):\n",
    "            HexVal = str(remainder) + HexVal\n",
    "        else:\n",
    "            \n",
    "            HexVal = chr(remainder + 55) + HexVal\n",
    "\n",
    "        tempval = quotient\n",
    "        quotient = tempval//16\n",
    "        remainder = tempval - quotient*16\n",
    "\n",
    "    if(remainder < 10):\n",
    "        HexVal = str(remainder) + HexVal\n",
    "    else:\n",
    "        HexVal = chr(remainder + 55) + HexVal\n",
    "    return HexVal\n",
    "    \n",
    "def binary_to_hex(binaryInput):\n",
    "    if(len(binaryInput) <= 4):\n",
    "        decVal = binaryToDecimalR(binaryInput)\n",
    "        hexVal = decimalToHex(decVal)\n",
    "        return hexVal\n",
    "    else:\n",
    "        return binary_to_hex(binaryInput[:-4]) + binary_to_hex(binaryInput[-4:])\n",
    "\n",
    "binary_to_hex(\"1010101\")\n",
    "        "
   ]
  },
  {
   "cell_type": "code",
   "execution_count": 2,
   "id": "minus-proposal",
   "metadata": {},
   "outputs": [
    {
     "data": {
      "text/plain": [
       "85"
      ]
     },
     "execution_count": 2,
     "metadata": {},
     "output_type": "execute_result"
    }
   ],
   "source": []
  },
  {
   "cell_type": "markdown",
   "id": "recreational-chicken",
   "metadata": {},
   "source": [
    "2b)\n",
    "\n",
    "Describe the mod 11\n",
    "\n",
    "D is 4"
   ]
  },
  {
   "cell_type": "markdown",
   "id": "electoral-vintage",
   "metadata": {},
   "source": [
    "Question 3"
   ]
  },
  {
   "cell_type": "code",
   "execution_count": 8,
   "id": "caring-channels",
   "metadata": {},
   "outputs": [
    {
     "name": "stdout",
     "output_type": "stream",
     "text": [
      "0428902A\n"
     ]
    }
   ],
   "source": [
    "\n",
    "def singaporeNRIC(NRICDigits):\n",
    "    weights = [2,7,6,5,4,3,2]\n",
    "    strVal = str(NRICDigits)\n",
    "    value = 0\n",
    "    for i in range(7):\n",
    "        value += int(strVal[i]) * weights[i]\n",
    "    \n",
    "    indexOfChecker = 11 - value%11\n",
    "    print(str(NRICDigits) + str(chr(indexOfChecker+64)))\n",
    "    \n",
    "    \n",
    "    \n",
    "    \n",
    "\n",
    "singaporeNRIC(\"0428902\")"
   ]
  },
  {
   "cell_type": "markdown",
   "id": "reduced-shape",
   "metadata": {},
   "source": [
    "Assignment 1c (Faster)\n",
    "---"
   ]
  },
  {
   "cell_type": "code",
   "execution_count": 45,
   "id": "broke-withdrawal",
   "metadata": {},
   "outputs": [],
   "source": [
    "def hex2binary(hexInput):\n",
    "    hexIndexing = \"0123456789ABCDEF\"\n",
    "    hexInput = str(hexInput)\n",
    "    n = len(hexInput)\n",
    "    for i in range(n-1, -1, -1):\n",
    "        hexUnit = hexInput[i]\n",
    "        print(hexUnit)\n",
    "        val = hexIndexing.index(hexUnit)\n",
    "        print(val)\n",
    "\n",
    "        \n",
    "        \n",
    "        \n",
    "        "
   ]
  },
  {
   "cell_type": "code",
   "execution_count": 46,
   "id": "physical-worry",
   "metadata": {},
   "outputs": [
    {
     "name": "stdout",
     "output_type": "stream",
     "text": [
      "A\n",
      "0\n"
     ]
    }
   ],
   "source": [
    "hex2binary(\"A\")"
   ]
  },
  {
   "cell_type": "code",
   "execution_count": null,
   "id": "hollow-allocation",
   "metadata": {},
   "outputs": [],
   "source": []
  }
 ],
 "metadata": {
  "kernelspec": {
   "display_name": "Python 3",
   "language": "python",
   "name": "python3"
  },
  "language_info": {
   "codemirror_mode": {
    "name": "ipython",
    "version": 3
   },
   "file_extension": ".py",
   "mimetype": "text/x-python",
   "name": "python",
   "nbconvert_exporter": "python",
   "pygments_lexer": "ipython3",
   "version": "3.9.2"
  }
 },
 "nbformat": 4,
 "nbformat_minor": 5
}

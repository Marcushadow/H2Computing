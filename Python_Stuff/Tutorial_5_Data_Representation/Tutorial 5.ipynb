{
 "cells": [
  {
   "cell_type": "markdown",
   "id": "forty-river",
   "metadata": {},
   "source": [
    "1a)\n",
    "\n",
    "    Binary -> 1010\n",
    "\n",
    "    Decimal -> (1 * 2^3)(0 * 2^2)(1 * 2^1)(0 * 2^0)\n",
    "            -> 10\n",
    "\n",
    "1b)\n",
    "\n",
    "    Binary -> 11111111\n",
    "    \n",
    "    Decimal -> 1 + 2 + 4 + 8 + 16 + 32 + 64 + 128\n",
    "            -> 255\n",
    "    \n",
    "1c)\n",
    "    \n",
    "    Binary -> 10111\n",
    "   \n",
    "    Decimal -> 1 + 2 + 4 + 16\n",
    "            -> 23\n",
    "    \n"
   ]
  },
  {
   "cell_type": "markdown",
   "id": "signed-success",
   "metadata": {},
   "source": [
    "2a)\n",
    "\n",
    "    Denary -> 27\n",
    "    \n",
    "        27 / 2 = 13 R 1\n",
    "        13 / 2 = 6 R 1\n",
    "         6 / 2 = 3 R 0\n",
    "         3 / 2 = 1 R 1\n",
    "         1 / 2 = 0 R 1\n",
    "         \n",
    "    Binary -> 11011\n",
    "    \n",
    "    1B\n",
    "    \n",
    "2b)\n",
    "\n",
    "    Denary -> 128\n",
    "    \n",
    "    Binary -> 1000000\n",
    "    \n",
    "    80\n",
    "2c)\n",
    "\n",
    "    Denary -> 63\n",
    "    \n",
    "    Binary -> 111111\n",
    "\n",
    "    3F"
   ]
  },
  {
   "cell_type": "markdown",
   "id": "active-regulation",
   "metadata": {},
   "source": [
    "3a)\n",
    "\n",
    "    Binary -> 10110\n",
    "    \n",
    "    HexaDecimal -> 16\n",
    "\n",
    "3b)\n",
    "\n",
    "    Binary -> 10101011\n",
    "    \n",
    "    HexaDecimal -> AB\n",
    "    \n",
    "3c)\n",
    "\n",
    "    Binary -> 11100111\n",
    "    \n",
    "    HexaDecimal -> E7"
   ]
  },
  {
   "cell_type": "markdown",
   "id": "superb-clerk",
   "metadata": {},
   "source": [
    "4a)\n",
    "\n",
    "    HexaDecimal -> 279\n",
    "    Binary -> 10 0111 1001\n",
    "    \n",
    "4b)\n",
    "\n",
    "    HexaDecimal -> FF60\n",
    "    Binary -> 1111 1111 0110 0000\n",
    "\n",
    "4c)\n",
    "\n",
    "    HexaDecimal -> B48\n",
    "    Binary -> 1011 0100 1000"
   ]
  },
  {
   "cell_type": "markdown",
   "id": "frank-disco",
   "metadata": {},
   "source": [
    "5a)\n",
    "\n",
    "    Ascii Decimal -> 73 81\n",
    "    Binary ->  0100 1001 0101 0001\n",
    "\n",
    "5b)\n",
    "\n",
    "    Ascii Decimal -> 98 101\n",
    "    Binary -> 0110 0010 0110 0101\n",
    "\n",
    "5c)\n",
    "\n",
    "    Ascii Decimal -> 49 50 51 52\n",
    "    Binary -> 0011 0001 0011 0010 0011 0011 0011 0100"
   ]
  },
  {
   "cell_type": "code",
   "execution_count": 22,
   "id": "molecular-underwear",
   "metadata": {},
   "outputs": [
    {
     "name": "stdout",
     "output_type": "stream",
     "text": [
      "65 66\n"
     ]
    }
   ],
   "source": [
    "print(ord(\"A\") , ord(\"B\"))"
   ]
  },
  {
   "cell_type": "markdown",
   "id": "proof-force",
   "metadata": {},
   "source": [
    "Tutorial 5B\n",
    "---\n",
    "\n",
    "---\n",
    "To check the validity of the data provided\n",
    "\n",
    "---\n",
    "This method is inadequate as it is easily derived taken advantage of\n",
    "\n",
    "---\n",
    "Use the mod 11 check digit methodology\n",
    "- Multiply each value by a specific weight\n",
    "- Sum up the product of the first step\n",
    "- Take the remainder and divide the values by 11 to obtain the remainder\n",
    "- subtract the remainder from 11\n",
    "- each value could correspond to a letter and append the letter to the back\n",
    "---"
   ]
  },
  {
   "cell_type": "markdown",
   "id": "brief-cutting",
   "metadata": {},
   "source": [
    "Assignment 5\n",
    "---"
   ]
  },
  {
   "cell_type": "markdown",
   "id": "different-medium",
   "metadata": {},
   "source": [
    "Assignment 1a -> binary <-> Decimal"
   ]
  },
  {
   "cell_type": "code",
   "execution_count": 29,
   "id": "cultural-democracy",
   "metadata": {},
   "outputs": [],
   "source": [
    "def binaryToDecimal(val):\n",
    "    string_val = str(val)\n",
    "    returnValue = 0\n",
    "    for i in range(len(string_val), 0, -1):\n",
    "        indexPos = i - 1\n",
    "        charVal = int(string_val[indexPos])\n",
    "        returnValue += charVal * 2**(len(string_val) - i)\n",
    "    return returnValue\n",
    "\n",
    "# Recursive\n",
    "\n",
    "# 110110110\n",
    "def bestBinToDec(binary):\n",
    "    return int(str(binary), base=2)\n",
    "\n",
    "def binary_to_decimal(num, iterations = 0):\n",
    "    stringVal = str(num)\n",
    "    if(len(stringVal) == 1):\n",
    "        return int(num) * 2**iterations\n",
    "    else:\n",
    "        return (binary_to_decimal(int(stringVal[0: -1]), iterations = iterations + 1) + (int(stringVal[-1]) * 2**iterations))\n",
    "\n"
   ]
  },
  {
   "cell_type": "code",
   "execution_count": 71,
   "id": "competitive-import",
   "metadata": {},
   "outputs": [],
   "source": [
    "def decimal_to_binary(decimal):\n",
    "    \n",
    "    binary = \"\"\n",
    "    decimal = int(decimal)\n",
    "    while decimal > 0:\n",
    "        remainder = decimal %2\n",
    "        decimal = decimal // 2\n",
    "        binary = str(remainder) + binary\n",
    "    \n",
    "    binary = binary if binary != \"\" else \"0\"\n",
    "    return binary"
   ]
  },
  {
   "cell_type": "code",
   "execution_count": 72,
   "id": "motivated-document",
   "metadata": {},
   "outputs": [
    {
     "data": {
      "text/plain": [
       "'0'"
      ]
     },
     "execution_count": 72,
     "metadata": {},
     "output_type": "execute_result"
    }
   ],
   "source": [
    "decimal_to_binary(0)"
   ]
  },
  {
   "cell_type": "markdown",
   "id": "liable-horror",
   "metadata": {},
   "source": [
    "Assignment 1b - decimalToHex"
   ]
  },
  {
   "cell_type": "code",
   "execution_count": 41,
   "id": "american-medline",
   "metadata": {},
   "outputs": [],
   "source": [
    "def decimalToHex(val):\n",
    "    indexing = \"0123456789ABCDEF\"\n",
    "    HexVal = \"\"\n",
    "    while(val > 0):\n",
    "        remainder = val%16\n",
    "        val //= 16\n",
    "        HexVal = indexing[remainder] + HexVal\n",
    "    HexVal HexVal if HexVal else \"0\"\n",
    "    return HexVal\n",
    "\n",
    "def dec_to_bin(n):\n",
    "    binary = ''\n",
    "    if n == 0:\n",
    "        return ''\n",
    "    else:\n",
    "        return dec_to_bin(n//2) + str(n%2)\n",
    "\n"
   ]
  },
  {
   "cell_type": "code",
   "execution_count": 73,
   "id": "naked-bubble",
   "metadata": {},
   "outputs": [],
   "source": [
    "def hexToDecimal(hexa, iterator=0):\n",
    "    indexing = \"0123456789ABCDEF\"\n",
    "    if (len(hexa) == 1):\n",
    "        return indexing.index(hexa) * 16**iterator\n",
    "    \n",
    "    else:\n",
    "        return hexToDecimal(hexa[:-1], iterator = iterator + 1) + indexing.index(hexa[-1]) * 16**iterator\n",
    "    "
   ]
  },
  {
   "cell_type": "code",
   "execution_count": 74,
   "id": "naughty-heaven",
   "metadata": {},
   "outputs": [
    {
     "data": {
      "text/plain": [
       "26"
      ]
     },
     "execution_count": 74,
     "metadata": {},
     "output_type": "execute_result"
    }
   ],
   "source": [
    "hexToDecimal(\"1A\")"
   ]
  },
  {
   "cell_type": "markdown",
   "id": "ideal-providence",
   "metadata": {},
   "source": [
    "Assignment 1c\n",
    "---"
   ]
  },
  {
   "cell_type": "code",
   "execution_count": 3,
   "id": "terminal-grace",
   "metadata": {},
   "outputs": [
    {
     "name": "stdout",
     "output_type": "stream",
     "text": [
      "11010\n"
     ]
    }
   ],
   "source": []
  },
  {
   "cell_type": "code",
   "execution_count": 22,
   "id": "general-application",
   "metadata": {},
   "outputs": [
    {
     "data": {
      "text/plain": [
       "'55'"
      ]
     },
     "execution_count": 22,
     "metadata": {},
     "output_type": "execute_result"
    }
   ],
   "source": []
  },
  {
   "cell_type": "code",
   "execution_count": 2,
   "id": "minus-proposal",
   "metadata": {},
   "outputs": [
    {
     "data": {
      "text/plain": [
       "85"
      ]
     },
     "execution_count": 2,
     "metadata": {},
     "output_type": "execute_result"
    }
   ],
   "source": []
  },
  {
   "cell_type": "markdown",
   "id": "recreational-chicken",
   "metadata": {},
   "source": [
    "2b)\n",
    "\n",
    "Describe the mod 11\n",
    "\n",
    "D is 4"
   ]
  },
  {
   "cell_type": "markdown",
   "id": "electoral-vintage",
   "metadata": {},
   "source": [
    "Question 3"
   ]
  },
  {
   "cell_type": "code",
   "execution_count": 2,
   "id": "caring-channels",
   "metadata": {},
   "outputs": [
    {
     "output_type": "stream",
     "name": "stdout",
     "text": [
      "0430672D\n"
     ]
    }
   ],
   "source": [
    "\n",
    "# Base 11\n",
    "def singaporeNRIC(NRICDigits):\n",
    "    weights = [2,7,6,5,4,3,2]\n",
    "    strVal = str(NRICDigits)\n",
    "    value = 0\n",
    "    for i in range(7):\n",
    "        value += int(strVal[i]) * weights[i]\n",
    "    \n",
    "    indexOfChecker = 11 - value%11\n",
    "    print(str(NRICDigits) + str(chr(indexOfChecker+64)))\n",
    "\n",
    "singaporeNRIC(\"0430672\")"
   ]
  },
  {
   "cell_type": "markdown",
   "id": "detected-enzyme",
   "metadata": {},
   "source": [
    "Assignment 1c (Hexadecimal to binary)\n",
    "---"
   ]
  },
  {
   "cell_type": "code",
   "execution_count": 48,
   "id": "broke-withdrawal",
   "metadata": {},
   "outputs": [],
   "source": [
    "def dec_to_bin(n):\n",
    "    binary = ''\n",
    "    if n == 0:\n",
    "        return ''\n",
    "    else:\n",
    "        return dec_to_bin(n//2) + str(n%2)\n",
    "\n",
    "def hex2binary(hexInput):\n",
    "    bina = \"\"\n",
    "    hexIndexing = \"0123456789ABCDEF\"\n",
    "    hexInput = str(hexInput)\n",
    "    n = len(hexInput)\n",
    "    for i in range(n-1, -1, -1):\n",
    "        hexUnit = hexInput[i]\n",
    "        val = hexIndexing.index(hexUnit)\n",
    "        bina = dec_to_bin(val) + bina\n",
    "    return bina\n",
    "        \n",
    "\n",
    "        \n",
    "        \n",
    "        \n",
    "        "
   ]
  },
  {
   "cell_type": "markdown",
   "id": "independent-disco",
   "metadata": {},
   "source": [
    "Assignment 1c (Binary to Hexadecimal)\n",
    "---"
   ]
  },
  {
   "cell_type": "code",
   "execution_count": 51,
   "id": "mental-hospital",
   "metadata": {},
   "outputs": [],
   "source": [
    "def bin_to_dec(n, iterations = 0):\n",
    "    if(len(n) == 1):\n",
    "        return int(n) * 2**iterations\n",
    "    else:\n",
    "        return bin_to_dec(n[:-1], iterations = iterations + 1) + int(n[-1])* 2**iterations\n",
    "    \n",
    "def bin_to_hex(binaryInput):\n",
    "    hexadecimalIndexing = \"0123456789ABCDEF\"\n",
    "    \n",
    "    if(len(binaryInput) <= 4):\n",
    "        val = bin_to_dec(binaryInput)\n",
    "        return hexadecimalIndexing[val]\n",
    "    \n",
    "    else:\n",
    "        return bin_to_hex(binaryInput[:-4]) + hexadecimalIndexing[bin_to_dec(binaryInput[-4:])]\n",
    "    \n"
   ]
  },
  {
   "cell_type": "code",
   "execution_count": null,
   "id": "unexpected-queue",
   "metadata": {},
   "outputs": [],
   "source": []
  },
  {
   "cell_type": "code",
   "execution_count": null,
   "id": "grave-savannah",
   "metadata": {},
   "outputs": [],
   "source": []
  }
 ],
 "metadata": {
  "kernelspec": {
   "name": "python392jvsc74a57bd0d2990ea161ee6956a362087ffa53000b23fd3c21cc082d0b19467b0840579a3c",
   "display_name": "Python 3.9.2 64-bit"
  },
  "language_info": {
   "codemirror_mode": {
    "name": "ipython",
    "version": 3
   },
   "file_extension": ".py",
   "mimetype": "text/x-python",
   "name": "python",
   "nbconvert_exporter": "python",
   "pygments_lexer": "ipython3",
   "version": "3.9.2"
  }
 },
 "nbformat": 4,
 "nbformat_minor": 5
}
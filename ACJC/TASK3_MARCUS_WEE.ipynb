{
 "cells": [
  {
   "cell_type": "code",
   "execution_count": 3,
   "metadata": {},
   "outputs": [],
   "source": [
    "def dic(s):\n",
    "    outputDict = {}\n",
    "    \n",
    "    stringList = list(s)\n",
    "    for i in range(len(stringList)):\n",
    "        outputDict[stringList[i]] = len(stringList) - 1 - i\n",
    "        \n",
    "    return outputDict\n",
    "            "
   ]
  },
  {
   "cell_type": "code",
   "execution_count": 4,
   "metadata": {},
   "outputs": [
    {
     "data": {
      "text/plain": [
       "{'a': 1, 'n': 0, 'm': 2}"
      ]
     },
     "execution_count": 4,
     "metadata": {},
     "output_type": "execute_result"
    }
   ],
   "source": [
    "dic('anman')"
   ]
  },
  {
   "cell_type": "code",
   "execution_count": 23,
   "metadata": {},
   "outputs": [],
   "source": [
    "# task 3.2\n",
    "\n",
    "def check_substr(t,s):\n",
    "    if(len(t) < len(s)):\n",
    "        return False\n",
    "    else:\n",
    "    \n",
    "        moveDic = dic(s)\n",
    "\n",
    "        endIdx = len(s)-1\n",
    "        match = False\n",
    "        while(endIdx < (len(t)-1) and not match):\n",
    "            i = 0\n",
    "            stop = False\n",
    "            while(i < len(s) and not stop):\n",
    "#                 print(endIdx-i)\n",
    "                if(s[-1-i] == t[endIdx-i]):\n",
    "                    i+=1\n",
    "                else:\n",
    "                    if(t[endIdx-i] not in moveDic.keys()):\n",
    "                        endIdx += 1\n",
    "                        stop = True\n",
    "\n",
    "                    else:\n",
    "                        if(i>moveDic[t[endIdx-i]]):\n",
    "                            endIdx += 1\n",
    "                            stop = True\n",
    "                        else:\n",
    "                            endIdx += moveDic[t[endIdx-i]]-i\n",
    "            if(i == len(s)):\n",
    "                match = True\n",
    "\n",
    "\n",
    "        return match\n",
    "        "
   ]
  },
  {
   "cell_type": "code",
   "execution_count": 25,
   "metadata": {},
   "outputs": [
    {
     "name": "stdout",
     "output_type": "stream",
     "text": [
      "9\n",
      "4\n",
      "6\n",
      "5\n",
      "4\n",
      "3\n",
      "7\n",
      "9\n",
      "8\n",
      "7\n",
      "6\n",
      "5\n",
      "True\n"
     ]
    }
   ],
   "source": [
    "s = 'anman'\n",
    "t1 = 'aman'\n",
    "t2 = 'anpanman'\n",
    "t3 = 'anpanpan'\n",
    "t4 = 'anpamanman' \n",
    "print(check_substr(t4,s))"
   ]
  },
  {
   "cell_type": "code",
   "execution_count": null,
   "metadata": {},
   "outputs": [],
   "source": []
  }
 ],
 "metadata": {
  "kernelspec": {
   "display_name": "Python 3",
   "language": "python",
   "name": "python3"
  },
  "language_info": {
   "codemirror_mode": {
    "name": "ipython",
    "version": 3
   },
   "file_extension": ".py",
   "mimetype": "text/x-python",
   "name": "python",
   "nbconvert_exporter": "python",
   "pygments_lexer": "ipython3",
   "version": "3.6.4"
  }
 },
 "nbformat": 4,
 "nbformat_minor": 2
}

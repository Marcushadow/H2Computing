{
 "cells": [
  {
   "cell_type": "code",
   "execution_count": 2,
   "metadata": {},
   "outputs": [
    {
     "data": {
      "text/plain": [
       "'sware'"
      ]
     },
     "execution_count": 2,
     "metadata": {},
     "output_type": "execute_result"
    }
   ],
   "source": [
    "# Task 1.1\n",
    "import random\n",
    "def get_word(filename):\n",
    "    with open(filename) as fs:\n",
    "        data = fs.read().split(\"\\n\")\n",
    "        return random.choice(data)\n",
    "        \n",
    "get_word(\"words.txt\")"
   ]
  },
  {
   "cell_type": "code",
   "execution_count": 3,
   "metadata": {},
   "outputs": [],
   "source": [
    "# Task 1.2\n",
    "\n",
    "def check_validity(guess):\n",
    "    valid = True\n",
    "    if(len(guess) != 5):\n",
    "        valid = False\n",
    "    else:\n",
    "        for letter in guess:\n",
    "            if(ord(letter) < ord(\"a\") or ord(letter) > ord(\"z\")):\n",
    "                valid = False\n",
    "        if(not guess.isalpha()):\n",
    "            valid = False\n",
    "    \n",
    "    \n",
    "    return valid"
   ]
  },
  {
   "cell_type": "code",
   "execution_count": 4,
   "metadata": {},
   "outputs": [
    {
     "name": "stdout",
     "output_type": "stream",
     "text": [
      "True\n",
      "True\n",
      "True\n",
      "True\n"
     ]
    }
   ],
   "source": [
    "testCases = [\n",
    "    \"abcde\",\n",
    "    \"Abcde\",\n",
    "    \"abcdef\",\n",
    "    \",defr\"\n",
    "]\n",
    "\n",
    "outcomes = [\n",
    "    True,\n",
    "    False,\n",
    "    False,\n",
    "    False\n",
    "]\n",
    "\n",
    "for i in range(len(testCases)):\n",
    "    print(check_validity(testCases[i]) == outcomes[i] )"
   ]
  },
  {
   "cell_type": "code",
   "execution_count": 5,
   "metadata": {},
   "outputs": [],
   "source": [
    "# Task 1.3\n",
    "\n",
    "def check_guess(guess, word):\n",
    "    if(check_validity(guess)):\n",
    "        correct = []\n",
    "        in_word = []\n",
    "        temp = []\n",
    "         \n",
    "        letterSet = {}\n",
    "        \n",
    "        for letter in word:\n",
    "            if(letter in letterSet.keys()):\n",
    "                letterSet[letter] += 1\n",
    "                \n",
    "            else:\n",
    "                letterSet[letter] = 1\n",
    "        \n",
    "        for i in range(len(word)):\n",
    "            if(guess[i] == word[i]):\n",
    "                correct.append(i)\n",
    "                letterSet[guess[i]] -= 1\n",
    "                \n",
    "            elif(guess[i] in word):\n",
    "                temp.append((guess[i], i))\n",
    "                \n",
    "        for word in temp:\n",
    "            if(letterSet[word[0]] != 0):\n",
    "                in_word.append(word[1])\n",
    "                letterSet[word[0]] -= 1\n",
    "                \n",
    "                \n",
    "            \n",
    "                \n",
    "        return [correct, in_word]"
   ]
  },
  {
   "cell_type": "code",
   "execution_count": 6,
   "metadata": {},
   "outputs": [
    {
     "name": "stdout",
     "output_type": "stream",
     "text": [
      "[[2, 3, 4], [1]]\n",
      "[[2], [0]]\n",
      "[[0, 1, 2, 3, 4], []]\n",
      "[[0, 1, 4], [3]]\n"
     ]
    }
   ],
   "source": [
    "print(check_guess(\"maple\", \"apple\"))\n",
    "print(check_guess(\"poppy\", \"apple\"))\n",
    "print(check_guess(\"apple\", \"apple\"))\n",
    "print(check_guess(\"apepe\", \"apple\"))"
   ]
  },
  {
   "cell_type": "code",
   "execution_count": 7,
   "metadata": {},
   "outputs": [
    {
     "name": "stdout",
     "output_type": "stream",
     "text": [
      "_*^^^\n",
      "^^^^^\n",
      "_*___\n"
     ]
    },
    {
     "data": {
      "text/plain": [
       "'_*___'"
      ]
     },
     "execution_count": 7,
     "metadata": {},
     "output_type": "execute_result"
    }
   ],
   "source": [
    "# Task 1.4\n",
    "\n",
    "def display_result(correct, in_word):\n",
    "    outputString = [\"_\",\"_\",\"_\",\"_\",\"_\"]\n",
    "    \n",
    "    for item in correct:\n",
    "        outputString[item] = \"^\"\n",
    "        \n",
    "    for iw in in_word:\n",
    "        outputString[iw] = \"*\"\n",
    "    print(\"\".join(outputString))\n",
    "    return \"\".join(outputString)\n",
    "    \n",
    "        \n",
    "display_result([2,3,4],[1]) \n",
    "display_result([0,1,2,3,4],[])\n",
    "display_result([],[1])"
   ]
  },
  {
   "cell_type": "code",
   "execution_count": 8,
   "metadata": {},
   "outputs": [
    {
     "name": "stdout",
     "output_type": "stream",
     "text": [
      "_ _ _ _ _\n",
      "you get 6 guesses!\n",
      "what is your guess?: aboca\n",
      "aboca\n",
      "*____\n",
      "what is your guess?: tubes\n",
      "tubes\n",
      "^___^\n",
      "what is your guess?: fling\n",
      "fling\n",
      "_____\n",
      "what is your guess?: champ\n",
      "champ\n",
      "_**__\n",
      "what is your guess?: tales\n",
      "tales\n",
      "^^__^\n",
      "what is your guess?: tahes\n",
      "tahes\n",
      "^^^_^\n",
      "You ran out guesses!\n",
      "The word was: tahrs\n"
     ]
    }
   ],
   "source": [
    "def play_wordle():\n",
    "    print(\"_ _ _ _ _\")\n",
    "    word = get_word('words.txt')\n",
    "    print(\"you get 6 guesses!\")\n",
    "    for i in range(1,7):\n",
    "        guess = input(\"what is your guess?: \")\n",
    "        while (check_validity(guess) == False):\n",
    "            print(\"please enter exactly 5 lower case letters only\")\n",
    "            guess = input(\"what is your guess?: \")\n",
    "        correct, incorrect = check_guess(guess, word) \n",
    "        print(guess)\n",
    "        display_result(correct, incorrect)\n",
    "        if len(correct) == 5:\n",
    "            print(f\"you used {i} guesses!\")\n",
    "            print(\"You win!\")\n",
    "            return None\n",
    "    print(\"You ran out guesses!\")\n",
    "    print(\"The word was:\", word)\n",
    "    return None\n",
    "play_wordle()"
   ]
  },
  {
   "cell_type": "code",
   "execution_count": null,
   "metadata": {},
   "outputs": [],
   "source": []
  }
 ],
 "metadata": {
  "kernelspec": {
   "display_name": "Python 3",
   "language": "python",
   "name": "python3"
  },
  "language_info": {
   "codemirror_mode": {
    "name": "ipython",
    "version": 3
   },
   "file_extension": ".py",
   "mimetype": "text/x-python",
   "name": "python",
   "nbconvert_exporter": "python",
   "pygments_lexer": "ipython3",
   "version": "3.6.4"
  }
 },
 "nbformat": 4,
 "nbformat_minor": 2
}

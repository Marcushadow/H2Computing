{
 "cells": [
  {
   "cell_type": "code",
   "execution_count": null,
   "metadata": {},
   "outputs": [
    {
     "name": "stderr",
     "output_type": "stream",
     "text": [
      " * Running on http://127.0.0.1:5000/ (Press CTRL+C to quit)\n",
      "INFO:werkzeug: * Running on http://127.0.0.1:5000/ (Press CTRL+C to quit)\n",
      "127.0.0.1 - - [17/Aug/2022 13:49:07] \"\u001b[37mGET / HTTP/1.1\u001b[0m\" 200 -\n",
      "INFO:werkzeug:127.0.0.1 - - [17/Aug/2022 13:49:07] \"\u001b[37mGET / HTTP/1.1\u001b[0m\" 200 -\n"
     ]
    }
   ],
   "source": [
    "import flask, os, sqlite3\n",
    "\n",
    "from flask import send_from_directory, render_template, request\n",
    "\n",
    "app = flask.Flask(__name__, template_folder=\"./Task_4_3/templates\", static_folder=\"./Task_4_3/static\")\n",
    "\n",
    "@app.route(\"/\")\n",
    "def main():\n",
    "    return render_template(\"index.html\")\n",
    "\n",
    "@app.route(\"/files\", methods = [\"POST\"])\n",
    "def synthesis():\n",
    "    if(request.method == \"POST\"):\n",
    "        if(request.files and request.files['uploaded']):\n",
    "            \n",
    "            client = sqlite3.connect(\"photo.db\")\n",
    "            file = request.files['uploaded']\n",
    "            filename = request.form.get(\"filename\")\n",
    "            \n",
    "            curr = client.execute(\"INSERT INTO fileUpload(address) VALUES (?)\", (filename,))\n",
    "            \n",
    "            client.commit()\n",
    "            client.close()\n",
    "            \n",
    "            saveDirectory = os.path.join(\"Task_4_3\",\"static\", \"uploads\", filename)\n",
    "            \n",
    "            file.save(saveDirectory)\n",
    "            \n",
    "    return render_template(\"index.html\")\n",
    "        \n",
    "        \n",
    "@app.route(\"/view\")\n",
    "def viewFiles():\n",
    "    client = sqlite3.connect(\"photo.db\")\n",
    "    curr = client.execute(\"SELECT address FROM fileUpload\")\n",
    "    \n",
    "    attr = list(curr)\n",
    "    \n",
    "    return render_template(\"displayFiles.html\", attr = attr)\n",
    "\n",
    "\n",
    "\n",
    "@app.route(\"/images/<filename>\")\n",
    "def solicitFile(filename):\n",
    "    return send_from_directory(\"Task_4_3/static/uploads/\"+filename)\n",
    "            \n",
    "\n",
    "if __name__ == \"__main__\":\n",
    "    app.run()"
   ]
  },
  {
   "cell_type": "code",
   "execution_count": 10,
   "metadata": {},
   "outputs": [],
   "source": [
    "import sqlite3\n",
    "\n",
    "client = sqlite3.connect(\"photo.db\")\n",
    "\n",
    "curr = client.execute(\"\"\"\n",
    "\n",
    "CREATE TABLE fileUpload(\n",
    "    fileID INTEGER PRIMARY KEY AUTOINCREMENT,\n",
    "    address TEXT\n",
    ")\n",
    "\n",
    "\"\"\")\n",
    "\n",
    "client.commit()\n",
    "client.close()"
   ]
  },
  {
   "cell_type": "code",
   "execution_count": 11,
   "metadata": {},
   "outputs": [],
   "source": [
    "import sqlite3\n",
    "\n",
    "client = sqlite3.connect(\"photo.db\")\n",
    "\n",
    "curr = client.execute(\"\"\"\n",
    "\n",
    "DROP TABLE fileUploads\n",
    "\n",
    "\"\"\")\n",
    "\n",
    "client.commit()\n",
    "client.close()"
   ]
  },
  {
   "cell_type": "code",
   "execution_count": null,
   "metadata": {},
   "outputs": [],
   "source": []
  }
 ],
 "metadata": {
  "kernelspec": {
   "display_name": "Python 3.8.7 64-bit",
   "language": "python",
   "name": "python3"
  },
  "language_info": {
   "codemirror_mode": {
    "name": "ipython",
    "version": 3
   },
   "file_extension": ".py",
   "mimetype": "text/x-python",
   "name": "python",
   "nbconvert_exporter": "python",
   "pygments_lexer": "ipython3",
   "version": "3.8.7"
  },
  "vscode": {
   "interpreter": {
    "hash": "79b5e9c4981b2ed0fae48cae49f290910e4ab927bd3333490b62cb47eeb76658"
   }
  }
 },
 "nbformat": 4,
 "nbformat_minor": 2
}

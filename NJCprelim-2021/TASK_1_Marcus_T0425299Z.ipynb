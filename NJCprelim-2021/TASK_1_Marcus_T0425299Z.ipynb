{
 "cells": [
  {
   "cell_type": "code",
   "execution_count": 7,
   "metadata": {},
   "outputs": [
    {
     "name": "stdout",
     "output_type": "stream",
     "text": [
      "The number of countries: 86\n",
      "Number of days: 43\n",
      "Start Date: 1/22/20 End Date: 3/4/20\n"
     ]
    }
   ],
   "source": [
    "# Task 1.1\n",
    "\n",
    "import csv\n",
    "\n",
    "countries = []\n",
    "daysRecorded = 0\n",
    "\n",
    "with open(\"COVID19.CSV\") as fs:\n",
    "    reader = csv.reader(fs, delimiter=\",\")\n",
    "    headerRow = next(reader)\n",
    "    for row in reader:\n",
    "        if(row[1] not in countries):\n",
    "            countries.append(row[1])\n",
    "            \n",
    "print(f\"The number of countries: {len(countries)}\")\n",
    "print(f\"Number of days: {len(headerRow)-4}\")\n",
    "print(f\"Start Date: {headerRow[4]} End Date: {headerRow[-1]}\")\n",
    "    \n",
    "        "
   ]
  },
  {
   "cell_type": "code",
   "execution_count": 24,
   "metadata": {
    "scrolled": true
   },
   "outputs": [],
   "source": [
    "# Task 1.2\n",
    "\n",
    "aggHeaderRow = [headerRow[1]] + headerRow[4:]\n",
    "tempRow = []\n",
    "toAppend = []\n",
    "\n",
    "with open(\"COVID19.CSV\") as fs:\n",
    "    reader = csv.reader(fs, delimiter=\",\")\n",
    "    headerRow = next(reader)\n",
    "    prevCountry = \"\"\n",
    "    \n",
    "    for row in reader:\n",
    "#         print()\n",
    "        country = row[1]\n",
    "#         print(f\"country: {country}\")\n",
    "#         try:\n",
    "#             print(f\"Track Country: {tempRow[0]}\")\n",
    "#         except:\n",
    "#             print(\"MT\")\n",
    "            \n",
    "        if(country != prevCountry):\n",
    "            if(len(tempRow) != 0):\n",
    "                toAppend.append(tempRow)\n",
    "            \n",
    "            prevCountry = country\n",
    "            tempRow = [row[1]] + row[4:]\n",
    "        \n",
    "        else:\n",
    "            for i in range(len(row) - 4):\n",
    "                tempIdx = 1+i\n",
    "                rowIdx = 4+i\n",
    "                value = int(tempRow[tempIdx]) + int(row[rowIdx])\n",
    "                tempRow[tempIdx] = str(value)\n",
    "                \n",
    "    for i in range(len(toAppend)):\n",
    "        toAppend[i] = \",\".join(toAppend[i])           \n",
    "        \n",
    "    returnString = \"\\n\".join(toAppend)\n",
    "    \n",
    "    with open(\"countries.csv\", \"w\") as fs:\n",
    "        \n",
    "        \n",
    "        fs.write(\",\".join(aggHeaderRow) + \"\\n\")\n",
    "        fs.write(returnString)\n",
    "            \n"
   ]
  },
  {
   "cell_type": "code",
   "execution_count": 2,
   "metadata": {},
   "outputs": [
    {
     "name": "stdout",
     "output_type": "stream",
     "text": [
      "Mainland China       15133  2/13/20\n",
      "South Korea          851    3/3/20\n",
      "Iran                 835    3/3/20\n",
      "Italy                587    3/4/20\n",
      "Others               99     2/17/20\n"
     ]
    }
   ],
   "source": [
    "#Task 1.3\n",
    "\n",
    "LSDI = []\n",
    "\n",
    "with open(\"countries.csv\") as fs:\n",
    "    reader = csv.reader(fs, delimiter=\",\")\n",
    "    headRow = next(reader)\n",
    "    \n",
    "    for r in reader:\n",
    "        prevDay = str(r[1])\n",
    "        largestDay = \"\"\n",
    "        largestValue = \"0\"\n",
    "        for i in range(len(r) - 2):\n",
    "            increase = str(int(r[2+i]) - int(prevDay))\n",
    "            prevDay = r[2+i]\n",
    "            if(int(largestValue) < int(increase)):\n",
    "                largestDay = headRow[2+i]\n",
    "                largestValue = increase\n",
    "                \n",
    "        LSDI.append([int(largestValue), r[0], largestDay])\n",
    "\n",
    "LSDI.sort(reverse = True)\n",
    "for i in range(5):\n",
    "    print(\"{:<20}\".format(LSDI[i][1]),\"{:<6}\".format(str(LSDI[i][0])), LSDI[i][2]) \n"
   ]
  },
  {
   "cell_type": "code",
   "execution_count": 13,
   "metadata": {},
   "outputs": [],
   "source": [
    "# Task 1.4\n",
    "\n",
    "import pymongo\n",
    "\n",
    "client = pymongo.MongoClient(\"127.0.0.1\", 27017)\n",
    "\n",
    "db = client.get_database(\"covid\")\n",
    "coll = db.get_collection(\"cases\")\n",
    "import csv\n",
    "with open(\"countries.csv\") as fs:\n",
    "    reader = csv.reader(fs, delimiter=\",\")\n",
    "    headRow = next(reader)\n",
    "    \n",
    "    dayDict={}\n",
    "    \n",
    "    for r in reader:\n",
    "#         print(r)\n",
    "        country = r[0]\n",
    "        for i in range(len(r)-1):\n",
    "            idx = i+1\n",
    "            date = headRow[idx]\n",
    "            count = r[idx]\n",
    "            \n",
    "            if(not date in dayDict.keys()):\n",
    "                dayDict[date] = [[country, count]]\n",
    "            else:\n",
    "                dayDict[date].append([country, count])\n",
    "        \n",
    "\n",
    "        \n",
    "for key in dayDict.keys():\n",
    "    toUpload = {}\n",
    "    toUpload[\"date\"] = key\n",
    "    \n",
    "    countriesList = []\n",
    "    \n",
    "    for cty in dayDict[key]:\n",
    "#         print(cty)\n",
    "        tempDict = {}\n",
    "        tempDict[\"country\"] = cty[0]\n",
    "        tempDict[\"cases\"] = int(cty[1])\n",
    "        countriesList.append(tempDict)\n",
    "        \n",
    "    \n",
    "    toUpload[\"countries\"] = countriesList\n",
    "    \n",
    "    \n",
    "    coll.insert_one(toUpload)\n",
    "    \n",
    "    \n",
    "    \n",
    "#         print(dayDict)\n",
    "client.close()\n"
   ]
  },
  {
   "cell_type": "code",
   "execution_count": 17,
   "metadata": {
    "scrolled": true
   },
   "outputs": [
    {
     "name": "stdout",
     "output_type": "stream",
     "text": [
      "Case number : 5494\n"
     ]
    }
   ],
   "source": [
    "#Task 1.5\n",
    "\n",
    "import pymongo\n",
    "\n",
    "client = pymongo.MongoClient(\"127.0.0.1\", 27017)\n",
    "\n",
    "db = client.get_database(\"covid\")\n",
    "coll = db.get_collection(\"cases\")\n",
    "\n",
    "curr = coll.find({\"date\": \"1/28/20\"})\n",
    "\n",
    "for doc in curr:\n",
    "    docDict= dict(doc)\n",
    "    \n",
    "    for country in docDict[\"countries\"]:\n",
    "        if country['country'] == \"Mainland China\":\n",
    "            cases = country[\"cases\"]\n",
    "    \n",
    "    \n",
    "print(f\"Case number : {cases}\")\n",
    "\n",
    "client.close()"
   ]
  },
  {
   "cell_type": "code",
   "execution_count": 19,
   "metadata": {},
   "outputs": [
    {
     "data": {
      "text/plain": [
       "[('Asher', 187), ('Han Shin', 170), ('Everyone ELse', 120)]"
      ]
     },
     "execution_count": 19,
     "metadata": {},
     "output_type": "execute_result"
    }
   ],
   "source": [
    "diktionary = {\n",
    "    \n",
    "    \"Asher\": 187,\n",
    "    \"Han Shin\": 170,\n",
    "    \"Everyone ELse\": 120\n",
    "}\n",
    "\n",
    "list(diktionary.items())"
   ]
  },
  {
   "cell_type": "code",
   "execution_count": null,
   "metadata": {},
   "outputs": [],
   "source": []
  }
 ],
 "metadata": {
  "kernelspec": {
   "display_name": "Python 3",
   "language": "python",
   "name": "python3"
  },
  "language_info": {
   "codemirror_mode": {
    "name": "ipython",
    "version": 3
   },
   "file_extension": ".py",
   "mimetype": "text/x-python",
   "name": "python",
   "nbconvert_exporter": "python",
   "pygments_lexer": "ipython3",
   "version": "3.6.4"
  }
 },
 "nbformat": 4,
 "nbformat_minor": 2
}

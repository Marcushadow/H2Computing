{
 "cells": [
  {
   "cell_type": "code",
   "execution_count": 7,
   "metadata": {},
   "outputs": [
    {
     "name": "stdout",
     "output_type": "stream",
     "text": [
      "[1636, 3555, 3006, 653, 1665, 3865, 1447, 2568, 619, 2029]\n",
      "10\n"
     ]
    }
   ],
   "source": [
    "# Task 2.1\n",
    "def task2_1(filename):\n",
    "    with open(filename) as fs:\n",
    "#         Automatically closes the filestream\n",
    "        data = fs.read().split(\"\\n\")\n",
    "    \n",
    "        for i in range(len(data)):\n",
    "            data[i] = int(data[i])\n",
    "#             Convert to integer\n",
    "    return data\n",
    "\n",
    "result = task2_1(\"TEN.txt\")\n",
    "print(result)\n",
    "print(len(result))"
   ]
  },
  {
   "cell_type": "code",
   "execution_count": 12,
   "metadata": {},
   "outputs": [],
   "source": [
    "def task2_2(list_of_integers):\n",
    "    arr = []\n",
    "    for item in list_of_integers:\n",
    "        arr.append(item)\n",
    "    \n",
    "    for i in range(1,len(arr)):\n",
    "        insertVal = arr[i]\n",
    "        insertPos = i\n",
    "        \n",
    "        while(insertPos > 0 and arr[insertPos - 1] > insertVal):\n",
    "            arr[insertPos] = arr[insertPos - 1]\n",
    "            insertPos -= 1\n",
    "        \n",
    "        arr[insertPos] = insertVal\n",
    "        \n",
    "    return arr\n",
    "        "
   ]
  },
  {
   "cell_type": "code",
   "execution_count": 13,
   "metadata": {},
   "outputs": [
    {
     "name": "stdout",
     "output_type": "stream",
     "text": [
      "[619, 653, 1447, 1636, 1665, 2029, 2568, 3006, 3555, 3865]\n"
     ]
    }
   ],
   "source": [
    "print(task2_2(task2_1('TEN.txt')))"
   ]
  },
  {
   "cell_type": "code",
   "execution_count": 17,
   "metadata": {},
   "outputs": [],
   "source": [
    "# Task 2.3\n",
    "def task2_3(list_of_integers):\n",
    "    arr = []\n",
    "    for item in list_of_integers:\n",
    "        arr.append(item)\n",
    "    \n",
    "    quicksort(arr)\n",
    "    return arr\n",
    "\n",
    "def quicksort(arr, left = -1, right = -1):\n",
    "    if(left == right == -1):\n",
    "#         The start and end of the array\n",
    "        left = 0\n",
    "        right = len(arr)-1\n",
    "        \n",
    "    if(left < right):\n",
    "        pivot = partition(arr, left, right)\n",
    "        quicksort(arr, left, pivot-1)\n",
    "        quicksort(arr, pivot+1, right)\n",
    "        \n",
    "def partition(arr, left, right):\n",
    "    mid = (left+right)//2\n",
    "    pivVal = arr[mid]\n",
    "    arr[mid], arr[left] = arr[left], arr[mid]\n",
    "    \n",
    "    l = left+1\n",
    "    r = right\n",
    "    \n",
    "    while(l<= r):\n",
    "        while((l<=r) and arr[l] <= pivVal):\n",
    "            l += 1\n",
    "        \n",
    "        while((l<=r) and arr[r] > pivVal):\n",
    "            r-= 1\n",
    "            \n",
    "        if(l < r):\n",
    "            arr[l], arr[r] = arr[r], arr[l]\n",
    "            \n",
    "    arr[r], arr[left] = arr[left], arr[r]\n",
    "    return r\n",
    "    "
   ]
  },
  {
   "cell_type": "code",
   "execution_count": 18,
   "metadata": {},
   "outputs": [
    {
     "name": "stdout",
     "output_type": "stream",
     "text": [
      "[619, 653, 1447, 1636, 1665, 2029, 2568, 3006, 3555, 3865]\n"
     ]
    }
   ],
   "source": [
    "print(task2_3(task2_1('TEN.txt')))"
   ]
  },
  {
   "cell_type": "code",
   "execution_count": 24,
   "metadata": {},
   "outputs": [
    {
     "name": "stdout",
     "output_type": "stream",
     "text": [
      "--- Length of Ten ---\n",
      "\n",
      "Insertion Sort : 1.100000000064938e-05\n",
      "Quick Sort : 1.1499999999387e-05\n",
      "\n",
      "--- Length of Hundred ---\n",
      "\n",
      "Insertion Sort : 0.0002446999999961008\n",
      "Quick Sort : 8.140000001333192e-05\n",
      "\n",
      "--- Length of Thousand ---\n",
      "\n",
      "Insertion Sort : 0.030328600000004258\n",
      "Quick Sort : 0.0013342000000022836\n"
     ]
    }
   ],
   "source": [
    "# Task 2.4\n",
    "import timeit \n",
    "# Using the timeit library\n",
    "print(\"--- Length of Ten ---\\n\")\n",
    "arr10 = task2_1('TEN.txt')\n",
    "print(\"Insertion Sort :\", timeit.timeit(lambda: task2_2(arr10), number=1))\n",
    "print(\"Quick Sort :\", timeit.timeit(lambda: task2_3(arr10), number=1))\n",
    "\n",
    "print(\"\\n--- Length of Hundred ---\\n\")\n",
    "arr100 = task2_1('HUNDRED.txt')\n",
    "print(\"Insertion Sort :\", timeit.timeit(lambda: task2_2(arr100), number=1))\n",
    "print(\"Quick Sort :\", timeit.timeit(lambda: task2_3(arr100), number=1))\n",
    "\n",
    "print(\"\\n--- Length of Thousand ---\\n\")\n",
    "arr1000 = task2_1('THOUSAND.txt')\n",
    "print(\"Insertion Sort :\", timeit.timeit(lambda: task2_2(arr1000), number=1))\n",
    "print(\"Quick Sort :\", timeit.timeit(lambda: task2_3(arr1000), number=1))\n",
    "\n",
    "\n",
    "\n",
    "# Quicksort and Insertion Sort have similar times taken when the size is small\n",
    "# At larger data sizes, Quicksort is evidently faster\n",
    "# This is especially so as the most efficient pivot selection for was employed (the center)"
   ]
  },
  {
   "cell_type": "code",
   "execution_count": null,
   "metadata": {},
   "outputs": [],
   "source": []
  },
  {
   "cell_type": "code",
   "execution_count": null,
   "metadata": {},
   "outputs": [],
   "source": []
  }
 ],
 "metadata": {
  "kernelspec": {
   "display_name": "Python 3",
   "language": "python",
   "name": "python3"
  },
  "language_info": {
   "codemirror_mode": {
    "name": "ipython",
    "version": 3
   },
   "file_extension": ".py",
   "mimetype": "text/x-python",
   "name": "python",
   "nbconvert_exporter": "python",
   "pygments_lexer": "ipython3",
   "version": "3.6.4"
  }
 },
 "nbformat": 4,
 "nbformat_minor": 2
}

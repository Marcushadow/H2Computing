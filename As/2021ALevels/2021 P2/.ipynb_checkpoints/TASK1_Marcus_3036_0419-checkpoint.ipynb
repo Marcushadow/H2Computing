{
 "cells": [
  {
   "cell_type": "code",
   "execution_count": 3,
   "metadata": {},
   "outputs": [],
   "source": [
    "def task1_1(input_value):\n",
    "    input_value = str(input_value)\n",
    "    if(len(input_value) != 14):\n",
    "#         print(\"Incorrect Length\")\n",
    "        return -1\n",
    "    elif (not input_value.isnumeric()):\n",
    "#         print(\"Not Integers\")\n",
    "        return -1\n",
    "    else:\n",
    "        totalSum = 0\n",
    "        location = 1\n",
    "        for char in input_value[::-1]:\n",
    "            if(location%2 == 1):\n",
    "                output = str(int(char)*2)\n",
    "            else:\n",
    "                output = char\n",
    "            location += 1\n",
    "            \n",
    "            for v in output:\n",
    "                totalSum += int(v)\n",
    "                \n",
    "        if(totalSum%10 == 0):\n",
    "            return 0\n",
    "        else:  \n",
    "            return 10 -(totalSum%10)\n",
    "        "
   ]
  },
  {
   "cell_type": "code",
   "execution_count": null,
   "metadata": {},
   "outputs": [],
   "source": [
    "task1_1(\"14576567654934\")"
   ]
  },
  {
   "cell_type": "code",
   "execution_count": null,
   "metadata": {},
   "outputs": [],
   "source": [
    "testCases = [\n",
    "    \"00000000000000\", # Should return 0\n",
    "    \"1234567890123\", # Incorrect Length, -1\n",
    "    \"123456789A1234\", # Not Integers, -1\n",
    "    \"14576567654934\", # Should return 2\n",
    "]\n",
    "\n",
    "expected = [\n",
    "    0,\n",
    "    -1,\n",
    "    -1,\n",
    "    2\n",
    "]\n",
    "\n",
    "for i in range(len(testCases)):\n",
    "#     print(task1_1(testCases[i]))\n",
    "    print(task1_1(testCases[i]) == expected[i])\n",
    "\n",
    "# for testCase in testCases:\n",
    "#     print(f\"Test Value: {testCase}, output: {task1_1(testCase)}\")"
   ]
  },
  {
   "cell_type": "code",
   "execution_count": 4,
   "metadata": {},
   "outputs": [],
   "source": [
    "def task1_3(input_value):\n",
    "    input_value = str(input_value)\n",
    "    if(len(input_value) != 15 or not input_value.isnumeric()):\n",
    "        return False\n",
    "    else:\n",
    "        origIMEI = input_value[:-1]\n",
    "        checkDigit = task1_1(origIMEI)\n",
    "        \n",
    "        return checkDigit == int(input_value[-1])"
   ]
  },
  {
   "cell_type": "code",
   "execution_count": 8,
   "metadata": {},
   "outputs": [
    {
     "name": "stdout",
     "output_type": "stream",
     "text": [
      "True\n",
      "True\n",
      "True\n",
      "True\n"
     ]
    }
   ],
   "source": [
    "print(task1_3(\"000000000000000\"))\n",
    "print(not task1_3(\"000000000000001\"))\n",
    "print(not task1_3(\"00000000A000001\"))\n",
    "print(not task1_3(\"00000000000001\"))"
   ]
  },
  {
   "cell_type": "code",
   "execution_count": null,
   "metadata": {},
   "outputs": [],
   "source": []
  }
 ],
 "metadata": {
  "kernelspec": {
   "display_name": "Python 3",
   "language": "python",
   "name": "python3"
  },
  "language_info": {
   "codemirror_mode": {
    "name": "ipython",
    "version": 3
   },
   "file_extension": ".py",
   "mimetype": "text/x-python",
   "name": "python",
   "nbconvert_exporter": "python",
   "pygments_lexer": "ipython3",
   "version": "3.6.4"
  }
 },
 "nbformat": 4,
 "nbformat_minor": 2
}

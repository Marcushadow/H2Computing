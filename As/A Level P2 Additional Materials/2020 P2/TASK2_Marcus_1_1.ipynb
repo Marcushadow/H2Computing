{
 "cells": [
  {
   "cell_type": "code",
   "execution_count": 1,
   "metadata": {},
   "outputs": [],
   "source": [
    "# Task 2.1\n",
    "import random\n",
    "\n",
    "def task2_1(filename, quantity, maximum):\n",
    "    \n",
    "    with open(filename, \"a\") as fs:\n",
    "#         Automatically closes :D\n",
    "        for i in range(quantity):\n",
    "            fs.write(str(random.randint(0, maximum)) + \"\\n\" )\n",
    "            \n",
    "            \n",
    "        \n",
    "    "
   ]
  },
  {
   "cell_type": "code",
   "execution_count": 2,
   "metadata": {},
   "outputs": [],
   "source": [
    "task2_1(\"randomnumbers_Marcus_1_1.txt\", 1000, 5000)"
   ]
  },
  {
   "cell_type": "code",
   "execution_count": 2,
   "metadata": {},
   "outputs": [],
   "source": [
    "#task 2.2\n",
    "\n",
    "def merge(left, right):\n",
    "#              Mid is the start of the right array\n",
    "    final = []\n",
    "    \n",
    "    for i in range(len(left) + len(right)):\n",
    "        if(len(right) == 0 or (len(left) != 0 and left[0] <= right[0])):\n",
    "            final.append(left[0])\n",
    "            left.pop(0)\n",
    "            \n",
    "        else:\n",
    "            final.append(right[0])\n",
    "            right.pop(0)\n",
    "    \n",
    "    return final\n",
    "    \n",
    "            \n",
    "        \n",
    "    \n",
    "using namespace std;\n",
    "def task2_2(list_of_integers):\n",
    "    if(len(list_of_integers) == 1):\n",
    "        return list_of_integers\n",
    "    \n",
    "    else:\n",
    "        mid = len(list_of_integers) // 2\n",
    "#         Mid is the start of the right array\n",
    "\n",
    "        left = task2_2(list_of_integers[:mid])\n",
    "        right = task2_2(list_of_integers[mid:])\n",
    "        \n",
    "        return merge(left, right)\n",
    "        \n",
    "    \n",
    "    "
   ]
  },
  {
   "cell_type": "code",
   "execution_count": 3,
   "metadata": {},
   "outputs": [
    {
     "data": {
      "text/plain": [
       "True"
      ]
     },
     "execution_count": 3,
     "metadata": {},
     "output_type": "execute_result"
    }
   ],
   "source": [
    "task2_2([56,25,4,98,0,18,4,5,7,0]) == [0,0,4,4,5,7,18,25,56,98]"
   ]
  },
  {
   "cell_type": "code",
   "execution_count": 21,
   "metadata": {},
   "outputs": [],
   "source": [
    "#Task 2.3\n",
    "\n",
    "def task2_3(filename_in, filename_out):\n",
    "    with open(filename_in) as fs:\n",
    "#         Auto closes\n",
    "        data = fs.read().strip(\"\\n\").split(\"\\n\")\n",
    "        \n",
    "        for i in range(len(data)):\n",
    "            data[i] = int(data[i])\n",
    "            \n",
    "        sortedData = task2_2(data)\n",
    "        \n",
    "    with open(filename_out, \"w\") as fs:\n",
    "#         Auto closes\n",
    "        for number in sortedData:\n",
    "            fs.write(str(number) + \"\\n\")\n",
    "        \n",
    "        "
   ]
  },
  {
   "cell_type": "code",
   "execution_count": 22,
   "metadata": {},
   "outputs": [],
   "source": [
    "task2_3(\"randomnumbers_Marcus_1_1.txt\", \"sortednumbers_Marcus_1_1.txt\")"
   ]
  },
  {
   "cell_type": "code",
   "execution_count": null,
   "metadata": {},
   "outputs": [],
   "source": []
  }
 ],
 "metadata": {
  "kernelspec": {
   "display_name": "Python 3",
   "language": "python",
   "name": "python3"
  },
  "language_info": {
   "codemirror_mode": {
    "name": "ipython",
    "version": 3
   },
   "file_extension": ".py",
   "mimetype": "text/x-python",
   "name": "python",
   "nbconvert_exporter": "python",
   "pygments_lexer": "ipython3",
   "version": "3.6.4"
  }
 },
 "nbformat": 4,
 "nbformat_minor": 2
}

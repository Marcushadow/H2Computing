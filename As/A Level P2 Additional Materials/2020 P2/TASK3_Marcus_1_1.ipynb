{
 "cells": [
  {
   "cell_type": "code",
   "execution_count": 1,
   "metadata": {},
   "outputs": [],
   "source": [
    "#Task 3.1\n",
    "\n",
    "def task3_1(quantity_of_data):\n",
    "    amount = {\n",
    "        \"KB\" : 10**3,\n",
    "        \"MB\" : 10**6,\n",
    "        \"GB\" : 10**9,\n",
    "        \"TB\" : 10**12\n",
    "    }\n",
    "    \n",
    "    actl = quantity_of_data[-2:]\n",
    "    \n",
    "    if(actl in amount.keys() and quantity_of_data[:-2].isdigit()):\n",
    "        amount = int(quantity_of_data[:-2]) * amount[actl]\n",
    "        print(amount)\n",
    "        return amount\n",
    "    else:\n",
    "        print(\"invalid data\")\n",
    "        return 0\n",
    "    "
   ]
  },
  {
   "cell_type": "code",
   "execution_count": 5,
   "metadata": {},
   "outputs": [
    {
     "name": "stdout",
     "output_type": "stream",
     "text": [
      "\n",
      "incorrect cases: \n",
      "invalid data\n",
      "invalid data\n",
      "invalid data\n",
      "invalid data\n",
      "\n",
      "correct cases: \n",
      "100000000\n",
      "92000\n",
      "30000000000\n",
      "132000000000000\n"
     ]
    }
   ],
   "source": [
    "cases = {\n",
    "    \"incorrect\": [\"10kB\", \"FourMB\", \"1nine2GB\", \"9Tb\"],\n",
    "    \"correct\" : [\"100MB\", \"92KB\", \"30GB\", \"132TB\"]\n",
    "}\n",
    "\n",
    "for ways in cases.keys():\n",
    "    print()\n",
    "    print(f\"{ways} cases: \")\n",
    "    \n",
    "    for testCase in cases[ways]:\n",
    "        task3_1(testCase)\n",
    "\n"
   ]
  },
  {
   "cell_type": "code",
   "execution_count": 9,
   "metadata": {},
   "outputs": [],
   "source": [
    "#Task 3.2\n",
    "\n",
    "def task3_2(quantity_of_data):\n",
    "    newUnits = {\n",
    "        \"KiB\" : 2**10,\n",
    "        \"MiB\" : 2**20,\n",
    "        \"GiB\" : 2**30,\n",
    "        \"TiB\" : 2**40\n",
    "    }\n",
    "    \n",
    "    oldUnits = {\n",
    "        \"KB\" : 10**3,\n",
    "        \"MB\" : 10**6,\n",
    "        \"GB\" : 10**9,\n",
    "        \"TB\" : 10**12\n",
    "    }\n",
    "    \n",
    "    if(quantity_of_data[-2:] in oldUnits.keys() and quantity_of_data[:-2].isdigit()):\n",
    "        return task3_1(quantity_of_data)\n",
    "    else:\n",
    "        trailing = quantity_of_data[-3:]\n",
    "        \n",
    "        if(trailing in newUnits.keys() and quantity_of_data[:-3].isdigit()):\n",
    "            amount = int(quantity_of_data[:-3]) * newUnits[trailing]\n",
    "            \n",
    "            print(amount)\n",
    "            return amount\n",
    "            \n",
    "            \n",
    "        else:\n",
    "            print(\"invalid data\")\n",
    "            return 0"
   ]
  },
  {
   "cell_type": "code",
   "execution_count": 10,
   "metadata": {},
   "outputs": [
    {
     "name": "stdout",
     "output_type": "stream",
     "text": [
      "10737418240\n"
     ]
    },
    {
     "data": {
      "text/plain": [
       "10737418240"
      ]
     },
     "execution_count": 10,
     "metadata": {},
     "output_type": "execute_result"
    }
   ],
   "source": [
    "task3_2(\"10GiB\")"
   ]
  },
  {
   "cell_type": "code",
   "execution_count": 11,
   "metadata": {},
   "outputs": [
    {
     "name": "stdout",
     "output_type": "stream",
     "text": [
      "\n",
      "incorrect cases: \n",
      "invalid data\n",
      "10kB: 0\n",
      "invalid data\n",
      "FourMB: 0\n",
      "invalid data\n",
      "1nine2GB: 0\n",
      "invalid data\n",
      "9Tb: 0\n",
      "invalid data\n",
      "90GIB: 0\n",
      "\n",
      "correct cases: \n",
      "100000000\n",
      "100MB: 100000000\n",
      "92000\n",
      "92KB: 92000\n",
      "30000000000\n",
      "30GB: 30000000000\n",
      "132000000000000\n",
      "132TB: 132000000000000\n",
      "invalid data\n",
      "90GiB: 0\n"
     ]
    }
   ],
   "source": [
    "cases = {\n",
    "    \"incorrect\": [\"10kB\", \"FourMB\", \"1nine2GB\", \"9Tb\", \"90GIB\"],\n",
    "    \"correct\" : [\"100MB\", \"92KB\", \"30GB\", \"132TB\", \"90GiB\"]\n",
    "}\n",
    "\n",
    "for ways in cases.keys():\n",
    "    print()\n",
    "    print(f\"{ways} cases: \")\n",
    "    \n",
    "    for testCase in cases[ways]:\n",
    "        print(f\"{testCase}: {task3_1(testCase)}\")\n",
    "        \n",
    "\n"
   ]
  },
  {
   "cell_type": "code",
   "execution_count": 12,
   "metadata": {},
   "outputs": [],
   "source": [
    "#Task 3.3\n",
    "\n",
    "def task3_3(quantity_of_data, target_unit):\n",
    "    allUnits = {\n",
    "        \"KiB\" : 2**10,\n",
    "        \"MiB\" : 2**20,\n",
    "        \"GiB\" : 2**30,\n",
    "        \"TiB\" : 2**40,\n",
    "        \"KB\" : 10**3,\n",
    "        \"MB\" : 10**6,\n",
    "        \"GB\" : 10**9,\n",
    "        \"TB\" : 10**12\n",
    "    }\n",
    "    \n",
    "    if( target_unit in allUnits.keys() and(quantity_of_data[-2:] in allUnits.keys() or quantity_of_data[-3:] in allUnits.keys())):\n",
    "        \n",
    "    \n",
    "        numOfBytes = task3_2(quantity_of_data)\n",
    "        \n",
    "        converted = numOfBytes / allUnits[target_unit]\n",
    "        \n",
    "        print(f\"{converted}{target_unit}\")\n",
    "        return converted\n",
    "        \n",
    "    else:\n",
    "        print(\"invalid arguments\")\n",
    "        return 0\n",
    "    \n",
    "    "
   ]
  },
  {
   "cell_type": "code",
   "execution_count": 13,
   "metadata": {},
   "outputs": [
    {
     "name": "stdout",
     "output_type": "stream",
     "text": [
      "536870912\n",
      "0.5GiB\n"
     ]
    },
    {
     "data": {
      "text/plain": [
       "0.5"
      ]
     },
     "execution_count": 13,
     "metadata": {},
     "output_type": "execute_result"
    }
   ],
   "source": [
    "task3_3(\"512MiB\", \"GiB\")"
   ]
  },
  {
   "cell_type": "code",
   "execution_count": 16,
   "metadata": {},
   "outputs": [
    {
     "name": "stdout",
     "output_type": "stream",
     "text": [
      "214748364800\n",
      "214.7483648GB\n"
     ]
    },
    {
     "data": {
      "text/plain": [
       "214.7483648"
      ]
     },
     "execution_count": 16,
     "metadata": {},
     "output_type": "execute_result"
    }
   ],
   "source": [
    "task3_3(\"200GiB\", \"GB\")"
   ]
  },
  {
   "cell_type": "code",
   "execution_count": 17,
   "metadata": {},
   "outputs": [
    {
     "name": "stdout",
     "output_type": "stream",
     "text": [
      "512000000000\n",
      "476.837158203125GiB\n"
     ]
    },
    {
     "data": {
      "text/plain": [
       "476.837158203125"
      ]
     },
     "execution_count": 17,
     "metadata": {},
     "output_type": "execute_result"
    }
   ],
   "source": [
    "task3_3(\"512GB\", \"GiB\")"
   ]
  },
  {
   "cell_type": "code",
   "execution_count": null,
   "metadata": {},
   "outputs": [],
   "source": []
  }
 ],
 "metadata": {
  "kernelspec": {
   "display_name": "Python 3",
   "language": "python",
   "name": "python3"
  },
  "language_info": {
   "codemirror_mode": {
    "name": "ipython",
    "version": 3
   },
   "file_extension": ".py",
   "mimetype": "text/x-python",
   "name": "python",
   "nbconvert_exporter": "python",
   "pygments_lexer": "ipython3",
   "version": "3.6.4"
  }
 },
 "nbformat": 4,
 "nbformat_minor": 2
}

{
 "cells": [
  {
   "cell_type": "code",
   "execution_count": 2,
   "metadata": {},
   "outputs": [],
   "source": [
    "# Task 1.1\n",
    "\n",
    "character = input(\"Please enter a character\")\n",
    "charOrd = ord(character)\n",
    "while((not character.isalpha()) or (not len(character) == 1)):\n",
    "    if(len(character) != 1):\n",
    "        print(\"Incorrect Length\")\n",
    "    if(not character.is_alpha()):\n",
    "        print(\"Not an alphabet\")\n",
    "    character = input(\"Please enter a character\")\n",
    "     \n"
   ]
  },
  {
   "cell_type": "code",
   "execution_count": 7,
   "metadata": {},
   "outputs": [
    {
     "name": "stdout",
     "output_type": "stream",
     "text": [
      "Character: m\n",
      "Denary: 109\n",
      "Number base 14 : 7B\n"
     ]
    }
   ],
   "source": [
    "#Task 1.2\n",
    "\n",
    "# Task 1.1\n",
    "\n",
    "character = input(\"Please enter a character\")\n",
    "charOrd = ord(character)\n",
    "while((not character.isalpha()) or (not len(character) == 1)):\n",
    "    if(len(character) != 1):\n",
    "        print(\"Incorrect Length\")\n",
    "    if(not character.is_alpha()):\n",
    "        print(\"Not an alphabet\")\n",
    "    character = input(\"Please enter a character\")\n",
    "    charOrd = ord(character)\n",
    "     \n",
    "\n",
    "numBase = input(\"Enter a number base:\")\n",
    "if((not numBase.isdigit()) or (int(numBase)<=10) or (int(numBase)>=15)):\n",
    "    if(not numBase.isdigit()):\n",
    "        print(\"Not a number\")\n",
    "    else:\n",
    "        print(\"Out of range\")\n",
    "    numBase = input(\"Enter a number base:\")\n",
    "\n",
    "numBase = int(numBase)\n",
    "tempValue = charOrd\n",
    "output = \"\"\n",
    "while(tempValue != 0):\n",
    "    outputChar = \"0123456789ABCDE\"\n",
    "    remainder = tempValue % numBase\n",
    "    tempValue = tempValue//numBase\n",
    "    output = outputChar[remainder] + output\n",
    "\n",
    "print(\"Character:\", character)\n",
    "print(\"Denary:\", charOrd)\n",
    "print(\"Number base\", numBase ,\":\", output)\n"
   ]
  },
  {
   "cell_type": "code",
   "execution_count": 10,
   "metadata": {},
   "outputs": [
    {
     "name": "stdout",
     "output_type": "stream",
     "text": [
      "\n",
      "    1. Enter a Letter\n",
      "    2. Convert to Denary\n",
      "    3. Convert to Base 11\n",
      "    4. Convert to Base 12\n",
      "    5. Convert to Base 13\n",
      "    6. Convert to Base 14\n",
      "    7. End\n",
      "\n",
      "\n",
      "    1. Enter a Letter\n",
      "    2. Convert to Denary\n",
      "    3. Convert to Base 11\n",
      "    4. Convert to Base 12\n",
      "    5. Convert to Base 13\n",
      "    6. Convert to Base 14\n",
      "    7. End\n",
      "\n",
      "6A\n",
      "\n",
      "    1. Enter a Letter\n",
      "    2. Convert to Denary\n",
      "    3. Convert to Base 11\n",
      "    4. Convert to Base 12\n",
      "    5. Convert to Base 13\n",
      "    6. Convert to Base 14\n",
      "    7. End\n",
      "\n"
     ]
    }
   ],
   "source": [
    "#Task 1.3\n",
    "\n",
    "menuText = \"\"\"\n",
    "    1. Enter a Letter\n",
    "    2. Convert to Denary\n",
    "    3. Convert to Base 11\n",
    "    4. Convert to Base 12\n",
    "    5. Convert to Base 13\n",
    "    6. Convert to Base 14\n",
    "    7. End\n",
    "\"\"\"\n",
    "\n",
    "\n",
    "def convert_numBase(charac, numBase):\n",
    "    tempValue = charac\n",
    "    output = \"\"\n",
    "    while(tempValue != 0):\n",
    "        outputChar = \"0123456789ABCDE\"\n",
    "        remainder = tempValue % numBase\n",
    "        tempValue = tempValue//numBase\n",
    "        output = outputChar[remainder] + output\n",
    "    \n",
    "    return output\n",
    "\n",
    "storedChar = 0\n",
    "\n",
    "print(menuText)\n",
    "instruction = input(\"Please enter an instruction: \")\n",
    "\n",
    "while(instruction != \"7\"):\n",
    "    if(not instruction.isdigit()):\n",
    "        print(\"Must be a digit\")\n",
    "    elif((not int(instruction) <= 6) or int(instruction) <= 0 ):\n",
    "        print(\"Invalid instruction code\")\n",
    "    else:\n",
    "        if(instruction == \"1\"):\n",
    "            character = input(\"Please enter a character\")\n",
    "            storedChar = ord(character)\n",
    "            while((not character.isalpha()) or (not len(character) == 1)):\n",
    "                if(len(character) != 1):\n",
    "                    print(\"Incorrect Length\")\n",
    "                if(not character.is_alpha()):\n",
    "                    print(\"Not an alphabet\")\n",
    "                character = input(\"Please enter a character\")\n",
    "                storedChar = ord(character)\n",
    "        \n",
    "        else:\n",
    "            menuNumBase = 8 + int(instruction)\n",
    "            print(convert_numBase(storedChar, menuNumBase))\n",
    "    \n",
    "    print(menuText)\n",
    "    instruction = input(\"Please enter an instruction: \")\n",
    "        \n",
    "\n"
   ]
  },
  {
   "cell_type": "code",
   "execution_count": null,
   "metadata": {},
   "outputs": [],
   "source": []
  }
 ],
 "metadata": {
  "kernelspec": {
   "display_name": "Python 3.8.7 64-bit",
   "language": "python",
   "name": "python3"
  },
  "language_info": {
   "codemirror_mode": {
    "name": "ipython",
    "version": 3
   },
   "file_extension": ".py",
   "mimetype": "text/x-python",
   "name": "python",
   "nbconvert_exporter": "python",
   "pygments_lexer": "ipython3",
   "version": "3.8.7"
  },
  "orig_nbformat": 4,
  "vscode": {
   "interpreter": {
    "hash": "79b5e9c4981b2ed0fae48cae49f290910e4ab927bd3333490b62cb47eeb76658"
   }
  }
 },
 "nbformat": 4,
 "nbformat_minor": 2
}

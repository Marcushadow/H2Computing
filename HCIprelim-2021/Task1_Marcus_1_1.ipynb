{
 "cells": [
  {
   "cell_type": "code",
   "execution_count": 12,
   "metadata": {},
   "outputs": [
    {
     "name": "stdout",
     "output_type": "stream",
     "text": [
      "[2, 4, 5, 7, 7, 9, 12, 16, 19, 23, 27, 27, 28, 31, 31, 39, 42, 43, 45, 46, 46, 47, 50, 53, 56, 57, 58, 63, 64, 65, 69, 69, 76, 78, 79, 82, 83, 85, 88, 92, 94, 99, 100, 100, 101, 106, 106, 113, 118, 120, 120, 121, 122, 123, 123, 125, 129, 129, 130, 130, 134, 135, 137, 142, 142, 143, 144, 145, 145, 146, 147, 149, 149, 149, 151, 154, 154, 154, 159, 160, 162, 163, 167, 171, 172, 173, 174, 176, 182, 183, 186, 187, 190, 191, 191, 192, 193, 194, 197, 200]\n"
     ]
    }
   ],
   "source": [
    "# Task 1.1\n",
    "\n",
    "with open(\"INTEGERS.txt\") as fs:\n",
    "    data = fs.read().split(\"\\n\")[:-1]\n",
    "    data = [int(d) for d in data]\n",
    "\n",
    "def quicksort(arr, left = -1, right = -1):\n",
    "    if(left == right == -1):\n",
    "        left = 0\n",
    "        right = len(arr) - 1\n",
    "    \n",
    "    if(left < right):\n",
    "        pivot = partition(arr, left, right)\n",
    "        quicksort(arr, left, pivot - 1)\n",
    "        quicksort(arr, pivot + 1, right)\n",
    "\n",
    "def partition(arr, left, right):\n",
    "    pivVal = arr[left]\n",
    "    l = left + 1\n",
    "    r = right\n",
    "\n",
    "    while(l <= r):\n",
    "        while((l <= r) and arr[l] <= pivVal):\n",
    "            l += 1\n",
    "        \n",
    "        while((l <= r) and arr[r] > pivVal):\n",
    "            r -= 1\n",
    "        \n",
    "        if((l <= r)):\n",
    "            arr[r], arr[l] = arr[l], arr[r]\n",
    "        \n",
    "    arr[r], arr[left] = arr[left], arr[r]\n",
    "    return r\n",
    "\n",
    "quicksort(data)\n",
    "print(data)\n",
    "\n",
    "with open(\"SORTED_Marcus_1_1.txt\", \"w\") as fs:\n",
    "    data = [str(d) for d in data]\n",
    "    fs.write(\"\\n\".join(data))\n",
    "    "
   ]
  },
  {
   "cell_type": "code",
   "execution_count": 15,
   "metadata": {},
   "outputs": [],
   "source": [
    "#Task 1.2\n",
    "\n",
    "def BinarySearch(list_of_integers, target):\n",
    "    comparison = 0\n",
    "    found = False\n",
    "    left = 0\n",
    "    right = len(list_of_integers) - 1\n",
    "    while(left <= right and not found):\n",
    "        comparison += 1\n",
    "        mid = (left + right) //2\n",
    "        if(list_of_integers[mid] == target):\n",
    "            found = True\n",
    "        \n",
    "        elif(list_of_integers[mid] > target):\n",
    "            right = mid - 1\n",
    "        \n",
    "        else:\n",
    "            left = mid + 1\n",
    "    \n",
    "    if found:\n",
    "        print(target)\n",
    "            \n",
    "    return comparison\n",
    "\n",
    "\n"
   ]
  },
  {
   "cell_type": "code",
   "execution_count": 18,
   "metadata": {},
   "outputs": [
    {
     "name": "stdout",
     "output_type": "stream",
     "text": [
      "82\n",
      "56\n",
      "154\n",
      "56\n",
      "53\n",
      "50\n",
      "42\n",
      "130\n",
      "56\n",
      "76\n",
      "146\n",
      "135\n",
      "113\n",
      "122\n",
      "145\n",
      "65\n",
      "16\n",
      "7\n",
      "186\n",
      "58\n",
      "58\n",
      "171\n",
      "78\n",
      "190\n",
      "Average: 6\n"
     ]
    }
   ],
   "source": [
    "#Task 1.3\n",
    "\n",
    "import random\n",
    "\n",
    "with open(\"SORTED_Marcus_1_1.txt\") as fs:\n",
    "    contents = fs.read().split(\"\\n\")\n",
    "    contents = [int(d) for d in contents]\n",
    "\n",
    "sumVal = 0\n",
    "for i in range(50):\n",
    "    randomValue = random.randint(1,200)\n",
    "    sumVal += BinarySearch(contents, randomValue)\n",
    "\n",
    "print(\"Average:\", sumVal//50)\n",
    "    "
   ]
  },
  {
   "cell_type": "code",
   "execution_count": null,
   "metadata": {},
   "outputs": [],
   "source": []
  }
 ],
 "metadata": {
  "kernelspec": {
   "display_name": "Python 3.8.7 64-bit",
   "language": "python",
   "name": "python3"
  },
  "language_info": {
   "codemirror_mode": {
    "name": "ipython",
    "version": 3
   },
   "file_extension": ".py",
   "mimetype": "text/x-python",
   "name": "python",
   "nbconvert_exporter": "python",
   "pygments_lexer": "ipython3",
   "version": "3.8.7"
  },
  "orig_nbformat": 4,
  "vscode": {
   "interpreter": {
    "hash": "79b5e9c4981b2ed0fae48cae49f290910e4ab927bd3333490b62cb47eeb76658"
   }
  }
 },
 "nbformat": 4,
 "nbformat_minor": 2
}

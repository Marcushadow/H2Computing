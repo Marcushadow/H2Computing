{
 "cells": [
  {
   "cell_type": "code",
   "execution_count": 32,
   "metadata": {},
   "outputs": [],
   "source": [
    "# Task 4.1\n",
    "import random\n",
    "theBoard = [\n",
    "    ['.', '.', '.', '.'],\n",
    "    ['.', '.', '.', '.'],\n",
    "    ['.', '.', '.', '.'],\n",
    "    ['.', '.', '.', '.']\n",
    "]\n",
    "\n",
    "x = random.randint(0,3)\n",
    "y = random.randint(0,3)\n",
    "\n",
    "theBoard[x][y] = \"T\"\n",
    "\n"
   ]
  },
  {
   "cell_type": "code",
   "execution_count": 9,
   "metadata": {},
   "outputs": [
    {
     "name": "stdout",
     "output_type": "stream",
     "text": [
      ". . . . \n",
      ". T . . \n",
      ". . . . \n",
      ". . . . \n"
     ]
    }
   ],
   "source": [
    "# Task 4.2\n",
    "\n",
    "def displayBoard(board):\n",
    "    for i in range(4):\n",
    "        for j in range(4):\n",
    "            print(board[i][j], end=\" \")\n",
    "        print()\n",
    "\n"
   ]
  },
  {
   "cell_type": "code",
   "execution_count": 23,
   "metadata": {},
   "outputs": [
    {
     "name": "stdout",
     "output_type": "stream",
     "text": [
      ". X . . \n",
      ". T X . \n",
      ". . . . \n",
      ". . . . \n"
     ]
    }
   ],
   "source": [
    "# Task 4.3\n",
    "\n",
    "def getPlayerMove(board, xInp, yInp, playerCounter):\n",
    "\n",
    "    if(playerCounter not in [\"X\", \"O\"]):\n",
    "        print(\"Invalid Player\")\n",
    "    elif( (not isinstance(yInp, int)) or (not isinstance(xInp, int)) or xInp < 1 or xInp > 4 or yInp < 1 or yInp > 4):\n",
    "        print(\"Invalid Coordinates\")\n",
    "    else:\n",
    "        xInp -= 1\n",
    "        yInp -= 1\n",
    "        if(board[xInp][yInp] != '.'):\n",
    "            print(\"Occupied\")\n",
    "        else:\n",
    "            board[xInp][yInp] = playerCounter\n",
    "\n",
    "getPlayerMove(theBoard,1,2,\"X\")\n",
    "displayBoard(theBoard)\n"
   ]
  },
  {
   "cell_type": "code",
   "execution_count": 37,
   "metadata": {},
   "outputs": [],
   "source": [
    "def checkList(arr):\n",
    "    won = False\n",
    "    if('.' not in arr):\n",
    "        if (not(\"X\" in arr and \"O\" in arr)):\n",
    "            won = True\n",
    "    \n",
    "    return won\n",
    "\n",
    "def checkWin(board):\n",
    "    won = False\n",
    "    diag1 = []\n",
    "    diag2 = []\n",
    "\n",
    "    for i in range(4):\n",
    "        colLine = []\n",
    "        rowLine = []\n",
    "        \n",
    "        diag1.append(board[i][i])\n",
    "        diag2.append(board[i][3-i])\n",
    "        \n",
    "        for j in range(4):\n",
    "            colLine.append(board[j][i])\n",
    "            rowLine.append(board[i][j])\n",
    "        \n",
    "        if(checkList(colLine)):\n",
    "            won = True\n",
    "        \n",
    "        if(checkList(rowLine)):\n",
    "            won = True\n",
    "            \n",
    "    if(checkList(diag1)):\n",
    "        won = True\n",
    "    \n",
    "    if(checkList(diag2)):\n",
    "        won = True\n",
    "\n",
    "    \n",
    "    return won"
   ]
  },
  {
   "cell_type": "code",
   "execution_count": 38,
   "metadata": {},
   "outputs": [
    {
     "name": "stdout",
     "output_type": "stream",
     "text": [
      "Occupied\n",
      "True\n",
      ". X . X \n",
      ". T . . \n",
      ". X . . \n",
      ". X . . \n"
     ]
    }
   ],
   "source": [
    "getPlayerMove(theBoard,4,2,\"X\")\n",
    "print(checkWin(theBoard))\n",
    "displayBoard(theBoard)"
   ]
  },
  {
   "cell_type": "code",
   "execution_count": 44,
   "metadata": {},
   "outputs": [
    {
     "name": "stdout",
     "output_type": "stream",
     "text": [
      ". . . . \n",
      ". . . . \n",
      ". . . T \n",
      ". . . . \n",
      "~~~~~~~~~~~~~~~~~~~~\n",
      "Player X\n",
      "~~~~~~~~~~~~~~~~~~~~\n",
      ". X . . \n",
      ". . . . \n",
      ". . . T \n",
      ". . . . \n",
      "~~~~~~~~~~~~~~~~~~~~\n",
      "Player O\n",
      "~~~~~~~~~~~~~~~~~~~~\n",
      "O X . . \n",
      ". . . . \n",
      ". . . T \n",
      ". . . . \n",
      "~~~~~~~~~~~~~~~~~~~~\n",
      "Player X\n",
      "~~~~~~~~~~~~~~~~~~~~\n",
      "O X X . \n",
      ". . . . \n",
      ". . . T \n",
      ". . . . \n",
      "~~~~~~~~~~~~~~~~~~~~\n",
      "Player O\n",
      "~~~~~~~~~~~~~~~~~~~~\n",
      "Occupied\n",
      "O X X . \n",
      ". . . . \n",
      ". . . T \n",
      ". . . . \n",
      "~~~~~~~~~~~~~~~~~~~~\n",
      "Player X\n",
      "~~~~~~~~~~~~~~~~~~~~\n"
     ]
    },
    {
     "ename": "ValueError",
     "evalue": "invalid literal for int() with base 10: ''",
     "output_type": "error",
     "traceback": [
      "\u001b[1;31m---------------------------------------------------------------------------\u001b[0m",
      "\u001b[1;31mValueError\u001b[0m                                Traceback (most recent call last)",
      "\u001b[1;32m<ipython-input-44-1acba5597367>\u001b[0m in \u001b[0;36m<module>\u001b[1;34m\u001b[0m\n\u001b[0;32m     56\u001b[0m \u001b[1;33m\u001b[0m\u001b[0m\n\u001b[0;32m     57\u001b[0m \u001b[1;33m\u001b[0m\u001b[0m\n\u001b[1;32m---> 58\u001b[1;33m \u001b[0mmain\u001b[0m\u001b[1;33m(\u001b[0m\u001b[1;33m)\u001b[0m\u001b[1;33m\u001b[0m\u001b[1;33m\u001b[0m\u001b[0m\n\u001b[0m",
      "\u001b[1;32m<ipython-input-44-1acba5597367>\u001b[0m in \u001b[0;36mmain\u001b[1;34m()\u001b[0m\n\u001b[0;32m     28\u001b[0m         \u001b[0mprint\u001b[0m\u001b[1;33m(\u001b[0m\u001b[1;34mf\"Player {lp}\"\u001b[0m\u001b[1;33m)\u001b[0m\u001b[1;33m\u001b[0m\u001b[1;33m\u001b[0m\u001b[0m\n\u001b[0;32m     29\u001b[0m         \u001b[0mprint\u001b[0m\u001b[1;33m(\u001b[0m\u001b[1;34m\"~\"\u001b[0m\u001b[1;33m*\u001b[0m\u001b[1;36m20\u001b[0m\u001b[1;33m)\u001b[0m\u001b[1;33m\u001b[0m\u001b[1;33m\u001b[0m\u001b[0m\n\u001b[1;32m---> 30\u001b[1;33m         \u001b[0mxVal\u001b[0m \u001b[1;33m=\u001b[0m \u001b[0mint\u001b[0m\u001b[1;33m(\u001b[0m\u001b[0minput\u001b[0m\u001b[1;33m(\u001b[0m\u001b[1;34m\"Input ur Row: \"\u001b[0m\u001b[1;33m)\u001b[0m\u001b[1;33m)\u001b[0m\u001b[1;33m\u001b[0m\u001b[1;33m\u001b[0m\u001b[0m\n\u001b[0m\u001b[0;32m     31\u001b[0m         \u001b[0myVal\u001b[0m \u001b[1;33m=\u001b[0m \u001b[0mint\u001b[0m\u001b[1;33m(\u001b[0m\u001b[0minput\u001b[0m\u001b[1;33m(\u001b[0m\u001b[1;34m\"Input ur Col: \"\u001b[0m\u001b[1;33m)\u001b[0m\u001b[1;33m)\u001b[0m\u001b[1;33m\u001b[0m\u001b[1;33m\u001b[0m\u001b[0m\n\u001b[0;32m     32\u001b[0m \u001b[1;33m\u001b[0m\u001b[0m\n",
      "\u001b[1;31mValueError\u001b[0m: invalid literal for int() with base 10: ''"
     ]
    }
   ],
   "source": [
    "#Task 4.5\n",
    "\n",
    "def emptyExists(board):\n",
    "    empty = False\n",
    "    for i in range(4):\n",
    "        if (\".\" in board[i]):\n",
    "            empty = True\n",
    "    return empty\n",
    "\n",
    "def main():\n",
    "    mainBoard = [\n",
    "        ['.', '.', '.', '.'],\n",
    "        ['.', '.', '.', '.'],\n",
    "        ['.', '.', '.', '.'],\n",
    "        ['.', '.', '.', '.']\n",
    "    ]\n",
    "\n",
    "    x = random.randint(0,3)\n",
    "    y = random.randint(0,3)\n",
    "\n",
    "    lp = \"X\"\n",
    "    mainBoard[x][y] = \"T\"\n",
    "    displayBoard(mainBoard)\n",
    "\n",
    "    while((not checkWin(mainBoard)) or (not emptyExists(mainBoard))):\n",
    "\n",
    "        print(\"~\"*20)\n",
    "        print(f\"Player {lp}\")\n",
    "        print(\"~\"*20)\n",
    "        xVal = int(input(\"Input ur Row: \"))\n",
    "        yVal = int(input(\"Input ur Col: \"))\n",
    "\n",
    "        getPlayerMove(mainBoard, xVal, yVal, lp)\n",
    "\n",
    "        if(lp == \"X\"):\n",
    "            lp = \"O\"\n",
    "        else:\n",
    "            lp = \"X\"\n",
    "\n",
    "        displayBoard(mainBoard)\n",
    "    \n",
    "    if(checkWin):\n",
    "        if(lp == \"X\"):\n",
    "            print(\"O wins\")\n",
    "        else:\n",
    "            print(\"X wins\")\n",
    "\n",
    "    else:\n",
    "        print(\"Draw\")\n",
    "        \n",
    "    \n",
    "\n",
    "\n",
    "        \n",
    "\n",
    "\n",
    "\n",
    "main()"
   ]
  },
  {
   "cell_type": "code",
   "execution_count": null,
   "metadata": {},
   "outputs": [],
   "source": []
  }
 ],
 "metadata": {
  "kernelspec": {
   "display_name": "Python 3.8.7 64-bit",
   "language": "python",
   "name": "python3"
  },
  "language_info": {
   "codemirror_mode": {
    "name": "ipython",
    "version": 3
   },
   "file_extension": ".py",
   "mimetype": "text/x-python",
   "name": "python",
   "nbconvert_exporter": "python",
   "pygments_lexer": "ipython3",
   "version": "3.8.7"
  },
  "orig_nbformat": 4,
  "vscode": {
   "interpreter": {
    "hash": "79b5e9c4981b2ed0fae48cae49f290910e4ab927bd3333490b62cb47eeb76658"
   }
  }
 },
 "nbformat": 4,
 "nbformat_minor": 2
}

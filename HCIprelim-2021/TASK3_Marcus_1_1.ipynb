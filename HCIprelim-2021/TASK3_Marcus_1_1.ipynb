{
 "cells": [
  {
   "cell_type": "code",
   "execution_count": 33,
   "metadata": {},
   "outputs": [],
   "source": [
    "#Task 3.1\n",
    "\n",
    "class Node:\n",
    "    def __init__(self, value = \"\", Priority = 0):\n",
    "        self.Data = value\n",
    "        self.Priority = Priority\n",
    "        self.Next = None\n",
    "    \n",
    "    def setData(self, newData):\n",
    "        self.Data = newData\n",
    "    \n",
    "    def getData(self):\n",
    "        return self.Data\n",
    "    \n",
    "    def setNext(self, newNext):\n",
    "        self.Next = newNext\n",
    "    \n",
    "    def getNext(self):\n",
    "        return self.Next\n",
    "\n",
    "    def setPriority(self, newPriority):\n",
    "        self.Priority = newPriority\n",
    "    \n",
    "    def getPriority(self):\n",
    "        return self.Priority\n",
    "\n",
    "class PQueue:\n",
    "    def Initialise(self):\n",
    "        self.ThisPQueue = []\n",
    "        for i in range(10):\n",
    "            tempNode = Node()\n",
    "            tempNode.setNext((i+2)%11 -1)\n",
    "            self.ThisPQueue.append(tempNode)\n",
    "        \n",
    "        self.Front = -1\n",
    "        self.Rear = -1\n",
    "        self.NextFree = 0\n",
    "    \n",
    "    def DisplayPQueue(self):\n",
    "        print(f\"Front: {self.Front}, Rear: {self.Rear}, NextFree: {self.NextFree}\")\n",
    "        for i in range(10):\n",
    "            print(f\"Index: {i} , Data: {self.ThisPQueue[i].getData()} , Priority: {self.ThisPQueue[i].getPriority()} , Next: {self.ThisPQueue[i].getNext()}\")\n",
    "\n",
    "    \n",
    "    def PQInsert(self, NewItem, Priority):\n",
    "        if(self.NextFree != -1):\n",
    "            self.ThisPQueue[self.NextFree].setData(NewItem)\n",
    "            self.ThisPQueue[self.NextFree].setPriority(Priority)\n",
    "            nextnextFree = self.ThisPQueue[self.NextFree].getNext()\n",
    "            self.ThisPQueue[self.NextFree].setNext(-1)\n",
    "\n",
    "            if(self.Front == -1):\n",
    "                self.Front = self.NextFree\n",
    "                \n",
    "            else:\n",
    "                self.ThisPQueue[self.Rear].setNext(self.NextFree)\n",
    "                \n",
    "            self.Rear = self.NextFree\n",
    "            self.NextFree = nextnextFree\n",
    "        else:\n",
    "            print(\"Priority Queue is Full\")\n",
    "            \n",
    "    def PQDelete(self):\n",
    "        if(self.Front == -1):\n",
    "            print(\"Priority Queue is empty\")\n",
    "        else:\n",
    "            beforeDeletePosition = -1\n",
    "            deletePosition = self.Front\n",
    "\n",
    "            probe = self.Front\n",
    "            while(self.ThisPQueue[probe].getNext() != -1):\n",
    "                if(self.ThisPQueue[self.ThisPQueue[probe].getNext()].getPriority() < self.ThisPQueue[deletePosition].getPriority()):\n",
    "                    deletePosition = self.ThisPQueue[probe].getNext()\n",
    "                    beforeDeletePosition = probe\n",
    "                \n",
    "                probe = self.ThisPQueue[probe].getNext()\n",
    "            \n",
    "            if(beforeDeletePosition == -1):\n",
    "                self.Front = self.ThisPQueue[self.Front].getNext()\n",
    "            \n",
    "            else:\n",
    "                self.ThisPQueue[beforeDeletePosition].setNext(self.ThisPQueue[deletePosition].getNext())\n",
    "\n",
    "            if(deletePosition == self.Rear):\n",
    "                self.Rear = beforeDeletePosition\n",
    "\n",
    "            self.ThisPQueue[deletePosition].setNext(self.NextFree)\n",
    "            self.ThisPQueue[deletePosition].setData(\"\")\n",
    "            self.ThisPQueue[deletePosition].setPriority(0)\n",
    "            self.NextFree = deletePosition\n",
    "\n",
    "        \n",
    "        \n",
    "\n",
    "\n",
    "\n"
   ]
  },
  {
   "cell_type": "code",
   "execution_count": 38,
   "metadata": {},
   "outputs": [],
   "source": [
    "# test = PQueue()\n",
    "# test.Initialise()\n",
    "\n",
    "# test.PQInsert(\"Ben\", 2)\n",
    "# test.PQInsert(\"May\", 1)\n",
    "# test.PQInsert(\"Anne\", 3)\n",
    "# test.PQInsert(\"Jim\", 1)\n",
    "# test.DisplayPQueue()"
   ]
  },
  {
   "cell_type": "code",
   "execution_count": 39,
   "metadata": {},
   "outputs": [],
   "source": [
    "# test.PQDelete()\n",
    "# test.DisplayPQueue()"
   ]
  },
  {
   "cell_type": "code",
   "execution_count": 40,
   "metadata": {},
   "outputs": [],
   "source": [
    "# test.PQDelete()\n",
    "# test.DisplayPQueue()"
   ]
  },
  {
   "cell_type": "code",
   "execution_count": 41,
   "metadata": {},
   "outputs": [],
   "source": [
    "# test.PQInsert(\"Ken\", 2)\n",
    "# test.DisplayPQueue()"
   ]
  },
  {
   "cell_type": "code",
   "execution_count": 44,
   "metadata": {},
   "outputs": [
    {
     "name": "stdout",
     "output_type": "stream",
     "text": [
      "Front: 0, Rear: 5, NextFree: 6\n",
      "Index: 0 , Data: George , Priority: 2 , Next: 1\n",
      "Index: 1 , Data: Jane , Priority: 1 , Next: 2\n",
      "Index: 2 , Data: Sandra , Priority: 4 , Next: 3\n",
      "Index: 3 , Data: Bill , Priority: 3 , Next: 4\n",
      "Index: 4 , Data: Dave , Priority: 5 , Next: 5\n",
      "Index: 5 , Data: Bob , Priority: 1 , Next: -1\n",
      "Index: 6 , Data:  , Priority: 0 , Next: 7\n",
      "Index: 7 , Data:  , Priority: 0 , Next: 8\n",
      "Index: 8 , Data:  , Priority: 0 , Next: 9\n",
      "Index: 9 , Data:  , Priority: 0 , Next: -1\n"
     ]
    }
   ],
   "source": [
    "#Task 3.2\n",
    "\n",
    "patientQueue = PQueue()\n",
    "patientQueue.Initialise()\n",
    "\n",
    "with open(\"PATIENTS.txt\") as fs:\n",
    "    data = fs.read().strip(\"\\n\").split(\"\\n\")\n",
    "    for elem in data:\n",
    "        details = elem.split(\",\")\n",
    "        patientQueue.PQInsert(details[0], int(details[1]))\n",
    "\n",
    "patientQueue.DisplayPQueue()"
   ]
  },
  {
   "cell_type": "code",
   "execution_count": 45,
   "metadata": {},
   "outputs": [
    {
     "name": "stdout",
     "output_type": "stream",
     "text": [
      "Front: 2, Rear: 5, NextFree: 3\n",
      "Index: 0 , Data:  , Priority: 0 , Next: 1\n",
      "Index: 1 , Data:  , Priority: 0 , Next: 6\n",
      "Index: 2 , Data: Sandra , Priority: 4 , Next: 4\n",
      "Index: 3 , Data:  , Priority: 0 , Next: 0\n",
      "Index: 4 , Data: Dave , Priority: 5 , Next: 5\n",
      "Index: 5 , Data: Carol , Priority: 4 , Next: -1\n",
      "Index: 6 , Data:  , Priority: 0 , Next: 7\n",
      "Index: 7 , Data:  , Priority: 0 , Next: 8\n",
      "Index: 8 , Data:  , Priority: 0 , Next: 9\n",
      "Index: 9 , Data:  , Priority: 0 , Next: -1\n"
     ]
    }
   ],
   "source": [
    "#Task 3.3\n",
    "\n",
    "patientQueue.PQDelete()\n",
    "patientQueue.PQDelete()\n",
    "patientQueue.PQInsert(\"Carol\", 4)\n",
    "patientQueue.PQDelete()\n",
    "patientQueue.PQDelete()\n",
    "patientQueue.DisplayPQueue()\n"
   ]
  },
  {
   "cell_type": "code",
   "execution_count": null,
   "metadata": {},
   "outputs": [],
   "source": []
  }
 ],
 "metadata": {
  "kernelspec": {
   "display_name": "Python 3.8.7 64-bit",
   "language": "python",
   "name": "python3"
  },
  "language_info": {
   "codemirror_mode": {
    "name": "ipython",
    "version": 3
   },
   "file_extension": ".py",
   "mimetype": "text/x-python",
   "name": "python",
   "nbconvert_exporter": "python",
   "pygments_lexer": "ipython3",
   "version": "3.8.7"
  },
  "orig_nbformat": 4,
  "vscode": {
   "interpreter": {
    "hash": "79b5e9c4981b2ed0fae48cae49f290910e4ab927bd3333490b62cb47eeb76658"
   }
  }
 },
 "nbformat": 4,
 "nbformat_minor": 2
}

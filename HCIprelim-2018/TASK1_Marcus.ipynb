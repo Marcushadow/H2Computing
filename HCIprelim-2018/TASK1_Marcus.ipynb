{
 "cells": [
  {
   "cell_type": "code",
   "execution_count": 23,
   "metadata": {},
   "outputs": [],
   "source": [
    "\n",
    "import random\n",
    "\n",
    "class IslandClass:\n",
    "    def Constructor(self):\n",
    "        self.Grid = []\n",
    "        self.TreasureSymbol = \"T\"\n",
    "        self.FoundTreasure = \"X\"\n",
    "        self.FoundHole = \"O\"\n",
    "        for i in range(10):\n",
    "            self.Grid.append(['.']*30)\n",
    "        \n",
    "\n",
    "\n",
    "    def DisplayGrid(self):\n",
    "        for row in self.Grid:\n",
    "            print(\"\".join(row))\n",
    "    \n",
    "    def GetSquare(self, Row, Column):\n",
    "        return self.Grid[Row][Column]\n",
    "\n",
    "    def HideTreasure(self):\n",
    "        tRow = random.randint(0, 9)\n",
    "        tCol = random.randint(0, 29)\n",
    "        while(self.Grid[tRow][tCol] == self.TreasureSymbol):\n",
    "            tRow = random.randint(0, 9)\n",
    "            tCol = random.randint(0, 29)\n",
    "        \n",
    "        else:\n",
    "            self.Grid[tRow][tCol] = self.TreasureSymbol\n",
    "    \n",
    "    def DigHole(self, Row, Column):\n",
    "        if(self.GetSquare(Row, Column) == self.TreasureSymbol):\n",
    "            self.Grid[Row][Column] = self.FoundTreasure\n",
    "        \n",
    "        elif(self.GetSquare(Row, Column) == '.'):\n",
    "            self.Grid[Row][Column] = self.FoundHole\n",
    "\n",
    "        else:\n",
    "            print(\"Already searched!!\")\n",
    "\n",
    "\n",
    "\n",
    "\n",
    "            \n",
    "\n"
   ]
  },
  {
   "cell_type": "code",
   "execution_count": 24,
   "metadata": {},
   "outputs": [
    {
     "name": "stdout",
     "output_type": "stream",
     "text": [
      "..............................\n",
      "..............................\n",
      "..............................\n",
      "..............................\n",
      "..............................\n",
      "..............................\n",
      "..............................\n",
      "..............................\n",
      "..............................\n",
      "..............................\n"
     ]
    },
    {
     "data": {
      "text/plain": [
       "'.'"
      ]
     },
     "execution_count": 24,
     "metadata": {},
     "output_type": "execute_result"
    }
   ],
   "source": [
    "test = IslandClass()\n",
    "test.Constructor()\n",
    "test.DisplayGrid()\n",
    "test.GetSquare(0,0)"
   ]
  },
  {
   "cell_type": "code",
   "execution_count": 25,
   "metadata": {},
   "outputs": [
    {
     "name": "stdout",
     "output_type": "stream",
     "text": [
      "..............................\n",
      "..............................\n",
      "....T.........................\n",
      "..............................\n",
      "..............................\n",
      "..............................\n",
      "..............................\n",
      ".........T....................\n",
      "..............................\n",
      "...............T..............\n"
     ]
    }
   ],
   "source": [
    "#Task 1.3\n",
    "treasureIsland = IslandClass()\n",
    "treasureIsland.Constructor()\n",
    "\n",
    "for i in range(3):\n",
    "    treasureIsland.HideTreasure()\n",
    "\n",
    "treasureIsland.DisplayGrid()"
   ]
  },
  {
   "cell_type": "code",
   "execution_count": 28,
   "metadata": {},
   "outputs": [
    {
     "name": "stdout",
     "output_type": "stream",
     "text": [
      "..............................\n",
      "..............................\n",
      "....X.........................\n",
      "..............................\n",
      "..............................\n",
      "..............................\n",
      "..............................\n",
      ".........T....................\n",
      "..............................\n",
      "...............X..............\n"
     ]
    }
   ],
   "source": [
    "rowDig = int(input(\"Please where to dig(row): \"))\n",
    "colDig = int(input(\"Please where to dig(col): \"))\n",
    "\n",
    "\n",
    "\n",
    "treasureIsland.DigHole(rowDig,colDig)\n",
    "treasureIsland.DisplayGrid()"
   ]
  },
  {
   "cell_type": "code",
   "execution_count": null,
   "metadata": {},
   "outputs": [],
   "source": [
    "\n"
   ]
  }
 ],
 "metadata": {
  "kernelspec": {
   "display_name": "Python 3.8.7 64-bit",
   "language": "python",
   "name": "python3"
  },
  "language_info": {
   "codemirror_mode": {
    "name": "ipython",
    "version": 3
   },
   "file_extension": ".py",
   "mimetype": "text/x-python",
   "name": "python",
   "nbconvert_exporter": "python",
   "pygments_lexer": "ipython3",
   "version": "3.8.7"
  },
  "orig_nbformat": 4,
  "vscode": {
   "interpreter": {
    "hash": "79b5e9c4981b2ed0fae48cae49f290910e4ab927bd3333490b62cb47eeb76658"
   }
  }
 },
 "nbformat": 4,
 "nbformat_minor": 2
}

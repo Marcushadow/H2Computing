{
 "cells": [
  {
   "cell_type": "code",
   "execution_count": null,
   "metadata": {},
   "outputs": [],
   "source": [
    "class ListNode:\n",
    "    def Constructor(self):\n",
    "        self.Name = \"\"\n",
    "        self.Pointer = 0\n",
    "    \n",
    "    def SetName(self, newName):\n",
    "        self.Name = newName\n",
    "    \n",
    "    def getName(self):\n",
    "        return self.getName\n",
    "    \n",
    "    def SetPointer(self, newPointer):\n",
    "        self.Pointer = newPointer\n",
    "    \n",
    "    def getPointer(self):\n",
    "        return self.Pointer\n",
    "\n",
    "class "
   ]
  }
 ],
 "metadata": {
  "language_info": {
   "name": "python"
  },
  "orig_nbformat": 4
 },
 "nbformat": 4,
 "nbformat_minor": 2
}
